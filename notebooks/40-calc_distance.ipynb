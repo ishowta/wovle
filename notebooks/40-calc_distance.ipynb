{
 "cells": [
  {
   "cell_type": "code",
   "execution_count": 1,
   "metadata": {},
   "outputs": [
    {
     "name": "stdout",
     "output_type": "stream",
     "text": [
      "/Users/showta/project/wovle\n"
     ]
    }
   ],
   "source": [
    "cd ../"
   ]
  },
  {
   "cell_type": "code",
   "execution_count": 7,
   "metadata": {
    "collapsed": true
   },
   "outputs": [],
   "source": [
    "w = pd.read_pickle('./data/external/w2v50.pd')"
   ]
  },
  {
   "cell_type": "code",
   "execution_count": 10,
   "metadata": {},
   "outputs": [],
   "source": [
    "w = w[w.isInDic == True].iloc[:,0:50]"
   ]
  },
  {
   "cell_type": "code",
   "execution_count": 11,
   "metadata": {},
   "outputs": [
    {
     "data": {
      "text/html": [
       "<div>\n",
       "<style>\n",
       "    .dataframe thead tr:only-child th {\n",
       "        text-align: right;\n",
       "    }\n",
       "\n",
       "    .dataframe thead th {\n",
       "        text-align: left;\n",
       "    }\n",
       "\n",
       "    .dataframe tbody tr th {\n",
       "        vertical-align: top;\n",
       "    }\n",
       "</style>\n",
       "<table border=\"1\" class=\"dataframe\">\n",
       "  <thead>\n",
       "    <tr style=\"text-align: right;\">\n",
       "      <th></th>\n",
       "      <th>0</th>\n",
       "      <th>1</th>\n",
       "      <th>2</th>\n",
       "      <th>3</th>\n",
       "      <th>4</th>\n",
       "      <th>5</th>\n",
       "      <th>6</th>\n",
       "      <th>7</th>\n",
       "      <th>8</th>\n",
       "      <th>9</th>\n",
       "      <th>...</th>\n",
       "      <th>40</th>\n",
       "      <th>41</th>\n",
       "      <th>42</th>\n",
       "      <th>43</th>\n",
       "      <th>44</th>\n",
       "      <th>45</th>\n",
       "      <th>46</th>\n",
       "      <th>47</th>\n",
       "      <th>48</th>\n",
       "      <th>49</th>\n",
       "    </tr>\n",
       "    <tr>\n",
       "      <th>単語</th>\n",
       "      <th></th>\n",
       "      <th></th>\n",
       "      <th></th>\n",
       "      <th></th>\n",
       "      <th></th>\n",
       "      <th></th>\n",
       "      <th></th>\n",
       "      <th></th>\n",
       "      <th></th>\n",
       "      <th></th>\n",
       "      <th></th>\n",
       "      <th></th>\n",
       "      <th></th>\n",
       "      <th></th>\n",
       "      <th></th>\n",
       "      <th></th>\n",
       "      <th></th>\n",
       "      <th></th>\n",
       "      <th></th>\n",
       "      <th></th>\n",
       "      <th></th>\n",
       "    </tr>\n",
       "  </thead>\n",
       "  <tbody>\n",
       "    <tr>\n",
       "      <th>×</th>\n",
       "      <td>-0.029738</td>\n",
       "      <td>-0.220040</td>\n",
       "      <td>-0.118882</td>\n",
       "      <td>-0.218144</td>\n",
       "      <td>-0.042078</td>\n",
       "      <td>0.001095</td>\n",
       "      <td>0.010656</td>\n",
       "      <td>0.143577</td>\n",
       "      <td>0.059391</td>\n",
       "      <td>0.178090</td>\n",
       "      <td>...</td>\n",
       "      <td>0.010057</td>\n",
       "      <td>0.259506</td>\n",
       "      <td>-0.156964</td>\n",
       "      <td>0.141145</td>\n",
       "      <td>-0.128397</td>\n",
       "      <td>0.120778</td>\n",
       "      <td>0.023176</td>\n",
       "      <td>-0.173646</td>\n",
       "      <td>-0.258388</td>\n",
       "      <td>-0.137577</td>\n",
       "    </tr>\n",
       "    <tr>\n",
       "      <th>Δ</th>\n",
       "      <td>-0.084763</td>\n",
       "      <td>0.060476</td>\n",
       "      <td>-0.208180</td>\n",
       "      <td>-0.032915</td>\n",
       "      <td>-0.070210</td>\n",
       "      <td>0.075549</td>\n",
       "      <td>-0.241700</td>\n",
       "      <td>0.069920</td>\n",
       "      <td>0.119192</td>\n",
       "      <td>-0.040702</td>\n",
       "      <td>...</td>\n",
       "      <td>0.037314</td>\n",
       "      <td>0.198016</td>\n",
       "      <td>-0.073684</td>\n",
       "      <td>-0.092430</td>\n",
       "      <td>0.135085</td>\n",
       "      <td>-0.068829</td>\n",
       "      <td>-0.092230</td>\n",
       "      <td>0.004051</td>\n",
       "      <td>-0.205020</td>\n",
       "      <td>0.138573</td>\n",
       "    </tr>\n",
       "    <tr>\n",
       "      <th>Θ</th>\n",
       "      <td>0.020195</td>\n",
       "      <td>-0.070559</td>\n",
       "      <td>-0.016031</td>\n",
       "      <td>-0.095259</td>\n",
       "      <td>-0.210722</td>\n",
       "      <td>0.008944</td>\n",
       "      <td>-0.102367</td>\n",
       "      <td>0.049041</td>\n",
       "      <td>0.136521</td>\n",
       "      <td>0.023940</td>\n",
       "      <td>...</td>\n",
       "      <td>0.191656</td>\n",
       "      <td>0.182939</td>\n",
       "      <td>0.138991</td>\n",
       "      <td>-0.162631</td>\n",
       "      <td>0.235224</td>\n",
       "      <td>0.048330</td>\n",
       "      <td>-0.076787</td>\n",
       "      <td>0.091762</td>\n",
       "      <td>0.008522</td>\n",
       "      <td>0.029727</td>\n",
       "    </tr>\n",
       "    <tr>\n",
       "      <th>Σ</th>\n",
       "      <td>-0.050522</td>\n",
       "      <td>-0.086176</td>\n",
       "      <td>-0.253005</td>\n",
       "      <td>-0.064997</td>\n",
       "      <td>-0.165054</td>\n",
       "      <td>0.084604</td>\n",
       "      <td>-0.064205</td>\n",
       "      <td>-0.004006</td>\n",
       "      <td>0.055084</td>\n",
       "      <td>0.024274</td>\n",
       "      <td>...</td>\n",
       "      <td>0.099928</td>\n",
       "      <td>0.214353</td>\n",
       "      <td>0.133800</td>\n",
       "      <td>-0.149642</td>\n",
       "      <td>0.083858</td>\n",
       "      <td>-0.048499</td>\n",
       "      <td>0.077051</td>\n",
       "      <td>0.076477</td>\n",
       "      <td>-0.228309</td>\n",
       "      <td>0.165815</td>\n",
       "    </tr>\n",
       "    <tr>\n",
       "      <th>Φ</th>\n",
       "      <td>-0.018619</td>\n",
       "      <td>-0.031717</td>\n",
       "      <td>-0.281221</td>\n",
       "      <td>0.003278</td>\n",
       "      <td>-0.084329</td>\n",
       "      <td>0.154924</td>\n",
       "      <td>-0.192161</td>\n",
       "      <td>0.124151</td>\n",
       "      <td>-0.062872</td>\n",
       "      <td>0.035197</td>\n",
       "      <td>...</td>\n",
       "      <td>0.154229</td>\n",
       "      <td>0.307573</td>\n",
       "      <td>0.028766</td>\n",
       "      <td>-0.094916</td>\n",
       "      <td>0.097365</td>\n",
       "      <td>-0.060083</td>\n",
       "      <td>0.124562</td>\n",
       "      <td>-0.013531</td>\n",
       "      <td>-0.255142</td>\n",
       "      <td>0.135849</td>\n",
       "    </tr>\n",
       "  </tbody>\n",
       "</table>\n",
       "<p>5 rows × 50 columns</p>\n",
       "</div>"
      ],
      "text/plain": [
       "          0         1         2         3         4         5         6   \\\n",
       "単語                                                                         \n",
       "×  -0.029738 -0.220040 -0.118882 -0.218144 -0.042078  0.001095  0.010656   \n",
       "Δ  -0.084763  0.060476 -0.208180 -0.032915 -0.070210  0.075549 -0.241700   \n",
       "Θ   0.020195 -0.070559 -0.016031 -0.095259 -0.210722  0.008944 -0.102367   \n",
       "Σ  -0.050522 -0.086176 -0.253005 -0.064997 -0.165054  0.084604 -0.064205   \n",
       "Φ  -0.018619 -0.031717 -0.281221  0.003278 -0.084329  0.154924 -0.192161   \n",
       "\n",
       "          7         8         9     ...           40        41        42  \\\n",
       "単語                                  ...                                    \n",
       "×   0.143577  0.059391  0.178090    ...     0.010057  0.259506 -0.156964   \n",
       "Δ   0.069920  0.119192 -0.040702    ...     0.037314  0.198016 -0.073684   \n",
       "Θ   0.049041  0.136521  0.023940    ...     0.191656  0.182939  0.138991   \n",
       "Σ  -0.004006  0.055084  0.024274    ...     0.099928  0.214353  0.133800   \n",
       "Φ   0.124151 -0.062872  0.035197    ...     0.154229  0.307573  0.028766   \n",
       "\n",
       "          43        44        45        46        47        48        49  \n",
       "単語                                                                        \n",
       "×   0.141145 -0.128397  0.120778  0.023176 -0.173646 -0.258388 -0.137577  \n",
       "Δ  -0.092430  0.135085 -0.068829 -0.092230  0.004051 -0.205020  0.138573  \n",
       "Θ  -0.162631  0.235224  0.048330 -0.076787  0.091762  0.008522  0.029727  \n",
       "Σ  -0.149642  0.083858 -0.048499  0.077051  0.076477 -0.228309  0.165815  \n",
       "Φ  -0.094916  0.097365 -0.060083  0.124562 -0.013531 -0.255142  0.135849  \n",
       "\n",
       "[5 rows x 50 columns]"
      ]
     },
     "execution_count": 11,
     "metadata": {},
     "output_type": "execute_result"
    }
   ],
   "source": [
    "w.head()"
   ]
  },
  {
   "cell_type": "code",
   "execution_count": 32,
   "metadata": {},
   "outputs": [
    {
     "data": {
      "text/plain": [
       "(49116, 50)"
      ]
     },
     "execution_count": 32,
     "metadata": {},
     "output_type": "execute_result"
    }
   ],
   "source": [
    "w.shape"
   ]
  },
  {
   "cell_type": "code",
   "execution_count": 28,
   "metadata": {},
   "outputs": [],
   "source": [
    "wv = w.as_matrix()"
   ]
  },
  {
   "cell_type": "code",
   "execution_count": 33,
   "metadata": {
    "collapsed": true
   },
   "outputs": [],
   "source": [
    "ww = w.index"
   ]
  },
  {
   "cell_type": "code",
   "execution_count": 30,
   "metadata": {},
   "outputs": [
    {
     "data": {
      "text/plain": [
       "array([[-0.02973769, -0.22004038, -0.11888224, ..., -0.17364575,\n",
       "        -0.25838774, -0.13757738],\n",
       "       [-0.08476295,  0.06047557, -0.20818017, ...,  0.00405133,\n",
       "        -0.20502022,  0.13857254],\n",
       "       [ 0.02019548, -0.07055926, -0.01603074, ...,  0.09176215,\n",
       "         0.0085222 ,  0.02972697],\n",
       "       ..., \n",
       "       [-0.04351866, -0.23616678, -0.15027072, ...,  0.05999431,\n",
       "        -0.07038815, -0.09761188],\n",
       "       [ 0.08179197, -0.00908251, -0.11019462, ...,  0.03081218,\n",
       "         0.01774717, -0.11732324],\n",
       "       [ 0.10369248, -0.16737564, -0.17708179, ...,  0.1351971 ,\n",
       "         0.060139  , -0.15170293]])"
      ]
     },
     "execution_count": 30,
     "metadata": {},
     "output_type": "execute_result"
    }
   ],
   "source": [
    "wv"
   ]
  },
  {
   "cell_type": "code",
   "execution_count": 31,
   "metadata": {},
   "outputs": [
    {
     "data": {
      "text/plain": [
       "(49116, 50)"
      ]
     },
     "execution_count": 31,
     "metadata": {},
     "output_type": "execute_result"
    }
   ],
   "source": [
    "wv.shape"
   ]
  },
  {
   "cell_type": "code",
   "execution_count": 34,
   "metadata": {},
   "outputs": [
    {
     "data": {
      "text/plain": [
       "Index(['×', 'Δ', 'Θ', 'Σ', 'Φ', 'Ψ', 'Ω', 'α', 'β', 'γ',\n",
       "       ...\n",
       "       'ＳＰ', 'Ｔ', 'ＴＶ', 'Ｕ', 'Ｖ', 'ＶＳ', 'Ｗ', 'Ｘ', 'Ｙ', 'Ｚ'],\n",
       "      dtype='object', name='単語', length=49116)"
      ]
     },
     "execution_count": 34,
     "metadata": {},
     "output_type": "execute_result"
    }
   ],
   "source": [
    "ww"
   ]
  },
  {
   "cell_type": "code",
   "execution_count": 35,
   "metadata": {},
   "outputs": [
    {
     "data": {
      "text/plain": [
       "(49116,)"
      ]
     },
     "execution_count": 35,
     "metadata": {},
     "output_type": "execute_result"
    }
   ],
   "source": [
    "ww.shape"
   ]
  },
  {
   "cell_type": "code",
   "execution_count": 48,
   "metadata": {
    "collapsed": true
   },
   "outputs": [],
   "source": [
    "freq = pd.read_csv('./data/processed/csj/5/freqency.csv',header=None)"
   ]
  },
  {
   "cell_type": "code",
   "execution_count": 49,
   "metadata": {},
   "outputs": [],
   "source": [
    "freq['point'] = freq[1] * freq[2]"
   ]
  },
  {
   "cell_type": "code",
   "execution_count": 50,
   "metadata": {},
   "outputs": [
    {
     "data": {
      "text/html": [
       "<div>\n",
       "<style>\n",
       "    .dataframe thead tr:only-child th {\n",
       "        text-align: right;\n",
       "    }\n",
       "\n",
       "    .dataframe thead th {\n",
       "        text-align: left;\n",
       "    }\n",
       "\n",
       "    .dataframe tbody tr th {\n",
       "        vertical-align: top;\n",
       "    }\n",
       "</style>\n",
       "<table border=\"1\" class=\"dataframe\">\n",
       "  <thead>\n",
       "    <tr style=\"text-align: right;\">\n",
       "      <th></th>\n",
       "      <th>0</th>\n",
       "      <th>1</th>\n",
       "      <th>2</th>\n",
       "      <th>point</th>\n",
       "    </tr>\n",
       "  </thead>\n",
       "  <tbody>\n",
       "    <tr>\n",
       "      <th>0</th>\n",
       "      <td>音声</td>\n",
       "      <td>17</td>\n",
       "      <td>0.750294</td>\n",
       "      <td>12.755</td>\n",
       "    </tr>\n",
       "    <tr>\n",
       "      <th>1</th>\n",
       "      <td>認識</td>\n",
       "      <td>24</td>\n",
       "      <td>0.623208</td>\n",
       "      <td>14.957</td>\n",
       "    </tr>\n",
       "    <tr>\n",
       "      <th>2</th>\n",
       "      <td>大</td>\n",
       "      <td>3</td>\n",
       "      <td>0.081000</td>\n",
       "      <td>0.243</td>\n",
       "    </tr>\n",
       "    <tr>\n",
       "      <th>3</th>\n",
       "      <td>事業</td>\n",
       "      <td>6</td>\n",
       "      <td>0.693000</td>\n",
       "      <td>4.158</td>\n",
       "    </tr>\n",
       "    <tr>\n",
       "      <th>4</th>\n",
       "      <td>予定</td>\n",
       "      <td>2</td>\n",
       "      <td>0.994000</td>\n",
       "      <td>1.988</td>\n",
       "    </tr>\n",
       "  </tbody>\n",
       "</table>\n",
       "</div>"
      ],
      "text/plain": [
       "    0   1         2   point\n",
       "0  音声  17  0.750294  12.755\n",
       "1  認識  24  0.623208  14.957\n",
       "2   大   3  0.081000   0.243\n",
       "3  事業   6  0.693000   4.158\n",
       "4  予定   2  0.994000   1.988"
      ]
     },
     "execution_count": 50,
     "metadata": {},
     "output_type": "execute_result"
    }
   ],
   "source": [
    "freq.head()"
   ]
  },
  {
   "cell_type": "markdown",
   "metadata": {},
   "source": [
    "- ww...w2vの単語リスト\n",
    "- wv...w2vの単語分散表現ベクトルリスト\n"
   ]
  },
  {
   "cell_type": "code",
   "execution_count": null,
   "metadata": {
    "collapsed": true
   },
   "outputs": [],
   "source": []
  }
 ],
 "metadata": {
  "kernelspec": {
   "display_name": "Python 3",
   "language": "python",
   "name": "python3"
  },
  "language_info": {
   "codemirror_mode": {
    "name": "ipython",
    "version": 3
   },
   "file_extension": ".py",
   "mimetype": "text/x-python",
   "name": "python",
   "nbconvert_exporter": "python",
   "pygments_lexer": "ipython3",
   "version": "3.6.3"
  }
 },
 "nbformat": 4,
 "nbformat_minor": 2
}
