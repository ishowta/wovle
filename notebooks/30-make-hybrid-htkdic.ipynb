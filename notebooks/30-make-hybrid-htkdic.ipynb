{
 "cells": [
  {
   "cell_type": "markdown",
   "metadata": {},
   "source": [
    "## w2v50のhtkdic表記文字列をhtkdicに追加する"
   ]
  },
  {
   "cell_type": "code",
   "execution_count": 1,
   "metadata": {},
   "outputs": [
    {
     "name": "stdout",
     "output_type": "stream",
     "text": [
      "/Users/showta/project/wovle/data/external\n"
     ]
    }
   ],
   "source": [
    "cd ../data/external/"
   ]
  },
  {
   "cell_type": "markdown",
   "metadata": {},
   "source": [
    "### Mecabの準備"
   ]
  },
  {
   "cell_type": "code",
   "execution_count": 3,
   "metadata": {},
   "outputs": [
    {
     "name": "stdout",
     "output_type": "stream",
     "text": [
      "['/usr/local/lib/mecab/dic/mecab-ipadic-neologd']\n"
     ]
    }
   ],
   "source": [
    "import MeCab\n",
    "\n",
    "neologd_path = !echo `mecab-config --dicdir`\"/mecab-ipadic-neologd\"\n",
    "print(neologd_path)\n",
    "mecab = MeCab.Tagger('-d '+neologd_path[0])"
   ]
  },
  {
   "cell_type": "code",
   "execution_count": 4,
   "metadata": {},
   "outputs": [
    {
     "data": {
      "text/plain": [
       "'きんいろモザイク\\t名詞,固有名詞,一般,*,*,*,きんいろモザイク,キンイロモザイク,キンイロモザイク\\nEOS\\n'"
      ]
     },
     "execution_count": 4,
     "metadata": {},
     "output_type": "execute_result"
    }
   ],
   "source": [
    "text = \"きんいろモザイク\"\n",
    "text2 = mecab.parse(text)\n",
    "text2"
   ]
  },
  {
   "cell_type": "code",
   "execution_count": 5,
   "metadata": {},
   "outputs": [
    {
     "data": {
      "text/plain": [
       "['キンイロモザイク', 'キンイロモザイク\\nEOS\\n']"
      ]
     },
     "execution_count": 5,
     "metadata": {},
     "output_type": "execute_result"
    }
   ],
   "source": [
    "text2.split(',')[7:9]"
   ]
  },
  {
   "cell_type": "code",
   "execution_count": 6,
   "metadata": {},
   "outputs": [
    {
     "data": {
      "text/plain": [
       "'獨協大\\t名詞,固有名詞,組織,*,*,*,獨協大,ドッキョウダイ,ドッキョーダイ\\nEOS\\n'"
      ]
     },
     "execution_count": 6,
     "metadata": {},
     "output_type": "execute_result"
    }
   ],
   "source": [
    "mecab.parse(\"獨協大\")"
   ]
  },
  {
   "cell_type": "code",
   "execution_count": 7,
   "metadata": {},
   "outputs": [
    {
     "data": {
      "text/plain": [
       "'ドッキョーダイ'"
      ]
     },
     "execution_count": 7,
     "metadata": {},
     "output_type": "execute_result"
    }
   ],
   "source": [
    "mecab.parse(\"獨協大\").split(\",\")[8].split('\\n')[0]"
   ]
  },
  {
   "cell_type": "code",
   "execution_count": 8,
   "metadata": {},
   "outputs": [
    {
     "data": {
      "text/plain": [
       "'トーカイドー'"
      ]
     },
     "execution_count": 8,
     "metadata": {},
     "output_type": "execute_result"
    }
   ],
   "source": [
    "def convertToKatakana(string):\n",
    "    return mecab.parse(string).split(\",\")[8].split('\\n')[0]\n",
    "\n",
    "convertToKatakana(\"東海道膝栗毛\")"
   ]
  },
  {
   "cell_type": "code",
   "execution_count": 9,
   "metadata": {},
   "outputs": [
    {
     "data": {
      "text/plain": [
       "'東海道\\t名詞,固有名詞,地域,一般,*,*,東海道,トウカイドウ,トーカイドー\\n膝栗毛\\t名詞,一般,*,*,*,*,膝栗毛,ヒザクリゲ,ヒザクリゲ\\nEOS\\n'"
      ]
     },
     "execution_count": 9,
     "metadata": {},
     "output_type": "execute_result"
    }
   ],
   "source": [
    "mecab.parse(\"東海道膝栗毛\")"
   ]
  },
  {
   "cell_type": "code",
   "execution_count": 10,
   "metadata": {},
   "outputs": [
    {
     "data": {
      "text/plain": [
       "'トーカイドーヒザクリゲ'"
      ]
     },
     "execution_count": 10,
     "metadata": {},
     "output_type": "execute_result"
    }
   ],
   "source": [
    "def convertToKatakana(string):\n",
    "    texts = mecab.parse(string).split('\\n')[:-2]\n",
    "    return ''.join(map(lambda x:x.split(\",\")[8], texts))\n",
    "convertToKatakana(\"東海道膝栗毛\")"
   ]
  },
  {
   "cell_type": "code",
   "execution_count": 11,
   "metadata": {},
   "outputs": [
    {
     "data": {
      "text/plain": [
       "'キョーノテンキワハレノチウカモネ'"
      ]
     },
     "execution_count": 11,
     "metadata": {},
     "output_type": "execute_result"
    }
   ],
   "source": [
    "convertToKatakana(\"今日の天気は晴れのち雨かもね\")"
   ]
  },
  {
   "cell_type": "code",
   "execution_count": 12,
   "metadata": {},
   "outputs": [
    {
     "data": {
      "text/plain": [
       "'キリサメ'"
      ]
     },
     "execution_count": 12,
     "metadata": {},
     "output_type": "execute_result"
    }
   ],
   "source": [
    "convertToKatakana(\"霧雨\")"
   ]
  },
  {
   "cell_type": "code",
   "execution_count": 13,
   "metadata": {},
   "outputs": [
    {
     "data": {
      "text/plain": [
       "'アメフリ'"
      ]
     },
     "execution_count": 13,
     "metadata": {},
     "output_type": "execute_result"
    }
   ],
   "source": [
    "convertToKatakana(\"雨ふり\")"
   ]
  },
  {
   "cell_type": "code",
   "execution_count": 14,
   "metadata": {},
   "outputs": [
    {
     "data": {
      "text/plain": [
       "'45\\t名詞,数,*,*,*,*,*\\nEOS\\n'"
      ]
     },
     "execution_count": 14,
     "metadata": {},
     "output_type": "execute_result"
    }
   ],
   "source": [
    "mecab.parse(\"45\")"
   ]
  },
  {
   "cell_type": "code",
   "execution_count": 15,
   "metadata": {},
   "outputs": [
    {
     "data": {
      "text/plain": [
       "['45\\t名詞,数,*,*,*,*,*']"
      ]
     },
     "execution_count": 15,
     "metadata": {},
     "output_type": "execute_result"
    }
   ],
   "source": [
    "mecab.parse(\"45\").split('\\n')[:-2]"
   ]
  },
  {
   "cell_type": "code",
   "execution_count": 16,
   "metadata": {},
   "outputs": [
    {
     "data": {
      "text/plain": [
       "['愛\\t名詞,一般,*,*,*,*,愛,アイ,アイ']"
      ]
     },
     "execution_count": 16,
     "metadata": {},
     "output_type": "execute_result"
    }
   ],
   "source": [
    "mecab.parse(\"愛\").split('\\n')[:-2]"
   ]
  },
  {
   "cell_type": "code",
   "execution_count": 17,
   "metadata": {},
   "outputs": [
    {
     "data": {
      "text/plain": [
       "['四\\t名詞,数,*,*,*,*,四,ヨン,ヨン',\n",
       " '十\\t名詞,数,*,*,*,*,十,ジュウ,ジュー',\n",
       " '五\\t名詞,数,*,*,*,*,五,ゴ,ゴ']"
      ]
     },
     "execution_count": 17,
     "metadata": {},
     "output_type": "execute_result"
    }
   ],
   "source": [
    "mecab.parse(\"四十五\").split('\\n')[:-2]"
   ]
  },
  {
   "cell_type": "code",
   "execution_count": 18,
   "metadata": {},
   "outputs": [
    {
     "data": {
      "text/plain": [
       "'45\\t45\\t45\\t名詞-数\\t\\t\\nEOS\\n'"
      ]
     },
     "execution_count": 18,
     "metadata": {},
     "output_type": "execute_result"
    }
   ],
   "source": [
    "mecab_y = MeCab.Tagger('-Ochasen')\n",
    "mecab_y.parse(\"45\")"
   ]
  },
  {
   "cell_type": "markdown",
   "metadata": {},
   "source": [
    "諦める　記号はすべてdelete"
   ]
  },
  {
   "cell_type": "markdown",
   "metadata": {},
   "source": [
    "### カタカナ表記を追加"
   ]
  },
  {
   "cell_type": "code",
   "execution_count": 33,
   "metadata": {
    "scrolled": true
   },
   "outputs": [
    {
     "name": "stdout",
     "output_type": "stream",
     "text": [
      "--2018-02-24 21:08:49--  https://raw.githubusercontent.com/naoh16/ouslp/master/scripts/vocab2htkdic.pl\n",
      "raw.githubusercontent.com (raw.githubusercontent.com) をDNSに問いあわせています... 151.101.228.133\n",
      "raw.githubusercontent.com (raw.githubusercontent.com)|151.101.228.133|:443 に接続しています... 接続しました。\n",
      "HTTP による接続要求を送信しました、応答を待っています... 200 OK\n",
      "長さ: 4762 (4.7K) [text/plain]\n",
      "`vocab2htkdic.pl' に保存中\n",
      "\n",
      "vocab2htkdic.pl     100%[===================>]   4.65K  --.-KB/s 時間 0s         \n",
      "\n",
      "2018-02-24 21:08:49 (28.6 MB/s) - `vocab2htkdic.pl' へ保存完了 [4762/4762]\n",
      "\n"
     ]
    }
   ],
   "source": [
    "# https://github.com/naoh16/ouslp/blob/master/scripts/vocab2htkdic.pl\n",
    "!wget https://raw.githubusercontent.com/naoh16/ouslp/master/scripts/vocab2htkdic.pl"
   ]
  },
  {
   "cell_type": "markdown",
   "metadata": {},
   "source": [
    "use open IO => ':encoding(UTF-8)'; を追加した"
   ]
  },
  {
   "cell_type": "markdown",
   "metadata": {},
   "source": [
    "d y -> d u, ヮ追加"
   ]
  },
  {
   "cell_type": "markdown",
   "metadata": {},
   "source": [
    "+だとダブるので@+@で区切る"
   ]
  },
  {
   "cell_type": "code",
   "execution_count": 23,
   "metadata": {
    "collapsed": true
   },
   "outputs": [],
   "source": [
    "!echo \"DuWa@+@デュヮ\" > temp.txt"
   ]
  },
  {
   "cell_type": "code",
   "execution_count": 24,
   "metadata": {},
   "outputs": [
    {
     "name": "stdout",
     "output_type": "stream",
     "text": [
      "DuWa@+@デュヮ\t[DuWa]\td u w a \r\n"
     ]
    }
   ],
   "source": [
    "!perl vocab2htkdic.pl temp.txt"
   ]
  },
  {
   "cell_type": "code",
   "execution_count": 25,
   "metadata": {},
   "outputs": [
    {
     "data": {
      "text/plain": [
       "'トーカイドーヒザクリゲ'"
      ]
     },
     "execution_count": 25,
     "metadata": {},
     "output_type": "execute_result"
    }
   ],
   "source": [
    "import jaconv\n",
    "\n",
    "def judge(c):\n",
    "    if 'ぁ' <= c <= 'ゟ' or 'ァ' <= c <= 'ヿ' or '･' <= c <= 'ﾟ':\n",
    "        return True\n",
    "    return False\n",
    "\n",
    "def convNihongo(c):\n",
    "    if 'ぁ' <= c <= 'ゟ':\n",
    "        return jaconv.hira2kata(c)\n",
    "    if 'ァ' <= c <= 'ヿ':\n",
    "        return c\n",
    "    if '･' <= c <= 'ﾟ':\n",
    "        return jaconv.h2z(c)\n",
    "def convertToKatakana(string):\n",
    "    texts = mecab.parse(string).split('\\n')[:-2]\n",
    "    for text in texts:\n",
    "        if len(text.split(\",\")) < 8:\n",
    "            word = text.split('\\t')[0].replace('\\n','')\n",
    "            for c in word:\n",
    "                if not judge(c):\n",
    "                    raise Exception()\n",
    "            return convNihongo(word)\n",
    "    return ''.join(map(lambda x: x.split('\\t')[1].split(\",\")[8], texts))\n",
    "convertToKatakana(\"東海道膝栗毛\")"
   ]
  },
  {
   "cell_type": "code",
   "execution_count": 26,
   "metadata": {
    "collapsed": true
   },
   "outputs": [],
   "source": [
    "w = pd.read_pickle('./w2v50.pd')"
   ]
  },
  {
   "cell_type": "code",
   "execution_count": 27,
   "metadata": {},
   "outputs": [
    {
     "data": {
      "text/plain": [
       "Index(['!', '!!', '!!!', '!!!!', '!!!!」', '!!!」', '!!!』', '!!!』（', '!!!（',\n",
       "       '!!!）',\n",
       "       ...\n",
       "       '･･････。', 'ｰ', 'ｸﾗﾌﾞ', 'ｼﾞﾑ', 'ﾟ', '￡', '￢', '￥', '𢷋', '𣰰'],\n",
       "      dtype='object', name='単語', length=335476)"
      ]
     },
     "execution_count": 27,
     "metadata": {},
     "output_type": "execute_result"
    }
   ],
   "source": [
    "w.index"
   ]
  },
  {
   "cell_type": "code",
   "execution_count": 29,
   "metadata": {},
   "outputs": [
    {
     "name": "stderr",
     "output_type": "stream",
     "text": [
      "100%|██████████| 335476/335476 [00:09<00:00, 36820.58it/s] "
     ]
    },
    {
     "name": "stdout",
     "output_type": "stream",
     "text": [
      "error =28530\n"
     ]
    },
    {
     "name": "stderr",
     "output_type": "stream",
     "text": [
      "\n"
     ]
    }
   ],
   "source": [
    "cnt = 0\n",
    "with open('vocab_with_kana.txt', 'w') as fh2:\n",
    "    for word in monitor(w.index):\n",
    "        try:\n",
    "            fh2.write(word.replace(\"\\n\",\"\")+\"@+@\"+convertToKatakana(word)+\"\\n\")\n",
    "        except Exception:\n",
    "            cnt += 1\n",
    "print(\"error =\"+str(cnt))"
   ]
  },
  {
   "cell_type": "code",
   "execution_count": 30,
   "metadata": {},
   "outputs": [
    {
     "name": "stdout",
     "output_type": "stream",
     "text": [
      "  306946 ./vocab_with_kana.txt\r\n"
     ]
    }
   ],
   "source": [
    "!wc -l ./vocab_with_kana.txt"
   ]
  },
  {
   "cell_type": "code",
   "execution_count": 31,
   "metadata": {},
   "outputs": [
    {
     "name": "stdout",
     "output_type": "stream",
     "text": [
      "$0@+@ゼロドル\r\n",
      "$1@+@イチドル\r\n",
      "$10@+@ジュウドル\r\n",
      "$100@+@ヒャクドル\r\n",
      "$1000@+@センドル\r\n",
      "$12@+@ジュウニドル\r\n",
      "$15@+@ジュウゴドル\r\n",
      "$150@+@ヒャクゴジュウドル\r\n",
      "$2@+@ニドル\r\n",
      "$20@+@ニジュウドル\r\n"
     ]
    }
   ],
   "source": [
    "!head ./vocab_with_kana.txt"
   ]
  },
  {
   "cell_type": "code",
   "execution_count": 32,
   "metadata": {
    "scrolled": true
   },
   "outputs": [
    {
     "name": "stdout",
     "output_type": "stream",
     "text": [
      "¨@+@¨\n",
      "´@+@´\n",
      "‐@+@‐\n",
      "―@+@―\n",
      "――@+@――\n",
      "‘@+@‘\n",
      "’@+@’\n",
      "“@+@“\n",
      "”@+@”\n",
      "‥@+@‥\n",
      "…@+@…\n",
      "′@+@′\n",
      "※@+@※\n",
      "←@+@←\n",
      "↑@+@↑\n",
      "→@+@→\n",
      "↓@+@↓\n",
      "─@+@─\n",
      "■@+@■\n",
      "□@+@□\n",
      "▲@+@▲\n",
      "△@+@△\n",
      "▼@+@▼\n",
      "▽@+@▽\n",
      "◆@+@◆\n",
      "◇@+@◇\n",
      "○@+@○\n",
      "◎@+@◎\n",
      "●@+@●\n",
      "★@+@★\n",
      "☆@+@☆\n",
      "　@+@　\n",
      "。@+@。\n",
      "〃@+@〃\n",
      "々@+@々\n",
      "〆@+@〆\n",
      "〇@+@〇\n",
      "〈@+@〈\n",
      "〉@+@〉\n",
      "《@+@《\n",
      "》@+@》\n",
      "「@+@「\n",
      "」@+@」\n",
      "『@+@『\n",
      "』@+@』\n",
      "【@+@【\n",
      "】@+@】\n",
      "〔@+@〔\n",
      "〕@+@〕\n",
      "〜@+@〜\n",
      "っ@+@ッ\n",
      "゛@+@゛\n",
      "゜@+@゜\n",
      "ゝ@+@ゝ\n",
      "ゞ@+@ゞ\n",
      "ッ@+@ッ\n",
      "ヵ@+@ヵ\n",
      "ヶ@+@ヶ\n",
      "・@+@・\n",
      "ー@+@ー\n",
      "ーー@+@ーー\n",
      "ヽ@+@ヽ\n",
      "仝@+@仝\n",
      "！@+@！\n",
      "（@+@（\n",
      "）@+@）\n",
      "＊@+@＊\n",
      "．@+@．\n",
      "／@+@／\n",
      "：@+@：\n",
      "；@+@；\n",
      "＜@+@＜\n",
      "＝@+@＝\n",
      "＞@+@＞\n",
      "？@+@？\n",
      "［@+@［\n",
      "＼@+@＼\n",
      "］@+@］\n",
      "＾@+@＾\n",
      "＿@+@＿\n",
      "｛@+@｛\n",
      "｜@+@｜\n",
      "｝@+@｝\n",
      "･@+@・\n",
      "･･･@+@・・・\n",
      "･･････@+@・・・・・・\n",
      "ｰ@+@ー\n",
      "ﾟ@+@ﾟ\n"
     ]
    }
   ],
   "source": [
    "!perl vocab2htkdic.pl vocab_with_kana.txt > vocab.htkdic"
   ]
  },
  {
   "cell_type": "markdown",
   "metadata": {},
   "source": [
    "（記号は面倒いので見捨てる。いままでありがとな…）"
   ]
  },
  {
   "cell_type": "code",
   "execution_count": 33,
   "metadata": {},
   "outputs": [
    {
     "name": "stdout",
     "output_type": "stream",
     "text": [
      "$0@+@ゼロドル\t[$0]\tz e r o d o r u \r\n",
      "$1@+@イチドル\t[$1]\ti ch i d o r u \r\n",
      "$10@+@ジュウドル\t[$10]\tj u: d o r u \r\n",
      "$100@+@ヒャクドル\t[$100]\thy a k u d o r u \r\n",
      "$1000@+@センドル\t[$1000]\ts e N d o r u \r\n",
      "$12@+@ジュウニドル\t[$12]\tj u: n i d o r u \r\n",
      "$15@+@ジュウゴドル\t[$15]\tj u: g o d o r u \r\n",
      "$150@+@ヒャクゴジュウドル\t[$150]\thy a k u g o j u: d o r u \r\n",
      "$2@+@ニドル\t[$2]\tn i d o r u \r\n",
      "$20@+@ニジュウドル\t[$20]\tn i j u: d o r u \r\n"
     ]
    }
   ],
   "source": [
    "!head ./vocab.htkdic"
   ]
  },
  {
   "cell_type": "code",
   "execution_count": 34,
   "metadata": {},
   "outputs": [
    {
     "name": "stderr",
     "output_type": "stream",
     "text": [
      "306858it [00:02, 148508.17it/s]\n"
     ]
    }
   ],
   "source": [
    "with open('vocab.htkdic') as fin:\n",
    "    with open('vocab2.htkdic','w') as fout:\n",
    "        #fout.write(\"<s>\t[]\tsp_S\\n</s>\t[。]\tsp_S\\n、+補助記号\t[、]\tsp_S\\n\")\n",
    "        for line in monitor(fin):\n",
    "            ws = line.split('\\t')[2].replace(\"\\n\",\"\").split(\" \")[:-1]\n",
    "            if ws[0] == \"\":\n",
    "                ws = ws[1:]\n",
    "            if len(ws) == 1:\n",
    "                ws[0] += \"_S\"\n",
    "            else:\n",
    "                ws[0] += \"_B\"\n",
    "                ws[-1] += \"_E\"\n",
    "                ws[1:-1] = map(lambda x:x+\"_I\", ws[1:-1])\n",
    "            fout.write(\n",
    "                line.split('\\t')[0].split(\"@+@\")[0]\n",
    "                +\"\\t\"\n",
    "                +line.split('\\t')[1]\n",
    "                +\"\\t\"\n",
    "                +' '.join(ws)\n",
    "                +\"\\n\")"
   ]
  },
  {
   "cell_type": "code",
   "execution_count": 35,
   "metadata": {},
   "outputs": [
    {
     "name": "stdout",
     "output_type": "stream",
     "text": [
      "$0\t[$0]\tz_B e_I r_I o_I d_I o_I r_I u_E\r\n",
      "$1\t[$1]\ti_B ch_I i_I d_I o_I r_I u_E\r\n",
      "$10\t[$10]\tj_B u:_I d_I o_I r_I u_E\r\n",
      "$100\t[$100]\thy_B a_I k_I u_I d_I o_I r_I u_E\r\n",
      "$1000\t[$1000]\ts_B e_I N_I d_I o_I r_I u_E\r\n",
      "$12\t[$12]\tj_B u:_I n_I i_I d_I o_I r_I u_E\r\n",
      "$15\t[$15]\tj_B u:_I g_I o_I d_I o_I r_I u_E\r\n",
      "$150\t[$150]\thy_B a_I k_I u_I g_I o_I j_I u:_I d_I o_I r_I u_E\r\n",
      "$2\t[$2]\tn_B i_I d_I o_I r_I u_E\r\n",
      "$20\t[$20]\tn_B i_I j_I u:_I d_I o_I r_I u_E\r\n"
     ]
    }
   ],
   "source": [
    "!head vocab2.htkdic"
   ]
  },
  {
   "cell_type": "code",
   "execution_count": 36,
   "metadata": {
    "scrolled": false
   },
   "outputs": [
    {
     "name": "stdout",
     "output_type": "stream",
     "text": [
      "<s>\t[]\tsp_S\r\n",
      "</s>\t[。]\tsp_S\r\n",
      "、+補助記号\t[、]\tsp_S\r\n",
      "×+名詞\t[×]\tb_B a_I ts_I u_E\r\n",
      "Δ+記号\t[Δ]\td_B e_I r_I u_I t_I a_E\r\n",
      "Θ+記号\t[Θ]\tsh_B i:_I t_I a_E\r\n",
      "Σ+記号\t[Σ]\tsh_B i_I g_I u_I m_I a_E\r\n",
      "Φ+記号\t[Φ]\tf_B a_I i_E\r\n",
      "Ψ+記号\t[Ψ]\tp_B u_I s_I a_I i_E\r\n",
      "Ω+名詞\t[Ω]\to:_B m_I u_E\r\n"
     ]
    }
   ],
   "source": [
    "!head ./standard.htkdic"
   ]
  },
  {
   "cell_type": "code",
   "execution_count": 37,
   "metadata": {
    "scrolled": true
   },
   "outputs": [
    {
     "name": "stderr",
     "output_type": "stream",
     "text": [
      "64274it [00:00, 201086.27it/s]\n"
     ]
    }
   ],
   "source": [
    "standard = []\n",
    "with open('./standard.htkdic') as fh:\n",
    "    for line in monitor(fh):\n",
    "        standard.append(line.split(\"+\")[0])"
   ]
  },
  {
   "cell_type": "code",
   "execution_count": 38,
   "metadata": {},
   "outputs": [
    {
     "data": {
      "text/plain": [
       "Index(['!', '!!', '!!!', '!!!!', '!!!!」', '!!!」', '!!!』', '!!!』（', '!!!（',\n",
       "       '!!!）',\n",
       "       ...\n",
       "       '･･････。', 'ｰ', 'ｸﾗﾌﾞ', 'ｼﾞﾑ', 'ﾟ', '￡', '￢', '￥', '𢷋', '𣰰'],\n",
       "      dtype='object', name='単語', length=335476)"
      ]
     },
     "execution_count": 38,
     "metadata": {},
     "output_type": "execute_result"
    }
   ],
   "source": [
    "w.index"
   ]
  },
  {
   "cell_type": "code",
   "execution_count": 39,
   "metadata": {
    "collapsed": true
   },
   "outputs": [],
   "source": [
    "standard = standard[2:]"
   ]
  },
  {
   "cell_type": "code",
   "execution_count": 40,
   "metadata": {
    "collapsed": true
   },
   "outputs": [],
   "source": [
    "standard = set(standard)"
   ]
  },
  {
   "cell_type": "code",
   "execution_count": 92,
   "metadata": {
    "collapsed": true
   },
   "outputs": [],
   "source": [
    "cp ./standard.htkdic ./hybrid.htkdic"
   ]
  },
  {
   "cell_type": "code",
   "execution_count": 93,
   "metadata": {},
   "outputs": [
    {
     "name": "stdout",
     "output_type": "stream",
     "text": [
      "$0\t[$0]\tz_B e_I r_I o_I d_I o_I r_I u_E\r\n",
      "$1\t[$1]\ti_B ch_I i_I d_I o_I r_I u_E\r\n",
      "$10\t[$10]\tj_B u:_I d_I o_I r_I u_E\r\n",
      "$100\t[$100]\thy_B a_I k_I u_I d_I o_I r_I u_E\r\n",
      "$1000\t[$1000]\ts_B e_I N_I d_I o_I r_I u_E\r\n",
      "$12\t[$12]\tj_B u:_I n_I i_I d_I o_I r_I u_E\r\n",
      "$15\t[$15]\tj_B u:_I g_I o_I d_I o_I r_I u_E\r\n",
      "$150\t[$150]\thy_B a_I k_I u_I g_I o_I j_I u:_I d_I o_I r_I u_E\r\n",
      "$2\t[$2]\tn_B i_I d_I o_I r_I u_E\r\n",
      "$20\t[$20]\tn_B i_I j_I u:_I d_I o_I r_I u_E\r\n"
     ]
    }
   ],
   "source": [
    "!head ./vocab2.htkdic"
   ]
  },
  {
   "cell_type": "markdown",
   "metadata": {
    "collapsed": true
   },
   "source": [
    "### スペースがあると動かなかったので修正"
   ]
  },
  {
   "cell_type": "code",
   "execution_count": 94,
   "metadata": {
    "collapsed": true
   },
   "outputs": [],
   "source": [
    "vocab = pd.read_csv('./vocab2.htkdic',sep='\\t',header=None)"
   ]
  },
  {
   "cell_type": "code",
   "execution_count": 95,
   "metadata": {},
   "outputs": [
    {
     "data": {
      "text/plain": [
       "(306858, 3)"
      ]
     },
     "execution_count": 95,
     "metadata": {},
     "output_type": "execute_result"
    }
   ],
   "source": [
    "vocab.shape"
   ]
  },
  {
   "cell_type": "code",
   "execution_count": 96,
   "metadata": {},
   "outputs": [
    {
     "data": {
      "text/html": [
       "<div>\n",
       "<style>\n",
       "    .dataframe thead tr:only-child th {\n",
       "        text-align: right;\n",
       "    }\n",
       "\n",
       "    .dataframe thead th {\n",
       "        text-align: left;\n",
       "    }\n",
       "\n",
       "    .dataframe tbody tr th {\n",
       "        vertical-align: top;\n",
       "    }\n",
       "</style>\n",
       "<table border=\"1\" class=\"dataframe\">\n",
       "  <thead>\n",
       "    <tr style=\"text-align: right;\">\n",
       "      <th></th>\n",
       "      <th>0</th>\n",
       "      <th>1</th>\n",
       "      <th>2</th>\n",
       "    </tr>\n",
       "  </thead>\n",
       "  <tbody>\n",
       "    <tr>\n",
       "      <th>0</th>\n",
       "      <td>$0</td>\n",
       "      <td>[$0]</td>\n",
       "      <td>z_B e_I r_I o_I d_I o_I r_I u_E</td>\n",
       "    </tr>\n",
       "    <tr>\n",
       "      <th>1</th>\n",
       "      <td>$1</td>\n",
       "      <td>[$1]</td>\n",
       "      <td>i_B ch_I i_I d_I o_I r_I u_E</td>\n",
       "    </tr>\n",
       "    <tr>\n",
       "      <th>2</th>\n",
       "      <td>$10</td>\n",
       "      <td>[$10]</td>\n",
       "      <td>j_B u:_I d_I o_I r_I u_E</td>\n",
       "    </tr>\n",
       "    <tr>\n",
       "      <th>3</th>\n",
       "      <td>$100</td>\n",
       "      <td>[$100]</td>\n",
       "      <td>hy_B a_I k_I u_I d_I o_I r_I u_E</td>\n",
       "    </tr>\n",
       "    <tr>\n",
       "      <th>4</th>\n",
       "      <td>$1000</td>\n",
       "      <td>[$1000]</td>\n",
       "      <td>s_B e_I N_I d_I o_I r_I u_E</td>\n",
       "    </tr>\n",
       "  </tbody>\n",
       "</table>\n",
       "</div>"
      ],
      "text/plain": [
       "       0        1                                 2\n",
       "0     $0     [$0]   z_B e_I r_I o_I d_I o_I r_I u_E\n",
       "1     $1     [$1]      i_B ch_I i_I d_I o_I r_I u_E\n",
       "2    $10    [$10]          j_B u:_I d_I o_I r_I u_E\n",
       "3   $100   [$100]  hy_B a_I k_I u_I d_I o_I r_I u_E\n",
       "4  $1000  [$1000]       s_B e_I N_I d_I o_I r_I u_E"
      ]
     },
     "execution_count": 96,
     "metadata": {},
     "output_type": "execute_result"
    }
   ],
   "source": [
    "vocab.head()"
   ]
  },
  {
   "cell_type": "code",
   "execution_count": 97,
   "metadata": {
    "collapsed": true
   },
   "outputs": [],
   "source": [
    "val = [ str(v[0]) for v in vocab[[0]].values]"
   ]
  },
  {
   "cell_type": "code",
   "execution_count": 98,
   "metadata": {
    "scrolled": true
   },
   "outputs": [
    {
     "name": "stderr",
     "output_type": "stream",
     "text": [
      "100%|██████████| 306858/306858 [00:00<00:00, 1748239.59it/s]\n"
     ]
    }
   ],
   "source": [
    "rep = [v.replace(' ','') for v in monitor(val)]"
   ]
  },
  {
   "cell_type": "code",
   "execution_count": 99,
   "metadata": {
    "collapsed": true
   },
   "outputs": [],
   "source": [
    "vocab[[0]] = pd.DataFrame(rep)"
   ]
  },
  {
   "cell_type": "code",
   "execution_count": 100,
   "metadata": {},
   "outputs": [],
   "source": [
    "val = [ str(v[0]) for v in vocab[[1]].values]"
   ]
  },
  {
   "cell_type": "code",
   "execution_count": 101,
   "metadata": {
    "scrolled": true
   },
   "outputs": [
    {
     "name": "stderr",
     "output_type": "stream",
     "text": [
      "100%|██████████| 306858/306858 [00:00<00:00, 1816543.72it/s]\n"
     ]
    }
   ],
   "source": [
    "rep = [v.replace(' ','') for v in monitor(val)]"
   ]
  },
  {
   "cell_type": "code",
   "execution_count": 102,
   "metadata": {
    "collapsed": true
   },
   "outputs": [],
   "source": [
    "vocab[[1]] = pd.DataFrame(rep)"
   ]
  },
  {
   "cell_type": "code",
   "execution_count": 103,
   "metadata": {
    "scrolled": true
   },
   "outputs": [
    {
     "data": {
      "text/html": [
       "<div>\n",
       "<style>\n",
       "    .dataframe thead tr:only-child th {\n",
       "        text-align: right;\n",
       "    }\n",
       "\n",
       "    .dataframe thead th {\n",
       "        text-align: left;\n",
       "    }\n",
       "\n",
       "    .dataframe tbody tr th {\n",
       "        vertical-align: top;\n",
       "    }\n",
       "</style>\n",
       "<table border=\"1\" class=\"dataframe\">\n",
       "  <thead>\n",
       "    <tr style=\"text-align: right;\">\n",
       "      <th></th>\n",
       "      <th>0</th>\n",
       "      <th>1</th>\n",
       "      <th>2</th>\n",
       "    </tr>\n",
       "  </thead>\n",
       "  <tbody>\n",
       "    <tr>\n",
       "      <th>0</th>\n",
       "      <td>$0</td>\n",
       "      <td>[$0]</td>\n",
       "      <td>z_B e_I r_I o_I d_I o_I r_I u_E</td>\n",
       "    </tr>\n",
       "    <tr>\n",
       "      <th>1</th>\n",
       "      <td>$1</td>\n",
       "      <td>[$1]</td>\n",
       "      <td>i_B ch_I i_I d_I o_I r_I u_E</td>\n",
       "    </tr>\n",
       "    <tr>\n",
       "      <th>2</th>\n",
       "      <td>$10</td>\n",
       "      <td>[$10]</td>\n",
       "      <td>j_B u:_I d_I o_I r_I u_E</td>\n",
       "    </tr>\n",
       "    <tr>\n",
       "      <th>3</th>\n",
       "      <td>$100</td>\n",
       "      <td>[$100]</td>\n",
       "      <td>hy_B a_I k_I u_I d_I o_I r_I u_E</td>\n",
       "    </tr>\n",
       "    <tr>\n",
       "      <th>4</th>\n",
       "      <td>$1000</td>\n",
       "      <td>[$1000]</td>\n",
       "      <td>s_B e_I N_I d_I o_I r_I u_E</td>\n",
       "    </tr>\n",
       "  </tbody>\n",
       "</table>\n",
       "</div>"
      ],
      "text/plain": [
       "       0        1                                 2\n",
       "0     $0     [$0]   z_B e_I r_I o_I d_I o_I r_I u_E\n",
       "1     $1     [$1]      i_B ch_I i_I d_I o_I r_I u_E\n",
       "2    $10    [$10]          j_B u:_I d_I o_I r_I u_E\n",
       "3   $100   [$100]  hy_B a_I k_I u_I d_I o_I r_I u_E\n",
       "4  $1000  [$1000]       s_B e_I N_I d_I o_I r_I u_E"
      ]
     },
     "execution_count": 103,
     "metadata": {},
     "output_type": "execute_result"
    }
   ],
   "source": [
    "vocab.head()"
   ]
  },
  {
   "cell_type": "code",
   "execution_count": 104,
   "metadata": {},
   "outputs": [
    {
     "data": {
      "text/html": [
       "<div>\n",
       "<style>\n",
       "    .dataframe thead tr:only-child th {\n",
       "        text-align: right;\n",
       "    }\n",
       "\n",
       "    .dataframe thead th {\n",
       "        text-align: left;\n",
       "    }\n",
       "\n",
       "    .dataframe tbody tr th {\n",
       "        vertical-align: top;\n",
       "    }\n",
       "</style>\n",
       "<table border=\"1\" class=\"dataframe\">\n",
       "  <thead>\n",
       "    <tr style=\"text-align: right;\">\n",
       "      <th></th>\n",
       "      <th>0</th>\n",
       "      <th>1</th>\n",
       "      <th>2</th>\n",
       "    </tr>\n",
       "  </thead>\n",
       "  <tbody>\n",
       "    <tr>\n",
       "      <th>53</th>\n",
       "      <td>.NETFramework</td>\n",
       "      <td>[.NETFramework]</td>\n",
       "      <td>d_B o_I q_I t_I o_I n_I e_I q_I t_I o_I f_I u_...</td>\n",
       "    </tr>\n",
       "  </tbody>\n",
       "</table>\n",
       "</div>"
      ],
      "text/plain": [
       "                0                1  \\\n",
       "53  .NETFramework  [.NETFramework]   \n",
       "\n",
       "                                                    2  \n",
       "53  d_B o_I q_I t_I o_I n_I e_I q_I t_I o_I f_I u_...  "
      ]
     },
     "execution_count": 104,
     "metadata": {},
     "output_type": "execute_result"
    }
   ],
   "source": [
    "vocab[vocab[0] == '.NETFramework']"
   ]
  },
  {
   "cell_type": "code",
   "execution_count": 105,
   "metadata": {
    "collapsed": true
   },
   "outputs": [],
   "source": [
    "vocab.to_csv('./vocab2.htkdic',sep='\\t',header=None,index=None)"
   ]
  },
  {
   "cell_type": "code",
   "execution_count": 106,
   "metadata": {},
   "outputs": [
    {
     "name": "stdout",
     "output_type": "stream",
     "text": [
      "$0\t[$0]\tz_B e_I r_I o_I d_I o_I r_I u_E\r\n",
      "$1\t[$1]\ti_B ch_I i_I d_I o_I r_I u_E\r\n",
      "$10\t[$10]\tj_B u:_I d_I o_I r_I u_E\r\n",
      "$100\t[$100]\thy_B a_I k_I u_I d_I o_I r_I u_E\r\n",
      "$1000\t[$1000]\ts_B e_I N_I d_I o_I r_I u_E\r\n",
      "$12\t[$12]\tj_B u:_I n_I i_I d_I o_I r_I u_E\r\n",
      "$15\t[$15]\tj_B u:_I g_I o_I d_I o_I r_I u_E\r\n",
      "$150\t[$150]\thy_B a_I k_I u_I g_I o_I j_I u:_I d_I o_I r_I u_E\r\n",
      "$2\t[$2]\tn_B i_I d_I o_I r_I u_E\r\n",
      "$20\t[$20]\tn_B i_I j_I u:_I d_I o_I r_I u_E\r\n"
     ]
    }
   ],
   "source": [
    "!head ./vocab2.htkdic"
   ]
  },
  {
   "cell_type": "markdown",
   "metadata": {},
   "source": [
    "#### 修正終わり"
   ]
  },
  {
   "cell_type": "code",
   "execution_count": 107,
   "metadata": {
    "collapsed": true
   },
   "outputs": [],
   "source": [
    "with open('./hybrid.htkdic','a') as fout:\n",
    "    with open('./vocab2.htkdic') as fin:\n",
    "        for line in fin:\n",
    "            if line.split('\\t')[0] not in standard:\n",
    "                fout.write(line)"
   ]
  },
  {
   "cell_type": "code",
   "execution_count": 108,
   "metadata": {},
   "outputs": [
    {
     "name": "stdout",
     "output_type": "stream",
     "text": [
      "<s>\t[]\tsp_S\r\n",
      "</s>\t[。]\tsp_S\r\n",
      "、+補助記号\t[、]\tsp_S\r\n",
      "×+名詞\t[×]\tb_B a_I ts_I u_E\r\n",
      "Δ+記号\t[Δ]\td_B e_I r_I u_I t_I a_E\r\n",
      "Θ+記号\t[Θ]\tsh_B i:_I t_I a_E\r\n",
      "Σ+記号\t[Σ]\tsh_B i_I g_I u_I m_I a_E\r\n",
      "Φ+記号\t[Φ]\tf_B a_I i_E\r\n",
      "Ψ+記号\t[Ψ]\tp_B u_I s_I a_I i_E\r\n",
      "Ω+名詞\t[Ω]\to:_B m_I u_E\r\n"
     ]
    }
   ],
   "source": [
    "!head ./hybrid.htkdic"
   ]
  },
  {
   "cell_type": "code",
   "execution_count": 109,
   "metadata": {},
   "outputs": [
    {
     "name": "stdout",
     "output_type": "stream",
     "text": [
      "  322238 ./hybrid.htkdic\r\n"
     ]
    }
   ],
   "source": [
    "!wc -l ./hybrid.htkdic"
   ]
  },
  {
   "cell_type": "code",
   "execution_count": 110,
   "metadata": {},
   "outputs": [
    {
     "name": "stdout",
     "output_type": "stream",
     "text": [
      "   64274 ./standard.htkdic\r\n"
     ]
    }
   ],
   "source": [
    "!wc -l ./standard.htkdic"
   ]
  },
  {
   "cell_type": "code",
   "execution_count": 111,
   "metadata": {},
   "outputs": [
    {
     "name": "stdout",
     "output_type": "stream",
     "text": [
      "  306858 ./vocab2.htkdic\r\n"
     ]
    }
   ],
   "source": [
    "!wc -l ./vocab2.htkdic"
   ]
  },
  {
   "cell_type": "code",
   "execution_count": 112,
   "metadata": {},
   "outputs": [
    {
     "name": "stdout",
     "output_type": "stream",
     "text": [
      "<s>\t[]\tsp_S\r\n",
      "</s>\t[。]\tsp_S\r\n",
      "、+補助記号\t[、]\tsp_S\r\n",
      "×+名詞\t[×]\tb_B a_I ts_I u_E\r\n",
      "Δ+記号\t[Δ]\td_B e_I r_I u_I t_I a_E\r\n",
      "Θ+記号\t[Θ]\tsh_B i:_I t_I a_E\r\n",
      "Σ+記号\t[Σ]\tsh_B i_I g_I u_I m_I a_E\r\n",
      "Φ+記号\t[Φ]\tf_B a_I i_E\r\n",
      "Ψ+記号\t[Ψ]\tp_B u_I s_I a_I i_E\r\n",
      "Ω+名詞\t[Ω]\to:_B m_I u_E\r\n"
     ]
    }
   ],
   "source": [
    "!head hybrid.htkdic"
   ]
  },
  {
   "cell_type": "code",
   "execution_count": 113,
   "metadata": {},
   "outputs": [
    {
     "name": "stdout",
     "output_type": "stream",
     "text": [
      "ｐ\t[ｐ]\tp_B i:_E\r\n",
      "ｒ\t[ｒ]\ta:_B r_I u_E\r\n",
      "ｓ\t[ｓ]\te_B s_I u_E\r\n",
      "ｔ\t[ｔ]\tt_B i:_E\r\n",
      "ｖ\t[ｖ]\tb_B u_I i_E\r\n",
      "ｗ\t[ｗ]\td_B a_I b_I u_I ry_I u:_E\r\n",
      "ｘ\t[ｘ]\te_B q_I k_I u_I s_I u_E\r\n",
      "ｸﾗﾌﾞ\t[ｸﾗﾌﾞ]\tk_B u_I r_I a_I b_I u_E\r\n",
      "ｼﾞﾑ\t[ｼﾞﾑ]\tj_B i_I m_I u_E\r\n",
      "￥\t[￥]\te_B N_E\r\n"
     ]
    }
   ],
   "source": [
    "!tail hybrid.htkdic"
   ]
  },
  {
   "cell_type": "code",
   "execution_count": 114,
   "metadata": {
    "scrolled": true
   },
   "outputs": [
    {
     "name": "stdout",
     "output_type": "stream",
     "text": [
      "EmacsLisp\t[EmacsLisp]\ti:_B m_I a_I q_I k_I u_I s_I u_I r_I i_I s_I u_I p_I u_E\r\n"
     ]
    }
   ],
   "source": [
    "cat ./hybrid.htkdic | grep 'EmacsLisp'"
   ]
  },
  {
   "cell_type": "code",
   "execution_count": 115,
   "metadata": {
    "scrolled": true
   },
   "outputs": [],
   "source": [
    "cat ./hybrid.htkdic | grep 'du_'"
   ]
  },
  {
   "cell_type": "code",
   "execution_count": 116,
   "metadata": {
    "scrolled": true
   },
   "outputs": [
    {
     "name": "stdout",
     "output_type": "stream",
     "text": [
      "Q&A\t[Q&A]\tQa_B N_I d_I o_E\r\n"
     ]
    }
   ],
   "source": [
    "cat ./hybrid.htkdic | grep 'Q&A'"
   ]
  },
  {
   "cell_type": "markdown",
   "metadata": {},
   "source": [
    "これだけおかしい\n",
    "A-Zがどこで変換されてるのか忘れちゃったので手で直す…"
   ]
  },
  {
   "cell_type": "code",
   "execution_count": 125,
   "metadata": {},
   "outputs": [],
   "source": [
    "cat ./hybrid.htkdic | sed s/\"Qa_B N_I d_I o_E\"/\"ky_B a_I N_I d_I o_I e:_E\"/g > buf"
   ]
  },
  {
   "cell_type": "code",
   "execution_count": 126,
   "metadata": {
    "scrolled": true
   },
   "outputs": [
    {
     "name": "stdout",
     "output_type": "stream",
     "text": [
      "Q&A\t[Q&A]\tky_B a_I N_I d_I o_I e:_E\r\n"
     ]
    }
   ],
   "source": [
    "cat ./buf | grep 'Q&A'"
   ]
  },
  {
   "cell_type": "code",
   "execution_count": 127,
   "metadata": {
    "collapsed": true
   },
   "outputs": [],
   "source": [
    "mv ./buf ./hybrid.htkdic"
   ]
  },
  {
   "cell_type": "code",
   "execution_count": null,
   "metadata": {
    "collapsed": true
   },
   "outputs": [],
   "source": []
  }
 ],
 "metadata": {
  "kernelspec": {
   "display_name": "Python 3",
   "language": "python",
   "name": "python3"
  },
  "language_info": {
   "codemirror_mode": {
    "name": "ipython",
    "version": 3
   },
   "file_extension": ".py",
   "mimetype": "text/x-python",
   "name": "python",
   "nbconvert_exporter": "python",
   "pygments_lexer": "ipython3",
   "version": "3.6.3"
  }
 },
 "nbformat": 4,
 "nbformat_minor": 2
}
