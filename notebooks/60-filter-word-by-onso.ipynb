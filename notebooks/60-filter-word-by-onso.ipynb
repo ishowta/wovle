{
 "cells": [
  {
   "cell_type": "markdown",
   "metadata": {},
   "source": [
    "#### 音素情報を用いて候補単語についてフィルタリングする\n",
    "\n",
    "- 短い音素の単語\n",
    "- 似ている音素がある単語"
   ]
  },
  {
   "cell_type": "code",
   "execution_count": 1,
   "metadata": {},
   "outputs": [
    {
     "name": "stdout",
     "output_type": "stream",
     "text": [
      "/home/saho/project/wovle/data/external\n"
     ]
    }
   ],
   "source": [
    "cd ../data/external/"
   ]
  },
  {
   "cell_type": "code",
   "execution_count": 92,
   "metadata": {},
   "outputs": [
    {
     "name": "stdout",
     "output_type": "stream",
     "text": [
      "322238 ./hybrid.htkdic\r\n"
     ]
    }
   ],
   "source": [
    "!wc -l ./hybrid.htkdic"
   ]
  },
  {
   "cell_type": "code",
   "execution_count": 93,
   "metadata": {},
   "outputs": [
    {
     "name": "stdout",
     "output_type": "stream",
     "text": [
      "<s>\t[]\tsp_S\r\n",
      "</s>\t[。]\tsp_S\r\n",
      "、+補助記号\t[、]\tsp_S\r\n",
      "×+名詞\t[×]\tb_B a_I ts_I u_E\r\n",
      "Δ+記号\t[Δ]\td_B e_I r_I u_I t_I a_E\r\n",
      "Θ+記号\t[Θ]\tsh_B i:_I t_I a_E\r\n",
      "Σ+記号\t[Σ]\tsh_B i_I g_I u_I m_I a_E\r\n",
      "Φ+記号\t[Φ]\tf_B a_I i_E\r\n",
      "Ψ+記号\t[Ψ]\tp_B u_I s_I a_I i_E\r\n",
      "Ω+名詞\t[Ω]\to:_B m_I u_E\r\n"
     ]
    }
   ],
   "source": [
    "!head ./hybrid.htkdic"
   ]
  },
  {
   "cell_type": "code",
   "execution_count": 94,
   "metadata": {
    "collapsed": true
   },
   "outputs": [],
   "source": [
    "with open('./hybrid.htkdic') as fh:\n",
    "    dic = [['\\t'.join(line.split('\\t')[:-1]), line.split('\\t')[-1][:-1]] for line in fh]"
   ]
  },
  {
   "cell_type": "code",
   "execution_count": 95,
   "metadata": {},
   "outputs": [],
   "source": [
    "dic = pd.DataFrame(dic)"
   ]
  },
  {
   "cell_type": "code",
   "execution_count": 96,
   "metadata": {},
   "outputs": [],
   "source": [
    "dic.columns = ['単語','音素列']"
   ]
  },
  {
   "cell_type": "code",
   "execution_count": 97,
   "metadata": {},
   "outputs": [
    {
     "data": {
      "text/html": [
       "<div>\n",
       "<style scoped>\n",
       "    .dataframe tbody tr th:only-of-type {\n",
       "        vertical-align: middle;\n",
       "    }\n",
       "\n",
       "    .dataframe tbody tr th {\n",
       "        vertical-align: top;\n",
       "    }\n",
       "\n",
       "    .dataframe thead th {\n",
       "        text-align: right;\n",
       "    }\n",
       "</style>\n",
       "<table border=\"1\" class=\"dataframe\">\n",
       "  <thead>\n",
       "    <tr style=\"text-align: right;\">\n",
       "      <th></th>\n",
       "      <th>単語</th>\n",
       "      <th>音素列</th>\n",
       "    </tr>\n",
       "  </thead>\n",
       "  <tbody>\n",
       "    <tr>\n",
       "      <th>0</th>\n",
       "      <td>&lt;s&gt;\\t[]</td>\n",
       "      <td>sp_S</td>\n",
       "    </tr>\n",
       "    <tr>\n",
       "      <th>1</th>\n",
       "      <td>&lt;/s&gt;\\t[。]</td>\n",
       "      <td>sp_S</td>\n",
       "    </tr>\n",
       "    <tr>\n",
       "      <th>2</th>\n",
       "      <td>、+補助記号\\t[、]</td>\n",
       "      <td>sp_S</td>\n",
       "    </tr>\n",
       "    <tr>\n",
       "      <th>3</th>\n",
       "      <td>×+名詞\\t[×]</td>\n",
       "      <td>b_B a_I ts_I u_E</td>\n",
       "    </tr>\n",
       "    <tr>\n",
       "      <th>4</th>\n",
       "      <td>Δ+記号\\t[Δ]</td>\n",
       "      <td>d_B e_I r_I u_I t_I a_E</td>\n",
       "    </tr>\n",
       "  </tbody>\n",
       "</table>\n",
       "</div>"
      ],
      "text/plain": [
       "            単語                      音素列\n",
       "0      <s>\\t[]                     sp_S\n",
       "1    </s>\\t[。]                     sp_S\n",
       "2  、+補助記号\\t[、]                     sp_S\n",
       "3    ×+名詞\\t[×]         b_B a_I ts_I u_E\n",
       "4    Δ+記号\\t[Δ]  d_B e_I r_I u_I t_I a_E"
      ]
     },
     "execution_count": 97,
     "metadata": {},
     "output_type": "execute_result"
    }
   ],
   "source": [
    "dic.head()"
   ]
  },
  {
   "cell_type": "code",
   "execution_count": 98,
   "metadata": {},
   "outputs": [
    {
     "data": {
      "text/plain": [
       "(322238, 2)"
      ]
     },
     "execution_count": 98,
     "metadata": {},
     "output_type": "execute_result"
    }
   ],
   "source": [
    "dic.shape"
   ]
  },
  {
   "cell_type": "code",
   "execution_count": 99,
   "metadata": {
    "collapsed": true
   },
   "outputs": [],
   "source": [
    "dic['音素'] = dic['音素列'].apply(lambda x: [xx.replace('_B','').replace('_I','').replace('_E','').replace('_S','') for xx in x.split(' ')])"
   ]
  },
  {
   "cell_type": "code",
   "execution_count": 100,
   "metadata": {
    "collapsed": true
   },
   "outputs": [],
   "source": [
    "dic['isMistaking'] = False"
   ]
  },
  {
   "cell_type": "code",
   "execution_count": 101,
   "metadata": {},
   "outputs": [
    {
     "data": {
      "text/html": [
       "<div>\n",
       "<style scoped>\n",
       "    .dataframe tbody tr th:only-of-type {\n",
       "        vertical-align: middle;\n",
       "    }\n",
       "\n",
       "    .dataframe tbody tr th {\n",
       "        vertical-align: top;\n",
       "    }\n",
       "\n",
       "    .dataframe thead th {\n",
       "        text-align: right;\n",
       "    }\n",
       "</style>\n",
       "<table border=\"1\" class=\"dataframe\">\n",
       "  <thead>\n",
       "    <tr style=\"text-align: right;\">\n",
       "      <th></th>\n",
       "      <th>単語</th>\n",
       "      <th>音素列</th>\n",
       "      <th>音素</th>\n",
       "      <th>isMistaking</th>\n",
       "    </tr>\n",
       "  </thead>\n",
       "  <tbody>\n",
       "    <tr>\n",
       "      <th>0</th>\n",
       "      <td>&lt;s&gt;\\t[]</td>\n",
       "      <td>sp_S</td>\n",
       "      <td>[sp]</td>\n",
       "      <td>False</td>\n",
       "    </tr>\n",
       "    <tr>\n",
       "      <th>1</th>\n",
       "      <td>&lt;/s&gt;\\t[。]</td>\n",
       "      <td>sp_S</td>\n",
       "      <td>[sp]</td>\n",
       "      <td>False</td>\n",
       "    </tr>\n",
       "    <tr>\n",
       "      <th>2</th>\n",
       "      <td>、+補助記号\\t[、]</td>\n",
       "      <td>sp_S</td>\n",
       "      <td>[sp]</td>\n",
       "      <td>False</td>\n",
       "    </tr>\n",
       "    <tr>\n",
       "      <th>3</th>\n",
       "      <td>×+名詞\\t[×]</td>\n",
       "      <td>b_B a_I ts_I u_E</td>\n",
       "      <td>[b, a, ts, u]</td>\n",
       "      <td>False</td>\n",
       "    </tr>\n",
       "    <tr>\n",
       "      <th>4</th>\n",
       "      <td>Δ+記号\\t[Δ]</td>\n",
       "      <td>d_B e_I r_I u_I t_I a_E</td>\n",
       "      <td>[d, e, r, u, t, a]</td>\n",
       "      <td>False</td>\n",
       "    </tr>\n",
       "  </tbody>\n",
       "</table>\n",
       "</div>"
      ],
      "text/plain": [
       "            単語                      音素列                  音素  isMistaking\n",
       "0      <s>\\t[]                     sp_S                [sp]        False\n",
       "1    </s>\\t[。]                     sp_S                [sp]        False\n",
       "2  、+補助記号\\t[、]                     sp_S                [sp]        False\n",
       "3    ×+名詞\\t[×]         b_B a_I ts_I u_E       [b, a, ts, u]        False\n",
       "4    Δ+記号\\t[Δ]  d_B e_I r_I u_I t_I a_E  [d, e, r, u, t, a]        False"
      ]
     },
     "execution_count": 101,
     "metadata": {},
     "output_type": "execute_result"
    }
   ],
   "source": [
    "dic.head()"
   ]
  },
  {
   "cell_type": "markdown",
   "metadata": {},
   "source": [
    "### 3音素以下の単語にチェック"
   ]
  },
  {
   "cell_type": "code",
   "execution_count": 102,
   "metadata": {
    "collapsed": true
   },
   "outputs": [],
   "source": [
    "dic[('isMistaking')] = dic[('音素')].apply(lambda v: len(v) <= 3)"
   ]
  },
  {
   "cell_type": "code",
   "execution_count": 103,
   "metadata": {},
   "outputs": [
    {
     "data": {
      "text/plain": [
       "8943"
      ]
     },
     "execution_count": 103,
     "metadata": {},
     "output_type": "execute_result"
    }
   ],
   "source": [
    "sum(dic['isMistaking'] == True)"
   ]
  },
  {
   "cell_type": "markdown",
   "metadata": {},
   "source": [
    "#### 音素列挙"
   ]
  },
  {
   "cell_type": "code",
   "execution_count": 104,
   "metadata": {},
   "outputs": [
    {
     "data": {
      "text/html": [
       "<div>\n",
       "<style scoped>\n",
       "    .dataframe tbody tr th:only-of-type {\n",
       "        vertical-align: middle;\n",
       "    }\n",
       "\n",
       "    .dataframe tbody tr th {\n",
       "        vertical-align: top;\n",
       "    }\n",
       "\n",
       "    .dataframe thead th {\n",
       "        text-align: right;\n",
       "    }\n",
       "</style>\n",
       "<table border=\"1\" class=\"dataframe\">\n",
       "  <thead>\n",
       "    <tr style=\"text-align: right;\">\n",
       "      <th></th>\n",
       "      <th>単語</th>\n",
       "      <th>音素列</th>\n",
       "      <th>音素</th>\n",
       "      <th>isMistaking</th>\n",
       "    </tr>\n",
       "  </thead>\n",
       "  <tbody>\n",
       "    <tr>\n",
       "      <th>0</th>\n",
       "      <td>&lt;s&gt;\\t[]</td>\n",
       "      <td>sp_S</td>\n",
       "      <td>[sp]</td>\n",
       "      <td>True</td>\n",
       "    </tr>\n",
       "    <tr>\n",
       "      <th>1</th>\n",
       "      <td>&lt;/s&gt;\\t[。]</td>\n",
       "      <td>sp_S</td>\n",
       "      <td>[sp]</td>\n",
       "      <td>True</td>\n",
       "    </tr>\n",
       "    <tr>\n",
       "      <th>2</th>\n",
       "      <td>、+補助記号\\t[、]</td>\n",
       "      <td>sp_S</td>\n",
       "      <td>[sp]</td>\n",
       "      <td>True</td>\n",
       "    </tr>\n",
       "    <tr>\n",
       "      <th>3</th>\n",
       "      <td>×+名詞\\t[×]</td>\n",
       "      <td>b_B a_I ts_I u_E</td>\n",
       "      <td>[b, a, ts, u]</td>\n",
       "      <td>False</td>\n",
       "    </tr>\n",
       "    <tr>\n",
       "      <th>4</th>\n",
       "      <td>Δ+記号\\t[Δ]</td>\n",
       "      <td>d_B e_I r_I u_I t_I a_E</td>\n",
       "      <td>[d, e, r, u, t, a]</td>\n",
       "      <td>False</td>\n",
       "    </tr>\n",
       "  </tbody>\n",
       "</table>\n",
       "</div>"
      ],
      "text/plain": [
       "            単語                      音素列                  音素  isMistaking\n",
       "0      <s>\\t[]                     sp_S                [sp]         True\n",
       "1    </s>\\t[。]                     sp_S                [sp]         True\n",
       "2  、+補助記号\\t[、]                     sp_S                [sp]         True\n",
       "3    ×+名詞\\t[×]         b_B a_I ts_I u_E       [b, a, ts, u]        False\n",
       "4    Δ+記号\\t[Δ]  d_B e_I r_I u_I t_I a_E  [d, e, r, u, t, a]        False"
      ]
     },
     "execution_count": 104,
     "metadata": {},
     "output_type": "execute_result"
    }
   ],
   "source": [
    "dic.head()"
   ]
  },
  {
   "cell_type": "code",
   "execution_count": 105,
   "metadata": {
    "collapsed": true
   },
   "outputs": [],
   "source": [
    "onso_list = set()\n",
    "for v in dic['音素'].values:\n",
    "    for w in v:\n",
    "        onso_list.add(w)"
   ]
  },
  {
   "cell_type": "code",
   "execution_count": 106,
   "metadata": {},
   "outputs": [
    {
     "data": {
      "text/plain": [
       "{'N',\n",
       " 'a',\n",
       " 'a:',\n",
       " 'b',\n",
       " 'by',\n",
       " 'ch',\n",
       " 'd',\n",
       " 'e',\n",
       " 'e:',\n",
       " 'f',\n",
       " 'g',\n",
       " 'gy',\n",
       " 'h',\n",
       " 'hy',\n",
       " 'i',\n",
       " 'i:',\n",
       " 'j',\n",
       " 'k',\n",
       " 'ky',\n",
       " 'm',\n",
       " 'my',\n",
       " 'n',\n",
       " 'ny',\n",
       " 'o',\n",
       " 'o:',\n",
       " 'p',\n",
       " 'py',\n",
       " 'q',\n",
       " 'r',\n",
       " 'ry',\n",
       " 's',\n",
       " 'sh',\n",
       " 'sp',\n",
       " 't',\n",
       " 'ts',\n",
       " 'u',\n",
       " 'u:',\n",
       " 'w',\n",
       " 'y',\n",
       " 'z'}"
      ]
     },
     "execution_count": 106,
     "metadata": {},
     "output_type": "execute_result"
    }
   ],
   "source": [
    "onso_list"
   ]
  },
  {
   "cell_type": "markdown",
   "metadata": {},
   "source": [
    "### 似ている音素で一致している組み合わせがあればチェック (なんか意味無さそうなので却下)\n",
    "\n",
    "- \\* と \\*:\n",
    "- s と sh\n",
    "- p と py"
   ]
  },
  {
   "cell_type": "code",
   "execution_count": 107,
   "metadata": {
    "collapsed": true
   },
   "outputs": [],
   "source": [
    "def isSame(a, b):\n",
    "    if a == b:\n",
    "        True\n",
    "    elif a+':' == b or a == b+':':\n",
    "        True\n",
    "    elif a == 's' and b == 'sh':\n",
    "        True\n",
    "    elif a == 'sh' and b == 's':\n",
    "        True\n",
    "    elif a == 'p' and b == 'py':\n",
    "        True\n",
    "    elif a == 'py' and b == 'p':\n",
    "        True\n",
    "    else:\n",
    "        False"
   ]
  },
  {
   "cell_type": "markdown",
   "metadata": {},
   "source": [
    "### フラッグ付きで保存"
   ]
  },
  {
   "cell_type": "code",
   "execution_count": 108,
   "metadata": {},
   "outputs": [
    {
     "data": {
      "text/html": [
       "<div>\n",
       "<style scoped>\n",
       "    .dataframe tbody tr th:only-of-type {\n",
       "        vertical-align: middle;\n",
       "    }\n",
       "\n",
       "    .dataframe tbody tr th {\n",
       "        vertical-align: top;\n",
       "    }\n",
       "\n",
       "    .dataframe thead th {\n",
       "        text-align: right;\n",
       "    }\n",
       "</style>\n",
       "<table border=\"1\" class=\"dataframe\">\n",
       "  <thead>\n",
       "    <tr style=\"text-align: right;\">\n",
       "      <th></th>\n",
       "      <th>単語</th>\n",
       "      <th>音素列</th>\n",
       "      <th>音素</th>\n",
       "      <th>isMistaking</th>\n",
       "    </tr>\n",
       "  </thead>\n",
       "  <tbody>\n",
       "    <tr>\n",
       "      <th>0</th>\n",
       "      <td>&lt;s&gt;\\t[]</td>\n",
       "      <td>sp_S</td>\n",
       "      <td>[sp]</td>\n",
       "      <td>True</td>\n",
       "    </tr>\n",
       "    <tr>\n",
       "      <th>1</th>\n",
       "      <td>&lt;/s&gt;\\t[。]</td>\n",
       "      <td>sp_S</td>\n",
       "      <td>[sp]</td>\n",
       "      <td>True</td>\n",
       "    </tr>\n",
       "    <tr>\n",
       "      <th>2</th>\n",
       "      <td>、+補助記号\\t[、]</td>\n",
       "      <td>sp_S</td>\n",
       "      <td>[sp]</td>\n",
       "      <td>True</td>\n",
       "    </tr>\n",
       "    <tr>\n",
       "      <th>3</th>\n",
       "      <td>×+名詞\\t[×]</td>\n",
       "      <td>b_B a_I ts_I u_E</td>\n",
       "      <td>[b, a, ts, u]</td>\n",
       "      <td>False</td>\n",
       "    </tr>\n",
       "    <tr>\n",
       "      <th>4</th>\n",
       "      <td>Δ+記号\\t[Δ]</td>\n",
       "      <td>d_B e_I r_I u_I t_I a_E</td>\n",
       "      <td>[d, e, r, u, t, a]</td>\n",
       "      <td>False</td>\n",
       "    </tr>\n",
       "  </tbody>\n",
       "</table>\n",
       "</div>"
      ],
      "text/plain": [
       "            単語                      音素列                  音素  isMistaking\n",
       "0      <s>\\t[]                     sp_S                [sp]         True\n",
       "1    </s>\\t[。]                     sp_S                [sp]         True\n",
       "2  、+補助記号\\t[、]                     sp_S                [sp]         True\n",
       "3    ×+名詞\\t[×]         b_B a_I ts_I u_E       [b, a, ts, u]        False\n",
       "4    Δ+記号\\t[Δ]  d_B e_I r_I u_I t_I a_E  [d, e, r, u, t, a]        False"
      ]
     },
     "execution_count": 108,
     "metadata": {},
     "output_type": "execute_result"
    }
   ],
   "source": [
    "dic.head()"
   ]
  },
  {
   "cell_type": "code",
   "execution_count": 109,
   "metadata": {
    "collapsed": true
   },
   "outputs": [],
   "source": [
    "dic = dic.loc[:,['isMistaking','単語','音素列']]"
   ]
  },
  {
   "cell_type": "code",
   "execution_count": 110,
   "metadata": {
    "collapsed": true
   },
   "outputs": [],
   "source": [
    "dic['isMistaking'] = dic['isMistaking'].apply(lambda x: '1' if x else '0')"
   ]
  },
  {
   "cell_type": "code",
   "execution_count": 122,
   "metadata": {},
   "outputs": [],
   "source": [
    "dic.iloc[0,:][0] = '0'\n",
    "dic.iloc[1,:][0] = '0'\n",
    "dic.iloc[2,:][0] = '0'"
   ]
  },
  {
   "cell_type": "code",
   "execution_count": 123,
   "metadata": {},
   "outputs": [
    {
     "data": {
      "text/html": [
       "<div>\n",
       "<style scoped>\n",
       "    .dataframe tbody tr th:only-of-type {\n",
       "        vertical-align: middle;\n",
       "    }\n",
       "\n",
       "    .dataframe tbody tr th {\n",
       "        vertical-align: top;\n",
       "    }\n",
       "\n",
       "    .dataframe thead th {\n",
       "        text-align: right;\n",
       "    }\n",
       "</style>\n",
       "<table border=\"1\" class=\"dataframe\">\n",
       "  <thead>\n",
       "    <tr style=\"text-align: right;\">\n",
       "      <th></th>\n",
       "      <th>isMistaking</th>\n",
       "      <th>単語</th>\n",
       "      <th>音素列</th>\n",
       "    </tr>\n",
       "  </thead>\n",
       "  <tbody>\n",
       "    <tr>\n",
       "      <th>0</th>\n",
       "      <td>0</td>\n",
       "      <td>&lt;s&gt;\\t[]</td>\n",
       "      <td>sp_S</td>\n",
       "    </tr>\n",
       "    <tr>\n",
       "      <th>1</th>\n",
       "      <td>0</td>\n",
       "      <td>&lt;/s&gt;\\t[。]</td>\n",
       "      <td>sp_S</td>\n",
       "    </tr>\n",
       "    <tr>\n",
       "      <th>2</th>\n",
       "      <td>0</td>\n",
       "      <td>、+補助記号\\t[、]</td>\n",
       "      <td>sp_S</td>\n",
       "    </tr>\n",
       "    <tr>\n",
       "      <th>3</th>\n",
       "      <td>0</td>\n",
       "      <td>×+名詞\\t[×]</td>\n",
       "      <td>b_B a_I ts_I u_E</td>\n",
       "    </tr>\n",
       "    <tr>\n",
       "      <th>4</th>\n",
       "      <td>0</td>\n",
       "      <td>Δ+記号\\t[Δ]</td>\n",
       "      <td>d_B e_I r_I u_I t_I a_E</td>\n",
       "    </tr>\n",
       "  </tbody>\n",
       "</table>\n",
       "</div>"
      ],
      "text/plain": [
       "  isMistaking           単語                      音素列\n",
       "0           0      <s>\\t[]                     sp_S\n",
       "1           0    </s>\\t[。]                     sp_S\n",
       "2           0  、+補助記号\\t[、]                     sp_S\n",
       "3           0    ×+名詞\\t[×]         b_B a_I ts_I u_E\n",
       "4           0    Δ+記号\\t[Δ]  d_B e_I r_I u_I t_I a_E"
      ]
     },
     "execution_count": 123,
     "metadata": {},
     "output_type": "execute_result"
    }
   ],
   "source": [
    "dic.head()"
   ]
  },
  {
   "cell_type": "code",
   "execution_count": 128,
   "metadata": {},
   "outputs": [
    {
     "name": "stderr",
     "output_type": "stream",
     "text": [
      "322238it [00:36, 8829.24it/s]\n"
     ]
    }
   ],
   "source": [
    "with open('./hybrid_onso.htkdic','w') as fh:\n",
    "    for d in monitor(dic.iterrows()):\n",
    "        fh.write('\\t'.join(d[1])+'\\n')"
   ]
  },
  {
   "cell_type": "code",
   "execution_count": 129,
   "metadata": {},
   "outputs": [
    {
     "name": "stdout",
     "output_type": "stream",
     "text": [
      "0\t<s>\t[]\tsp_S\r\n",
      "0\t</s>\t[。]\tsp_S\r\n",
      "0\t、+補助記号\t[、]\tsp_S\r\n",
      "0\t×+名詞\t[×]\tb_B a_I ts_I u_E\r\n",
      "0\tΔ+記号\t[Δ]\td_B e_I r_I u_I t_I a_E\r\n",
      "0\tΘ+記号\t[Θ]\tsh_B i:_I t_I a_E\r\n",
      "0\tΣ+記号\t[Σ]\tsh_B i_I g_I u_I m_I a_E\r\n",
      "1\tΦ+記号\t[Φ]\tf_B a_I i_E\r\n",
      "0\tΨ+記号\t[Ψ]\tp_B u_I s_I a_I i_E\r\n",
      "1\tΩ+名詞\t[Ω]\to:_B m_I u_E\r\n"
     ]
    }
   ],
   "source": [
    "!head ./hybrid_onso.htkdic"
   ]
  },
  {
   "cell_type": "code",
   "execution_count": null,
   "metadata": {
    "collapsed": true
   },
   "outputs": [],
   "source": []
  }
 ],
 "metadata": {
  "kernelspec": {
   "display_name": "Python 3",
   "language": "python",
   "name": "python3"
  },
  "language_info": {
   "codemirror_mode": {
    "name": "ipython",
    "version": 3
   },
   "file_extension": ".py",
   "mimetype": "text/x-python",
   "name": "python",
   "nbconvert_exporter": "python",
   "pygments_lexer": "ipython3",
   "version": "3.6.3"
  }
 },
 "nbformat": 4,
 "nbformat_minor": 2
}
