{
 "cells": [
  {
   "cell_type": "markdown",
   "metadata": {},
   "source": [
    "### w2v50をテキストにする"
   ]
  },
  {
   "cell_type": "code",
   "execution_count": 3,
   "metadata": {
    "scrolled": false
   },
   "outputs": [
    {
     "name": "stdout",
     "output_type": "stream",
     "text": [
      "/home/saho/project/wovle/data/external\n"
     ]
    }
   ],
   "source": [
    "cd ../data/external/"
   ]
  },
  {
   "cell_type": "code",
   "execution_count": 2,
   "metadata": {},
   "outputs": [
    {
     "name": "stdout",
     "output_type": "stream",
     "text": [
      "0         1.mecab               filelist              w2v50_fitToDic.tsv\r\n",
      "0.filted  bccwj.60k.pdp.htkdic  general_words_300.pd  w2v50.pd\r\n",
      "0.mecab   \u001b[0m\u001b[01;34mCJLC-0.1\u001b[0m/             gm_sorted.csv         w2v50.tsv\r\n",
      "1         csj.pdp.htkdic        w2v200_fitToDic.tsv\r\n",
      "1.filted  csj.pdp.htkdic.utf8   w2v200.pd\r\n",
      "1gm-0000  \u001b[01;34mdictation-kit-v4.4\u001b[0m/   w2v200.txt\r\n"
     ]
    }
   ],
   "source": [
    "ls"
   ]
  },
  {
   "cell_type": "code",
   "execution_count": 6,
   "metadata": {},
   "outputs": [
    {
     "data": {
      "text/plain": [
       "335476"
      ]
     },
     "execution_count": 6,
     "metadata": {},
     "output_type": "execute_result"
    }
   ],
   "source": [
    "from gensim.models import word2vec\n",
    "model = word2vec.Word2Vec.load('w2v50/word2vec.gensim.model')\n",
    "len(model.wv.vocab)"
   ]
  },
  {
   "cell_type": "code",
   "execution_count": 7,
   "metadata": {},
   "outputs": [
    {
     "name": "stderr",
     "output_type": "stream",
     "text": [
      "100%|██████████| 335476/335476 [00:46<00:00, 7176.63it/s]\n"
     ]
    }
   ],
   "source": [
    "with open('w2v50.tsv','w') as fh:\n",
    "    for (k,v) in monitor(model.wv.vocab.items()):\n",
    "        fh.write(k+\"\\t\"+\"\\t\".join([str(e) for e in model.wv[k]])+\"\\n\")"
   ]
  },
  {
   "cell_type": "code",
   "execution_count": 8,
   "metadata": {
    "collapsed": true
   },
   "outputs": [],
   "source": [
    "rm -r w2v50/"
   ]
  },
  {
   "cell_type": "code",
   "execution_count": 9,
   "metadata": {},
   "outputs": [
    {
     "name": "stdout",
     "output_type": "stream",
     "text": [
      "0         1.mecab               filelist              w2v50_fitToDic.tsv\r\n",
      "0.filted  bccwj.60k.pdp.htkdic  general_words_300.pd  w2v50.pd\r\n",
      "0.mecab   \u001b[0m\u001b[01;34mCJLC-0.1\u001b[0m/             gm_sorted.csv         w2v50.tsv\r\n",
      "1         csj.pdp.htkdic        w2v200_fitToDic.tsv\r\n",
      "1.filted  csj.pdp.htkdic.utf8   w2v200.pd\r\n",
      "1gm-0000  \u001b[01;34mdictation-kit-v4.4\u001b[0m/   w2v200.txt\r\n"
     ]
    }
   ],
   "source": [
    "ls"
   ]
  },
  {
   "cell_type": "markdown",
   "metadata": {},
   "source": [
    "### 辞書（csj.pdp.htkdic）に無いものは削除"
   ]
  },
  {
   "cell_type": "code",
   "execution_count": 10,
   "metadata": {
    "collapsed": true
   },
   "outputs": [],
   "source": [
    "!nkf -w ./bccwj.60k.pdp.htkdic > ./bccwj.60k.pdp.htkdic.utf8"
   ]
  },
  {
   "cell_type": "code",
   "execution_count": 11,
   "metadata": {},
   "outputs": [
    {
     "name": "stdout",
     "output_type": "stream",
     "text": [
      "<s>\t[]\tsp_S\r\n",
      "</s>\t[。]\tsp_S\r\n",
      "、+補助記号\t[、]\tsp_S\r\n",
      "×+名詞\t[×]\tb_B a_I ts_I u_E\r\n",
      "Δ+記号\t[Δ]\td_B e_I r_I u_I t_I a_E\r\n",
      "Θ+記号\t[Θ]\tsh_B i:_I t_I a_E\r\n",
      "Σ+記号\t[Σ]\tsh_B i_I g_I u_I m_I a_E\r\n",
      "Φ+記号\t[Φ]\tf_B a_I i_E\r\n",
      "Ψ+記号\t[Ψ]\tp_B u_I s_I a_I i_E\r\n",
      "Ω+名詞\t[Ω]\to:_B m_I u_E\r\n"
     ]
    }
   ],
   "source": [
    "!head ./bccwj.60k.pdp.htkdic.utf8"
   ]
  },
  {
   "cell_type": "code",
   "execution_count": 12,
   "metadata": {
    "scrolled": true
   },
   "outputs": [
    {
     "name": "stderr",
     "output_type": "stream",
     "text": [
      "64274it [00:00, 333431.08it/s]\n",
      "335476it [00:04, 71818.47it/s]\n",
      "1015475it [00:34, 29433.44it/s]\n"
     ]
    }
   ],
   "source": [
    "words = set()\n",
    "\n",
    "with open('bccwj.60k.pdp.htkdic.utf8') as hh:\n",
    "    for line in monitor(hh):\n",
    "        words.add(line.split('\\t')[0].split('+')[0])\n",
    "\n",
    "with open('w2v50.tsv') as v50h:\n",
    "    with open('w2v200.txt') as v200h:\n",
    "        with open('w2v50_fitToDic.tsv','w') as w50h:\n",
    "            with open('w2v200_fitToDic.tsv','w') as w200h:\n",
    "                for line in monitor(v50h):\n",
    "                    w = line.split('\\t')[0]\n",
    "                    if w in words:\n",
    "                        w50h.write(w+'\\t'+'\\t'.join(line.split('\\t')[1:]))\n",
    "                for line in monitor(v200h):\n",
    "                    w = line.split(' ')[0].replace('[','').replace(']','') # 括弧は無いものとして比較\n",
    "                    if w in words:\n",
    "                        w200h.write(w+'\\t'+'\\t'.join(line.split(' ')[1:]))"
   ]
  },
  {
   "cell_type": "code",
   "execution_count": 13,
   "metadata": {},
   "outputs": [
    {
     "name": "stdout",
     "output_type": "stream",
     "text": [
      "49116 ./w2v50_fitToDic.tsv\r\n"
     ]
    }
   ],
   "source": [
    "!wc -l ./w2v50_fitToDic.tsv"
   ]
  },
  {
   "cell_type": "code",
   "execution_count": 14,
   "metadata": {},
   "outputs": [
    {
     "name": "stdout",
     "output_type": "stream",
     "text": [
      "74211 ./w2v200_fitToDic.tsv\r\n"
     ]
    }
   ],
   "source": [
    "!wc -l ./w2v200_fitToDic.tsv"
   ]
  },
  {
   "cell_type": "markdown",
   "metadata": {},
   "source": [
    "### w2v200の括弧重複の平均を取る"
   ]
  },
  {
   "cell_type": "markdown",
   "metadata": {},
   "source": [
    "#### dataframeとして読み込み"
   ]
  },
  {
   "cell_type": "code",
   "execution_count": 4,
   "metadata": {},
   "outputs": [],
   "source": [
    "w2v50 = pd.read_csv(\"w2v50_fitToDic.tsv\",sep=\"\\t\",header=None)"
   ]
  },
  {
   "cell_type": "code",
   "execution_count": 5,
   "metadata": {},
   "outputs": [],
   "source": [
    "w2v200 = pd.read_csv(\"w2v200_fitToDic.tsv\",sep=\"\\t\",header=None)"
   ]
  },
  {
   "cell_type": "code",
   "execution_count": 6,
   "metadata": {
    "collapsed": true
   },
   "outputs": [],
   "source": [
    "w2v = [w2v50, w2v200]"
   ]
  },
  {
   "cell_type": "code",
   "execution_count": 7,
   "metadata": {
    "scrolled": true
   },
   "outputs": [
    {
     "data": {
      "text/plain": [
       "(49116, 51)"
      ]
     },
     "metadata": {},
     "output_type": "display_data"
    },
    {
     "data": {
      "text/plain": [
       "(74211, 201)"
      ]
     },
     "metadata": {},
     "output_type": "display_data"
    }
   ],
   "source": [
    "for w in w2v: display(w.shape)"
   ]
  },
  {
   "cell_type": "code",
   "execution_count": 8,
   "metadata": {
    "collapsed": true
   },
   "outputs": [],
   "source": [
    "w2v[0].to_pickle('w2v50.pd')"
   ]
  },
  {
   "cell_type": "code",
   "execution_count": 9,
   "metadata": {
    "collapsed": true
   },
   "outputs": [],
   "source": [
    "w2v[1].to_pickle('w2v200.pd')"
   ]
  },
  {
   "cell_type": "markdown",
   "metadata": {},
   "source": [
    "#### 重複除外"
   ]
  },
  {
   "cell_type": "code",
   "execution_count": 10,
   "metadata": {
    "collapsed": true
   },
   "outputs": [],
   "source": [
    "w = w2v[1]"
   ]
  },
  {
   "cell_type": "code",
   "execution_count": 11,
   "metadata": {
    "collapsed": true
   },
   "outputs": [],
   "source": [
    "def disp(*v):\n",
    "    for e in v: display(e)"
   ]
  },
  {
   "cell_type": "code",
   "execution_count": 12,
   "metadata": {},
   "outputs": [
    {
     "name": "stderr",
     "output_type": "stream",
     "text": [
      "/home/saho/.pyenv/versions/anaconda3-5.0.1/lib/python3.6/site-packages/ipykernel_launcher.py:2: DeprecationWarning: \n",
      ".ix is deprecated. Please use\n",
      ".loc for label based indexing or\n",
      ".iloc for positional indexing\n",
      "\n",
      "See the documentation here:\n",
      "http://pandas.pydata.org/pandas-docs/stable/indexing.html#ix-indexer-is-deprecated\n",
      "  \n"
     ]
    },
    {
     "data": {
      "text/html": [
       "<div>\n",
       "<style scoped>\n",
       "    .dataframe tbody tr th:only-of-type {\n",
       "        vertical-align: middle;\n",
       "    }\n",
       "\n",
       "    .dataframe tbody tr th {\n",
       "        vertical-align: top;\n",
       "    }\n",
       "\n",
       "    .dataframe thead th {\n",
       "        text-align: right;\n",
       "    }\n",
       "</style>\n",
       "<table border=\"1\" class=\"dataframe\">\n",
       "  <thead>\n",
       "    <tr style=\"text-align: right;\">\n",
       "      <th></th>\n",
       "      <th>0</th>\n",
       "      <th>1</th>\n",
       "      <th>2</th>\n",
       "      <th>3</th>\n",
       "      <th>4</th>\n",
       "      <th>5</th>\n",
       "      <th>6</th>\n",
       "      <th>7</th>\n",
       "      <th>8</th>\n",
       "      <th>9</th>\n",
       "      <th>...</th>\n",
       "      <th>191</th>\n",
       "      <th>192</th>\n",
       "      <th>193</th>\n",
       "      <th>194</th>\n",
       "      <th>195</th>\n",
       "      <th>196</th>\n",
       "      <th>197</th>\n",
       "      <th>198</th>\n",
       "      <th>199</th>\n",
       "      <th>200</th>\n",
       "    </tr>\n",
       "  </thead>\n",
       "  <tbody>\n",
       "    <tr>\n",
       "      <th>0</th>\n",
       "      <td>の</td>\n",
       "      <td>-0.991739</td>\n",
       "      <td>0.433873</td>\n",
       "      <td>-1.634327</td>\n",
       "      <td>-2.637119</td>\n",
       "      <td>1.87341</td>\n",
       "      <td>-0.68232</td>\n",
       "      <td>1.400241</td>\n",
       "      <td>2.555166</td>\n",
       "      <td>-2.150506</td>\n",
       "      <td>...</td>\n",
       "      <td>-1.206327</td>\n",
       "      <td>0.912507</td>\n",
       "      <td>-0.449425</td>\n",
       "      <td>-0.685022</td>\n",
       "      <td>-0.067702</td>\n",
       "      <td>-0.439921</td>\n",
       "      <td>-1.823313</td>\n",
       "      <td>-0.582093</td>\n",
       "      <td>-0.289067</td>\n",
       "      <td>-0.953114</td>\n",
       "    </tr>\n",
       "  </tbody>\n",
       "</table>\n",
       "<p>1 rows × 201 columns</p>\n",
       "</div>"
      ],
      "text/plain": [
       "  0         1         2         3         4        5        6         7    \\\n",
       "0   の -0.991739  0.433873 -1.634327 -2.637119  1.87341 -0.68232  1.400241   \n",
       "\n",
       "        8         9      ...          191       192       193       194  \\\n",
       "0  2.555166 -2.150506    ...    -1.206327  0.912507 -0.449425 -0.685022   \n",
       "\n",
       "        195       196       197       198       199       200  \n",
       "0 -0.067702 -0.439921 -1.823313 -0.582093 -0.289067 -0.953114  \n",
       "\n",
       "[1 rows x 201 columns]"
      ]
     },
     "metadata": {},
     "output_type": "display_data"
    },
    {
     "data": {
      "text/plain": [
       "(74211, 201)"
      ]
     },
     "metadata": {},
     "output_type": "display_data"
    }
   ],
   "source": [
    "disp(\n",
    "    w.ix[[0],:],\n",
    "    w.shape)"
   ]
  },
  {
   "cell_type": "code",
   "execution_count": 13,
   "metadata": {},
   "outputs": [
    {
     "data": {
      "text/html": [
       "<div>\n",
       "<style scoped>\n",
       "    .dataframe tbody tr th:only-of-type {\n",
       "        vertical-align: middle;\n",
       "    }\n",
       "\n",
       "    .dataframe tbody tr th {\n",
       "        vertical-align: top;\n",
       "    }\n",
       "\n",
       "    .dataframe thead th {\n",
       "        text-align: right;\n",
       "    }\n",
       "</style>\n",
       "<table border=\"1\" class=\"dataframe\">\n",
       "  <thead>\n",
       "    <tr style=\"text-align: right;\">\n",
       "      <th></th>\n",
       "      <th>0</th>\n",
       "      <th>1</th>\n",
       "      <th>2</th>\n",
       "      <th>3</th>\n",
       "      <th>4</th>\n",
       "      <th>5</th>\n",
       "      <th>6</th>\n",
       "      <th>7</th>\n",
       "      <th>8</th>\n",
       "      <th>9</th>\n",
       "      <th>...</th>\n",
       "      <th>191</th>\n",
       "      <th>192</th>\n",
       "      <th>193</th>\n",
       "      <th>194</th>\n",
       "      <th>195</th>\n",
       "      <th>196</th>\n",
       "      <th>197</th>\n",
       "      <th>198</th>\n",
       "      <th>199</th>\n",
       "      <th>200</th>\n",
       "    </tr>\n",
       "  </thead>\n",
       "  <tbody>\n",
       "    <tr>\n",
       "      <th>7932</th>\n",
       "      <td>トヨタ</td>\n",
       "      <td>0.053538</td>\n",
       "      <td>-0.458620</td>\n",
       "      <td>2.269142</td>\n",
       "      <td>2.213828</td>\n",
       "      <td>1.045843</td>\n",
       "      <td>-0.385347</td>\n",
       "      <td>1.634038</td>\n",
       "      <td>2.483560</td>\n",
       "      <td>-1.511059</td>\n",
       "      <td>...</td>\n",
       "      <td>-0.565592</td>\n",
       "      <td>-1.320724</td>\n",
       "      <td>1.17779</td>\n",
       "      <td>-0.255538</td>\n",
       "      <td>1.393715</td>\n",
       "      <td>-0.182194</td>\n",
       "      <td>0.562751</td>\n",
       "      <td>-0.150641</td>\n",
       "      <td>0.373629</td>\n",
       "      <td>0.638203</td>\n",
       "    </tr>\n",
       "    <tr>\n",
       "      <th>24154</th>\n",
       "      <td>トヨタ</td>\n",
       "      <td>-0.306716</td>\n",
       "      <td>-1.427696</td>\n",
       "      <td>1.110670</td>\n",
       "      <td>1.346888</td>\n",
       "      <td>-0.350039</td>\n",
       "      <td>-0.451238</td>\n",
       "      <td>1.047367</td>\n",
       "      <td>1.017068</td>\n",
       "      <td>-1.072866</td>\n",
       "      <td>...</td>\n",
       "      <td>-0.431226</td>\n",
       "      <td>-0.514442</td>\n",
       "      <td>1.05925</td>\n",
       "      <td>-0.159481</td>\n",
       "      <td>0.126721</td>\n",
       "      <td>-0.407040</td>\n",
       "      <td>-0.150029</td>\n",
       "      <td>0.352745</td>\n",
       "      <td>0.327678</td>\n",
       "      <td>-0.481530</td>\n",
       "    </tr>\n",
       "  </tbody>\n",
       "</table>\n",
       "<p>2 rows × 201 columns</p>\n",
       "</div>"
      ],
      "text/plain": [
       "       0         1         2         3         4         5         6    \\\n",
       "7932   トヨタ  0.053538 -0.458620  2.269142  2.213828  1.045843 -0.385347   \n",
       "24154  トヨタ -0.306716 -1.427696  1.110670  1.346888 -0.350039 -0.451238   \n",
       "\n",
       "            7         8         9      ...          191       192      193  \\\n",
       "7932   1.634038  2.483560 -1.511059    ...    -0.565592 -1.320724  1.17779   \n",
       "24154  1.047367  1.017068 -1.072866    ...    -0.431226 -0.514442  1.05925   \n",
       "\n",
       "            194       195       196       197       198       199       200  \n",
       "7932  -0.255538  1.393715 -0.182194  0.562751 -0.150641  0.373629  0.638203  \n",
       "24154 -0.159481  0.126721 -0.407040 -0.150029  0.352745  0.327678 -0.481530  \n",
       "\n",
       "[2 rows x 201 columns]"
      ]
     },
     "execution_count": 13,
     "metadata": {},
     "output_type": "execute_result"
    }
   ],
   "source": [
    "w.ix[w[0] == \"トヨタ\"]"
   ]
  },
  {
   "cell_type": "code",
   "execution_count": 14,
   "metadata": {
    "collapsed": true
   },
   "outputs": [],
   "source": [
    "w = w.groupby([0]).mean()"
   ]
  },
  {
   "cell_type": "code",
   "execution_count": 15,
   "metadata": {
    "scrolled": true
   },
   "outputs": [
    {
     "data": {
      "text/html": [
       "<div>\n",
       "<style scoped>\n",
       "    .dataframe tbody tr th:only-of-type {\n",
       "        vertical-align: middle;\n",
       "    }\n",
       "\n",
       "    .dataframe tbody tr th {\n",
       "        vertical-align: top;\n",
       "    }\n",
       "\n",
       "    .dataframe thead th {\n",
       "        text-align: right;\n",
       "    }\n",
       "</style>\n",
       "<table border=\"1\" class=\"dataframe\">\n",
       "  <thead>\n",
       "    <tr style=\"text-align: right;\">\n",
       "      <th></th>\n",
       "      <th>1</th>\n",
       "      <th>2</th>\n",
       "      <th>3</th>\n",
       "      <th>4</th>\n",
       "      <th>5</th>\n",
       "      <th>6</th>\n",
       "      <th>7</th>\n",
       "      <th>8</th>\n",
       "      <th>9</th>\n",
       "      <th>10</th>\n",
       "      <th>...</th>\n",
       "      <th>191</th>\n",
       "      <th>192</th>\n",
       "      <th>193</th>\n",
       "      <th>194</th>\n",
       "      <th>195</th>\n",
       "      <th>196</th>\n",
       "      <th>197</th>\n",
       "      <th>198</th>\n",
       "      <th>199</th>\n",
       "      <th>200</th>\n",
       "    </tr>\n",
       "    <tr>\n",
       "      <th>0</th>\n",
       "      <th></th>\n",
       "      <th></th>\n",
       "      <th></th>\n",
       "      <th></th>\n",
       "      <th></th>\n",
       "      <th></th>\n",
       "      <th></th>\n",
       "      <th></th>\n",
       "      <th></th>\n",
       "      <th></th>\n",
       "      <th></th>\n",
       "      <th></th>\n",
       "      <th></th>\n",
       "      <th></th>\n",
       "      <th></th>\n",
       "      <th></th>\n",
       "      <th></th>\n",
       "      <th></th>\n",
       "      <th></th>\n",
       "      <th></th>\n",
       "      <th></th>\n",
       "    </tr>\n",
       "  </thead>\n",
       "  <tbody>\n",
       "    <tr>\n",
       "      <th>×</th>\n",
       "      <td>-1.418694</td>\n",
       "      <td>0.345751</td>\n",
       "      <td>-0.162140</td>\n",
       "      <td>-0.047963</td>\n",
       "      <td>0.182164</td>\n",
       "      <td>0.381776</td>\n",
       "      <td>0.232795</td>\n",
       "      <td>0.315053</td>\n",
       "      <td>1.269035</td>\n",
       "      <td>-2.457858</td>\n",
       "      <td>...</td>\n",
       "      <td>-0.554922</td>\n",
       "      <td>0.265661</td>\n",
       "      <td>1.001930</td>\n",
       "      <td>-1.022693</td>\n",
       "      <td>-0.188698</td>\n",
       "      <td>-0.251833</td>\n",
       "      <td>-1.842119</td>\n",
       "      <td>-3.492436</td>\n",
       "      <td>0.384303</td>\n",
       "      <td>0.927722</td>\n",
       "    </tr>\n",
       "    <tr>\n",
       "      <th>Δ</th>\n",
       "      <td>-0.844599</td>\n",
       "      <td>0.500375</td>\n",
       "      <td>-0.433498</td>\n",
       "      <td>-0.863186</td>\n",
       "      <td>-0.685131</td>\n",
       "      <td>-0.208649</td>\n",
       "      <td>0.063803</td>\n",
       "      <td>1.021694</td>\n",
       "      <td>0.299519</td>\n",
       "      <td>-0.326941</td>\n",
       "      <td>...</td>\n",
       "      <td>0.101914</td>\n",
       "      <td>-0.068191</td>\n",
       "      <td>0.600853</td>\n",
       "      <td>-0.186434</td>\n",
       "      <td>-0.277834</td>\n",
       "      <td>-0.085344</td>\n",
       "      <td>-1.251228</td>\n",
       "      <td>-1.181830</td>\n",
       "      <td>-1.252247</td>\n",
       "      <td>-0.060531</td>\n",
       "    </tr>\n",
       "    <tr>\n",
       "      <th>Θ</th>\n",
       "      <td>-0.146901</td>\n",
       "      <td>-0.095641</td>\n",
       "      <td>-0.023297</td>\n",
       "      <td>-0.016684</td>\n",
       "      <td>-0.133185</td>\n",
       "      <td>0.047843</td>\n",
       "      <td>0.085798</td>\n",
       "      <td>0.360042</td>\n",
       "      <td>0.040978</td>\n",
       "      <td>-0.093064</td>\n",
       "      <td>...</td>\n",
       "      <td>0.115077</td>\n",
       "      <td>-0.086670</td>\n",
       "      <td>0.071753</td>\n",
       "      <td>-0.126756</td>\n",
       "      <td>-0.154439</td>\n",
       "      <td>0.117072</td>\n",
       "      <td>-0.070839</td>\n",
       "      <td>-0.238478</td>\n",
       "      <td>-0.136663</td>\n",
       "      <td>-0.044030</td>\n",
       "    </tr>\n",
       "    <tr>\n",
       "      <th>Σ</th>\n",
       "      <td>-0.716665</td>\n",
       "      <td>0.317638</td>\n",
       "      <td>-0.243156</td>\n",
       "      <td>0.223840</td>\n",
       "      <td>-0.414557</td>\n",
       "      <td>-0.229860</td>\n",
       "      <td>0.106075</td>\n",
       "      <td>1.233770</td>\n",
       "      <td>0.345052</td>\n",
       "      <td>-0.171819</td>\n",
       "      <td>...</td>\n",
       "      <td>0.015998</td>\n",
       "      <td>-0.482378</td>\n",
       "      <td>0.635308</td>\n",
       "      <td>-0.419857</td>\n",
       "      <td>-0.548821</td>\n",
       "      <td>0.233397</td>\n",
       "      <td>-0.229196</td>\n",
       "      <td>-0.844216</td>\n",
       "      <td>-0.278005</td>\n",
       "      <td>-0.043053</td>\n",
       "    </tr>\n",
       "    <tr>\n",
       "      <th>Φ</th>\n",
       "      <td>-0.667787</td>\n",
       "      <td>0.330872</td>\n",
       "      <td>-0.135130</td>\n",
       "      <td>-0.212402</td>\n",
       "      <td>-0.294963</td>\n",
       "      <td>0.128115</td>\n",
       "      <td>0.028918</td>\n",
       "      <td>0.954349</td>\n",
       "      <td>0.370762</td>\n",
       "      <td>-0.191407</td>\n",
       "      <td>...</td>\n",
       "      <td>-0.051202</td>\n",
       "      <td>-0.249389</td>\n",
       "      <td>0.528560</td>\n",
       "      <td>-0.180732</td>\n",
       "      <td>-0.252481</td>\n",
       "      <td>-0.188647</td>\n",
       "      <td>-0.722049</td>\n",
       "      <td>-0.798829</td>\n",
       "      <td>-0.506518</td>\n",
       "      <td>-0.105510</td>\n",
       "    </tr>\n",
       "  </tbody>\n",
       "</table>\n",
       "<p>5 rows × 200 columns</p>\n",
       "</div>"
      ],
      "text/plain": [
       "        1         2         3         4         5         6         7    \\\n",
       "0                                                                         \n",
       "× -1.418694  0.345751 -0.162140 -0.047963  0.182164  0.381776  0.232795   \n",
       "Δ -0.844599  0.500375 -0.433498 -0.863186 -0.685131 -0.208649  0.063803   \n",
       "Θ -0.146901 -0.095641 -0.023297 -0.016684 -0.133185  0.047843  0.085798   \n",
       "Σ -0.716665  0.317638 -0.243156  0.223840 -0.414557 -0.229860  0.106075   \n",
       "Φ -0.667787  0.330872 -0.135130 -0.212402 -0.294963  0.128115  0.028918   \n",
       "\n",
       "        8         9         10     ...          191       192       193  \\\n",
       "0                                  ...                                    \n",
       "×  0.315053  1.269035 -2.457858    ...    -0.554922  0.265661  1.001930   \n",
       "Δ  1.021694  0.299519 -0.326941    ...     0.101914 -0.068191  0.600853   \n",
       "Θ  0.360042  0.040978 -0.093064    ...     0.115077 -0.086670  0.071753   \n",
       "Σ  1.233770  0.345052 -0.171819    ...     0.015998 -0.482378  0.635308   \n",
       "Φ  0.954349  0.370762 -0.191407    ...    -0.051202 -0.249389  0.528560   \n",
       "\n",
       "        194       195       196       197       198       199       200  \n",
       "0                                                                        \n",
       "× -1.022693 -0.188698 -0.251833 -1.842119 -3.492436  0.384303  0.927722  \n",
       "Δ -0.186434 -0.277834 -0.085344 -1.251228 -1.181830 -1.252247 -0.060531  \n",
       "Θ -0.126756 -0.154439  0.117072 -0.070839 -0.238478 -0.136663 -0.044030  \n",
       "Σ -0.419857 -0.548821  0.233397 -0.229196 -0.844216 -0.278005 -0.043053  \n",
       "Φ -0.180732 -0.252481 -0.188647 -0.722049 -0.798829 -0.506518 -0.105510  \n",
       "\n",
       "[5 rows x 200 columns]"
      ]
     },
     "execution_count": 15,
     "metadata": {},
     "output_type": "execute_result"
    }
   ],
   "source": [
    "w.head()"
   ]
  },
  {
   "cell_type": "code",
   "execution_count": 16,
   "metadata": {},
   "outputs": [
    {
     "data": {
      "text/plain": [
       "(51564, 200)"
      ]
     },
     "execution_count": 16,
     "metadata": {},
     "output_type": "execute_result"
    }
   ],
   "source": [
    "w.shape"
   ]
  },
  {
   "cell_type": "code",
   "execution_count": 17,
   "metadata": {
    "collapsed": true
   },
   "outputs": [],
   "source": [
    "w.to_pickle('./w2v200.pd')"
   ]
  },
  {
   "cell_type": "code",
   "execution_count": 18,
   "metadata": {
    "collapsed": true
   },
   "outputs": [],
   "source": [
    "w = w2v[0]"
   ]
  },
  {
   "cell_type": "code",
   "execution_count": 19,
   "metadata": {},
   "outputs": [
    {
     "data": {
      "text/html": [
       "<div>\n",
       "<style scoped>\n",
       "    .dataframe tbody tr th:only-of-type {\n",
       "        vertical-align: middle;\n",
       "    }\n",
       "\n",
       "    .dataframe tbody tr th {\n",
       "        vertical-align: top;\n",
       "    }\n",
       "\n",
       "    .dataframe thead th {\n",
       "        text-align: right;\n",
       "    }\n",
       "</style>\n",
       "<table border=\"1\" class=\"dataframe\">\n",
       "  <thead>\n",
       "    <tr style=\"text-align: right;\">\n",
       "      <th></th>\n",
       "      <th>0</th>\n",
       "      <th>1</th>\n",
       "      <th>2</th>\n",
       "      <th>3</th>\n",
       "      <th>4</th>\n",
       "      <th>5</th>\n",
       "      <th>6</th>\n",
       "      <th>7</th>\n",
       "      <th>8</th>\n",
       "      <th>9</th>\n",
       "      <th>...</th>\n",
       "      <th>41</th>\n",
       "      <th>42</th>\n",
       "      <th>43</th>\n",
       "      <th>44</th>\n",
       "      <th>45</th>\n",
       "      <th>46</th>\n",
       "      <th>47</th>\n",
       "      <th>48</th>\n",
       "      <th>49</th>\n",
       "      <th>50</th>\n",
       "    </tr>\n",
       "  </thead>\n",
       "  <tbody>\n",
       "    <tr>\n",
       "      <th>0</th>\n",
       "      <td>ガリバー</td>\n",
       "      <td>0.091114</td>\n",
       "      <td>-0.294387</td>\n",
       "      <td>0.021036</td>\n",
       "      <td>-0.036468</td>\n",
       "      <td>0.101153</td>\n",
       "      <td>0.058209</td>\n",
       "      <td>0.147456</td>\n",
       "      <td>0.059062</td>\n",
       "      <td>0.146042</td>\n",
       "      <td>...</td>\n",
       "      <td>0.239939</td>\n",
       "      <td>-0.006300</td>\n",
       "      <td>0.099647</td>\n",
       "      <td>0.036027</td>\n",
       "      <td>-0.008679</td>\n",
       "      <td>0.039122</td>\n",
       "      <td>-0.049217</td>\n",
       "      <td>0.203507</td>\n",
       "      <td>0.180088</td>\n",
       "      <td>-0.169165</td>\n",
       "    </tr>\n",
       "    <tr>\n",
       "      <th>1</th>\n",
       "      <td>くん</td>\n",
       "      <td>0.060573</td>\n",
       "      <td>-0.231098</td>\n",
       "      <td>0.012265</td>\n",
       "      <td>-0.118655</td>\n",
       "      <td>-0.045415</td>\n",
       "      <td>-0.082472</td>\n",
       "      <td>0.005965</td>\n",
       "      <td>-0.031879</td>\n",
       "      <td>0.066911</td>\n",
       "      <td>...</td>\n",
       "      <td>0.133983</td>\n",
       "      <td>-0.022876</td>\n",
       "      <td>0.006493</td>\n",
       "      <td>0.064899</td>\n",
       "      <td>-0.067395</td>\n",
       "      <td>-0.020905</td>\n",
       "      <td>-0.154779</td>\n",
       "      <td>0.175292</td>\n",
       "      <td>0.191491</td>\n",
       "      <td>-0.281831</td>\n",
       "    </tr>\n",
       "    <tr>\n",
       "      <th>2</th>\n",
       "      <td>ゴーゴー</td>\n",
       "      <td>0.076387</td>\n",
       "      <td>-0.237495</td>\n",
       "      <td>-0.021150</td>\n",
       "      <td>-0.105880</td>\n",
       "      <td>0.030181</td>\n",
       "      <td>0.174667</td>\n",
       "      <td>0.054576</td>\n",
       "      <td>-0.078703</td>\n",
       "      <td>0.109202</td>\n",
       "      <td>...</td>\n",
       "      <td>0.157529</td>\n",
       "      <td>0.116068</td>\n",
       "      <td>0.040623</td>\n",
       "      <td>0.034536</td>\n",
       "      <td>-0.133727</td>\n",
       "      <td>0.097389</td>\n",
       "      <td>-0.087429</td>\n",
       "      <td>0.222188</td>\n",
       "      <td>0.100252</td>\n",
       "      <td>-0.260785</td>\n",
       "    </tr>\n",
       "    <tr>\n",
       "      <th>3</th>\n",
       "      <td>は</td>\n",
       "      <td>0.206208</td>\n",
       "      <td>0.238194</td>\n",
       "      <td>0.164277</td>\n",
       "      <td>-0.219658</td>\n",
       "      <td>0.163085</td>\n",
       "      <td>-0.229095</td>\n",
       "      <td>0.174790</td>\n",
       "      <td>0.049674</td>\n",
       "      <td>-0.146848</td>\n",
       "      <td>...</td>\n",
       "      <td>-0.105047</td>\n",
       "      <td>-0.001622</td>\n",
       "      <td>0.188861</td>\n",
       "      <td>-0.127376</td>\n",
       "      <td>0.117224</td>\n",
       "      <td>0.107232</td>\n",
       "      <td>0.254831</td>\n",
       "      <td>0.029983</td>\n",
       "      <td>0.024894</td>\n",
       "      <td>0.234945</td>\n",
       "    </tr>\n",
       "    <tr>\n",
       "      <th>4</th>\n",
       "      <td>、</td>\n",
       "      <td>0.290248</td>\n",
       "      <td>0.130922</td>\n",
       "      <td>0.004911</td>\n",
       "      <td>-0.145435</td>\n",
       "      <td>0.113007</td>\n",
       "      <td>0.071337</td>\n",
       "      <td>0.103400</td>\n",
       "      <td>-0.020992</td>\n",
       "      <td>0.012000</td>\n",
       "      <td>...</td>\n",
       "      <td>-0.175391</td>\n",
       "      <td>0.142215</td>\n",
       "      <td>-0.007413</td>\n",
       "      <td>-0.110463</td>\n",
       "      <td>0.260629</td>\n",
       "      <td>0.084242</td>\n",
       "      <td>0.328284</td>\n",
       "      <td>0.031567</td>\n",
       "      <td>-0.077668</td>\n",
       "      <td>-0.059615</td>\n",
       "    </tr>\n",
       "  </tbody>\n",
       "</table>\n",
       "<p>5 rows × 51 columns</p>\n",
       "</div>"
      ],
      "text/plain": [
       "     0         1         2         3         4         5         6         7   \\\n",
       "0  ガリバー  0.091114 -0.294387  0.021036 -0.036468  0.101153  0.058209  0.147456   \n",
       "1    くん  0.060573 -0.231098  0.012265 -0.118655 -0.045415 -0.082472  0.005965   \n",
       "2  ゴーゴー  0.076387 -0.237495 -0.021150 -0.105880  0.030181  0.174667  0.054576   \n",
       "3     は  0.206208  0.238194  0.164277 -0.219658  0.163085 -0.229095  0.174790   \n",
       "4     、  0.290248  0.130922  0.004911 -0.145435  0.113007  0.071337  0.103400   \n",
       "\n",
       "         8         9     ...           41        42        43        44  \\\n",
       "0  0.059062  0.146042    ...     0.239939 -0.006300  0.099647  0.036027   \n",
       "1 -0.031879  0.066911    ...     0.133983 -0.022876  0.006493  0.064899   \n",
       "2 -0.078703  0.109202    ...     0.157529  0.116068  0.040623  0.034536   \n",
       "3  0.049674 -0.146848    ...    -0.105047 -0.001622  0.188861 -0.127376   \n",
       "4 -0.020992  0.012000    ...    -0.175391  0.142215 -0.007413 -0.110463   \n",
       "\n",
       "         45        46        47        48        49        50  \n",
       "0 -0.008679  0.039122 -0.049217  0.203507  0.180088 -0.169165  \n",
       "1 -0.067395 -0.020905 -0.154779  0.175292  0.191491 -0.281831  \n",
       "2 -0.133727  0.097389 -0.087429  0.222188  0.100252 -0.260785  \n",
       "3  0.117224  0.107232  0.254831  0.029983  0.024894  0.234945  \n",
       "4  0.260629  0.084242  0.328284  0.031567 -0.077668 -0.059615  \n",
       "\n",
       "[5 rows x 51 columns]"
      ]
     },
     "execution_count": 19,
     "metadata": {},
     "output_type": "execute_result"
    }
   ],
   "source": [
    "w.head()"
   ]
  },
  {
   "cell_type": "code",
   "execution_count": 20,
   "metadata": {
    "collapsed": true
   },
   "outputs": [],
   "source": [
    "w = w.groupby([0]).mean()"
   ]
  },
  {
   "cell_type": "code",
   "execution_count": 21,
   "metadata": {
    "scrolled": true
   },
   "outputs": [
    {
     "data": {
      "text/plain": [
       "(49116, 50)"
      ]
     },
     "execution_count": 21,
     "metadata": {},
     "output_type": "execute_result"
    }
   ],
   "source": [
    "w.shape"
   ]
  },
  {
   "cell_type": "code",
   "execution_count": 22,
   "metadata": {},
   "outputs": [
    {
     "data": {
      "text/html": [
       "<div>\n",
       "<style scoped>\n",
       "    .dataframe tbody tr th:only-of-type {\n",
       "        vertical-align: middle;\n",
       "    }\n",
       "\n",
       "    .dataframe tbody tr th {\n",
       "        vertical-align: top;\n",
       "    }\n",
       "\n",
       "    .dataframe thead th {\n",
       "        text-align: right;\n",
       "    }\n",
       "</style>\n",
       "<table border=\"1\" class=\"dataframe\">\n",
       "  <thead>\n",
       "    <tr style=\"text-align: right;\">\n",
       "      <th></th>\n",
       "      <th>1</th>\n",
       "      <th>2</th>\n",
       "      <th>3</th>\n",
       "      <th>4</th>\n",
       "      <th>5</th>\n",
       "      <th>6</th>\n",
       "      <th>7</th>\n",
       "      <th>8</th>\n",
       "      <th>9</th>\n",
       "      <th>10</th>\n",
       "      <th>...</th>\n",
       "      <th>41</th>\n",
       "      <th>42</th>\n",
       "      <th>43</th>\n",
       "      <th>44</th>\n",
       "      <th>45</th>\n",
       "      <th>46</th>\n",
       "      <th>47</th>\n",
       "      <th>48</th>\n",
       "      <th>49</th>\n",
       "      <th>50</th>\n",
       "    </tr>\n",
       "    <tr>\n",
       "      <th>0</th>\n",
       "      <th></th>\n",
       "      <th></th>\n",
       "      <th></th>\n",
       "      <th></th>\n",
       "      <th></th>\n",
       "      <th></th>\n",
       "      <th></th>\n",
       "      <th></th>\n",
       "      <th></th>\n",
       "      <th></th>\n",
       "      <th></th>\n",
       "      <th></th>\n",
       "      <th></th>\n",
       "      <th></th>\n",
       "      <th></th>\n",
       "      <th></th>\n",
       "      <th></th>\n",
       "      <th></th>\n",
       "      <th></th>\n",
       "      <th></th>\n",
       "      <th></th>\n",
       "    </tr>\n",
       "  </thead>\n",
       "  <tbody>\n",
       "    <tr>\n",
       "      <th>×</th>\n",
       "      <td>-0.029738</td>\n",
       "      <td>-0.220040</td>\n",
       "      <td>-0.118882</td>\n",
       "      <td>-0.218144</td>\n",
       "      <td>-0.042078</td>\n",
       "      <td>0.001095</td>\n",
       "      <td>0.010656</td>\n",
       "      <td>0.143577</td>\n",
       "      <td>0.059391</td>\n",
       "      <td>0.178090</td>\n",
       "      <td>...</td>\n",
       "      <td>0.010057</td>\n",
       "      <td>0.259506</td>\n",
       "      <td>-0.156964</td>\n",
       "      <td>0.141145</td>\n",
       "      <td>-0.128397</td>\n",
       "      <td>0.120778</td>\n",
       "      <td>0.023176</td>\n",
       "      <td>-0.173646</td>\n",
       "      <td>-0.258388</td>\n",
       "      <td>-0.137577</td>\n",
       "    </tr>\n",
       "    <tr>\n",
       "      <th>Δ</th>\n",
       "      <td>-0.084763</td>\n",
       "      <td>0.060476</td>\n",
       "      <td>-0.208180</td>\n",
       "      <td>-0.032915</td>\n",
       "      <td>-0.070210</td>\n",
       "      <td>0.075549</td>\n",
       "      <td>-0.241700</td>\n",
       "      <td>0.069920</td>\n",
       "      <td>0.119192</td>\n",
       "      <td>-0.040702</td>\n",
       "      <td>...</td>\n",
       "      <td>0.037314</td>\n",
       "      <td>0.198016</td>\n",
       "      <td>-0.073684</td>\n",
       "      <td>-0.092430</td>\n",
       "      <td>0.135085</td>\n",
       "      <td>-0.068829</td>\n",
       "      <td>-0.092230</td>\n",
       "      <td>0.004051</td>\n",
       "      <td>-0.205020</td>\n",
       "      <td>0.138573</td>\n",
       "    </tr>\n",
       "    <tr>\n",
       "      <th>Θ</th>\n",
       "      <td>0.020196</td>\n",
       "      <td>-0.070559</td>\n",
       "      <td>-0.016031</td>\n",
       "      <td>-0.095259</td>\n",
       "      <td>-0.210722</td>\n",
       "      <td>0.008944</td>\n",
       "      <td>-0.102367</td>\n",
       "      <td>0.049041</td>\n",
       "      <td>0.136521</td>\n",
       "      <td>0.023940</td>\n",
       "      <td>...</td>\n",
       "      <td>0.191656</td>\n",
       "      <td>0.182939</td>\n",
       "      <td>0.138991</td>\n",
       "      <td>-0.162631</td>\n",
       "      <td>0.235224</td>\n",
       "      <td>0.048330</td>\n",
       "      <td>-0.076787</td>\n",
       "      <td>0.091762</td>\n",
       "      <td>0.008522</td>\n",
       "      <td>0.029727</td>\n",
       "    </tr>\n",
       "    <tr>\n",
       "      <th>Σ</th>\n",
       "      <td>-0.050522</td>\n",
       "      <td>-0.086176</td>\n",
       "      <td>-0.253005</td>\n",
       "      <td>-0.064997</td>\n",
       "      <td>-0.165054</td>\n",
       "      <td>0.084604</td>\n",
       "      <td>-0.064205</td>\n",
       "      <td>-0.004006</td>\n",
       "      <td>0.055084</td>\n",
       "      <td>0.024274</td>\n",
       "      <td>...</td>\n",
       "      <td>0.099928</td>\n",
       "      <td>0.214353</td>\n",
       "      <td>0.133800</td>\n",
       "      <td>-0.149642</td>\n",
       "      <td>0.083858</td>\n",
       "      <td>-0.048499</td>\n",
       "      <td>0.077051</td>\n",
       "      <td>0.076478</td>\n",
       "      <td>-0.228309</td>\n",
       "      <td>0.165815</td>\n",
       "    </tr>\n",
       "    <tr>\n",
       "      <th>Φ</th>\n",
       "      <td>-0.018619</td>\n",
       "      <td>-0.031717</td>\n",
       "      <td>-0.281221</td>\n",
       "      <td>0.003278</td>\n",
       "      <td>-0.084329</td>\n",
       "      <td>0.154924</td>\n",
       "      <td>-0.192161</td>\n",
       "      <td>0.124151</td>\n",
       "      <td>-0.062872</td>\n",
       "      <td>0.035197</td>\n",
       "      <td>...</td>\n",
       "      <td>0.154229</td>\n",
       "      <td>0.307573</td>\n",
       "      <td>0.028767</td>\n",
       "      <td>-0.094916</td>\n",
       "      <td>0.097365</td>\n",
       "      <td>-0.060083</td>\n",
       "      <td>0.124562</td>\n",
       "      <td>-0.013531</td>\n",
       "      <td>-0.255142</td>\n",
       "      <td>0.135849</td>\n",
       "    </tr>\n",
       "  </tbody>\n",
       "</table>\n",
       "<p>5 rows × 50 columns</p>\n",
       "</div>"
      ],
      "text/plain": [
       "         1         2         3         4         5         6         7   \\\n",
       "0                                                                         \n",
       "× -0.029738 -0.220040 -0.118882 -0.218144 -0.042078  0.001095  0.010656   \n",
       "Δ -0.084763  0.060476 -0.208180 -0.032915 -0.070210  0.075549 -0.241700   \n",
       "Θ  0.020196 -0.070559 -0.016031 -0.095259 -0.210722  0.008944 -0.102367   \n",
       "Σ -0.050522 -0.086176 -0.253005 -0.064997 -0.165054  0.084604 -0.064205   \n",
       "Φ -0.018619 -0.031717 -0.281221  0.003278 -0.084329  0.154924 -0.192161   \n",
       "\n",
       "         8         9         10    ...           41        42        43  \\\n",
       "0                                  ...                                    \n",
       "×  0.143577  0.059391  0.178090    ...     0.010057  0.259506 -0.156964   \n",
       "Δ  0.069920  0.119192 -0.040702    ...     0.037314  0.198016 -0.073684   \n",
       "Θ  0.049041  0.136521  0.023940    ...     0.191656  0.182939  0.138991   \n",
       "Σ -0.004006  0.055084  0.024274    ...     0.099928  0.214353  0.133800   \n",
       "Φ  0.124151 -0.062872  0.035197    ...     0.154229  0.307573  0.028767   \n",
       "\n",
       "         44        45        46        47        48        49        50  \n",
       "0                                                                        \n",
       "×  0.141145 -0.128397  0.120778  0.023176 -0.173646 -0.258388 -0.137577  \n",
       "Δ -0.092430  0.135085 -0.068829 -0.092230  0.004051 -0.205020  0.138573  \n",
       "Θ -0.162631  0.235224  0.048330 -0.076787  0.091762  0.008522  0.029727  \n",
       "Σ -0.149642  0.083858 -0.048499  0.077051  0.076478 -0.228309  0.165815  \n",
       "Φ -0.094916  0.097365 -0.060083  0.124562 -0.013531 -0.255142  0.135849  \n",
       "\n",
       "[5 rows x 50 columns]"
      ]
     },
     "execution_count": 22,
     "metadata": {},
     "output_type": "execute_result"
    }
   ],
   "source": [
    "w.head()"
   ]
  },
  {
   "cell_type": "code",
   "execution_count": 23,
   "metadata": {
    "collapsed": true
   },
   "outputs": [],
   "source": [
    "w.to_pickle('./w2v50.pd')"
   ]
  },
  {
   "cell_type": "code",
   "execution_count": 24,
   "metadata": {
    "collapsed": true
   },
   "outputs": [],
   "source": [
    "w2v = []\n"
   ]
  },
  {
   "cell_type": "code",
   "execution_count": 25,
   "metadata": {
    "collapsed": true
   },
   "outputs": [],
   "source": [
    "w2v.append(pd.read_pickle('w2v50.pd'))\n",
    "w2v.append(pd.read_pickle('w2v200.pd'))"
   ]
  },
  {
   "cell_type": "markdown",
   "metadata": {},
   "source": [
    "### 非自立語の削除"
   ]
  },
  {
   "cell_type": "code",
   "execution_count": 26,
   "metadata": {
    "collapsed": true
   },
   "outputs": [],
   "source": [
    "for (i,w) in enumerate(w2v):\n",
    "    with open(str(i),\"w\") as fh:\n",
    "        for e in w.index:\n",
    "            fh.write(e+\"\\n\")"
   ]
  },
  {
   "cell_type": "code",
   "execution_count": 27,
   "metadata": {
    "collapsed": true
   },
   "outputs": [],
   "source": [
    "!mecab 0 > 0.mecab\n",
    "!mecab 1 > 1.mecab"
   ]
  },
  {
   "cell_type": "code",
   "execution_count": 28,
   "metadata": {},
   "outputs": [
    {
     "name": "stdout",
     "output_type": "stream",
     "text": [
      "×\t記号,一般,*,*,*,*,×,カケル,カケル\r\n",
      "EOS\r\n",
      "Δ\t記号,アルファベット,*,*,*,*,Δ,デルタ,デルタ\r\n",
      "EOS\r\n",
      "Θ\t記号,アルファベット,*,*,*,*,Θ,シータ,シータ\r\n",
      "EOS\r\n",
      "Σ\t名詞,固有名詞,一般,*,*,*,Σ,シグマ,シグマ\r\n",
      "EOS\r\n",
      "Φ\t記号,アルファベット,*,*,*,*,Φ,ファイ,ファイ\r\n",
      "EOS\r\n"
     ]
    }
   ],
   "source": [
    "!head 0.mecab"
   ]
  },
  {
   "cell_type": "code",
   "execution_count": 29,
   "metadata": {},
   "outputs": [
    {
     "name": "stdout",
     "output_type": "stream",
     "text": [
      "×\t記号,一般,*,*,*,*,×,カケル,カケル\r\n",
      "EOS\r\n",
      "Δ\t記号,アルファベット,*,*,*,*,Δ,デルタ,デルタ\r\n",
      "EOS\r\n",
      "Θ\t記号,アルファベット,*,*,*,*,Θ,シータ,シータ\r\n",
      "EOS\r\n",
      "Σ\t名詞,固有名詞,一般,*,*,*,Σ,シグマ,シグマ\r\n",
      "EOS\r\n",
      "Φ\t記号,アルファベット,*,*,*,*,Φ,ファイ,ファイ\r\n",
      "EOS\r\n"
     ]
    }
   ],
   "source": [
    "!head 1.mecab"
   ]
  },
  {
   "cell_type": "code",
   "execution_count": 30,
   "metadata": {
    "collapsed": true
   },
   "outputs": [],
   "source": [
    " !cat 0.mecab |\\\n",
    "    grep -v \"EOS\" |\\\n",
    "    grep -v \"助詞\" |\\\n",
    "    grep -v \"助動詞\" |\\\n",
    "    grep -v \"記号\" |\\\n",
    "    grep -v \"フィラー\" |\\\n",
    "    grep -v \"感動詞\" |\\\n",
    "    grep -v \"接頭詞\" |\\\n",
    "    grep -v \"接続詞\" |\\\n",
    "    grep -v \"連体詞\" |\\\n",
    "    grep -v \"副詞\" |\\\n",
    "    grep -v \"代名詞\" |\\\n",
    "    grep -v \"非自立\" |\\\n",
    "    grep -v \"この\" \\\n",
    "    > 0.filted"
   ]
  },
  {
   "cell_type": "code",
   "execution_count": 31,
   "metadata": {
    "collapsed": true
   },
   "outputs": [],
   "source": [
    " !cat 1.mecab |\\\n",
    "    grep -v \"EOS\" |\\\n",
    "    grep -v \"助詞\" |\\\n",
    "    grep -v \"助動詞\" |\\\n",
    "    grep -v \"記号\" |\\\n",
    "    grep -v \"フィラー\" |\\\n",
    "    grep -v \"感動詞\" |\\\n",
    "    grep -v \"接頭詞\" |\\\n",
    "    grep -v \"接続詞\" |\\\n",
    "    grep -v \"連体詞\" |\\\n",
    "    grep -v \"副詞\" |\\\n",
    "    grep -v \"代名詞\" |\\\n",
    "    grep -v \"非自立\" |\\\n",
    "    grep -v \"この\" \\\n",
    "    > 1.filted"
   ]
  },
  {
   "cell_type": "code",
   "execution_count": 32,
   "metadata": {},
   "outputs": [
    {
     "name": "stdout",
     "output_type": "stream",
     "text": [
      "47449 0.filted\r\n"
     ]
    }
   ],
   "source": [
    "!wc -l 0.filted"
   ]
  },
  {
   "cell_type": "code",
   "execution_count": 33,
   "metadata": {},
   "outputs": [
    {
     "name": "stdout",
     "output_type": "stream",
     "text": [
      "49818 1.filted\r\n"
     ]
    }
   ],
   "source": [
    "!wc -l 1.filted"
   ]
  },
  {
   "cell_type": "code",
   "execution_count": 34,
   "metadata": {
    "collapsed": true
   },
   "outputs": [],
   "source": [
    "w2v_word = [[],[]]\n",
    "with open('0.filted') as fh:\n",
    "    w2v_word[0] = [e.split('\\t')[0] for e in fh]\n",
    "with open('1.filted') as fh:\n",
    "    w2v_word[1] = [e.split('\\t')[0] for e in fh]\n",
    "        "
   ]
  },
  {
   "cell_type": "code",
   "execution_count": 35,
   "metadata": {
    "scrolled": false
   },
   "outputs": [
    {
     "data": {
      "text/plain": [
       "(49116, 50)"
      ]
     },
     "metadata": {},
     "output_type": "display_data"
    },
    {
     "data": {
      "text/plain": [
       "(51564, 200)"
      ]
     },
     "metadata": {},
     "output_type": "display_data"
    }
   ],
   "source": [
    "for w in w2v: display(w.shape)"
   ]
  },
  {
   "cell_type": "code",
   "execution_count": 36,
   "metadata": {
    "collapsed": true
   },
   "outputs": [],
   "source": [
    "w2v[0] = w2v[0][w2v[0].index.isin(w2v_word[0])]"
   ]
  },
  {
   "cell_type": "code",
   "execution_count": 37,
   "metadata": {
    "collapsed": true
   },
   "outputs": [],
   "source": [
    "w2v[1] = w2v[1][w2v[1].index.isin(w2v_word[1])]"
   ]
  },
  {
   "cell_type": "code",
   "execution_count": 38,
   "metadata": {
    "scrolled": false
   },
   "outputs": [
    {
     "data": {
      "text/plain": [
       "(46977, 50)"
      ]
     },
     "metadata": {},
     "output_type": "display_data"
    },
    {
     "data": {
      "text/plain": [
       "(48776, 200)"
      ]
     },
     "metadata": {},
     "output_type": "display_data"
    }
   ],
   "source": [
    "for w in w2v: display(w.shape)"
   ]
  },
  {
   "cell_type": "code",
   "execution_count": 39,
   "metadata": {
    "collapsed": true
   },
   "outputs": [],
   "source": [
    "w2v[0].to_pickle('./w2v50.pd')\n",
    "w2v[1].to_pickle('./w2v200.pd')"
   ]
  },
  {
   "cell_type": "code",
   "execution_count": null,
   "metadata": {
    "collapsed": true
   },
   "outputs": [],
   "source": []
  }
 ],
 "metadata": {
  "kernelspec": {
   "display_name": "Python 3",
   "language": "python",
   "name": "python3"
  },
  "language_info": {
   "codemirror_mode": {
    "name": "ipython",
    "version": 3
   },
   "file_extension": ".py",
   "mimetype": "text/x-python",
   "name": "python",
   "nbconvert_exporter": "python",
   "pygments_lexer": "ipython3",
   "version": "3.6.3"
  }
 },
 "nbformat": 4,
 "nbformat_minor": 2
}
