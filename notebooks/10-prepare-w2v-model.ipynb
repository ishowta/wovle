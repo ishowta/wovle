{
 "cells": [
  {
   "cell_type": "markdown",
   "metadata": {},
   "source": [
    "### w2v50をテキストにする"
   ]
  },
  {
   "cell_type": "code",
   "execution_count": 1,
   "metadata": {
    "scrolled": false
   },
   "outputs": [
    {
     "name": "stdout",
     "output_type": "stream",
     "text": [
      "/home/saho/project/wovle/data/external\n"
     ]
    }
   ],
   "source": [
    "cd ../data/external/"
   ]
  },
  {
   "cell_type": "code",
   "execution_count": 3,
   "metadata": {},
   "outputs": [
    {
     "name": "stdout",
     "output_type": "stream",
     "text": [
      "0         1gm-0000             \u001b[0m\u001b[01;34mdictation-kit-v4.4\u001b[0m/   w2v200.pd\r\n",
      "0.filted  1.mecab              filelist              w2v200.txt\r\n",
      "0.mecab   \u001b[01;34mCJLC-0.1\u001b[0m/            general_words_300.pd  w2v50_fitToDic.tsv\r\n",
      "1         csj.pdp.htkdic       gm_sorted.csv         w2v50.pd\r\n",
      "1.filted  csj.pdp.htkdic.utf8  w2v200_fitToDic.tsv   w2v50.tsv\r\n"
     ]
    }
   ],
   "source": [
    "ls"
   ]
  },
  {
   "cell_type": "code",
   "execution_count": 5,
   "metadata": {},
   "outputs": [
    {
     "data": {
      "text/plain": [
       "335476"
      ]
     },
     "execution_count": 5,
     "metadata": {},
     "output_type": "execute_result"
    }
   ],
   "source": [
    "from gensim.models import word2vec\n",
    "model = word2vec.Word2Vec.load('w2v50/word2vec.gensim.model')\n",
    "len(model.wv.vocab)"
   ]
  },
  {
   "cell_type": "code",
   "execution_count": 6,
   "metadata": {},
   "outputs": [
    {
     "name": "stderr",
     "output_type": "stream",
     "text": [
      "100%|██████████| 335476/335476 [00:38<00:00, 8754.04it/s]\n"
     ]
    }
   ],
   "source": [
    "with open('w2v50.tsv','w') as fh:\n",
    "    for (k,v) in monitor(model.wv.vocab.items()):\n",
    "        fh.write(k+\"\\t\"+\"\\t\".join([str(e) for e in model.wv[k]])+\"\\n\")"
   ]
  },
  {
   "cell_type": "code",
   "execution_count": 9,
   "metadata": {
    "collapsed": true
   },
   "outputs": [],
   "source": [
    "rm -r w2v50/"
   ]
  },
  {
   "cell_type": "code",
   "execution_count": 10,
   "metadata": {},
   "outputs": [
    {
     "name": "stdout",
     "output_type": "stream",
     "text": [
      "1gm-0000   csj.pdp.htkdic       filelist    w2v200.txt\r\n",
      "\u001b[0m\u001b[01;34mCJLC-0.1\u001b[0m/  \u001b[01;34mdictation-kit-v4.4\u001b[0m/  index.html  w2v50.tsv\r\n"
     ]
    }
   ],
   "source": [
    "ls"
   ]
  },
  {
   "cell_type": "markdown",
   "metadata": {},
   "source": [
    "### 辞書（csj.pdp.htkdic）に無いものは削除"
   ]
  },
  {
   "cell_type": "code",
   "execution_count": 12,
   "metadata": {
    "collapsed": true
   },
   "outputs": [],
   "source": [
    "!nkf -w ./csj.pdp.htkdic > ./csj.pdp.htkdic.utf8"
   ]
  },
  {
   "cell_type": "code",
   "execution_count": 13,
   "metadata": {},
   "outputs": [
    {
     "name": "stdout",
     "output_type": "stream",
     "text": [
      "<sil>\t[]\tsp_S\r",
      "\r\n",
      "<sil>\t[]\tsp_S\r",
      "\r\n",
      "<sp>\t[]\tsp_S\r",
      "\r\n",
      "．+テン+名詞\t[．]\tt_B e_I N_E\r",
      "\r\n",
      "○+マル+名詞\t[○]\tm_B a_I r_I u_E\r",
      "\r\n",
      "０．５π+レーテンゴパイ+名詞\t[０．５π]\tr_B e:_I t_I e_I N_I g_I o_I p_I a_I i_E\r",
      "\r\n",
      "０ｄＢ+ゼロディービー+名詞\t[０ｄＢ]\tz_B e_I r_I o_I d_I i:_I b_I i:_E\r",
      "\r\n",
      "１０００ＣＣ+センシーシー+名詞\t[１０００ＣＣ]\ts_B e_I N_I sh_I i:_I sh_I i:_E\r",
      "\r\n",
      "１００ＣＣ+ヒャクシーシー+名詞\t[１００ＣＣ]\thy_B a_I k_I u_I sh_I i:_I sh_I i:_E\r",
      "\r\n",
      "１０Ａ+ジューエー+名詞\t[１０Ａ]\tj_B u:_I e:_E\r",
      "\r\n"
     ]
    }
   ],
   "source": [
    "!head ./csj.pdp.htkdic.utf8"
   ]
  },
  {
   "cell_type": "code",
   "execution_count": 4,
   "metadata": {},
   "outputs": [
    {
     "name": "stdout",
     "output_type": "stream",
     "text": [
      "<s>\t[]\tsp_S\r\n",
      "</s>\t[。]\tsp_S\r\n",
      "、+補助記号\t[、]\tsp_S\r\n",
      "×+名詞\t[×]\tb_B a_I ts_I u_E\r\n",
      "Δ+記号\t[Δ]\td_B e_I r_I u_I t_I a_E\r\n",
      "Θ+記号\t[Θ]\tsh_B i:_I t_I a_E\r\n",
      "Σ+記号\t[Σ]\tsh_B i_I g_I u_I m_I a_E\r\n",
      "Φ+記号\t[Φ]\tf_B a_I i_E\r\n",
      "Ψ+記号\t[Ψ]\tp_B u_I s_I a_I i_E\r\n",
      "Ω+名詞\t[Ω]\to:_B m_I u_E\r\n"
     ]
    }
   ],
   "source": [
    "!head ../raw/hybrid.htkdic"
   ]
  },
  {
   "cell_type": "code",
   "execution_count": 5,
   "metadata": {},
   "outputs": [
    {
     "name": "stdout",
     "output_type": "stream",
     "text": [
      "38598 ./csj.pdp.htkdic.utf8\r\n"
     ]
    }
   ],
   "source": [
    "!wc -l ./csj.pdp.htkdic.utf8"
   ]
  },
  {
   "cell_type": "code",
   "execution_count": 6,
   "metadata": {},
   "outputs": [
    {
     "name": "stdout",
     "output_type": "stream",
     "text": [
      "190535 ../raw/hybrid.htkdic\r\n"
     ]
    }
   ],
   "source": [
    "!wc -l ../raw/hybrid.htkdic"
   ]
  },
  {
   "cell_type": "code",
   "execution_count": 7,
   "metadata": {
    "scrolled": true
   },
   "outputs": [
    {
     "name": "stderr",
     "output_type": "stream",
     "text": [
      "190535it [00:00, 390069.02it/s]\n",
      "335476it [00:05, 60867.71it/s]\n",
      "1015475it [00:45, 22547.21it/s]\n"
     ]
    }
   ],
   "source": [
    "words = set()\n",
    "\n",
    "with open('../raw/hybrid.htkdic') as hh:\n",
    "    for line in monitor(hh):\n",
    "        words.add(line.split('\\t')[0].split('+')[0])\n",
    "\n",
    "with open('w2v50.tsv') as v50h:\n",
    "    with open('w2v200.txt') as v200h:\n",
    "        with open('w2v50_fitToDic.tsv','w') as w50h:\n",
    "            with open('w2v200_fitToDic.tsv','w') as w200h:\n",
    "                for line in monitor(v50h):\n",
    "                    w = line.split('\\t')[0]\n",
    "                    if w in words:\n",
    "                        w50h.write(w+'\\t'+'\\t'.join(line.split('\\t')[1:]))\n",
    "                for line in monitor(v200h):\n",
    "                    w = line.split(' ')[0].replace('[','').replace(']','') # 括弧は無いものとして比較\n",
    "                    if w in words:\n",
    "                        w200h.write(w+'\\t'+'\\t'.join(line.split(' ')[1:]))"
   ]
  },
  {
   "cell_type": "code",
   "execution_count": 8,
   "metadata": {},
   "outputs": [
    {
     "name": "stdout",
     "output_type": "stream",
     "text": [
      "124841 ./w2v50_fitToDic.tsv\r\n"
     ]
    }
   ],
   "source": [
    "!wc -l ./w2v50_fitToDic.tsv"
   ]
  },
  {
   "cell_type": "code",
   "execution_count": 9,
   "metadata": {},
   "outputs": [
    {
     "name": "stdout",
     "output_type": "stream",
     "text": [
      "228113 ./w2v200_fitToDic.tsv\r\n"
     ]
    }
   ],
   "source": [
    "!wc -l ./w2v200_fitToDic.tsv"
   ]
  },
  {
   "cell_type": "markdown",
   "metadata": {},
   "source": [
    "### w2v200の括弧重複の平均を取る"
   ]
  },
  {
   "cell_type": "markdown",
   "metadata": {},
   "source": [
    "#### dataframeとして読み込み"
   ]
  },
  {
   "cell_type": "code",
   "execution_count": 2,
   "metadata": {
    "collapsed": true
   },
   "outputs": [],
   "source": [
    "w2v50 = pd.read_csv(\"w2v50_fitToDic.tsv\",sep=\"\\t\",header=None)"
   ]
  },
  {
   "cell_type": "code",
   "execution_count": 3,
   "metadata": {
    "collapsed": true
   },
   "outputs": [],
   "source": [
    "w2v200 = pd.read_csv(\"w2v200_fitToDic.tsv\",sep=\"\\t\",header=None)"
   ]
  },
  {
   "cell_type": "code",
   "execution_count": 4,
   "metadata": {
    "collapsed": true
   },
   "outputs": [],
   "source": [
    "w2v = [w2v50, w2v200]"
   ]
  },
  {
   "cell_type": "code",
   "execution_count": 5,
   "metadata": {
    "scrolled": true
   },
   "outputs": [
    {
     "data": {
      "text/plain": [
       "(124841, 51)"
      ]
     },
     "metadata": {},
     "output_type": "display_data"
    },
    {
     "data": {
      "text/plain": [
       "(228113, 201)"
      ]
     },
     "metadata": {},
     "output_type": "display_data"
    }
   ],
   "source": [
    "for w in w2v: display(w.shape)"
   ]
  },
  {
   "cell_type": "code",
   "execution_count": 6,
   "metadata": {
    "collapsed": true
   },
   "outputs": [],
   "source": [
    "w2v[0].to_pickle('w2v50.pd')"
   ]
  },
  {
   "cell_type": "code",
   "execution_count": 7,
   "metadata": {
    "collapsed": true
   },
   "outputs": [],
   "source": [
    "w2v[1].to_pickle('w2v200.pd')"
   ]
  },
  {
   "cell_type": "markdown",
   "metadata": {},
   "source": [
    "#### 重複除外"
   ]
  },
  {
   "cell_type": "code",
   "execution_count": 8,
   "metadata": {
    "collapsed": true
   },
   "outputs": [],
   "source": [
    "w = w2v[1]"
   ]
  },
  {
   "cell_type": "code",
   "execution_count": 9,
   "metadata": {
    "collapsed": true
   },
   "outputs": [],
   "source": [
    "def disp(*v):\n",
    "    for e in v: display(e)"
   ]
  },
  {
   "cell_type": "code",
   "execution_count": 10,
   "metadata": {},
   "outputs": [
    {
     "name": "stderr",
     "output_type": "stream",
     "text": [
      "/home/saho/.pyenv/versions/anaconda3-5.0.1/lib/python3.6/site-packages/ipykernel_launcher.py:2: DeprecationWarning: \n",
      ".ix is deprecated. Please use\n",
      ".loc for label based indexing or\n",
      ".iloc for positional indexing\n",
      "\n",
      "See the documentation here:\n",
      "http://pandas.pydata.org/pandas-docs/stable/indexing.html#ix-indexer-is-deprecated\n",
      "  \n"
     ]
    },
    {
     "data": {
      "text/html": [
       "<div>\n",
       "<style scoped>\n",
       "    .dataframe tbody tr th:only-of-type {\n",
       "        vertical-align: middle;\n",
       "    }\n",
       "\n",
       "    .dataframe tbody tr th {\n",
       "        vertical-align: top;\n",
       "    }\n",
       "\n",
       "    .dataframe thead th {\n",
       "        text-align: right;\n",
       "    }\n",
       "</style>\n",
       "<table border=\"1\" class=\"dataframe\">\n",
       "  <thead>\n",
       "    <tr style=\"text-align: right;\">\n",
       "      <th></th>\n",
       "      <th>0</th>\n",
       "      <th>1</th>\n",
       "      <th>2</th>\n",
       "      <th>3</th>\n",
       "      <th>4</th>\n",
       "      <th>5</th>\n",
       "      <th>6</th>\n",
       "      <th>7</th>\n",
       "      <th>8</th>\n",
       "      <th>9</th>\n",
       "      <th>...</th>\n",
       "      <th>191</th>\n",
       "      <th>192</th>\n",
       "      <th>193</th>\n",
       "      <th>194</th>\n",
       "      <th>195</th>\n",
       "      <th>196</th>\n",
       "      <th>197</th>\n",
       "      <th>198</th>\n",
       "      <th>199</th>\n",
       "      <th>200</th>\n",
       "    </tr>\n",
       "  </thead>\n",
       "  <tbody>\n",
       "    <tr>\n",
       "      <th>0</th>\n",
       "      <td>の</td>\n",
       "      <td>-0.991739</td>\n",
       "      <td>0.433873</td>\n",
       "      <td>-1.634327</td>\n",
       "      <td>-2.637119</td>\n",
       "      <td>1.87341</td>\n",
       "      <td>-0.68232</td>\n",
       "      <td>1.400241</td>\n",
       "      <td>2.555166</td>\n",
       "      <td>-2.150506</td>\n",
       "      <td>...</td>\n",
       "      <td>-1.206327</td>\n",
       "      <td>0.912507</td>\n",
       "      <td>-0.449425</td>\n",
       "      <td>-0.685022</td>\n",
       "      <td>-0.067702</td>\n",
       "      <td>-0.439921</td>\n",
       "      <td>-1.823313</td>\n",
       "      <td>-0.582093</td>\n",
       "      <td>-0.289067</td>\n",
       "      <td>-0.953114</td>\n",
       "    </tr>\n",
       "  </tbody>\n",
       "</table>\n",
       "<p>1 rows × 201 columns</p>\n",
       "</div>"
      ],
      "text/plain": [
       "  0         1         2         3         4        5        6         7    \\\n",
       "0   の -0.991739  0.433873 -1.634327 -2.637119  1.87341 -0.68232  1.400241   \n",
       "\n",
       "        8         9      ...          191       192       193       194  \\\n",
       "0  2.555166 -2.150506    ...    -1.206327  0.912507 -0.449425 -0.685022   \n",
       "\n",
       "        195       196       197       198       199       200  \n",
       "0 -0.067702 -0.439921 -1.823313 -0.582093 -0.289067 -0.953114  \n",
       "\n",
       "[1 rows x 201 columns]"
      ]
     },
     "metadata": {},
     "output_type": "display_data"
    },
    {
     "data": {
      "text/plain": [
       "(228113, 201)"
      ]
     },
     "metadata": {},
     "output_type": "display_data"
    }
   ],
   "source": [
    "disp(\n",
    "    w.ix[[0],:],\n",
    "    w.shape)"
   ]
  },
  {
   "cell_type": "code",
   "execution_count": 11,
   "metadata": {},
   "outputs": [
    {
     "data": {
      "text/html": [
       "<div>\n",
       "<style scoped>\n",
       "    .dataframe tbody tr th:only-of-type {\n",
       "        vertical-align: middle;\n",
       "    }\n",
       "\n",
       "    .dataframe tbody tr th {\n",
       "        vertical-align: top;\n",
       "    }\n",
       "\n",
       "    .dataframe thead th {\n",
       "        text-align: right;\n",
       "    }\n",
       "</style>\n",
       "<table border=\"1\" class=\"dataframe\">\n",
       "  <thead>\n",
       "    <tr style=\"text-align: right;\">\n",
       "      <th></th>\n",
       "      <th>0</th>\n",
       "      <th>1</th>\n",
       "      <th>2</th>\n",
       "      <th>3</th>\n",
       "      <th>4</th>\n",
       "      <th>5</th>\n",
       "      <th>6</th>\n",
       "      <th>7</th>\n",
       "      <th>8</th>\n",
       "      <th>9</th>\n",
       "      <th>...</th>\n",
       "      <th>191</th>\n",
       "      <th>192</th>\n",
       "      <th>193</th>\n",
       "      <th>194</th>\n",
       "      <th>195</th>\n",
       "      <th>196</th>\n",
       "      <th>197</th>\n",
       "      <th>198</th>\n",
       "      <th>199</th>\n",
       "      <th>200</th>\n",
       "    </tr>\n",
       "  </thead>\n",
       "  <tbody>\n",
       "    <tr>\n",
       "      <th>8571</th>\n",
       "      <td>トヨタ</td>\n",
       "      <td>0.053538</td>\n",
       "      <td>-0.458620</td>\n",
       "      <td>2.269142</td>\n",
       "      <td>2.213828</td>\n",
       "      <td>1.045843</td>\n",
       "      <td>-0.385347</td>\n",
       "      <td>1.634038</td>\n",
       "      <td>2.483560</td>\n",
       "      <td>-1.511059</td>\n",
       "      <td>...</td>\n",
       "      <td>-0.565592</td>\n",
       "      <td>-1.320724</td>\n",
       "      <td>1.17779</td>\n",
       "      <td>-0.255538</td>\n",
       "      <td>1.393715</td>\n",
       "      <td>-0.182194</td>\n",
       "      <td>0.562751</td>\n",
       "      <td>-0.150641</td>\n",
       "      <td>0.373629</td>\n",
       "      <td>0.638203</td>\n",
       "    </tr>\n",
       "    <tr>\n",
       "      <th>28411</th>\n",
       "      <td>トヨタ</td>\n",
       "      <td>-0.306716</td>\n",
       "      <td>-1.427696</td>\n",
       "      <td>1.110670</td>\n",
       "      <td>1.346888</td>\n",
       "      <td>-0.350039</td>\n",
       "      <td>-0.451238</td>\n",
       "      <td>1.047367</td>\n",
       "      <td>1.017068</td>\n",
       "      <td>-1.072866</td>\n",
       "      <td>...</td>\n",
       "      <td>-0.431226</td>\n",
       "      <td>-0.514442</td>\n",
       "      <td>1.05925</td>\n",
       "      <td>-0.159481</td>\n",
       "      <td>0.126721</td>\n",
       "      <td>-0.407040</td>\n",
       "      <td>-0.150029</td>\n",
       "      <td>0.352745</td>\n",
       "      <td>0.327678</td>\n",
       "      <td>-0.481530</td>\n",
       "    </tr>\n",
       "  </tbody>\n",
       "</table>\n",
       "<p>2 rows × 201 columns</p>\n",
       "</div>"
      ],
      "text/plain": [
       "       0         1         2         3         4         5         6    \\\n",
       "8571   トヨタ  0.053538 -0.458620  2.269142  2.213828  1.045843 -0.385347   \n",
       "28411  トヨタ -0.306716 -1.427696  1.110670  1.346888 -0.350039 -0.451238   \n",
       "\n",
       "            7         8         9      ...          191       192      193  \\\n",
       "8571   1.634038  2.483560 -1.511059    ...    -0.565592 -1.320724  1.17779   \n",
       "28411  1.047367  1.017068 -1.072866    ...    -0.431226 -0.514442  1.05925   \n",
       "\n",
       "            194       195       196       197       198       199       200  \n",
       "8571  -0.255538  1.393715 -0.182194  0.562751 -0.150641  0.373629  0.638203  \n",
       "28411 -0.159481  0.126721 -0.407040 -0.150029  0.352745  0.327678 -0.481530  \n",
       "\n",
       "[2 rows x 201 columns]"
      ]
     },
     "execution_count": 11,
     "metadata": {},
     "output_type": "execute_result"
    }
   ],
   "source": [
    "w.ix[w[0] == \"トヨタ\"]"
   ]
  },
  {
   "cell_type": "code",
   "execution_count": 12,
   "metadata": {
    "collapsed": true
   },
   "outputs": [],
   "source": [
    "w = w.groupby([0]).mean()"
   ]
  },
  {
   "cell_type": "code",
   "execution_count": 13,
   "metadata": {
    "scrolled": true
   },
   "outputs": [
    {
     "data": {
      "text/html": [
       "<div>\n",
       "<style scoped>\n",
       "    .dataframe tbody tr th:only-of-type {\n",
       "        vertical-align: middle;\n",
       "    }\n",
       "\n",
       "    .dataframe tbody tr th {\n",
       "        vertical-align: top;\n",
       "    }\n",
       "\n",
       "    .dataframe thead th {\n",
       "        text-align: right;\n",
       "    }\n",
       "</style>\n",
       "<table border=\"1\" class=\"dataframe\">\n",
       "  <thead>\n",
       "    <tr style=\"text-align: right;\">\n",
       "      <th></th>\n",
       "      <th>1</th>\n",
       "      <th>2</th>\n",
       "      <th>3</th>\n",
       "      <th>4</th>\n",
       "      <th>5</th>\n",
       "      <th>6</th>\n",
       "      <th>7</th>\n",
       "      <th>8</th>\n",
       "      <th>9</th>\n",
       "      <th>10</th>\n",
       "      <th>...</th>\n",
       "      <th>191</th>\n",
       "      <th>192</th>\n",
       "      <th>193</th>\n",
       "      <th>194</th>\n",
       "      <th>195</th>\n",
       "      <th>196</th>\n",
       "      <th>197</th>\n",
       "      <th>198</th>\n",
       "      <th>199</th>\n",
       "      <th>200</th>\n",
       "    </tr>\n",
       "    <tr>\n",
       "      <th>0</th>\n",
       "      <th></th>\n",
       "      <th></th>\n",
       "      <th></th>\n",
       "      <th></th>\n",
       "      <th></th>\n",
       "      <th></th>\n",
       "      <th></th>\n",
       "      <th></th>\n",
       "      <th></th>\n",
       "      <th></th>\n",
       "      <th></th>\n",
       "      <th></th>\n",
       "      <th></th>\n",
       "      <th></th>\n",
       "      <th></th>\n",
       "      <th></th>\n",
       "      <th></th>\n",
       "      <th></th>\n",
       "      <th></th>\n",
       "      <th></th>\n",
       "      <th></th>\n",
       "    </tr>\n",
       "  </thead>\n",
       "  <tbody>\n",
       "    <tr>\n",
       "      <th>%</th>\n",
       "      <td>-0.549040</td>\n",
       "      <td>1.596468</td>\n",
       "      <td>0.238416</td>\n",
       "      <td>0.001363</td>\n",
       "      <td>-0.142438</td>\n",
       "      <td>-0.191435</td>\n",
       "      <td>0.030494</td>\n",
       "      <td>0.528204</td>\n",
       "      <td>-0.213250</td>\n",
       "      <td>-0.204060</td>\n",
       "      <td>...</td>\n",
       "      <td>-0.795360</td>\n",
       "      <td>0.344991</td>\n",
       "      <td>-0.386084</td>\n",
       "      <td>1.248316</td>\n",
       "      <td>-0.788896</td>\n",
       "      <td>-0.637377</td>\n",
       "      <td>-2.325006</td>\n",
       "      <td>-0.462570</td>\n",
       "      <td>-0.094412</td>\n",
       "      <td>0.217285</td>\n",
       "    </tr>\n",
       "    <tr>\n",
       "      <th>((</th>\n",
       "      <td>-1.545232</td>\n",
       "      <td>0.765162</td>\n",
       "      <td>1.382379</td>\n",
       "      <td>0.638051</td>\n",
       "      <td>-0.518116</td>\n",
       "      <td>-1.432012</td>\n",
       "      <td>-0.136455</td>\n",
       "      <td>1.345916</td>\n",
       "      <td>-0.561603</td>\n",
       "      <td>0.218456</td>\n",
       "      <td>...</td>\n",
       "      <td>1.970857</td>\n",
       "      <td>-1.016529</td>\n",
       "      <td>0.168405</td>\n",
       "      <td>-1.308969</td>\n",
       "      <td>-0.879456</td>\n",
       "      <td>-1.285879</td>\n",
       "      <td>-0.701499</td>\n",
       "      <td>-1.625317</td>\n",
       "      <td>0.777812</td>\n",
       "      <td>-0.514972</td>\n",
       "    </tr>\n",
       "    <tr>\n",
       "      <th>()</th>\n",
       "      <td>0.246733</td>\n",
       "      <td>0.503330</td>\n",
       "      <td>0.664697</td>\n",
       "      <td>-0.229053</td>\n",
       "      <td>0.120119</td>\n",
       "      <td>-1.470995</td>\n",
       "      <td>-0.176881</td>\n",
       "      <td>2.603051</td>\n",
       "      <td>-1.151863</td>\n",
       "      <td>0.017401</td>\n",
       "      <td>...</td>\n",
       "      <td>0.225183</td>\n",
       "      <td>-1.554308</td>\n",
       "      <td>-0.222451</td>\n",
       "      <td>0.913195</td>\n",
       "      <td>-0.311706</td>\n",
       "      <td>1.817891</td>\n",
       "      <td>-1.502593</td>\n",
       "      <td>1.459932</td>\n",
       "      <td>-1.276487</td>\n",
       "      <td>-1.313961</td>\n",
       "    </tr>\n",
       "    <tr>\n",
       "      <th>(;)</th>\n",
       "      <td>-0.112726</td>\n",
       "      <td>0.068179</td>\n",
       "      <td>0.090609</td>\n",
       "      <td>-0.003347</td>\n",
       "      <td>0.004794</td>\n",
       "      <td>0.007828</td>\n",
       "      <td>-0.137118</td>\n",
       "      <td>0.011520</td>\n",
       "      <td>-0.025337</td>\n",
       "      <td>0.040023</td>\n",
       "      <td>...</td>\n",
       "      <td>0.046870</td>\n",
       "      <td>-0.064753</td>\n",
       "      <td>0.051109</td>\n",
       "      <td>-0.021175</td>\n",
       "      <td>-0.045148</td>\n",
       "      <td>0.035360</td>\n",
       "      <td>-0.043468</td>\n",
       "      <td>-0.088414</td>\n",
       "      <td>-0.102241</td>\n",
       "      <td>-0.026822</td>\n",
       "    </tr>\n",
       "    <tr>\n",
       "      <th>(^_^)</th>\n",
       "      <td>-0.021000</td>\n",
       "      <td>0.045577</td>\n",
       "      <td>0.050728</td>\n",
       "      <td>0.001926</td>\n",
       "      <td>-0.012316</td>\n",
       "      <td>0.022077</td>\n",
       "      <td>-0.051286</td>\n",
       "      <td>0.001320</td>\n",
       "      <td>-0.036536</td>\n",
       "      <td>-0.040432</td>\n",
       "      <td>...</td>\n",
       "      <td>0.018945</td>\n",
       "      <td>-0.050968</td>\n",
       "      <td>-0.073365</td>\n",
       "      <td>0.054868</td>\n",
       "      <td>-0.046374</td>\n",
       "      <td>0.022102</td>\n",
       "      <td>-0.011911</td>\n",
       "      <td>-0.073225</td>\n",
       "      <td>-0.061821</td>\n",
       "      <td>0.005072</td>\n",
       "    </tr>\n",
       "  </tbody>\n",
       "</table>\n",
       "<p>5 rows × 200 columns</p>\n",
       "</div>"
      ],
      "text/plain": [
       "            1         2         3         4         5         6         7    \\\n",
       "0                                                                             \n",
       "%     -0.549040  1.596468  0.238416  0.001363 -0.142438 -0.191435  0.030494   \n",
       "((    -1.545232  0.765162  1.382379  0.638051 -0.518116 -1.432012 -0.136455   \n",
       "()     0.246733  0.503330  0.664697 -0.229053  0.120119 -1.470995 -0.176881   \n",
       "(;)   -0.112726  0.068179  0.090609 -0.003347  0.004794  0.007828 -0.137118   \n",
       "(^_^) -0.021000  0.045577  0.050728  0.001926 -0.012316  0.022077 -0.051286   \n",
       "\n",
       "            8         9         10     ...          191       192       193  \\\n",
       "0                                      ...                                    \n",
       "%      0.528204 -0.213250 -0.204060    ...    -0.795360  0.344991 -0.386084   \n",
       "((     1.345916 -0.561603  0.218456    ...     1.970857 -1.016529  0.168405   \n",
       "()     2.603051 -1.151863  0.017401    ...     0.225183 -1.554308 -0.222451   \n",
       "(;)    0.011520 -0.025337  0.040023    ...     0.046870 -0.064753  0.051109   \n",
       "(^_^)  0.001320 -0.036536 -0.040432    ...     0.018945 -0.050968 -0.073365   \n",
       "\n",
       "            194       195       196       197       198       199       200  \n",
       "0                                                                            \n",
       "%      1.248316 -0.788896 -0.637377 -2.325006 -0.462570 -0.094412  0.217285  \n",
       "((    -1.308969 -0.879456 -1.285879 -0.701499 -1.625317  0.777812 -0.514972  \n",
       "()     0.913195 -0.311706  1.817891 -1.502593  1.459932 -1.276487 -1.313961  \n",
       "(;)   -0.021175 -0.045148  0.035360 -0.043468 -0.088414 -0.102241 -0.026822  \n",
       "(^_^)  0.054868 -0.046374  0.022102 -0.011911 -0.073225 -0.061821  0.005072  \n",
       "\n",
       "[5 rows x 200 columns]"
      ]
     },
     "execution_count": 13,
     "metadata": {},
     "output_type": "execute_result"
    }
   ],
   "source": [
    "w.head()"
   ]
  },
  {
   "cell_type": "code",
   "execution_count": 14,
   "metadata": {},
   "outputs": [
    {
     "data": {
      "text/plain": [
       "(177821, 200)"
      ]
     },
     "execution_count": 14,
     "metadata": {},
     "output_type": "execute_result"
    }
   ],
   "source": [
    "w.shape"
   ]
  },
  {
   "cell_type": "code",
   "execution_count": 15,
   "metadata": {
    "collapsed": true
   },
   "outputs": [],
   "source": [
    "w.to_pickle('./w2v200.pd')"
   ]
  },
  {
   "cell_type": "code",
   "execution_count": 16,
   "metadata": {
    "collapsed": true
   },
   "outputs": [],
   "source": [
    "w = w2v[0]"
   ]
  },
  {
   "cell_type": "code",
   "execution_count": 17,
   "metadata": {},
   "outputs": [
    {
     "data": {
      "text/html": [
       "<div>\n",
       "<style scoped>\n",
       "    .dataframe tbody tr th:only-of-type {\n",
       "        vertical-align: middle;\n",
       "    }\n",
       "\n",
       "    .dataframe tbody tr th {\n",
       "        vertical-align: top;\n",
       "    }\n",
       "\n",
       "    .dataframe thead th {\n",
       "        text-align: right;\n",
       "    }\n",
       "</style>\n",
       "<table border=\"1\" class=\"dataframe\">\n",
       "  <thead>\n",
       "    <tr style=\"text-align: right;\">\n",
       "      <th></th>\n",
       "      <th>0</th>\n",
       "      <th>1</th>\n",
       "      <th>2</th>\n",
       "      <th>3</th>\n",
       "      <th>4</th>\n",
       "      <th>5</th>\n",
       "      <th>6</th>\n",
       "      <th>7</th>\n",
       "      <th>8</th>\n",
       "      <th>9</th>\n",
       "      <th>...</th>\n",
       "      <th>41</th>\n",
       "      <th>42</th>\n",
       "      <th>43</th>\n",
       "      <th>44</th>\n",
       "      <th>45</th>\n",
       "      <th>46</th>\n",
       "      <th>47</th>\n",
       "      <th>48</th>\n",
       "      <th>49</th>\n",
       "      <th>50</th>\n",
       "    </tr>\n",
       "  </thead>\n",
       "  <tbody>\n",
       "    <tr>\n",
       "      <th>0</th>\n",
       "      <td>GO</td>\n",
       "      <td>0.017380</td>\n",
       "      <td>-0.320580</td>\n",
       "      <td>-0.233787</td>\n",
       "      <td>-0.241856</td>\n",
       "      <td>0.140260</td>\n",
       "      <td>0.061071</td>\n",
       "      <td>0.097929</td>\n",
       "      <td>-0.237189</td>\n",
       "      <td>0.209079</td>\n",
       "      <td>...</td>\n",
       "      <td>0.206805</td>\n",
       "      <td>0.097653</td>\n",
       "      <td>0.084598</td>\n",
       "      <td>0.055724</td>\n",
       "      <td>-0.159079</td>\n",
       "      <td>0.113399</td>\n",
       "      <td>-0.005980</td>\n",
       "      <td>0.135504</td>\n",
       "      <td>0.073637</td>\n",
       "      <td>-0.140329</td>\n",
       "    </tr>\n",
       "    <tr>\n",
       "      <th>1</th>\n",
       "      <td>ガリバー</td>\n",
       "      <td>0.091114</td>\n",
       "      <td>-0.294387</td>\n",
       "      <td>0.021036</td>\n",
       "      <td>-0.036468</td>\n",
       "      <td>0.101153</td>\n",
       "      <td>0.058209</td>\n",
       "      <td>0.147456</td>\n",
       "      <td>0.059062</td>\n",
       "      <td>0.146042</td>\n",
       "      <td>...</td>\n",
       "      <td>0.239939</td>\n",
       "      <td>-0.006300</td>\n",
       "      <td>0.099647</td>\n",
       "      <td>0.036027</td>\n",
       "      <td>-0.008679</td>\n",
       "      <td>0.039122</td>\n",
       "      <td>-0.049217</td>\n",
       "      <td>0.203507</td>\n",
       "      <td>0.180088</td>\n",
       "      <td>-0.169165</td>\n",
       "    </tr>\n",
       "    <tr>\n",
       "      <th>2</th>\n",
       "      <td>くん</td>\n",
       "      <td>0.060573</td>\n",
       "      <td>-0.231098</td>\n",
       "      <td>0.012265</td>\n",
       "      <td>-0.118655</td>\n",
       "      <td>-0.045415</td>\n",
       "      <td>-0.082472</td>\n",
       "      <td>0.005965</td>\n",
       "      <td>-0.031879</td>\n",
       "      <td>0.066911</td>\n",
       "      <td>...</td>\n",
       "      <td>0.133983</td>\n",
       "      <td>-0.022876</td>\n",
       "      <td>0.006493</td>\n",
       "      <td>0.064899</td>\n",
       "      <td>-0.067395</td>\n",
       "      <td>-0.020905</td>\n",
       "      <td>-0.154779</td>\n",
       "      <td>0.175292</td>\n",
       "      <td>0.191491</td>\n",
       "      <td>-0.281831</td>\n",
       "    </tr>\n",
       "    <tr>\n",
       "      <th>3</th>\n",
       "      <td>ゴーゴー</td>\n",
       "      <td>0.076387</td>\n",
       "      <td>-0.237495</td>\n",
       "      <td>-0.021150</td>\n",
       "      <td>-0.105880</td>\n",
       "      <td>0.030181</td>\n",
       "      <td>0.174667</td>\n",
       "      <td>0.054576</td>\n",
       "      <td>-0.078703</td>\n",
       "      <td>0.109202</td>\n",
       "      <td>...</td>\n",
       "      <td>0.157529</td>\n",
       "      <td>0.116068</td>\n",
       "      <td>0.040623</td>\n",
       "      <td>0.034536</td>\n",
       "      <td>-0.133727</td>\n",
       "      <td>0.097389</td>\n",
       "      <td>-0.087429</td>\n",
       "      <td>0.222188</td>\n",
       "      <td>0.100252</td>\n",
       "      <td>-0.260785</td>\n",
       "    </tr>\n",
       "    <tr>\n",
       "      <th>4</th>\n",
       "      <td>は</td>\n",
       "      <td>0.206208</td>\n",
       "      <td>0.238194</td>\n",
       "      <td>0.164277</td>\n",
       "      <td>-0.219658</td>\n",
       "      <td>0.163085</td>\n",
       "      <td>-0.229095</td>\n",
       "      <td>0.174790</td>\n",
       "      <td>0.049674</td>\n",
       "      <td>-0.146848</td>\n",
       "      <td>...</td>\n",
       "      <td>-0.105047</td>\n",
       "      <td>-0.001622</td>\n",
       "      <td>0.188861</td>\n",
       "      <td>-0.127376</td>\n",
       "      <td>0.117224</td>\n",
       "      <td>0.107232</td>\n",
       "      <td>0.254831</td>\n",
       "      <td>0.029983</td>\n",
       "      <td>0.024894</td>\n",
       "      <td>0.234945</td>\n",
       "    </tr>\n",
       "  </tbody>\n",
       "</table>\n",
       "<p>5 rows × 51 columns</p>\n",
       "</div>"
      ],
      "text/plain": [
       "     0         1         2         3         4         5         6         7   \\\n",
       "0    GO  0.017380 -0.320580 -0.233787 -0.241856  0.140260  0.061071  0.097929   \n",
       "1  ガリバー  0.091114 -0.294387  0.021036 -0.036468  0.101153  0.058209  0.147456   \n",
       "2    くん  0.060573 -0.231098  0.012265 -0.118655 -0.045415 -0.082472  0.005965   \n",
       "3  ゴーゴー  0.076387 -0.237495 -0.021150 -0.105880  0.030181  0.174667  0.054576   \n",
       "4     は  0.206208  0.238194  0.164277 -0.219658  0.163085 -0.229095  0.174790   \n",
       "\n",
       "         8         9     ...           41        42        43        44  \\\n",
       "0 -0.237189  0.209079    ...     0.206805  0.097653  0.084598  0.055724   \n",
       "1  0.059062  0.146042    ...     0.239939 -0.006300  0.099647  0.036027   \n",
       "2 -0.031879  0.066911    ...     0.133983 -0.022876  0.006493  0.064899   \n",
       "3 -0.078703  0.109202    ...     0.157529  0.116068  0.040623  0.034536   \n",
       "4  0.049674 -0.146848    ...    -0.105047 -0.001622  0.188861 -0.127376   \n",
       "\n",
       "         45        46        47        48        49        50  \n",
       "0 -0.159079  0.113399 -0.005980  0.135504  0.073637 -0.140329  \n",
       "1 -0.008679  0.039122 -0.049217  0.203507  0.180088 -0.169165  \n",
       "2 -0.067395 -0.020905 -0.154779  0.175292  0.191491 -0.281831  \n",
       "3 -0.133727  0.097389 -0.087429  0.222188  0.100252 -0.260785  \n",
       "4  0.117224  0.107232  0.254831  0.029983  0.024894  0.234945  \n",
       "\n",
       "[5 rows x 51 columns]"
      ]
     },
     "execution_count": 17,
     "metadata": {},
     "output_type": "execute_result"
    }
   ],
   "source": [
    "w.head()"
   ]
  },
  {
   "cell_type": "code",
   "execution_count": 18,
   "metadata": {
    "collapsed": true
   },
   "outputs": [],
   "source": [
    "w = w.groupby([0]).mean()"
   ]
  },
  {
   "cell_type": "code",
   "execution_count": 19,
   "metadata": {
    "scrolled": true
   },
   "outputs": [
    {
     "data": {
      "text/plain": [
       "(124837, 50)"
      ]
     },
     "execution_count": 19,
     "metadata": {},
     "output_type": "execute_result"
    }
   ],
   "source": [
    "w.shape"
   ]
  },
  {
   "cell_type": "code",
   "execution_count": 20,
   "metadata": {},
   "outputs": [
    {
     "data": {
      "text/html": [
       "<div>\n",
       "<style scoped>\n",
       "    .dataframe tbody tr th:only-of-type {\n",
       "        vertical-align: middle;\n",
       "    }\n",
       "\n",
       "    .dataframe tbody tr th {\n",
       "        vertical-align: top;\n",
       "    }\n",
       "\n",
       "    .dataframe thead th {\n",
       "        text-align: right;\n",
       "    }\n",
       "</style>\n",
       "<table border=\"1\" class=\"dataframe\">\n",
       "  <thead>\n",
       "    <tr style=\"text-align: right;\">\n",
       "      <th></th>\n",
       "      <th>1</th>\n",
       "      <th>2</th>\n",
       "      <th>3</th>\n",
       "      <th>4</th>\n",
       "      <th>5</th>\n",
       "      <th>6</th>\n",
       "      <th>7</th>\n",
       "      <th>8</th>\n",
       "      <th>9</th>\n",
       "      <th>10</th>\n",
       "      <th>...</th>\n",
       "      <th>41</th>\n",
       "      <th>42</th>\n",
       "      <th>43</th>\n",
       "      <th>44</th>\n",
       "      <th>45</th>\n",
       "      <th>46</th>\n",
       "      <th>47</th>\n",
       "      <th>48</th>\n",
       "      <th>49</th>\n",
       "      <th>50</th>\n",
       "    </tr>\n",
       "    <tr>\n",
       "      <th>0</th>\n",
       "      <th></th>\n",
       "      <th></th>\n",
       "      <th></th>\n",
       "      <th></th>\n",
       "      <th></th>\n",
       "      <th></th>\n",
       "      <th></th>\n",
       "      <th></th>\n",
       "      <th></th>\n",
       "      <th></th>\n",
       "      <th></th>\n",
       "      <th></th>\n",
       "      <th></th>\n",
       "      <th></th>\n",
       "      <th></th>\n",
       "      <th></th>\n",
       "      <th></th>\n",
       "      <th></th>\n",
       "      <th></th>\n",
       "      <th></th>\n",
       "      <th></th>\n",
       "    </tr>\n",
       "  </thead>\n",
       "  <tbody>\n",
       "    <tr>\n",
       "      <th>%</th>\n",
       "      <td>-0.113895</td>\n",
       "      <td>-0.091425</td>\n",
       "      <td>-0.370241</td>\n",
       "      <td>-0.086551</td>\n",
       "      <td>0.207204</td>\n",
       "      <td>0.136094</td>\n",
       "      <td>0.103111</td>\n",
       "      <td>0.117269</td>\n",
       "      <td>-0.056832</td>\n",
       "      <td>-0.152773</td>\n",
       "      <td>...</td>\n",
       "      <td>-0.190907</td>\n",
       "      <td>0.152524</td>\n",
       "      <td>-0.272115</td>\n",
       "      <td>-0.087875</td>\n",
       "      <td>0.087905</td>\n",
       "      <td>0.130348</td>\n",
       "      <td>-0.108683</td>\n",
       "      <td>-0.025001</td>\n",
       "      <td>-0.203008</td>\n",
       "      <td>-0.159233</td>\n",
       "    </tr>\n",
       "    <tr>\n",
       "      <th>((</th>\n",
       "      <td>-0.279528</td>\n",
       "      <td>-0.051735</td>\n",
       "      <td>-0.128621</td>\n",
       "      <td>0.016157</td>\n",
       "      <td>-0.131595</td>\n",
       "      <td>-0.137277</td>\n",
       "      <td>0.216305</td>\n",
       "      <td>-0.055012</td>\n",
       "      <td>0.050739</td>\n",
       "      <td>0.043952</td>\n",
       "      <td>...</td>\n",
       "      <td>-0.124552</td>\n",
       "      <td>0.348924</td>\n",
       "      <td>0.113755</td>\n",
       "      <td>0.039081</td>\n",
       "      <td>0.031400</td>\n",
       "      <td>-0.103040</td>\n",
       "      <td>-0.213814</td>\n",
       "      <td>0.135074</td>\n",
       "      <td>-0.146652</td>\n",
       "      <td>0.173620</td>\n",
       "    </tr>\n",
       "    <tr>\n",
       "      <th>()</th>\n",
       "      <td>-0.073833</td>\n",
       "      <td>0.194739</td>\n",
       "      <td>-0.028522</td>\n",
       "      <td>0.025788</td>\n",
       "      <td>-0.016889</td>\n",
       "      <td>0.126192</td>\n",
       "      <td>0.050237</td>\n",
       "      <td>-0.070981</td>\n",
       "      <td>0.108441</td>\n",
       "      <td>0.022274</td>\n",
       "      <td>...</td>\n",
       "      <td>0.243351</td>\n",
       "      <td>-0.067128</td>\n",
       "      <td>0.316693</td>\n",
       "      <td>-0.083357</td>\n",
       "      <td>0.158637</td>\n",
       "      <td>0.048287</td>\n",
       "      <td>-0.012257</td>\n",
       "      <td>-0.093431</td>\n",
       "      <td>-0.043053</td>\n",
       "      <td>0.097612</td>\n",
       "    </tr>\n",
       "    <tr>\n",
       "      <th>007</th>\n",
       "      <td>-0.087771</td>\n",
       "      <td>-0.031139</td>\n",
       "      <td>-0.199600</td>\n",
       "      <td>-0.021349</td>\n",
       "      <td>-0.049920</td>\n",
       "      <td>0.012160</td>\n",
       "      <td>0.294963</td>\n",
       "      <td>-0.028720</td>\n",
       "      <td>0.103570</td>\n",
       "      <td>0.120526</td>\n",
       "      <td>...</td>\n",
       "      <td>0.228207</td>\n",
       "      <td>-0.071338</td>\n",
       "      <td>0.122428</td>\n",
       "      <td>-0.068095</td>\n",
       "      <td>0.005586</td>\n",
       "      <td>-0.126803</td>\n",
       "      <td>0.015559</td>\n",
       "      <td>0.086991</td>\n",
       "      <td>-0.066008</td>\n",
       "      <td>-0.036388</td>\n",
       "    </tr>\n",
       "    <tr>\n",
       "      <th>&gt;&lt;</th>\n",
       "      <td>-0.009978</td>\n",
       "      <td>-0.208440</td>\n",
       "      <td>0.211985</td>\n",
       "      <td>0.058901</td>\n",
       "      <td>-0.271243</td>\n",
       "      <td>-0.244008</td>\n",
       "      <td>-0.151502</td>\n",
       "      <td>0.090421</td>\n",
       "      <td>-0.007092</td>\n",
       "      <td>0.120083</td>\n",
       "      <td>...</td>\n",
       "      <td>-0.083811</td>\n",
       "      <td>0.139420</td>\n",
       "      <td>-0.095053</td>\n",
       "      <td>-0.021689</td>\n",
       "      <td>0.060579</td>\n",
       "      <td>-0.005183</td>\n",
       "      <td>-0.099164</td>\n",
       "      <td>0.088626</td>\n",
       "      <td>0.034882</td>\n",
       "      <td>-0.107283</td>\n",
       "    </tr>\n",
       "  </tbody>\n",
       "</table>\n",
       "<p>5 rows × 50 columns</p>\n",
       "</div>"
      ],
      "text/plain": [
       "           1         2         3         4         5         6         7   \\\n",
       "0                                                                           \n",
       "%   -0.113895 -0.091425 -0.370241 -0.086551  0.207204  0.136094  0.103111   \n",
       "((  -0.279528 -0.051735 -0.128621  0.016157 -0.131595 -0.137277  0.216305   \n",
       "()  -0.073833  0.194739 -0.028522  0.025788 -0.016889  0.126192  0.050237   \n",
       "007 -0.087771 -0.031139 -0.199600 -0.021349 -0.049920  0.012160  0.294963   \n",
       "><  -0.009978 -0.208440  0.211985  0.058901 -0.271243 -0.244008 -0.151502   \n",
       "\n",
       "           8         9         10    ...           41        42        43  \\\n",
       "0                                    ...                                    \n",
       "%    0.117269 -0.056832 -0.152773    ...    -0.190907  0.152524 -0.272115   \n",
       "((  -0.055012  0.050739  0.043952    ...    -0.124552  0.348924  0.113755   \n",
       "()  -0.070981  0.108441  0.022274    ...     0.243351 -0.067128  0.316693   \n",
       "007 -0.028720  0.103570  0.120526    ...     0.228207 -0.071338  0.122428   \n",
       "><   0.090421 -0.007092  0.120083    ...    -0.083811  0.139420 -0.095053   \n",
       "\n",
       "           44        45        46        47        48        49        50  \n",
       "0                                                                          \n",
       "%   -0.087875  0.087905  0.130348 -0.108683 -0.025001 -0.203008 -0.159233  \n",
       "((   0.039081  0.031400 -0.103040 -0.213814  0.135074 -0.146652  0.173620  \n",
       "()  -0.083357  0.158637  0.048287 -0.012257 -0.093431 -0.043053  0.097612  \n",
       "007 -0.068095  0.005586 -0.126803  0.015559  0.086991 -0.066008 -0.036388  \n",
       "><  -0.021689  0.060579 -0.005183 -0.099164  0.088626  0.034882 -0.107283  \n",
       "\n",
       "[5 rows x 50 columns]"
      ]
     },
     "execution_count": 20,
     "metadata": {},
     "output_type": "execute_result"
    }
   ],
   "source": [
    "w.head()"
   ]
  },
  {
   "cell_type": "code",
   "execution_count": 21,
   "metadata": {
    "collapsed": true
   },
   "outputs": [],
   "source": [
    "w.to_pickle('./w2v50.pd')"
   ]
  },
  {
   "cell_type": "code",
   "execution_count": 22,
   "metadata": {
    "collapsed": true
   },
   "outputs": [],
   "source": [
    "w2v = []\n"
   ]
  },
  {
   "cell_type": "code",
   "execution_count": 23,
   "metadata": {
    "collapsed": true
   },
   "outputs": [],
   "source": [
    "w2v.append(pd.read_pickle('w2v50.pd'))\n",
    "w2v.append(pd.read_pickle('w2v200.pd'))"
   ]
  },
  {
   "cell_type": "markdown",
   "metadata": {},
   "source": [
    "### 非自立語の削除"
   ]
  },
  {
   "cell_type": "code",
   "execution_count": 24,
   "metadata": {
    "collapsed": true
   },
   "outputs": [],
   "source": [
    "for (i,w) in enumerate(w2v):\n",
    "    with open(str(i),\"w\") as fh:\n",
    "        for e in w.index:\n",
    "            fh.write(e+\"\\n\")"
   ]
  },
  {
   "cell_type": "code",
   "execution_count": 25,
   "metadata": {
    "collapsed": true
   },
   "outputs": [],
   "source": [
    "!mecab 0 > 0.mecab\n",
    "!mecab 1 > 1.mecab"
   ]
  },
  {
   "cell_type": "code",
   "execution_count": 26,
   "metadata": {},
   "outputs": [
    {
     "name": "stdout",
     "output_type": "stream",
     "text": [
      "%\t名詞,接尾,助数詞,*,*,*,%,パーセント,パーセント\r\n",
      "EOS\r\n",
      "((\t名詞,固有名詞,一般,*,*,*,((,カッコカッコ,カッコカッコ\r\n",
      "EOS\r\n",
      "()\t名詞,固有名詞,一般,*,*,*,(),カッコ,カッコ\r\n",
      "EOS\r\n",
      "007\t名詞,固有名詞,人名,一般,*,*,007,ゼロゼロセブン,ゼロゼロセブン\r\n",
      "EOS\r\n",
      "><\t名詞,固有名詞,一般,*,*,*,><,カオモジ,カオモジ\r\n",
      "EOS\r\n"
     ]
    }
   ],
   "source": [
    "!head 0.mecab"
   ]
  },
  {
   "cell_type": "code",
   "execution_count": 27,
   "metadata": {},
   "outputs": [
    {
     "name": "stdout",
     "output_type": "stream",
     "text": [
      "%\t名詞,接尾,助数詞,*,*,*,%,パーセント,パーセント\r\n",
      "EOS\r\n",
      "((\t名詞,固有名詞,一般,*,*,*,((,カッコカッコ,カッコカッコ\r\n",
      "EOS\r\n",
      "()\t名詞,固有名詞,一般,*,*,*,(),カッコ,カッコ\r\n",
      "EOS\r\n",
      "(;)\t記号,一般,*,*,*,*,(・・;),カオモジ,カオモジ\r\n",
      "EOS\r\n",
      "(^_^)\t記号,一般,*,*,*,*,(^_^),エガオ,エガオ\r\n",
      "EOS\r\n"
     ]
    }
   ],
   "source": [
    "!head 1.mecab"
   ]
  },
  {
   "cell_type": "code",
   "execution_count": 28,
   "metadata": {
    "collapsed": true
   },
   "outputs": [],
   "source": [
    " !cat 0.mecab |\\\n",
    "    grep -v \"EOS\" |\\\n",
    "    grep -v \"助詞\" |\\\n",
    "    grep -v \"助動詞\" |\\\n",
    "    grep -v \"記号\" |\\\n",
    "    grep -v \"フィラー\" |\\\n",
    "    grep -v \"感動詞\" |\\\n",
    "    grep -v \"接頭詞\" |\\\n",
    "    grep -v \"接続詞\" |\\\n",
    "    grep -v \"連体詞\" |\\\n",
    "    grep -v \"副詞\" |\\\n",
    "    grep -v \"代名詞\" |\\\n",
    "    grep -v \"非自立\" |\\\n",
    "    grep -v \"この\" \\\n",
    "    > 0.filted"
   ]
  },
  {
   "cell_type": "code",
   "execution_count": 29,
   "metadata": {
    "collapsed": true
   },
   "outputs": [],
   "source": [
    " !cat 1.mecab |\\\n",
    "    grep -v \"EOS\" |\\\n",
    "    grep -v \"助詞\" |\\\n",
    "    grep -v \"助動詞\" |\\\n",
    "    grep -v \"記号\" |\\\n",
    "    grep -v \"フィラー\" |\\\n",
    "    grep -v \"感動詞\" |\\\n",
    "    grep -v \"接頭詞\" |\\\n",
    "    grep -v \"接続詞\" |\\\n",
    "    grep -v \"連体詞\" |\\\n",
    "    grep -v \"副詞\" |\\\n",
    "    grep -v \"代名詞\" |\\\n",
    "    grep -v \"非自立\" |\\\n",
    "    grep -v \"この\" \\\n",
    "    > 1.filted"
   ]
  },
  {
   "cell_type": "code",
   "execution_count": 30,
   "metadata": {},
   "outputs": [
    {
     "name": "stdout",
     "output_type": "stream",
     "text": [
      "122514 0.filted\r\n"
     ]
    }
   ],
   "source": [
    "!wc -l 0.filted"
   ]
  },
  {
   "cell_type": "code",
   "execution_count": 31,
   "metadata": {},
   "outputs": [
    {
     "name": "stdout",
     "output_type": "stream",
     "text": [
      "176161 1.filted\r\n"
     ]
    }
   ],
   "source": [
    "!wc -l 1.filted"
   ]
  },
  {
   "cell_type": "code",
   "execution_count": 32,
   "metadata": {
    "collapsed": true
   },
   "outputs": [],
   "source": [
    "w2v_word = [[],[]]\n",
    "with open('0.filted') as fh:\n",
    "    w2v_word[0] = [e.split('\\t')[0] for e in fh]\n",
    "with open('1.filted') as fh:\n",
    "    w2v_word[1] = [e.split('\\t')[0] for e in fh]\n",
    "        "
   ]
  },
  {
   "cell_type": "code",
   "execution_count": 33,
   "metadata": {
    "scrolled": false
   },
   "outputs": [
    {
     "data": {
      "text/plain": [
       "(124837, 50)"
      ]
     },
     "metadata": {},
     "output_type": "display_data"
    },
    {
     "data": {
      "text/plain": [
       "(177821, 200)"
      ]
     },
     "metadata": {},
     "output_type": "display_data"
    }
   ],
   "source": [
    "for w in w2v: display(w.shape)"
   ]
  },
  {
   "cell_type": "code",
   "execution_count": 34,
   "metadata": {
    "collapsed": true
   },
   "outputs": [],
   "source": [
    "w2v[0] = w2v[0][w2v[0].index.isin(w2v_word[0])]"
   ]
  },
  {
   "cell_type": "code",
   "execution_count": 35,
   "metadata": {
    "collapsed": true
   },
   "outputs": [],
   "source": [
    "w2v[1] = w2v[1][w2v[1].index.isin(w2v_word[1])]"
   ]
  },
  {
   "cell_type": "code",
   "execution_count": 36,
   "metadata": {
    "scrolled": false
   },
   "outputs": [
    {
     "data": {
      "text/plain": [
       "(120804, 50)"
      ]
     },
     "metadata": {},
     "output_type": "display_data"
    },
    {
     "data": {
      "text/plain": [
       "(170374, 200)"
      ]
     },
     "metadata": {},
     "output_type": "display_data"
    }
   ],
   "source": [
    "for w in w2v: display(w.shape)"
   ]
  },
  {
   "cell_type": "code",
   "execution_count": 37,
   "metadata": {
    "collapsed": true
   },
   "outputs": [],
   "source": [
    "w2v[0].to_pickle('./w2v50.pd')\n",
    "w2v[1].to_pickle('./w2v200.pd')"
   ]
  },
  {
   "cell_type": "code",
   "execution_count": null,
   "metadata": {
    "collapsed": true
   },
   "outputs": [],
   "source": []
  }
 ],
 "metadata": {
  "kernelspec": {
   "display_name": "Python 3",
   "language": "python",
   "name": "python3"
  },
  "language_info": {
   "codemirror_mode": {
    "name": "ipython",
    "version": 3
   },
   "file_extension": ".py",
   "mimetype": "text/x-python",
   "name": "python",
   "nbconvert_exporter": "python",
   "pygments_lexer": "ipython3",
   "version": "3.6.3"
  }
 },
 "nbformat": 4,
 "nbformat_minor": 2
}
