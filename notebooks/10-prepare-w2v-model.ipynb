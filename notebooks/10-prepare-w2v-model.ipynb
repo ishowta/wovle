{
 "cells": [
  {
   "cell_type": "code",
   "execution_count": 11,
   "metadata": {},
   "outputs": [],
   "source": [
    "from tqdm import tqdm as monitor\n",
    "import pandas as pd\n",
    "import numpy as np\n",
    "from matplotlib import pyplot as plt"
   ]
  },
  {
   "cell_type": "code",
   "execution_count": 7,
   "metadata": {},
   "outputs": [
    {
     "name": "stdout",
     "output_type": "stream",
     "text": [
      "[Errno 2] No such file or directory: '../data/external/'\n",
      "/home/hina/project/wovle/data/external\n"
     ]
    }
   ],
   "source": [
    "cd ../data/external/"
   ]
  },
  {
   "cell_type": "markdown",
   "metadata": {},
   "source": [
    "## 作るもの\n",
    "\n",
    "- w2v50のpd\n",
    "- w2v200のpd(辞書に存在する単語のみ)\n",
    "- 辞書に存在するかのflag(w2v50)\n",
    "- 非自立語かどうかのflag"
   ]
  },
  {
   "cell_type": "code",
   "execution_count": 8,
   "metadata": {},
   "outputs": [],
   "source": [
    "cp ../../lib/dictation-kit/model/lang_m/bccwj.60k.pdp.htkdic ./standard.htkdic"
   ]
  },
  {
   "cell_type": "code",
   "execution_count": 9,
   "metadata": {},
   "outputs": [
    {
     "name": "stdout",
     "output_type": "stream",
     "text": [
      "<s>\t[]\tsp_S\r\n",
      "</s>\t[。]\tsp_S\r\n",
      "、+補助記号\t[、]\tsp_S\r\n",
      "×+名詞\t[×]\tb_B a_I ts_I u_E\r\n",
      "Δ+記号\t[Δ]\td_B e_I r_I u_I t_I a_E\r\n",
      "Θ+記号\t[Θ]\tsh_B i:_I t_I a_E\r\n",
      "Σ+記号\t[Σ]\tsh_B i_I g_I u_I m_I a_E\r\n",
      "Φ+記号\t[Φ]\tf_B a_I i_E\r\n",
      "Ψ+記号\t[Ψ]\tp_B u_I s_I a_I i_E\r\n",
      "Ω+名詞\t[Ω]\to:_B m_I u_E\r\n"
     ]
    }
   ],
   "source": [
    "!head ./standard.htkdic"
   ]
  },
  {
   "cell_type": "markdown",
   "metadata": {},
   "source": [
    "### w2v200から辞書にある単語のみpdにする"
   ]
  },
  {
   "cell_type": "code",
   "execution_count": 12,
   "metadata": {},
   "outputs": [
    {
     "name": "stderr",
     "output_type": "stream",
     "text": [
      "64274it [00:00, 667169.95it/s]\n",
      "1015475it [00:15, 65258.05it/s]\n"
     ]
    }
   ],
   "source": [
    "words = set()\n",
    "\n",
    "with open('./standard.htkdic') as hh:\n",
    "    for line in monitor(hh):\n",
    "        words.add(line.split('\\t')[0].split('+')[0])\n",
    "\n",
    "with open('w2v200.tsv') as v200h:\n",
    "            with open('w2v200_fitToDic.tsv','w') as w200h:\n",
    "                for line in monitor(v200h):\n",
    "                    w = line.split(' ')[0].replace('[','').replace(']','') # 括弧は無いものとして比較\n",
    "                    if w in words:\n",
    "                        w200h.write(w+'\\t'+'\\t'.join(line.split(' ')[1:]))"
   ]
  },
  {
   "cell_type": "code",
   "execution_count": 13,
   "metadata": {},
   "outputs": [],
   "source": [
    "w2v200 = pd.read_csv(\"w2v200_fitToDic.tsv\",sep=\"\\t\",header=None)"
   ]
  },
  {
   "cell_type": "code",
   "execution_count": 14,
   "metadata": {},
   "outputs": [
    {
     "data": {
      "text/html": [
       "<div>\n",
       "<style scoped>\n",
       "    .dataframe tbody tr th:only-of-type {\n",
       "        vertical-align: middle;\n",
       "    }\n",
       "\n",
       "    .dataframe tbody tr th {\n",
       "        vertical-align: top;\n",
       "    }\n",
       "\n",
       "    .dataframe thead th {\n",
       "        text-align: right;\n",
       "    }\n",
       "</style>\n",
       "<table border=\"1\" class=\"dataframe\">\n",
       "  <thead>\n",
       "    <tr style=\"text-align: right;\">\n",
       "      <th></th>\n",
       "      <th>0</th>\n",
       "      <th>1</th>\n",
       "      <th>2</th>\n",
       "      <th>3</th>\n",
       "      <th>4</th>\n",
       "      <th>5</th>\n",
       "      <th>6</th>\n",
       "      <th>7</th>\n",
       "      <th>8</th>\n",
       "      <th>9</th>\n",
       "      <th>...</th>\n",
       "      <th>191</th>\n",
       "      <th>192</th>\n",
       "      <th>193</th>\n",
       "      <th>194</th>\n",
       "      <th>195</th>\n",
       "      <th>196</th>\n",
       "      <th>197</th>\n",
       "      <th>198</th>\n",
       "      <th>199</th>\n",
       "      <th>200</th>\n",
       "    </tr>\n",
       "  </thead>\n",
       "  <tbody>\n",
       "    <tr>\n",
       "      <th>0</th>\n",
       "      <td>の</td>\n",
       "      <td>-0.991739</td>\n",
       "      <td>0.433873</td>\n",
       "      <td>-1.634327</td>\n",
       "      <td>-2.637119</td>\n",
       "      <td>1.873410</td>\n",
       "      <td>-0.682320</td>\n",
       "      <td>1.400241</td>\n",
       "      <td>2.555166</td>\n",
       "      <td>-2.150506</td>\n",
       "      <td>...</td>\n",
       "      <td>-1.206327</td>\n",
       "      <td>0.912507</td>\n",
       "      <td>-0.449425</td>\n",
       "      <td>-0.685022</td>\n",
       "      <td>-0.067702</td>\n",
       "      <td>-0.439921</td>\n",
       "      <td>-1.823313</td>\n",
       "      <td>-0.582093</td>\n",
       "      <td>-0.289067</td>\n",
       "      <td>-0.953114</td>\n",
       "    </tr>\n",
       "    <tr>\n",
       "      <th>1</th>\n",
       "      <td>、</td>\n",
       "      <td>-0.591747</td>\n",
       "      <td>0.450768</td>\n",
       "      <td>-0.569417</td>\n",
       "      <td>-1.819948</td>\n",
       "      <td>1.233053</td>\n",
       "      <td>0.213025</td>\n",
       "      <td>-0.414598</td>\n",
       "      <td>2.491904</td>\n",
       "      <td>-1.045296</td>\n",
       "      <td>...</td>\n",
       "      <td>-0.353357</td>\n",
       "      <td>2.762045</td>\n",
       "      <td>-0.793060</td>\n",
       "      <td>0.389975</td>\n",
       "      <td>-0.246684</td>\n",
       "      <td>-0.429647</td>\n",
       "      <td>-1.811904</td>\n",
       "      <td>0.419297</td>\n",
       "      <td>0.727624</td>\n",
       "      <td>0.093154</td>\n",
       "    </tr>\n",
       "    <tr>\n",
       "      <th>2</th>\n",
       "      <td>に</td>\n",
       "      <td>1.570539</td>\n",
       "      <td>0.394597</td>\n",
       "      <td>-2.445322</td>\n",
       "      <td>-2.895358</td>\n",
       "      <td>1.702580</td>\n",
       "      <td>-0.229689</td>\n",
       "      <td>0.435482</td>\n",
       "      <td>3.548621</td>\n",
       "      <td>-1.619262</td>\n",
       "      <td>...</td>\n",
       "      <td>-1.892468</td>\n",
       "      <td>2.438161</td>\n",
       "      <td>1.506670</td>\n",
       "      <td>0.255847</td>\n",
       "      <td>0.053408</td>\n",
       "      <td>0.523584</td>\n",
       "      <td>-3.122064</td>\n",
       "      <td>1.711855</td>\n",
       "      <td>0.872639</td>\n",
       "      <td>0.795179</td>\n",
       "    </tr>\n",
       "    <tr>\n",
       "      <th>3</th>\n",
       "      <td>は</td>\n",
       "      <td>0.860323</td>\n",
       "      <td>0.364299</td>\n",
       "      <td>-1.338088</td>\n",
       "      <td>-2.240771</td>\n",
       "      <td>1.269506</td>\n",
       "      <td>-0.612977</td>\n",
       "      <td>1.435673</td>\n",
       "      <td>2.926266</td>\n",
       "      <td>-1.739187</td>\n",
       "      <td>...</td>\n",
       "      <td>-0.180263</td>\n",
       "      <td>-1.014951</td>\n",
       "      <td>-0.671905</td>\n",
       "      <td>-1.318019</td>\n",
       "      <td>-0.898422</td>\n",
       "      <td>0.150427</td>\n",
       "      <td>-2.064937</td>\n",
       "      <td>-0.404202</td>\n",
       "      <td>1.121011</td>\n",
       "      <td>-0.419019</td>\n",
       "    </tr>\n",
       "    <tr>\n",
       "      <th>4</th>\n",
       "      <td>を</td>\n",
       "      <td>-0.550911</td>\n",
       "      <td>1.442538</td>\n",
       "      <td>-1.497971</td>\n",
       "      <td>-3.820506</td>\n",
       "      <td>-0.579182</td>\n",
       "      <td>-0.765755</td>\n",
       "      <td>2.630032</td>\n",
       "      <td>4.540755</td>\n",
       "      <td>-2.706367</td>\n",
       "      <td>...</td>\n",
       "      <td>-2.688820</td>\n",
       "      <td>1.226014</td>\n",
       "      <td>-0.507675</td>\n",
       "      <td>-2.081454</td>\n",
       "      <td>-0.335236</td>\n",
       "      <td>-2.853372</td>\n",
       "      <td>-6.170630</td>\n",
       "      <td>2.206552</td>\n",
       "      <td>0.786326</td>\n",
       "      <td>2.023884</td>\n",
       "    </tr>\n",
       "  </tbody>\n",
       "</table>\n",
       "<p>5 rows × 201 columns</p>\n",
       "</div>"
      ],
      "text/plain": [
       "  0         1         2         3         4         5         6         7    \\\n",
       "0   の -0.991739  0.433873 -1.634327 -2.637119  1.873410 -0.682320  1.400241   \n",
       "1   、 -0.591747  0.450768 -0.569417 -1.819948  1.233053  0.213025 -0.414598   \n",
       "2   に  1.570539  0.394597 -2.445322 -2.895358  1.702580 -0.229689  0.435482   \n",
       "3   は  0.860323  0.364299 -1.338088 -2.240771  1.269506 -0.612977  1.435673   \n",
       "4   を -0.550911  1.442538 -1.497971 -3.820506 -0.579182 -0.765755  2.630032   \n",
       "\n",
       "        8         9      ...          191       192       193       194  \\\n",
       "0  2.555166 -2.150506    ...    -1.206327  0.912507 -0.449425 -0.685022   \n",
       "1  2.491904 -1.045296    ...    -0.353357  2.762045 -0.793060  0.389975   \n",
       "2  3.548621 -1.619262    ...    -1.892468  2.438161  1.506670  0.255847   \n",
       "3  2.926266 -1.739187    ...    -0.180263 -1.014951 -0.671905 -1.318019   \n",
       "4  4.540755 -2.706367    ...    -2.688820  1.226014 -0.507675 -2.081454   \n",
       "\n",
       "        195       196       197       198       199       200  \n",
       "0 -0.067702 -0.439921 -1.823313 -0.582093 -0.289067 -0.953114  \n",
       "1 -0.246684 -0.429647 -1.811904  0.419297  0.727624  0.093154  \n",
       "2  0.053408  0.523584 -3.122064  1.711855  0.872639  0.795179  \n",
       "3 -0.898422  0.150427 -2.064937 -0.404202  1.121011 -0.419019  \n",
       "4 -0.335236 -2.853372 -6.170630  2.206552  0.786326  2.023884  \n",
       "\n",
       "[5 rows x 201 columns]"
      ]
     },
     "execution_count": 14,
     "metadata": {},
     "output_type": "execute_result"
    }
   ],
   "source": [
    "w2v200.head()"
   ]
  },
  {
   "cell_type": "code",
   "execution_count": 15,
   "metadata": {},
   "outputs": [
    {
     "data": {
      "text/plain": [
       "(74211, 201)"
      ]
     },
     "execution_count": 15,
     "metadata": {},
     "output_type": "execute_result"
    }
   ],
   "source": [
    "w2v200.shape"
   ]
  },
  {
   "cell_type": "markdown",
   "metadata": {},
   "source": [
    "### w2v200の重複を削除"
   ]
  },
  {
   "cell_type": "code",
   "execution_count": 16,
   "metadata": {},
   "outputs": [],
   "source": [
    "w2v200 = w2v200.groupby([0]).mean()"
   ]
  },
  {
   "cell_type": "code",
   "execution_count": 17,
   "metadata": {},
   "outputs": [
    {
     "data": {
      "text/html": [
       "<div>\n",
       "<style scoped>\n",
       "    .dataframe tbody tr th:only-of-type {\n",
       "        vertical-align: middle;\n",
       "    }\n",
       "\n",
       "    .dataframe tbody tr th {\n",
       "        vertical-align: top;\n",
       "    }\n",
       "\n",
       "    .dataframe thead th {\n",
       "        text-align: right;\n",
       "    }\n",
       "</style>\n",
       "<table border=\"1\" class=\"dataframe\">\n",
       "  <thead>\n",
       "    <tr style=\"text-align: right;\">\n",
       "      <th></th>\n",
       "      <th>1</th>\n",
       "      <th>2</th>\n",
       "      <th>3</th>\n",
       "      <th>4</th>\n",
       "      <th>5</th>\n",
       "      <th>6</th>\n",
       "      <th>7</th>\n",
       "      <th>8</th>\n",
       "      <th>9</th>\n",
       "      <th>10</th>\n",
       "      <th>...</th>\n",
       "      <th>191</th>\n",
       "      <th>192</th>\n",
       "      <th>193</th>\n",
       "      <th>194</th>\n",
       "      <th>195</th>\n",
       "      <th>196</th>\n",
       "      <th>197</th>\n",
       "      <th>198</th>\n",
       "      <th>199</th>\n",
       "      <th>200</th>\n",
       "    </tr>\n",
       "    <tr>\n",
       "      <th>0</th>\n",
       "      <th></th>\n",
       "      <th></th>\n",
       "      <th></th>\n",
       "      <th></th>\n",
       "      <th></th>\n",
       "      <th></th>\n",
       "      <th></th>\n",
       "      <th></th>\n",
       "      <th></th>\n",
       "      <th></th>\n",
       "      <th></th>\n",
       "      <th></th>\n",
       "      <th></th>\n",
       "      <th></th>\n",
       "      <th></th>\n",
       "      <th></th>\n",
       "      <th></th>\n",
       "      <th></th>\n",
       "      <th></th>\n",
       "      <th></th>\n",
       "      <th></th>\n",
       "    </tr>\n",
       "  </thead>\n",
       "  <tbody>\n",
       "    <tr>\n",
       "      <th>×</th>\n",
       "      <td>-1.418694</td>\n",
       "      <td>0.345751</td>\n",
       "      <td>-0.162140</td>\n",
       "      <td>-0.047963</td>\n",
       "      <td>0.182164</td>\n",
       "      <td>0.381776</td>\n",
       "      <td>0.232795</td>\n",
       "      <td>0.315053</td>\n",
       "      <td>1.269035</td>\n",
       "      <td>-2.457858</td>\n",
       "      <td>...</td>\n",
       "      <td>-0.554922</td>\n",
       "      <td>0.265661</td>\n",
       "      <td>1.001930</td>\n",
       "      <td>-1.022693</td>\n",
       "      <td>-0.188698</td>\n",
       "      <td>-0.251833</td>\n",
       "      <td>-1.842119</td>\n",
       "      <td>-3.492436</td>\n",
       "      <td>0.384303</td>\n",
       "      <td>0.927722</td>\n",
       "    </tr>\n",
       "    <tr>\n",
       "      <th>Δ</th>\n",
       "      <td>-0.844599</td>\n",
       "      <td>0.500375</td>\n",
       "      <td>-0.433498</td>\n",
       "      <td>-0.863186</td>\n",
       "      <td>-0.685131</td>\n",
       "      <td>-0.208649</td>\n",
       "      <td>0.063803</td>\n",
       "      <td>1.021694</td>\n",
       "      <td>0.299519</td>\n",
       "      <td>-0.326941</td>\n",
       "      <td>...</td>\n",
       "      <td>0.101914</td>\n",
       "      <td>-0.068191</td>\n",
       "      <td>0.600853</td>\n",
       "      <td>-0.186434</td>\n",
       "      <td>-0.277834</td>\n",
       "      <td>-0.085344</td>\n",
       "      <td>-1.251228</td>\n",
       "      <td>-1.181830</td>\n",
       "      <td>-1.252247</td>\n",
       "      <td>-0.060531</td>\n",
       "    </tr>\n",
       "    <tr>\n",
       "      <th>Θ</th>\n",
       "      <td>-0.146901</td>\n",
       "      <td>-0.095641</td>\n",
       "      <td>-0.023297</td>\n",
       "      <td>-0.016684</td>\n",
       "      <td>-0.133185</td>\n",
       "      <td>0.047843</td>\n",
       "      <td>0.085798</td>\n",
       "      <td>0.360042</td>\n",
       "      <td>0.040978</td>\n",
       "      <td>-0.093064</td>\n",
       "      <td>...</td>\n",
       "      <td>0.115077</td>\n",
       "      <td>-0.086670</td>\n",
       "      <td>0.071753</td>\n",
       "      <td>-0.126756</td>\n",
       "      <td>-0.154439</td>\n",
       "      <td>0.117072</td>\n",
       "      <td>-0.070839</td>\n",
       "      <td>-0.238478</td>\n",
       "      <td>-0.136663</td>\n",
       "      <td>-0.044030</td>\n",
       "    </tr>\n",
       "    <tr>\n",
       "      <th>Σ</th>\n",
       "      <td>-0.716665</td>\n",
       "      <td>0.317638</td>\n",
       "      <td>-0.243156</td>\n",
       "      <td>0.223840</td>\n",
       "      <td>-0.414557</td>\n",
       "      <td>-0.229860</td>\n",
       "      <td>0.106075</td>\n",
       "      <td>1.233770</td>\n",
       "      <td>0.345052</td>\n",
       "      <td>-0.171819</td>\n",
       "      <td>...</td>\n",
       "      <td>0.015998</td>\n",
       "      <td>-0.482378</td>\n",
       "      <td>0.635308</td>\n",
       "      <td>-0.419857</td>\n",
       "      <td>-0.548821</td>\n",
       "      <td>0.233397</td>\n",
       "      <td>-0.229196</td>\n",
       "      <td>-0.844216</td>\n",
       "      <td>-0.278005</td>\n",
       "      <td>-0.043053</td>\n",
       "    </tr>\n",
       "    <tr>\n",
       "      <th>Φ</th>\n",
       "      <td>-0.667787</td>\n",
       "      <td>0.330872</td>\n",
       "      <td>-0.135130</td>\n",
       "      <td>-0.212402</td>\n",
       "      <td>-0.294963</td>\n",
       "      <td>0.128115</td>\n",
       "      <td>0.028918</td>\n",
       "      <td>0.954349</td>\n",
       "      <td>0.370762</td>\n",
       "      <td>-0.191407</td>\n",
       "      <td>...</td>\n",
       "      <td>-0.051202</td>\n",
       "      <td>-0.249389</td>\n",
       "      <td>0.528560</td>\n",
       "      <td>-0.180732</td>\n",
       "      <td>-0.252481</td>\n",
       "      <td>-0.188647</td>\n",
       "      <td>-0.722049</td>\n",
       "      <td>-0.798829</td>\n",
       "      <td>-0.506518</td>\n",
       "      <td>-0.105510</td>\n",
       "    </tr>\n",
       "  </tbody>\n",
       "</table>\n",
       "<p>5 rows × 200 columns</p>\n",
       "</div>"
      ],
      "text/plain": [
       "        1         2         3         4         5         6         7    \\\n",
       "0                                                                         \n",
       "× -1.418694  0.345751 -0.162140 -0.047963  0.182164  0.381776  0.232795   \n",
       "Δ -0.844599  0.500375 -0.433498 -0.863186 -0.685131 -0.208649  0.063803   \n",
       "Θ -0.146901 -0.095641 -0.023297 -0.016684 -0.133185  0.047843  0.085798   \n",
       "Σ -0.716665  0.317638 -0.243156  0.223840 -0.414557 -0.229860  0.106075   \n",
       "Φ -0.667787  0.330872 -0.135130 -0.212402 -0.294963  0.128115  0.028918   \n",
       "\n",
       "        8         9         10     ...          191       192       193  \\\n",
       "0                                  ...                                    \n",
       "×  0.315053  1.269035 -2.457858    ...    -0.554922  0.265661  1.001930   \n",
       "Δ  1.021694  0.299519 -0.326941    ...     0.101914 -0.068191  0.600853   \n",
       "Θ  0.360042  0.040978 -0.093064    ...     0.115077 -0.086670  0.071753   \n",
       "Σ  1.233770  0.345052 -0.171819    ...     0.015998 -0.482378  0.635308   \n",
       "Φ  0.954349  0.370762 -0.191407    ...    -0.051202 -0.249389  0.528560   \n",
       "\n",
       "        194       195       196       197       198       199       200  \n",
       "0                                                                        \n",
       "× -1.022693 -0.188698 -0.251833 -1.842119 -3.492436  0.384303  0.927722  \n",
       "Δ -0.186434 -0.277834 -0.085344 -1.251228 -1.181830 -1.252247 -0.060531  \n",
       "Θ -0.126756 -0.154439  0.117072 -0.070839 -0.238478 -0.136663 -0.044030  \n",
       "Σ -0.419857 -0.548821  0.233397 -0.229196 -0.844216 -0.278005 -0.043053  \n",
       "Φ -0.180732 -0.252481 -0.188647 -0.722049 -0.798829 -0.506518 -0.105510  \n",
       "\n",
       "[5 rows x 200 columns]"
      ]
     },
     "execution_count": 17,
     "metadata": {},
     "output_type": "execute_result"
    }
   ],
   "source": [
    "w2v200.head()"
   ]
  },
  {
   "cell_type": "code",
   "execution_count": 18,
   "metadata": {},
   "outputs": [
    {
     "data": {
      "text/plain": [
       "(51564, 200)"
      ]
     },
     "execution_count": 18,
     "metadata": {},
     "output_type": "execute_result"
    }
   ],
   "source": [
    "w2v200.shape"
   ]
  },
  {
   "cell_type": "code",
   "execution_count": 19,
   "metadata": {},
   "outputs": [],
   "source": [
    "w2v200.to_pickle('w2v200.pd')"
   ]
  },
  {
   "cell_type": "markdown",
   "metadata": {},
   "source": [
    "### w2v50をpdにする"
   ]
  },
  {
   "cell_type": "code",
   "execution_count": 21,
   "metadata": {},
   "outputs": [
    {
     "data": {
      "text/plain": [
       "335476"
      ]
     },
     "execution_count": 21,
     "metadata": {},
     "output_type": "execute_result"
    }
   ],
   "source": [
    "from gensim.models import word2vec\n",
    "model = word2vec.Word2Vec.load('w2v50/word2vec.gensim.model')\n",
    "len(model.wv.vocab)"
   ]
  },
  {
   "cell_type": "code",
   "execution_count": 22,
   "metadata": {},
   "outputs": [],
   "source": [
    "w2v50 = pd.DataFrame( [ model.wv[k] for (k,v) in model.wv.vocab.items()] )"
   ]
  },
  {
   "cell_type": "code",
   "execution_count": 23,
   "metadata": {},
   "outputs": [],
   "source": [
    "w2v50['単語'] = [ k for (k,v) in model.wv.vocab.items()]"
   ]
  },
  {
   "cell_type": "code",
   "execution_count": 24,
   "metadata": {},
   "outputs": [],
   "source": [
    "w2v50 = w2v50.groupby(['単語']).mean()"
   ]
  },
  {
   "cell_type": "code",
   "execution_count": 25,
   "metadata": {},
   "outputs": [
    {
     "data": {
      "text/html": [
       "<div>\n",
       "<style scoped>\n",
       "    .dataframe tbody tr th:only-of-type {\n",
       "        vertical-align: middle;\n",
       "    }\n",
       "\n",
       "    .dataframe tbody tr th {\n",
       "        vertical-align: top;\n",
       "    }\n",
       "\n",
       "    .dataframe thead th {\n",
       "        text-align: right;\n",
       "    }\n",
       "</style>\n",
       "<table border=\"1\" class=\"dataframe\">\n",
       "  <thead>\n",
       "    <tr style=\"text-align: right;\">\n",
       "      <th></th>\n",
       "      <th>0</th>\n",
       "      <th>1</th>\n",
       "      <th>2</th>\n",
       "      <th>3</th>\n",
       "      <th>4</th>\n",
       "      <th>5</th>\n",
       "      <th>6</th>\n",
       "      <th>7</th>\n",
       "      <th>8</th>\n",
       "      <th>9</th>\n",
       "      <th>...</th>\n",
       "      <th>40</th>\n",
       "      <th>41</th>\n",
       "      <th>42</th>\n",
       "      <th>43</th>\n",
       "      <th>44</th>\n",
       "      <th>45</th>\n",
       "      <th>46</th>\n",
       "      <th>47</th>\n",
       "      <th>48</th>\n",
       "      <th>49</th>\n",
       "    </tr>\n",
       "    <tr>\n",
       "      <th>単語</th>\n",
       "      <th></th>\n",
       "      <th></th>\n",
       "      <th></th>\n",
       "      <th></th>\n",
       "      <th></th>\n",
       "      <th></th>\n",
       "      <th></th>\n",
       "      <th></th>\n",
       "      <th></th>\n",
       "      <th></th>\n",
       "      <th></th>\n",
       "      <th></th>\n",
       "      <th></th>\n",
       "      <th></th>\n",
       "      <th></th>\n",
       "      <th></th>\n",
       "      <th></th>\n",
       "      <th></th>\n",
       "      <th></th>\n",
       "      <th></th>\n",
       "      <th></th>\n",
       "    </tr>\n",
       "  </thead>\n",
       "  <tbody>\n",
       "    <tr>\n",
       "      <th>!</th>\n",
       "      <td>0.085313</td>\n",
       "      <td>-0.315384</td>\n",
       "      <td>-0.092300</td>\n",
       "      <td>-0.248376</td>\n",
       "      <td>0.086111</td>\n",
       "      <td>-0.157666</td>\n",
       "      <td>0.077312</td>\n",
       "      <td>-0.099744</td>\n",
       "      <td>0.076536</td>\n",
       "      <td>0.044399</td>\n",
       "      <td>...</td>\n",
       "      <td>-0.003617</td>\n",
       "      <td>0.179366</td>\n",
       "      <td>-0.133331</td>\n",
       "      <td>-0.043328</td>\n",
       "      <td>-0.218630</td>\n",
       "      <td>-0.037869</td>\n",
       "      <td>-0.095679</td>\n",
       "      <td>0.178756</td>\n",
       "      <td>0.113131</td>\n",
       "      <td>-0.241404</td>\n",
       "    </tr>\n",
       "    <tr>\n",
       "      <th>!!</th>\n",
       "      <td>-0.045048</td>\n",
       "      <td>-0.321234</td>\n",
       "      <td>0.027998</td>\n",
       "      <td>-0.151201</td>\n",
       "      <td>-0.119650</td>\n",
       "      <td>-0.243689</td>\n",
       "      <td>0.130387</td>\n",
       "      <td>-0.105005</td>\n",
       "      <td>0.086659</td>\n",
       "      <td>-0.030688</td>\n",
       "      <td>...</td>\n",
       "      <td>-0.039122</td>\n",
       "      <td>0.120116</td>\n",
       "      <td>-0.168179</td>\n",
       "      <td>0.010304</td>\n",
       "      <td>-0.024246</td>\n",
       "      <td>0.152397</td>\n",
       "      <td>-0.149539</td>\n",
       "      <td>0.173640</td>\n",
       "      <td>-0.089761</td>\n",
       "      <td>-0.252014</td>\n",
       "    </tr>\n",
       "    <tr>\n",
       "      <th>!!!</th>\n",
       "      <td>0.102477</td>\n",
       "      <td>-0.294404</td>\n",
       "      <td>-0.208346</td>\n",
       "      <td>-0.237338</td>\n",
       "      <td>0.035036</td>\n",
       "      <td>0.093773</td>\n",
       "      <td>0.026998</td>\n",
       "      <td>-0.020967</td>\n",
       "      <td>0.037141</td>\n",
       "      <td>0.150921</td>\n",
       "      <td>...</td>\n",
       "      <td>0.065722</td>\n",
       "      <td>0.248113</td>\n",
       "      <td>0.011319</td>\n",
       "      <td>0.067921</td>\n",
       "      <td>0.000899</td>\n",
       "      <td>0.078431</td>\n",
       "      <td>0.000721</td>\n",
       "      <td>0.112374</td>\n",
       "      <td>0.119865</td>\n",
       "      <td>-0.243441</td>\n",
       "    </tr>\n",
       "    <tr>\n",
       "      <th>!!!!</th>\n",
       "      <td>0.019460</td>\n",
       "      <td>-0.155649</td>\n",
       "      <td>0.083683</td>\n",
       "      <td>-0.249125</td>\n",
       "      <td>-0.086154</td>\n",
       "      <td>-0.025289</td>\n",
       "      <td>0.085001</td>\n",
       "      <td>0.082792</td>\n",
       "      <td>0.120148</td>\n",
       "      <td>0.157015</td>\n",
       "      <td>...</td>\n",
       "      <td>0.129338</td>\n",
       "      <td>0.163535</td>\n",
       "      <td>-0.065325</td>\n",
       "      <td>-0.106615</td>\n",
       "      <td>-0.027921</td>\n",
       "      <td>0.080376</td>\n",
       "      <td>-0.013493</td>\n",
       "      <td>0.163960</td>\n",
       "      <td>0.072495</td>\n",
       "      <td>-0.177976</td>\n",
       "    </tr>\n",
       "    <tr>\n",
       "      <th>!!!!」</th>\n",
       "      <td>-0.092480</td>\n",
       "      <td>-0.260534</td>\n",
       "      <td>-0.225866</td>\n",
       "      <td>-0.235766</td>\n",
       "      <td>-0.030068</td>\n",
       "      <td>-0.045762</td>\n",
       "      <td>0.292589</td>\n",
       "      <td>0.101359</td>\n",
       "      <td>0.196797</td>\n",
       "      <td>0.164433</td>\n",
       "      <td>...</td>\n",
       "      <td>0.152863</td>\n",
       "      <td>0.121884</td>\n",
       "      <td>0.092940</td>\n",
       "      <td>-0.179500</td>\n",
       "      <td>0.095535</td>\n",
       "      <td>0.038534</td>\n",
       "      <td>0.075126</td>\n",
       "      <td>-0.011261</td>\n",
       "      <td>0.041554</td>\n",
       "      <td>-0.190874</td>\n",
       "    </tr>\n",
       "  </tbody>\n",
       "</table>\n",
       "<p>5 rows × 50 columns</p>\n",
       "</div>"
      ],
      "text/plain": [
       "             0         1         2         3         4         5         6   \\\n",
       "単語                                                                            \n",
       "!      0.085313 -0.315384 -0.092300 -0.248376  0.086111 -0.157666  0.077312   \n",
       "!!    -0.045048 -0.321234  0.027998 -0.151201 -0.119650 -0.243689  0.130387   \n",
       "!!!    0.102477 -0.294404 -0.208346 -0.237338  0.035036  0.093773  0.026998   \n",
       "!!!!   0.019460 -0.155649  0.083683 -0.249125 -0.086154 -0.025289  0.085001   \n",
       "!!!!」 -0.092480 -0.260534 -0.225866 -0.235766 -0.030068 -0.045762  0.292589   \n",
       "\n",
       "             7         8         9     ...           40        41        42  \\\n",
       "単語                                     ...                                    \n",
       "!     -0.099744  0.076536  0.044399    ...    -0.003617  0.179366 -0.133331   \n",
       "!!    -0.105005  0.086659 -0.030688    ...    -0.039122  0.120116 -0.168179   \n",
       "!!!   -0.020967  0.037141  0.150921    ...     0.065722  0.248113  0.011319   \n",
       "!!!!   0.082792  0.120148  0.157015    ...     0.129338  0.163535 -0.065325   \n",
       "!!!!」  0.101359  0.196797  0.164433    ...     0.152863  0.121884  0.092940   \n",
       "\n",
       "             43        44        45        46        47        48        49  \n",
       "単語                                                                           \n",
       "!     -0.043328 -0.218630 -0.037869 -0.095679  0.178756  0.113131 -0.241404  \n",
       "!!     0.010304 -0.024246  0.152397 -0.149539  0.173640 -0.089761 -0.252014  \n",
       "!!!    0.067921  0.000899  0.078431  0.000721  0.112374  0.119865 -0.243441  \n",
       "!!!!  -0.106615 -0.027921  0.080376 -0.013493  0.163960  0.072495 -0.177976  \n",
       "!!!!」 -0.179500  0.095535  0.038534  0.075126 -0.011261  0.041554 -0.190874  \n",
       "\n",
       "[5 rows x 50 columns]"
      ]
     },
     "execution_count": 25,
     "metadata": {},
     "output_type": "execute_result"
    }
   ],
   "source": [
    "w2v50.head()"
   ]
  },
  {
   "cell_type": "code",
   "execution_count": 26,
   "metadata": {},
   "outputs": [
    {
     "data": {
      "text/plain": [
       "(335476, 50)"
      ]
     },
     "execution_count": 26,
     "metadata": {},
     "output_type": "execute_result"
    }
   ],
   "source": [
    "w2v50.shape"
   ]
  },
  {
   "cell_type": "markdown",
   "metadata": {},
   "source": [
    "### w2v50に辞書にあるかのフラグをつける"
   ]
  },
  {
   "cell_type": "code",
   "execution_count": 27,
   "metadata": {},
   "outputs": [
    {
     "data": {
      "text/plain": [
       "49116"
      ]
     },
     "execution_count": 27,
     "metadata": {},
     "output_type": "execute_result"
    }
   ],
   "source": [
    "w2v50.index.isin(words).sum()"
   ]
  },
  {
   "cell_type": "code",
   "execution_count": 28,
   "metadata": {},
   "outputs": [],
   "source": [
    "w2v50['isInDic'] = w2v50.index.isin(words)"
   ]
  },
  {
   "cell_type": "code",
   "execution_count": 29,
   "metadata": {},
   "outputs": [
    {
     "data": {
      "text/html": [
       "<div>\n",
       "<style scoped>\n",
       "    .dataframe tbody tr th:only-of-type {\n",
       "        vertical-align: middle;\n",
       "    }\n",
       "\n",
       "    .dataframe tbody tr th {\n",
       "        vertical-align: top;\n",
       "    }\n",
       "\n",
       "    .dataframe thead th {\n",
       "        text-align: right;\n",
       "    }\n",
       "</style>\n",
       "<table border=\"1\" class=\"dataframe\">\n",
       "  <thead>\n",
       "    <tr style=\"text-align: right;\">\n",
       "      <th></th>\n",
       "      <th>0</th>\n",
       "      <th>1</th>\n",
       "      <th>2</th>\n",
       "      <th>3</th>\n",
       "      <th>4</th>\n",
       "      <th>5</th>\n",
       "      <th>6</th>\n",
       "      <th>7</th>\n",
       "      <th>8</th>\n",
       "      <th>9</th>\n",
       "      <th>...</th>\n",
       "      <th>41</th>\n",
       "      <th>42</th>\n",
       "      <th>43</th>\n",
       "      <th>44</th>\n",
       "      <th>45</th>\n",
       "      <th>46</th>\n",
       "      <th>47</th>\n",
       "      <th>48</th>\n",
       "      <th>49</th>\n",
       "      <th>isInDic</th>\n",
       "    </tr>\n",
       "    <tr>\n",
       "      <th>単語</th>\n",
       "      <th></th>\n",
       "      <th></th>\n",
       "      <th></th>\n",
       "      <th></th>\n",
       "      <th></th>\n",
       "      <th></th>\n",
       "      <th></th>\n",
       "      <th></th>\n",
       "      <th></th>\n",
       "      <th></th>\n",
       "      <th></th>\n",
       "      <th></th>\n",
       "      <th></th>\n",
       "      <th></th>\n",
       "      <th></th>\n",
       "      <th></th>\n",
       "      <th></th>\n",
       "      <th></th>\n",
       "      <th></th>\n",
       "      <th></th>\n",
       "      <th></th>\n",
       "    </tr>\n",
       "  </thead>\n",
       "  <tbody>\n",
       "    <tr>\n",
       "      <th>!</th>\n",
       "      <td>0.085313</td>\n",
       "      <td>-0.315384</td>\n",
       "      <td>-0.092300</td>\n",
       "      <td>-0.248376</td>\n",
       "      <td>0.086111</td>\n",
       "      <td>-0.157666</td>\n",
       "      <td>0.077312</td>\n",
       "      <td>-0.099744</td>\n",
       "      <td>0.076536</td>\n",
       "      <td>0.044399</td>\n",
       "      <td>...</td>\n",
       "      <td>0.179366</td>\n",
       "      <td>-0.133331</td>\n",
       "      <td>-0.043328</td>\n",
       "      <td>-0.218630</td>\n",
       "      <td>-0.037869</td>\n",
       "      <td>-0.095679</td>\n",
       "      <td>0.178756</td>\n",
       "      <td>0.113131</td>\n",
       "      <td>-0.241404</td>\n",
       "      <td>False</td>\n",
       "    </tr>\n",
       "    <tr>\n",
       "      <th>!!</th>\n",
       "      <td>-0.045048</td>\n",
       "      <td>-0.321234</td>\n",
       "      <td>0.027998</td>\n",
       "      <td>-0.151201</td>\n",
       "      <td>-0.119650</td>\n",
       "      <td>-0.243689</td>\n",
       "      <td>0.130387</td>\n",
       "      <td>-0.105005</td>\n",
       "      <td>0.086659</td>\n",
       "      <td>-0.030688</td>\n",
       "      <td>...</td>\n",
       "      <td>0.120116</td>\n",
       "      <td>-0.168179</td>\n",
       "      <td>0.010304</td>\n",
       "      <td>-0.024246</td>\n",
       "      <td>0.152397</td>\n",
       "      <td>-0.149539</td>\n",
       "      <td>0.173640</td>\n",
       "      <td>-0.089761</td>\n",
       "      <td>-0.252014</td>\n",
       "      <td>False</td>\n",
       "    </tr>\n",
       "    <tr>\n",
       "      <th>!!!</th>\n",
       "      <td>0.102477</td>\n",
       "      <td>-0.294404</td>\n",
       "      <td>-0.208346</td>\n",
       "      <td>-0.237338</td>\n",
       "      <td>0.035036</td>\n",
       "      <td>0.093773</td>\n",
       "      <td>0.026998</td>\n",
       "      <td>-0.020967</td>\n",
       "      <td>0.037141</td>\n",
       "      <td>0.150921</td>\n",
       "      <td>...</td>\n",
       "      <td>0.248113</td>\n",
       "      <td>0.011319</td>\n",
       "      <td>0.067921</td>\n",
       "      <td>0.000899</td>\n",
       "      <td>0.078431</td>\n",
       "      <td>0.000721</td>\n",
       "      <td>0.112374</td>\n",
       "      <td>0.119865</td>\n",
       "      <td>-0.243441</td>\n",
       "      <td>False</td>\n",
       "    </tr>\n",
       "    <tr>\n",
       "      <th>!!!!</th>\n",
       "      <td>0.019460</td>\n",
       "      <td>-0.155649</td>\n",
       "      <td>0.083683</td>\n",
       "      <td>-0.249125</td>\n",
       "      <td>-0.086154</td>\n",
       "      <td>-0.025289</td>\n",
       "      <td>0.085001</td>\n",
       "      <td>0.082792</td>\n",
       "      <td>0.120148</td>\n",
       "      <td>0.157015</td>\n",
       "      <td>...</td>\n",
       "      <td>0.163535</td>\n",
       "      <td>-0.065325</td>\n",
       "      <td>-0.106615</td>\n",
       "      <td>-0.027921</td>\n",
       "      <td>0.080376</td>\n",
       "      <td>-0.013493</td>\n",
       "      <td>0.163960</td>\n",
       "      <td>0.072495</td>\n",
       "      <td>-0.177976</td>\n",
       "      <td>False</td>\n",
       "    </tr>\n",
       "    <tr>\n",
       "      <th>!!!!」</th>\n",
       "      <td>-0.092480</td>\n",
       "      <td>-0.260534</td>\n",
       "      <td>-0.225866</td>\n",
       "      <td>-0.235766</td>\n",
       "      <td>-0.030068</td>\n",
       "      <td>-0.045762</td>\n",
       "      <td>0.292589</td>\n",
       "      <td>0.101359</td>\n",
       "      <td>0.196797</td>\n",
       "      <td>0.164433</td>\n",
       "      <td>...</td>\n",
       "      <td>0.121884</td>\n",
       "      <td>0.092940</td>\n",
       "      <td>-0.179500</td>\n",
       "      <td>0.095535</td>\n",
       "      <td>0.038534</td>\n",
       "      <td>0.075126</td>\n",
       "      <td>-0.011261</td>\n",
       "      <td>0.041554</td>\n",
       "      <td>-0.190874</td>\n",
       "      <td>False</td>\n",
       "    </tr>\n",
       "  </tbody>\n",
       "</table>\n",
       "<p>5 rows × 51 columns</p>\n",
       "</div>"
      ],
      "text/plain": [
       "              0         1         2         3         4         5         6  \\\n",
       "単語                                                                            \n",
       "!      0.085313 -0.315384 -0.092300 -0.248376  0.086111 -0.157666  0.077312   \n",
       "!!    -0.045048 -0.321234  0.027998 -0.151201 -0.119650 -0.243689  0.130387   \n",
       "!!!    0.102477 -0.294404 -0.208346 -0.237338  0.035036  0.093773  0.026998   \n",
       "!!!!   0.019460 -0.155649  0.083683 -0.249125 -0.086154 -0.025289  0.085001   \n",
       "!!!!」 -0.092480 -0.260534 -0.225866 -0.235766 -0.030068 -0.045762  0.292589   \n",
       "\n",
       "              7         8         9   ...           41        42        43  \\\n",
       "単語                                    ...                                    \n",
       "!     -0.099744  0.076536  0.044399   ...     0.179366 -0.133331 -0.043328   \n",
       "!!    -0.105005  0.086659 -0.030688   ...     0.120116 -0.168179  0.010304   \n",
       "!!!   -0.020967  0.037141  0.150921   ...     0.248113  0.011319  0.067921   \n",
       "!!!!   0.082792  0.120148  0.157015   ...     0.163535 -0.065325 -0.106615   \n",
       "!!!!」  0.101359  0.196797  0.164433   ...     0.121884  0.092940 -0.179500   \n",
       "\n",
       "             44        45        46        47        48        49  isInDic  \n",
       "単語                                                                          \n",
       "!     -0.218630 -0.037869 -0.095679  0.178756  0.113131 -0.241404    False  \n",
       "!!    -0.024246  0.152397 -0.149539  0.173640 -0.089761 -0.252014    False  \n",
       "!!!    0.000899  0.078431  0.000721  0.112374  0.119865 -0.243441    False  \n",
       "!!!!  -0.027921  0.080376 -0.013493  0.163960  0.072495 -0.177976    False  \n",
       "!!!!」  0.095535  0.038534  0.075126 -0.011261  0.041554 -0.190874    False  \n",
       "\n",
       "[5 rows x 51 columns]"
      ]
     },
     "execution_count": 29,
     "metadata": {},
     "output_type": "execute_result"
    }
   ],
   "source": [
    "w2v50.head()"
   ]
  },
  {
   "cell_type": "code",
   "execution_count": 30,
   "metadata": {},
   "outputs": [],
   "source": [
    "w2v50.to_pickle('w2v50.pd')"
   ]
  },
  {
   "cell_type": "markdown",
   "metadata": {},
   "source": [
    "### 非自立語フラグをつける"
   ]
  },
  {
   "cell_type": "code",
   "execution_count": 31,
   "metadata": {},
   "outputs": [],
   "source": [
    "w2v = [ pd.read_pickle('w2v200.pd'), pd.read_pickle('w2v50.pd') ]"
   ]
  },
  {
   "cell_type": "code",
   "execution_count": 33,
   "metadata": {},
   "outputs": [
    {
     "name": "stdout",
     "output_type": "stream",
     "text": [
      "['/usr/lib/mecab/dic/mecab-ipadic-neologd']\n"
     ]
    },
    {
     "data": {
      "text/plain": [
       "'EOS\\n'"
      ]
     },
     "execution_count": 33,
     "metadata": {},
     "output_type": "execute_result"
    }
   ],
   "source": [
    "import MeCab\n",
    "\n",
    "neologd_path = !echo `mecab-config --dicdir`\"/mecab-ipadic-neologd\"\n",
    "print(neologd_path)\n",
    "mecab = MeCab.Tagger('-d '+neologd_path[0])\n",
    "\n",
    "mecab.parse('')#文字列がGCされるのを防ぐ"
   ]
  },
  {
   "cell_type": "code",
   "execution_count": 34,
   "metadata": {},
   "outputs": [
    {
     "data": {
      "text/plain": [
       "['BOS/EOS',\n",
       " '*',\n",
       " '名詞',\n",
       " '固有名詞',\n",
       " '名詞',\n",
       " '副詞可能',\n",
       " '名詞',\n",
       " '副詞可能',\n",
       " '名詞',\n",
       " '数',\n",
       " '記号',\n",
       " '一般',\n",
       " '名詞',\n",
       " '数',\n",
       " 'BOS/EOS',\n",
       " '*']"
      ]
     },
     "execution_count": 34,
     "metadata": {},
     "output_type": "execute_result"
    }
   ],
   "source": [
    "def getWordPosList(word):\n",
    "    node = mecab.parseToNode(word)\n",
    "    pos_list = []\n",
    "    while node:\n",
    "        #単語を取得\n",
    "        #word = node.surface\n",
    "        #品詞を取得\n",
    "        pos = node.feature.split(\",\")[0:2]\n",
    "        pos_list += pos\n",
    "        #次の単語に進める\n",
    "        node = node.next\n",
    "    return pos_list\n",
    "getWordPosList('スロウスタート土曜夜24:30')"
   ]
  },
  {
   "cell_type": "code",
   "execution_count": 35,
   "metadata": {},
   "outputs": [
    {
     "data": {
      "text/plain": [
       "True"
      ]
     },
     "execution_count": 35,
     "metadata": {},
     "output_type": "execute_result"
    }
   ],
   "source": [
    "a = [1,2,3,4,5]\n",
    "b = [5,6,7,8]\n",
    "def anyS(v,z):\n",
    "    for x in v:\n",
    "        if x in z:\n",
    "            return True\n",
    "    return False\n",
    "anyS(a,b)"
   ]
  },
  {
   "cell_type": "code",
   "execution_count": 36,
   "metadata": {},
   "outputs": [],
   "source": [
    "n_list = ['助詞','助動詞','記号','フィラー','感動詞','接頭詞','接続詞','連体詞','副詞','代名詞','非自立']\n",
    "\n",
    "def makeNWordsFlag(dic):\n",
    "    return [not anyS(getWordPosList(idx), n_list) for idx in monitor(dic)]"
   ]
  },
  {
   "cell_type": "code",
   "execution_count": 37,
   "metadata": {
    "scrolled": true
   },
   "outputs": [
    {
     "name": "stderr",
     "output_type": "stream",
     "text": [
      "100%|██████████| 51564/51564 [00:23<00:00, 2177.13it/s]\n",
      "100%|██████████| 335476/335476 [00:09<00:00, 36368.41it/s]\n"
     ]
    }
   ],
   "source": [
    "for w in w2v:\n",
    "    w['isNWord'] = makeNWordsFlag(w.index)"
   ]
  },
  {
   "cell_type": "code",
   "execution_count": 38,
   "metadata": {},
   "outputs": [
    {
     "data": {
      "text/plain": [
       "(51564, 201)"
      ]
     },
     "execution_count": 38,
     "metadata": {},
     "output_type": "execute_result"
    }
   ],
   "source": [
    "w2v[0].shape"
   ]
  },
  {
   "cell_type": "code",
   "execution_count": 39,
   "metadata": {},
   "outputs": [
    {
     "data": {
      "text/plain": [
       "49527"
      ]
     },
     "execution_count": 39,
     "metadata": {},
     "output_type": "execute_result"
    }
   ],
   "source": [
    "w2v[0]['isNWord'].sum()"
   ]
  },
  {
   "cell_type": "code",
   "execution_count": 40,
   "metadata": {},
   "outputs": [
    {
     "data": {
      "text/plain": [
       "330007"
      ]
     },
     "execution_count": 40,
     "metadata": {},
     "output_type": "execute_result"
    }
   ],
   "source": [
    "w2v[1]['isNWord'].sum()"
   ]
  },
  {
   "cell_type": "code",
   "execution_count": 41,
   "metadata": {},
   "outputs": [],
   "source": [
    "w2v[0].to_pickle('./w2v200.pd')\n",
    "w2v[1].to_pickle('./w2v50.pd')"
   ]
  },
  {
   "cell_type": "code",
   "execution_count": null,
   "metadata": {
    "collapsed": true
   },
   "outputs": [],
   "source": []
  }
 ],
 "metadata": {
  "kernelspec": {
   "display_name": "Python 3",
   "language": "python",
   "name": "python3"
  },
  "language_info": {
   "codemirror_mode": {
    "name": "ipython",
    "version": 3
   },
   "file_extension": ".py",
   "mimetype": "text/x-python",
   "name": "python",
   "nbconvert_exporter": "python",
   "pygments_lexer": "ipython3",
   "version": "3.6.4"
  }
 },
 "nbformat": 4,
 "nbformat_minor": 2
}
