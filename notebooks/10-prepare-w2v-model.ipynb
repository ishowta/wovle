{
 "cells": [
  {
   "cell_type": "markdown",
   "metadata": {},
   "source": [
    "### w2v50をテキストにする"
   ]
  },
  {
   "cell_type": "code",
   "execution_count": 1,
   "metadata": {
    "scrolled": false
   },
   "outputs": [
    {
     "name": "stdout",
     "output_type": "stream",
     "text": [
      "/home/saho/project/wovle/data/external\n"
     ]
    }
   ],
   "source": [
    "cd ../data/external/"
   ]
  },
  {
   "cell_type": "code",
   "execution_count": 4,
   "metadata": {},
   "outputs": [
    {
     "name": "stdout",
     "output_type": "stream",
     "text": [
      "1gm-0000   csj.pdp.htkdic       filelist    w2v200.txt\r\n",
      "\u001b[0m\u001b[01;34mCJLC-0.1\u001b[0m/  \u001b[01;34mdictation-kit-v4.4\u001b[0m/  index.html  \u001b[01;34mw2v50\u001b[0m/\r\n"
     ]
    }
   ],
   "source": [
    "ls"
   ]
  },
  {
   "cell_type": "code",
   "execution_count": 5,
   "metadata": {},
   "outputs": [
    {
     "data": {
      "text/plain": [
       "335476"
      ]
     },
     "execution_count": 5,
     "metadata": {},
     "output_type": "execute_result"
    }
   ],
   "source": [
    "from gensim.models import word2vec\n",
    "model = word2vec.Word2Vec.load('w2v50/word2vec.gensim.model')\n",
    "len(model.wv.vocab)"
   ]
  },
  {
   "cell_type": "code",
   "execution_count": 6,
   "metadata": {},
   "outputs": [
    {
     "name": "stderr",
     "output_type": "stream",
     "text": [
      "100%|██████████| 335476/335476 [00:38<00:00, 8754.04it/s]\n"
     ]
    }
   ],
   "source": [
    "with open('w2v50.tsv','w') as fh:\n",
    "    for (k,v) in monitor(model.wv.vocab.items()):\n",
    "        fh.write(k+\"\\t\"+\"\\t\".join([str(e) for e in model.wv[k]])+\"\\n\")"
   ]
  },
  {
   "cell_type": "code",
   "execution_count": 9,
   "metadata": {
    "collapsed": true
   },
   "outputs": [],
   "source": [
    "rm -r w2v50/"
   ]
  },
  {
   "cell_type": "code",
   "execution_count": 10,
   "metadata": {},
   "outputs": [
    {
     "name": "stdout",
     "output_type": "stream",
     "text": [
      "1gm-0000   csj.pdp.htkdic       filelist    w2v200.txt\r\n",
      "\u001b[0m\u001b[01;34mCJLC-0.1\u001b[0m/  \u001b[01;34mdictation-kit-v4.4\u001b[0m/  index.html  w2v50.tsv\r\n"
     ]
    }
   ],
   "source": [
    "ls"
   ]
  },
  {
   "cell_type": "markdown",
   "metadata": {},
   "source": [
    "### 辞書（csj.pdp.htkdic）に無いものは削除"
   ]
  },
  {
   "cell_type": "code",
   "execution_count": 12,
   "metadata": {},
   "outputs": [],
   "source": [
    "!nkf -w ./csj.pdp.htkdic > ./csj.pdp.htkdic.utf8"
   ]
  },
  {
   "cell_type": "code",
   "execution_count": 13,
   "metadata": {},
   "outputs": [
    {
     "name": "stdout",
     "output_type": "stream",
     "text": [
      "<sil>\t[]\tsp_S\r",
      "\r\n",
      "<sil>\t[]\tsp_S\r",
      "\r\n",
      "<sp>\t[]\tsp_S\r",
      "\r\n",
      "．+テン+名詞\t[．]\tt_B e_I N_E\r",
      "\r\n",
      "○+マル+名詞\t[○]\tm_B a_I r_I u_E\r",
      "\r\n",
      "０．５π+レーテンゴパイ+名詞\t[０．５π]\tr_B e:_I t_I e_I N_I g_I o_I p_I a_I i_E\r",
      "\r\n",
      "０ｄＢ+ゼロディービー+名詞\t[０ｄＢ]\tz_B e_I r_I o_I d_I i:_I b_I i:_E\r",
      "\r\n",
      "１０００ＣＣ+センシーシー+名詞\t[１０００ＣＣ]\ts_B e_I N_I sh_I i:_I sh_I i:_E\r",
      "\r\n",
      "１００ＣＣ+ヒャクシーシー+名詞\t[１００ＣＣ]\thy_B a_I k_I u_I sh_I i:_I sh_I i:_E\r",
      "\r\n",
      "１０Ａ+ジューエー+名詞\t[１０Ａ]\tj_B u:_I e:_E\r",
      "\r\n"
     ]
    }
   ],
   "source": [
    "!head ./csj.pdp.htkdic.utf8"
   ]
  },
  {
   "cell_type": "code",
   "execution_count": 15,
   "metadata": {
    "scrolled": true
   },
   "outputs": [
    {
     "name": "stderr",
     "output_type": "stream",
     "text": [
      "\n",
      "0it [00:00, ?it/s]\u001b[A\n",
      "31805it [00:00, 315776.63it/s]\u001b[A\n",
      "38598it [00:00, 323445.17it/s]\u001b[A\n",
      "0it [00:00, ?it/s]\u001b[A\n",
      "4686it [00:00, 46453.69it/s]\u001b[A\n",
      "8381it [00:00, 41621.04it/s]\u001b[A\n",
      "13223it [00:00, 43669.20it/s]\u001b[A\n",
      "20153it [00:00, 50270.04it/s]\u001b[A\n",
      "27160it [00:00, 54232.77it/s]\u001b[A\n",
      "33504it [00:00, 55768.65it/s]\u001b[A\n",
      "39741it [00:00, 56679.34it/s]\u001b[A\n",
      "46522it [00:00, 58077.45it/s]\u001b[A\n",
      "55364it [00:00, 61432.10it/s]\u001b[A\n",
      "63760it [00:01, 63686.60it/s]\u001b[A\n",
      "72640it [00:01, 65979.70it/s]\u001b[A\n",
      "80493it [00:01, 67009.62it/s]\u001b[A\n",
      "88534it [00:01, 68048.79it/s]\u001b[A\n",
      "97021it [00:01, 69234.76it/s]\u001b[A\n",
      "105284it [00:01, 70113.05it/s]\u001b[A\n",
      "115121it [00:01, 71902.74it/s]\u001b[A\n",
      "125586it [00:01, 73821.36it/s]\u001b[A\n",
      "134769it [00:01, 74690.39it/s]\u001b[A\n",
      "144768it [00:01, 76020.28it/s]\u001b[A\n",
      "155104it [00:02, 77332.01it/s]\u001b[A\n",
      "164760it [00:02, 77990.85it/s]\u001b[A\n",
      "174198it [00:02, 78663.61it/s]\u001b[A\n",
      "185883it [00:02, 80297.46it/s]\u001b[A\n",
      "195958it [00:02, 80918.92it/s]\u001b[A\n",
      "206402it [00:02, 81856.50it/s]\u001b[A\n",
      "216876it [00:02, 82728.39it/s]\u001b[A\n",
      "228531it [00:02, 83960.98it/s]\u001b[A\n",
      "240373it [00:02, 85188.94it/s]\u001b[A\n",
      "251808it [00:02, 86177.59it/s]\u001b[A\n",
      "263377it [00:03, 87168.72it/s]\u001b[A\n",
      "274632it [00:03, 87381.96it/s]\u001b[A\n",
      "285311it [00:03, 86291.04it/s]\u001b[A\n",
      "294763it [00:03, 85500.54it/s]\u001b[A\n",
      "303559it [00:03, 85586.63it/s]\u001b[A\n",
      "316359it [00:03, 86754.64it/s]\u001b[A\n",
      "329329it [00:03, 87895.29it/s]\u001b[A\n",
      "335476it [00:03, 88303.46it/s]\u001b[A\n",
      "0it [00:00, ?it/s]\u001b[A\n",
      "1177it [00:00, 11623.11it/s]\u001b[A\n",
      "2235it [00:00, 11101.46it/s]\u001b[A\n",
      "3425it [00:00, 11363.40it/s]\u001b[A\n",
      "5069it [00:00, 12600.25it/s]\u001b[A\n",
      "6457it [00:00, 12879.96it/s]\u001b[A\n",
      "7957it [00:00, 13226.10it/s]\u001b[A\n",
      "9198it [00:00, 13063.53it/s]\u001b[A\n",
      "10430it [00:00, 12975.54it/s]\u001b[A\n",
      "11952it [00:00, 13217.71it/s]\u001b[A\n",
      "13731it [00:01, 13667.92it/s]\u001b[A\n",
      "15188it [00:01, 13702.99it/s]\u001b[A\n",
      "16800it [00:01, 13905.08it/s]\u001b[A\n",
      "18603it [00:01, 14214.01it/s]\u001b[A\n",
      "20231it [00:01, 14361.46it/s]\u001b[A\n",
      "22460it [00:01, 14867.57it/s]\u001b[A\n",
      "24261it [00:01, 15086.16it/s]\u001b[A\n",
      "26052it [00:01, 15196.10it/s]\u001b[A\n",
      "27956it [00:01, 15412.99it/s]\u001b[A\n",
      "29925it [00:01, 15629.32it/s]\u001b[A\n",
      "31780it [00:02, 15729.11it/s]\u001b[A\n",
      "33600it [00:02, 15748.65it/s]\u001b[A\n",
      "35357it [00:02, 15728.22it/s]\u001b[A\n",
      "37275it [00:02, 15882.02it/s]\u001b[A\n",
      "39047it [00:02, 15948.48it/s]\u001b[A\n",
      "41302it [00:02, 16208.69it/s]\u001b[A\n",
      "43852it [00:02, 16550.10it/s]\u001b[A\n",
      "46217it [00:02, 16816.00it/s]\u001b[A\n",
      "48584it [00:02, 17047.61it/s]\u001b[A\n",
      "51235it [00:02, 17378.41it/s]\u001b[A\n",
      "53594it [00:03, 17531.27it/s]\u001b[A\n",
      "55894it [00:03, 17003.87it/s]\u001b[A\n",
      "57805it [00:03, 16244.26it/s]\u001b[A\n",
      "59620it [00:03, 16309.07it/s]\u001b[A\n",
      "61731it [00:03, 16438.14it/s]\u001b[A\n",
      "64347it [00:03, 16677.92it/s]\u001b[A\n",
      "66575it [00:03, 16830.28it/s]\u001b[A\n",
      "68662it [00:04, 16832.15it/s]\u001b[A\n",
      "70630it [00:04, 16812.81it/s]\u001b[A\n",
      "73217it [00:04, 17024.81it/s]\u001b[A\n",
      "75401it [00:04, 17124.74it/s]\u001b[A\n",
      "77873it [00:04, 17299.44it/s]\u001b[A\n",
      "80092it [00:04, 17362.62it/s]\u001b[A\n",
      "82240it [00:04, 17369.31it/s]\u001b[A\n",
      "84273it [00:04, 17428.01it/s]\u001b[A\n",
      "86877it [00:04, 17602.28it/s]\u001b[A\n",
      "89442it [00:05, 17761.86it/s]\u001b[A\n",
      "92013it [00:05, 17915.51it/s]\u001b[A\n",
      "95206it [00:05, 18183.98it/s]\u001b[A\n",
      "98046it [00:05, 18374.06it/s]\u001b[A\n",
      "100879it [00:05, 18558.51it/s]\u001b[A\n",
      "103613it [00:05, 18678.57it/s]\u001b[A\n",
      "106267it [00:05, 18733.66it/s]\u001b[A\n",
      "108767it [00:05, 18766.00it/s]\u001b[A\n",
      "111145it [00:05, 18851.60it/s]\u001b[A\n",
      "114123it [00:05, 19033.56it/s]\u001b[A\n",
      "116667it [00:06, 19129.77it/s]\u001b[A\n",
      "119192it [00:06, 19097.43it/s]\u001b[A\n",
      "121492it [00:06, 19065.88it/s]\u001b[A\n",
      "123717it [00:06, 19115.95it/s]\u001b[A\n",
      "126030it [00:06, 19176.35it/s]\u001b[A\n",
      "128377it [00:06, 19232.18it/s]\u001b[A\n",
      "130625it [00:06, 19249.54it/s]\u001b[A\n",
      "132796it [00:06, 19240.99it/s]\u001b[A\n",
      "134877it [00:07, 19264.11it/s]\u001b[A\n",
      "137541it [00:07, 19363.78it/s]\u001b[A\n",
      "139795it [00:07, 19382.80it/s]\u001b[A\n",
      "141985it [00:07, 19390.75it/s]\u001b[A\n",
      "144115it [00:07, 19395.73it/s]\u001b[A\n",
      "146297it [00:07, 19427.45it/s]\u001b[A\n",
      "148409it [00:07, 19394.51it/s]\u001b[A\n",
      "150408it [00:07, 19383.62it/s]\u001b[A\n",
      "152627it [00:07, 19419.89it/s]\u001b[A\n",
      "155463it [00:07, 19531.66it/s]\u001b[A\n",
      "158808it [00:08, 19704.68it/s]\u001b[A\n",
      "161802it [00:08, 19828.95it/s]\u001b[A\n",
      "164898it [00:08, 19964.53it/s]\u001b[A\n",
      "167825it [00:08, 20075.79it/s]\u001b[A\n",
      "170684it [00:08, 20169.91it/s]\u001b[A\n",
      "174078it [00:08, 20331.18it/s]\u001b[A\n",
      "177487it [00:08, 20488.23it/s]\u001b[A\n",
      "180714it [00:08, 20623.56it/s]\u001b[A\n",
      "184261it [00:08, 20791.69it/s]\u001b[A\n",
      "187534it [00:08, 20914.63it/s]\u001b[A\n",
      "190766it [00:09, 21035.46it/s]\u001b[A\n",
      "194006it [00:09, 21159.25it/s]\u001b[A\n",
      "197226it [00:09, 21260.89it/s]\u001b[A\n",
      "200790it [00:09, 21414.48it/s]\u001b[A\n",
      "204066it [00:09, 21512.05it/s]\u001b[A\n",
      "207257it [00:09, 21615.60it/s]\u001b[A\n",
      "210425it [00:09, 21703.06it/s]\u001b[A\n",
      "213529it [00:09, 21797.43it/s]\u001b[A\n",
      "216629it [00:09, 21888.67it/s]\u001b[A\n",
      "219721it [00:09, 21974.99it/s]\u001b[A\n",
      "222799it [00:10, 22056.27it/s]\u001b[A\n",
      "225900it [00:10, 22143.69it/s]\u001b[A\n",
      "229157it [00:10, 22244.87it/s]\u001b[A\n",
      "232281it [00:10, 22317.87it/s]\u001b[A\n",
      "235351it [00:10, 22391.58it/s]\u001b[A\n",
      "238874it [00:10, 22512.27it/s]\u001b[A\n",
      "242060it [00:10, 22563.92it/s]\u001b[A\n",
      "245109it [00:10, 22625.38it/s]\u001b[A\n",
      "248208it [00:10, 22701.86it/s]\u001b[A\n",
      "251994it [00:11, 22839.01it/s]\u001b[A\n",
      "255250it [00:11, 22907.42it/s]\u001b[A\n",
      "258501it [00:11, 22992.73it/s]\u001b[A\n",
      "261697it [00:11, 23070.67it/s]\u001b[A\n",
      "264890it [00:11, 23140.57it/s]\u001b[A\n",
      "268362it [00:11, 23240.89it/s]\u001b[A\n",
      "271946it [00:11, 23348.67it/s]\u001b[A\n",
      "275805it [00:11, 23478.46it/s]\u001b[A\n",
      "279439it [00:11, 23583.43it/s]\u001b[A\n",
      "282982it [00:11, 23682.45it/s]\u001b[A\n",
      "286504it [00:12, 23754.78it/s]\u001b[A\n",
      "289914it [00:12, 23812.13it/s]\u001b[A\n",
      "293464it [00:12, 23907.34it/s]\u001b[A\n",
      "296951it [00:12, 23995.18it/s]\u001b[A\n",
      "300352it [00:12, 24072.67it/s]\u001b[A\n",
      "303736it [00:12, 24141.96it/s]\u001b[A\n",
      "307076it [00:12, 24187.52it/s]\u001b[A\n",
      "310510it [00:12, 24266.48it/s]\u001b[A\n",
      "313792it [00:12, 24325.33it/s]\u001b[A\n",
      "317168it [00:12, 24397.83it/s]\u001b[A\n",
      "320448it [00:13, 24456.75it/s]\u001b[A\n",
      "323758it [00:13, 24522.85it/s]\u001b[A\n",
      "327031it [00:13, 24580.91it/s]\u001b[A\n",
      "330285it [00:13, 24633.75it/s]\u001b[A\n",
      "333508it [00:13, 24679.11it/s]\u001b[A\n",
      "337080it [00:13, 24760.96it/s]\u001b[A\n",
      "340371it [00:13, 24787.37it/s]\u001b[A\n",
      "343511it [00:13, 24829.46it/s]\u001b[A\n",
      "346620it [00:13, 24871.96it/s]\u001b[A\n",
      "350115it [00:14, 24943.56it/s]\u001b[A\n",
      "353331it [00:14, 24992.40it/s]\u001b[A\n",
      "356888it [00:14, 25067.24it/s]\u001b[A\n",
      "360200it [00:14, 25112.09it/s]\u001b[A\n",
      "363454it [00:14, 25156.92it/s]\u001b[A\n",
      "366673it [00:14, 25184.30it/s]\u001b[A\n",
      "370077it [00:14, 25245.64it/s]\u001b[A\n",
      "373687it [00:14, 25318.39it/s]\u001b[A\n",
      "377012it [00:14, 25368.85it/s]\u001b[A\n",
      "380316it [00:14, 25412.74it/s]\u001b[A\n",
      "383664it [00:15, 25466.23it/s]\u001b[A\n",
      "387227it [00:15, 25532.69it/s]\u001b[A\n",
      "390612it [00:15, 25587.19it/s]\u001b[A\n",
      "394398it [00:15, 25667.56it/s]\u001b[A\n",
      "397896it [00:15, 25711.18it/s]\u001b[A\n",
      "401299it [00:15, 25763.84it/s]\u001b[A\n",
      "404698it [00:15, 25797.29it/s]\u001b[A\n",
      "407993it [00:15, 25833.87it/s]\u001b[A\n",
      "411237it [00:15, 25863.33it/s]\u001b[A\n",
      "414496it [00:16, 25905.34it/s]\u001b[A\n",
      "417697it [00:16, 25937.22it/s]\u001b[A\n",
      "421178it [00:16, 25991.80it/s]\u001b[A\n",
      "424439it [00:16, 26030.39it/s]\u001b[A\n",
      "427690it [00:16, 26070.05it/s]\u001b[A\n",
      "430940it [00:16, 26100.86it/s]\u001b[A\n",
      "434142it [00:16, 26134.28it/s]\u001b[A\n",
      "437330it [00:16, 26147.42it/s]\u001b[A\n",
      "441291it [00:16, 26227.77it/s]\u001b[A\n",
      "444848it [00:16, 26283.00it/s]\u001b[A\n",
      "448660it [00:17, 26351.80it/s]\u001b[A\n",
      "452188it [00:17, 26387.75it/s]\u001b[A\n",
      "455685it [00:17, 26437.05it/s]\u001b[A\n",
      "459154it [00:17, 26484.40it/s]\u001b[A\n",
      "462607it [00:17, 26502.39it/s]\u001b[A\n",
      "465895it [00:17, 26479.76it/s]\u001b[A\n",
      "468908it [00:17, 26468.76it/s]\u001b[A\n",
      "471764it [00:17, 26413.10it/s]\u001b[A\n",
      "474409it [00:17, 26425.69it/s]\u001b[A\n",
      "477753it [00:18, 26464.45it/s]\u001b[A\n",
      "481325it [00:18, 26515.39it/s]\u001b[A\n",
      "484425it [00:18, 26539.69it/s]\u001b[A\n",
      "487498it [00:18, 26545.37it/s]\u001b[A\n",
      "491069it [00:18, 26595.03it/s]\u001b[A\n",
      "494614it [00:18, 26642.44it/s]\u001b[A\n",
      "498068it [00:18, 26682.85it/s]\u001b[A\n",
      "501474it [00:18, 26724.06it/s]\u001b[A\n",
      "504980it [00:18, 26768.38it/s]\u001b[A\n",
      "508376it [00:18, 26803.96it/s]\u001b[A\n",
      "512558it [00:19, 26882.68it/s]\u001b[A\n",
      "516178it [00:19, 26920.84it/s]\u001b[A\n",
      "520034it [00:19, 26981.24it/s]\u001b[A\n",
      "523673it [00:19, 27016.62it/s]\u001b[A\n",
      "527220it [00:19, 26992.85it/s]\u001b[A\n",
      "530421it [00:19, 26992.78it/s]\u001b[A\n",
      "533480it [00:19, 26981.78it/s]\u001b[A\n",
      "536367it [00:19, 26978.84it/s]\u001b[A\n",
      "539422it [00:19, 26997.32it/s]\u001b[A\n",
      "542357it [00:20, 27008.47it/s]\u001b[A\n",
      "545531it [00:20, 27032.32it/s]\u001b[A\n",
      "549462it [00:20, 27092.94it/s]\u001b[A\n",
      "552825it [00:20, 27122.28it/s]\u001b[A\n",
      "556121it [00:20, 27132.73it/s]\u001b[A\n",
      "559934it [00:20, 27186.10it/s]\u001b[A\n",
      "563501it [00:20, 27226.50it/s]\u001b[A\n",
      "566922it [00:20, 27244.50it/s]\u001b[A\n",
      "570873it [00:20, 27303.34it/s]\u001b[A\n",
      "574386it [00:21, 27340.26it/s]\u001b[A\n",
      "577890it [00:21, 27372.04it/s]\u001b[A\n",
      "581355it [00:21, 27389.53it/s]\u001b[A\n",
      "584703it [00:21, 27412.45it/s]\u001b[A\n",
      "588009it [00:21, 27436.96it/s]\u001b[A\n"
     ]
    },
    {
     "name": "stderr",
     "output_type": "stream",
     "text": [
      "591360it [00:21, 27465.01it/s]\u001b[A\n",
      "594667it [00:21, 27481.23it/s]\u001b[A\n",
      "597909it [00:21, 27504.41it/s]\u001b[A\n",
      "601913it [00:21, 27561.25it/s]\u001b[A\n",
      "606233it [00:21, 27632.79it/s]\u001b[A\n",
      "610291it [00:22, 27691.77it/s]\u001b[A\n",
      "614349it [00:22, 27749.94it/s]\u001b[A\n",
      "618561it [00:22, 27814.42it/s]\u001b[A\n",
      "622591it [00:22, 27869.86it/s]\u001b[A\n",
      "626593it [00:22, 27916.07it/s]\u001b[A\n",
      "630569it [00:22, 27968.14it/s]\u001b[A\n",
      "634509it [00:22, 28014.00it/s]\u001b[A\n",
      "638404it [00:22, 28049.43it/s]\u001b[A\n",
      "642191it [00:22, 28086.04it/s]\u001b[A\n",
      "646554it [00:22, 28153.86it/s]\u001b[A\n",
      "650474it [00:23, 28200.09it/s]\u001b[A\n",
      "654379it [00:23, 28217.19it/s]\u001b[A\n",
      "658143it [00:23, 28257.67it/s]\u001b[A\n",
      "662228it [00:23, 28308.44it/s]\u001b[A\n",
      "666044it [00:23, 28341.26it/s]\u001b[A\n",
      "669869it [00:23, 28383.09it/s]\u001b[A\n",
      "673916it [00:23, 28433.92it/s]\u001b[A\n",
      "677837it [00:23, 28479.19it/s]\u001b[A\n",
      "681719it [00:23, 28522.30it/s]\u001b[A\n",
      "685587it [00:24, 28559.75it/s]\u001b[A\n",
      "689405it [00:24, 28593.42it/s]\u001b[A\n",
      "693168it [00:24, 28624.76it/s]\u001b[A\n",
      "697255it [00:24, 28675.18it/s]\u001b[A\n",
      "701076it [00:24, 28711.45it/s]\u001b[A\n",
      "705145it [00:24, 28760.29it/s]\u001b[A\n",
      "709028it [00:24, 28800.71it/s]\u001b[A\n",
      "712906it [00:24, 28823.05it/s]\u001b[A\n",
      "717011it [00:24, 28872.03it/s]\u001b[A\n",
      "721240it [00:24, 28925.57it/s]\u001b[A\n",
      "725754it [00:25, 28990.47it/s]\u001b[A\n",
      "729876it [00:25, 29032.42it/s]\u001b[A\n",
      "733957it [00:25, 29079.01it/s]\u001b[A\n",
      "738178it [00:25, 29130.63it/s]\u001b[A\n",
      "742286it [00:25, 29169.00it/s]\u001b[A\n",
      "746409it [00:25, 29216.26it/s]\u001b[A\n",
      "750460it [00:25, 29258.81it/s]\u001b[A\n",
      "754497it [00:25, 29292.90it/s]\u001b[A\n",
      "758697it [00:25, 29342.00it/s]\u001b[A\n",
      "762720it [00:25, 29380.22it/s]\u001b[A\n",
      "766729it [00:26, 29420.87it/s]\u001b[A\n",
      "770720it [00:26, 29458.69it/s]\u001b[A\n",
      "775078it [00:26, 29512.55it/s]\u001b[A\n",
      "779261it [00:26, 29557.33it/s]\u001b[A\n",
      "783374it [00:26, 29574.91it/s]\u001b[A\n",
      "787335it [00:26, 29612.13it/s]\u001b[A\n",
      "791230it [00:26, 29646.23it/s]\u001b[A\n",
      "795112it [00:26, 29677.20it/s]\u001b[A\n",
      "798963it [00:26, 29702.34it/s]\u001b[A\n",
      "803191it [00:26, 29749.18it/s]\u001b[A\n",
      "807505it [00:27, 29798.26it/s]\u001b[A\n",
      "811641it [00:27, 29840.78it/s]\u001b[A\n",
      "815825it [00:27, 29884.59it/s]\u001b[A\n",
      "819923it [00:27, 29916.58it/s]\u001b[A\n",
      "823931it [00:27, 29939.87it/s]\u001b[A\n",
      "827804it [00:27, 29969.55it/s]\u001b[A\n",
      "831657it [00:27, 29990.96it/s]\u001b[A\n",
      "835604it [00:27, 30025.02it/s]\u001b[A\n",
      "839419it [00:27, 30053.89it/s]\u001b[A\n",
      "843577it [00:28, 30094.88it/s]\u001b[A\n",
      "847783it [00:28, 30137.34it/s]\u001b[A\n",
      "851786it [00:28, 30166.71it/s]\u001b[A\n",
      "855923it [00:28, 30206.31it/s]\u001b[A\n",
      "859923it [00:28, 30238.25it/s]\u001b[A\n",
      "863895it [00:28, 30270.71it/s]\u001b[A\n",
      "867859it [00:28, 30300.33it/s]\u001b[A\n",
      "871789it [00:28, 30312.78it/s]\u001b[A\n",
      "875841it [00:28, 30348.33it/s]\u001b[A\n",
      "880089it [00:28, 30389.91it/s]\u001b[A\n",
      "884267it [00:29, 30429.06it/s]\u001b[A\n",
      "888297it [00:29, 30458.03it/s]\u001b[A\n",
      "892708it [00:29, 30504.59it/s]\u001b[A\n",
      "896993it [00:29, 30546.47it/s]\u001b[A\n",
      "901191it [00:29, 30584.24it/s]\u001b[A\n",
      "905358it [00:29, 30614.50it/s]\u001b[A\n",
      "909798it [00:29, 30660.96it/s]\u001b[A\n",
      "914405it [00:29, 30712.54it/s]\u001b[A\n",
      "918716it [00:29, 30749.36it/s]\u001b[A\n",
      "923277it [00:29, 30798.98it/s]\u001b[A\n",
      "927622it [00:30, 30833.83it/s]\u001b[A\n",
      "931883it [00:30, 30870.18it/s]\u001b[A\n",
      "936145it [00:30, 30909.26it/s]\u001b[A\n",
      "940385it [00:30, 30943.45it/s]\u001b[A\n",
      "944614it [00:30, 30972.90it/s]\u001b[A\n",
      "948725it [00:30, 31003.57it/s]\u001b[A\n",
      "952812it [00:30, 31026.78it/s]\u001b[A\n",
      "957052it [00:30, 31063.44it/s]\u001b[A\n",
      "961112it [00:30, 31089.42it/s]\u001b[A\n",
      "965384it [00:31, 31126.81it/s]\u001b[A\n",
      "969466it [00:31, 31152.49it/s]\u001b[A\n",
      "973484it [00:31, 31177.01it/s]\u001b[A\n",
      "977452it [00:31, 31191.61it/s]\u001b[A\n",
      "981371it [00:31, 31217.10it/s]\u001b[A\n",
      "985456it [00:31, 31247.44it/s]\u001b[A\n",
      "989431it [00:31, 31274.25it/s]\u001b[A\n",
      "993373it [00:31, 31293.63it/s]\u001b[A\n",
      "997242it [00:31, 31314.76it/s]\u001b[A\n",
      "1001292it [00:31, 31343.37it/s]\u001b[A\n",
      "1005451it [00:32, 31374.87it/s]\u001b[A\n",
      "1009433it [00:32, 31394.61it/s]\u001b[A\n",
      "1013728it [00:32, 31430.42it/s]\u001b[A\n",
      "1015475it [00:32, 31436.19it/s]\u001b[A"
     ]
    }
   ],
   "source": [
    "words = set()\n",
    "\n",
    "with open('csj.pdp.htkdic.utf8') as hh:\n",
    "    for line in monitor(hh):\n",
    "        words.add(line.split('\\t')[0].split('+')[0])\n",
    "\n",
    "with open('w2v50.tsv') as v50h:\n",
    "    with open('w2v200.txt') as v200h:\n",
    "        with open('w2v50_fitToDic.tsv','w') as w50h:\n",
    "            with open('w2v200_fitToDic.tsv','w') as w200h:\n",
    "                for line in monitor(v50h):\n",
    "                    w = line.split('\\t')[0]\n",
    "                    if w in words:\n",
    "                        w50h.write(w+'\\t'+'\\t'.join(line.split('\\t')[1:]))\n",
    "                for line in monitor(v200h):\n",
    "                    w = line.split(' ')[0].replace('[','').replace(']','') # 括弧は無いものとして比較\n",
    "                    if w in words:\n",
    "                        w200h.write(w+'\\t'+'\\t'.join(line.split(' ')[1:]))"
   ]
  },
  {
   "cell_type": "code",
   "execution_count": 16,
   "metadata": {},
   "outputs": [
    {
     "name": "stdout",
     "output_type": "stream",
     "text": [
      "28023 ./w2v50_fitToDic.tsv\r\n"
     ]
    }
   ],
   "source": [
    "!wc -l ./w2v50_fitToDic.tsv"
   ]
  },
  {
   "cell_type": "code",
   "execution_count": 17,
   "metadata": {},
   "outputs": [
    {
     "name": "stdout",
     "output_type": "stream",
     "text": [
      "43929 ./w2v200_fitToDic.tsv\r\n"
     ]
    }
   ],
   "source": [
    "!wc -l ./w2v200_fitToDic.tsv"
   ]
  },
  {
   "cell_type": "markdown",
   "metadata": {},
   "source": [
    "### w2v200の括弧重複の平均を取る"
   ]
  },
  {
   "cell_type": "markdown",
   "metadata": {},
   "source": [
    "#### dataframeとして読み込み"
   ]
  },
  {
   "cell_type": "code",
   "execution_count": 76,
   "metadata": {
    "collapsed": true
   },
   "outputs": [],
   "source": [
    "w2v50 = pd.read_csv(\"w2v50_fitToDic.tsv\",sep=\"\\t\",header=None)"
   ]
  },
  {
   "cell_type": "code",
   "execution_count": 77,
   "metadata": {
    "collapsed": true
   },
   "outputs": [],
   "source": [
    "w2v200 = pd.read_csv(\"w2v200_fitToDic.tsv\",sep=\"\\t\",header=None)"
   ]
  },
  {
   "cell_type": "code",
   "execution_count": 78,
   "metadata": {
    "collapsed": true
   },
   "outputs": [],
   "source": [
    "w2v = [w2v50, w2v200]"
   ]
  },
  {
   "cell_type": "code",
   "execution_count": 79,
   "metadata": {
    "scrolled": true
   },
   "outputs": [
    {
     "data": {
      "text/plain": [
       "(28023, 51)"
      ]
     },
     "metadata": {},
     "output_type": "display_data"
    },
    {
     "data": {
      "text/plain": [
       "(43929, 201)"
      ]
     },
     "metadata": {},
     "output_type": "display_data"
    }
   ],
   "source": [
    "for w in w2v: display(w.shape)"
   ]
  },
  {
   "cell_type": "code",
   "execution_count": 80,
   "metadata": {
    "collapsed": true
   },
   "outputs": [],
   "source": [
    "w2v[0].to_pickle('w2v50.pd')"
   ]
  },
  {
   "cell_type": "code",
   "execution_count": 81,
   "metadata": {
    "collapsed": true
   },
   "outputs": [],
   "source": [
    "w2v[1].to_pickle('w2v200.pd')"
   ]
  },
  {
   "cell_type": "markdown",
   "metadata": {},
   "source": [
    "#### 重複除外"
   ]
  },
  {
   "cell_type": "code",
   "execution_count": 82,
   "metadata": {
    "collapsed": true
   },
   "outputs": [],
   "source": [
    "w = w2v[1]"
   ]
  },
  {
   "cell_type": "code",
   "execution_count": 83,
   "metadata": {
    "collapsed": true
   },
   "outputs": [],
   "source": [
    "def disp(*v):\n",
    "    for e in v: display(e)"
   ]
  },
  {
   "cell_type": "code",
   "execution_count": 84,
   "metadata": {},
   "outputs": [
    {
     "name": "stderr",
     "output_type": "stream",
     "text": [
      "/home/saho/.pyenv/versions/anaconda3-5.0.1/lib/python3.6/site-packages/ipykernel_launcher.py:2: DeprecationWarning: \n",
      ".ix is deprecated. Please use\n",
      ".loc for label based indexing or\n",
      ".iloc for positional indexing\n",
      "\n",
      "See the documentation here:\n",
      "http://pandas.pydata.org/pandas-docs/stable/indexing.html#ix-indexer-is-deprecated\n",
      "  \n"
     ]
    },
    {
     "data": {
      "text/html": [
       "<div>\n",
       "<style scoped>\n",
       "    .dataframe tbody tr th:only-of-type {\n",
       "        vertical-align: middle;\n",
       "    }\n",
       "\n",
       "    .dataframe tbody tr th {\n",
       "        vertical-align: top;\n",
       "    }\n",
       "\n",
       "    .dataframe thead th {\n",
       "        text-align: right;\n",
       "    }\n",
       "</style>\n",
       "<table border=\"1\" class=\"dataframe\">\n",
       "  <thead>\n",
       "    <tr style=\"text-align: right;\">\n",
       "      <th></th>\n",
       "      <th>0</th>\n",
       "      <th>1</th>\n",
       "      <th>2</th>\n",
       "      <th>3</th>\n",
       "      <th>4</th>\n",
       "      <th>5</th>\n",
       "      <th>6</th>\n",
       "      <th>7</th>\n",
       "      <th>8</th>\n",
       "      <th>9</th>\n",
       "      <th>...</th>\n",
       "      <th>191</th>\n",
       "      <th>192</th>\n",
       "      <th>193</th>\n",
       "      <th>194</th>\n",
       "      <th>195</th>\n",
       "      <th>196</th>\n",
       "      <th>197</th>\n",
       "      <th>198</th>\n",
       "      <th>199</th>\n",
       "      <th>200</th>\n",
       "    </tr>\n",
       "  </thead>\n",
       "  <tbody>\n",
       "    <tr>\n",
       "      <th>0</th>\n",
       "      <td>の</td>\n",
       "      <td>-0.991739</td>\n",
       "      <td>0.433873</td>\n",
       "      <td>-1.634327</td>\n",
       "      <td>-2.637119</td>\n",
       "      <td>1.87341</td>\n",
       "      <td>-0.68232</td>\n",
       "      <td>1.400241</td>\n",
       "      <td>2.555166</td>\n",
       "      <td>-2.150506</td>\n",
       "      <td>...</td>\n",
       "      <td>-1.206327</td>\n",
       "      <td>0.912507</td>\n",
       "      <td>-0.449425</td>\n",
       "      <td>-0.685022</td>\n",
       "      <td>-0.067702</td>\n",
       "      <td>-0.439921</td>\n",
       "      <td>-1.823313</td>\n",
       "      <td>-0.582093</td>\n",
       "      <td>-0.289067</td>\n",
       "      <td>-0.953114</td>\n",
       "    </tr>\n",
       "  </tbody>\n",
       "</table>\n",
       "<p>1 rows × 201 columns</p>\n",
       "</div>"
      ],
      "text/plain": [
       "  0         1         2         3         4        5        6         7    \\\n",
       "0   の -0.991739  0.433873 -1.634327 -2.637119  1.87341 -0.68232  1.400241   \n",
       "\n",
       "        8         9      ...          191       192       193       194  \\\n",
       "0  2.555166 -2.150506    ...    -1.206327  0.912507 -0.449425 -0.685022   \n",
       "\n",
       "        195       196       197       198       199       200  \n",
       "0 -0.067702 -0.439921 -1.823313 -0.582093 -0.289067 -0.953114  \n",
       "\n",
       "[1 rows x 201 columns]"
      ]
     },
     "metadata": {},
     "output_type": "display_data"
    },
    {
     "data": {
      "text/plain": [
       "(43929, 201)"
      ]
     },
     "metadata": {},
     "output_type": "display_data"
    }
   ],
   "source": [
    "disp(\n",
    "    w.ix[[0],:],\n",
    "    w.shape)"
   ]
  },
  {
   "cell_type": "code",
   "execution_count": 85,
   "metadata": {},
   "outputs": [
    {
     "data": {
      "text/html": [
       "<div>\n",
       "<style scoped>\n",
       "    .dataframe tbody tr th:only-of-type {\n",
       "        vertical-align: middle;\n",
       "    }\n",
       "\n",
       "    .dataframe tbody tr th {\n",
       "        vertical-align: top;\n",
       "    }\n",
       "\n",
       "    .dataframe thead th {\n",
       "        text-align: right;\n",
       "    }\n",
       "</style>\n",
       "<table border=\"1\" class=\"dataframe\">\n",
       "  <thead>\n",
       "    <tr style=\"text-align: right;\">\n",
       "      <th></th>\n",
       "      <th>0</th>\n",
       "      <th>1</th>\n",
       "      <th>2</th>\n",
       "      <th>3</th>\n",
       "      <th>4</th>\n",
       "      <th>5</th>\n",
       "      <th>6</th>\n",
       "      <th>7</th>\n",
       "      <th>8</th>\n",
       "      <th>9</th>\n",
       "      <th>...</th>\n",
       "      <th>191</th>\n",
       "      <th>192</th>\n",
       "      <th>193</th>\n",
       "      <th>194</th>\n",
       "      <th>195</th>\n",
       "      <th>196</th>\n",
       "      <th>197</th>\n",
       "      <th>198</th>\n",
       "      <th>199</th>\n",
       "      <th>200</th>\n",
       "    </tr>\n",
       "  </thead>\n",
       "  <tbody>\n",
       "    <tr>\n",
       "      <th>7158</th>\n",
       "      <td>トヨタ</td>\n",
       "      <td>0.053538</td>\n",
       "      <td>-0.458620</td>\n",
       "      <td>2.269142</td>\n",
       "      <td>2.213828</td>\n",
       "      <td>1.045843</td>\n",
       "      <td>-0.385347</td>\n",
       "      <td>1.634038</td>\n",
       "      <td>2.483560</td>\n",
       "      <td>-1.511059</td>\n",
       "      <td>...</td>\n",
       "      <td>-0.565592</td>\n",
       "      <td>-1.320724</td>\n",
       "      <td>1.17779</td>\n",
       "      <td>-0.255538</td>\n",
       "      <td>1.393715</td>\n",
       "      <td>-0.182194</td>\n",
       "      <td>0.562751</td>\n",
       "      <td>-0.150641</td>\n",
       "      <td>0.373629</td>\n",
       "      <td>0.638203</td>\n",
       "    </tr>\n",
       "    <tr>\n",
       "      <th>18038</th>\n",
       "      <td>トヨタ</td>\n",
       "      <td>-0.306716</td>\n",
       "      <td>-1.427696</td>\n",
       "      <td>1.110670</td>\n",
       "      <td>1.346888</td>\n",
       "      <td>-0.350039</td>\n",
       "      <td>-0.451238</td>\n",
       "      <td>1.047367</td>\n",
       "      <td>1.017068</td>\n",
       "      <td>-1.072866</td>\n",
       "      <td>...</td>\n",
       "      <td>-0.431226</td>\n",
       "      <td>-0.514442</td>\n",
       "      <td>1.05925</td>\n",
       "      <td>-0.159481</td>\n",
       "      <td>0.126721</td>\n",
       "      <td>-0.407040</td>\n",
       "      <td>-0.150029</td>\n",
       "      <td>0.352745</td>\n",
       "      <td>0.327678</td>\n",
       "      <td>-0.481530</td>\n",
       "    </tr>\n",
       "  </tbody>\n",
       "</table>\n",
       "<p>2 rows × 201 columns</p>\n",
       "</div>"
      ],
      "text/plain": [
       "       0         1         2         3         4         5         6    \\\n",
       "7158   トヨタ  0.053538 -0.458620  2.269142  2.213828  1.045843 -0.385347   \n",
       "18038  トヨタ -0.306716 -1.427696  1.110670  1.346888 -0.350039 -0.451238   \n",
       "\n",
       "            7         8         9      ...          191       192      193  \\\n",
       "7158   1.634038  2.483560 -1.511059    ...    -0.565592 -1.320724  1.17779   \n",
       "18038  1.047367  1.017068 -1.072866    ...    -0.431226 -0.514442  1.05925   \n",
       "\n",
       "            194       195       196       197       198       199       200  \n",
       "7158  -0.255538  1.393715 -0.182194  0.562751 -0.150641  0.373629  0.638203  \n",
       "18038 -0.159481  0.126721 -0.407040 -0.150029  0.352745  0.327678 -0.481530  \n",
       "\n",
       "[2 rows x 201 columns]"
      ]
     },
     "execution_count": 85,
     "metadata": {},
     "output_type": "execute_result"
    }
   ],
   "source": [
    "w.ix[w[0] == \"トヨタ\"]"
   ]
  },
  {
   "cell_type": "code",
   "execution_count": 86,
   "metadata": {
    "collapsed": true
   },
   "outputs": [],
   "source": [
    "w = w.groupby([0]).mean()"
   ]
  },
  {
   "cell_type": "code",
   "execution_count": 87,
   "metadata": {
    "scrolled": true
   },
   "outputs": [
    {
     "data": {
      "text/html": [
       "<div>\n",
       "<style scoped>\n",
       "    .dataframe tbody tr th:only-of-type {\n",
       "        vertical-align: middle;\n",
       "    }\n",
       "\n",
       "    .dataframe tbody tr th {\n",
       "        vertical-align: top;\n",
       "    }\n",
       "\n",
       "    .dataframe thead th {\n",
       "        text-align: right;\n",
       "    }\n",
       "</style>\n",
       "<table border=\"1\" class=\"dataframe\">\n",
       "  <thead>\n",
       "    <tr style=\"text-align: right;\">\n",
       "      <th></th>\n",
       "      <th>1</th>\n",
       "      <th>2</th>\n",
       "      <th>3</th>\n",
       "      <th>4</th>\n",
       "      <th>5</th>\n",
       "      <th>6</th>\n",
       "      <th>7</th>\n",
       "      <th>8</th>\n",
       "      <th>9</th>\n",
       "      <th>10</th>\n",
       "      <th>...</th>\n",
       "      <th>191</th>\n",
       "      <th>192</th>\n",
       "      <th>193</th>\n",
       "      <th>194</th>\n",
       "      <th>195</th>\n",
       "      <th>196</th>\n",
       "      <th>197</th>\n",
       "      <th>198</th>\n",
       "      <th>199</th>\n",
       "      <th>200</th>\n",
       "    </tr>\n",
       "    <tr>\n",
       "      <th>0</th>\n",
       "      <th></th>\n",
       "      <th></th>\n",
       "      <th></th>\n",
       "      <th></th>\n",
       "      <th></th>\n",
       "      <th></th>\n",
       "      <th></th>\n",
       "      <th></th>\n",
       "      <th></th>\n",
       "      <th></th>\n",
       "      <th></th>\n",
       "      <th></th>\n",
       "      <th></th>\n",
       "      <th></th>\n",
       "      <th></th>\n",
       "      <th></th>\n",
       "      <th></th>\n",
       "      <th></th>\n",
       "      <th></th>\n",
       "      <th></th>\n",
       "      <th></th>\n",
       "    </tr>\n",
       "  </thead>\n",
       "  <tbody>\n",
       "    <tr>\n",
       "      <th>Β</th>\n",
       "      <td>-0.163973</td>\n",
       "      <td>0.013051</td>\n",
       "      <td>0.130042</td>\n",
       "      <td>-0.013135</td>\n",
       "      <td>-0.078542</td>\n",
       "      <td>0.067389</td>\n",
       "      <td>-0.027251</td>\n",
       "      <td>0.070931</td>\n",
       "      <td>0.024434</td>\n",
       "      <td>-0.089123</td>\n",
       "      <td>...</td>\n",
       "      <td>0.081253</td>\n",
       "      <td>-0.051911</td>\n",
       "      <td>0.031374</td>\n",
       "      <td>0.011905</td>\n",
       "      <td>-0.129501</td>\n",
       "      <td>0.059161</td>\n",
       "      <td>-0.033802</td>\n",
       "      <td>-0.107828</td>\n",
       "      <td>-0.159823</td>\n",
       "      <td>0.072723</td>\n",
       "    </tr>\n",
       "    <tr>\n",
       "      <th>Γ</th>\n",
       "      <td>-0.515290</td>\n",
       "      <td>0.447887</td>\n",
       "      <td>-0.290260</td>\n",
       "      <td>-0.313667</td>\n",
       "      <td>-0.217771</td>\n",
       "      <td>-0.583412</td>\n",
       "      <td>-0.237821</td>\n",
       "      <td>0.986688</td>\n",
       "      <td>0.573613</td>\n",
       "      <td>-0.021468</td>\n",
       "      <td>...</td>\n",
       "      <td>-0.319555</td>\n",
       "      <td>-0.453109</td>\n",
       "      <td>0.819951</td>\n",
       "      <td>-0.046766</td>\n",
       "      <td>-0.202213</td>\n",
       "      <td>0.104598</td>\n",
       "      <td>-0.665681</td>\n",
       "      <td>-0.421789</td>\n",
       "      <td>-0.654559</td>\n",
       "      <td>-0.389066</td>\n",
       "    </tr>\n",
       "    <tr>\n",
       "      <th>Δ</th>\n",
       "      <td>-0.844599</td>\n",
       "      <td>0.500375</td>\n",
       "      <td>-0.433498</td>\n",
       "      <td>-0.863186</td>\n",
       "      <td>-0.685131</td>\n",
       "      <td>-0.208649</td>\n",
       "      <td>0.063803</td>\n",
       "      <td>1.021694</td>\n",
       "      <td>0.299519</td>\n",
       "      <td>-0.326941</td>\n",
       "      <td>...</td>\n",
       "      <td>0.101914</td>\n",
       "      <td>-0.068191</td>\n",
       "      <td>0.600853</td>\n",
       "      <td>-0.186434</td>\n",
       "      <td>-0.277834</td>\n",
       "      <td>-0.085344</td>\n",
       "      <td>-1.251228</td>\n",
       "      <td>-1.181830</td>\n",
       "      <td>-1.252247</td>\n",
       "      <td>-0.060531</td>\n",
       "    </tr>\n",
       "    <tr>\n",
       "      <th>Θ</th>\n",
       "      <td>-0.146901</td>\n",
       "      <td>-0.095641</td>\n",
       "      <td>-0.023297</td>\n",
       "      <td>-0.016684</td>\n",
       "      <td>-0.133185</td>\n",
       "      <td>0.047843</td>\n",
       "      <td>0.085798</td>\n",
       "      <td>0.360042</td>\n",
       "      <td>0.040978</td>\n",
       "      <td>-0.093064</td>\n",
       "      <td>...</td>\n",
       "      <td>0.115077</td>\n",
       "      <td>-0.086670</td>\n",
       "      <td>0.071753</td>\n",
       "      <td>-0.126756</td>\n",
       "      <td>-0.154439</td>\n",
       "      <td>0.117072</td>\n",
       "      <td>-0.070839</td>\n",
       "      <td>-0.238478</td>\n",
       "      <td>-0.136663</td>\n",
       "      <td>-0.044030</td>\n",
       "    </tr>\n",
       "    <tr>\n",
       "      <th>Κ</th>\n",
       "      <td>-0.062942</td>\n",
       "      <td>0.024537</td>\n",
       "      <td>0.062008</td>\n",
       "      <td>-0.046116</td>\n",
       "      <td>0.023443</td>\n",
       "      <td>0.035645</td>\n",
       "      <td>0.009635</td>\n",
       "      <td>0.086242</td>\n",
       "      <td>0.075110</td>\n",
       "      <td>-0.041233</td>\n",
       "      <td>...</td>\n",
       "      <td>0.034198</td>\n",
       "      <td>-0.074562</td>\n",
       "      <td>0.040172</td>\n",
       "      <td>-0.019908</td>\n",
       "      <td>-0.092042</td>\n",
       "      <td>0.006126</td>\n",
       "      <td>-0.026464</td>\n",
       "      <td>-0.126889</td>\n",
       "      <td>-0.097553</td>\n",
       "      <td>-0.009375</td>\n",
       "    </tr>\n",
       "  </tbody>\n",
       "</table>\n",
       "<p>5 rows × 200 columns</p>\n",
       "</div>"
      ],
      "text/plain": [
       "        1         2         3         4         5         6         7    \\\n",
       "0                                                                         \n",
       "Β -0.163973  0.013051  0.130042 -0.013135 -0.078542  0.067389 -0.027251   \n",
       "Γ -0.515290  0.447887 -0.290260 -0.313667 -0.217771 -0.583412 -0.237821   \n",
       "Δ -0.844599  0.500375 -0.433498 -0.863186 -0.685131 -0.208649  0.063803   \n",
       "Θ -0.146901 -0.095641 -0.023297 -0.016684 -0.133185  0.047843  0.085798   \n",
       "Κ -0.062942  0.024537  0.062008 -0.046116  0.023443  0.035645  0.009635   \n",
       "\n",
       "        8         9         10     ...          191       192       193  \\\n",
       "0                                  ...                                    \n",
       "Β  0.070931  0.024434 -0.089123    ...     0.081253 -0.051911  0.031374   \n",
       "Γ  0.986688  0.573613 -0.021468    ...    -0.319555 -0.453109  0.819951   \n",
       "Δ  1.021694  0.299519 -0.326941    ...     0.101914 -0.068191  0.600853   \n",
       "Θ  0.360042  0.040978 -0.093064    ...     0.115077 -0.086670  0.071753   \n",
       "Κ  0.086242  0.075110 -0.041233    ...     0.034198 -0.074562  0.040172   \n",
       "\n",
       "        194       195       196       197       198       199       200  \n",
       "0                                                                        \n",
       "Β  0.011905 -0.129501  0.059161 -0.033802 -0.107828 -0.159823  0.072723  \n",
       "Γ -0.046766 -0.202213  0.104598 -0.665681 -0.421789 -0.654559 -0.389066  \n",
       "Δ -0.186434 -0.277834 -0.085344 -1.251228 -1.181830 -1.252247 -0.060531  \n",
       "Θ -0.126756 -0.154439  0.117072 -0.070839 -0.238478 -0.136663 -0.044030  \n",
       "Κ -0.019908 -0.092042  0.006126 -0.026464 -0.126889 -0.097553 -0.009375  \n",
       "\n",
       "[5 rows x 200 columns]"
      ]
     },
     "execution_count": 87,
     "metadata": {},
     "output_type": "execute_result"
    }
   ],
   "source": [
    "w.head()"
   ]
  },
  {
   "cell_type": "code",
   "execution_count": 88,
   "metadata": {},
   "outputs": [
    {
     "data": {
      "text/plain": [
       "(29716, 200)"
      ]
     },
     "execution_count": 88,
     "metadata": {},
     "output_type": "execute_result"
    }
   ],
   "source": [
    "w.shape"
   ]
  },
  {
   "cell_type": "code",
   "execution_count": 89,
   "metadata": {
    "collapsed": true
   },
   "outputs": [],
   "source": [
    "w.to_pickle('./w2v200.pd')"
   ]
  },
  {
   "cell_type": "code",
   "execution_count": 90,
   "metadata": {},
   "outputs": [],
   "source": [
    "w = w2v[0]"
   ]
  },
  {
   "cell_type": "code",
   "execution_count": 91,
   "metadata": {},
   "outputs": [
    {
     "data": {
      "text/html": [
       "<div>\n",
       "<style scoped>\n",
       "    .dataframe tbody tr th:only-of-type {\n",
       "        vertical-align: middle;\n",
       "    }\n",
       "\n",
       "    .dataframe tbody tr th {\n",
       "        vertical-align: top;\n",
       "    }\n",
       "\n",
       "    .dataframe thead th {\n",
       "        text-align: right;\n",
       "    }\n",
       "</style>\n",
       "<table border=\"1\" class=\"dataframe\">\n",
       "  <thead>\n",
       "    <tr style=\"text-align: right;\">\n",
       "      <th></th>\n",
       "      <th>0</th>\n",
       "      <th>1</th>\n",
       "      <th>2</th>\n",
       "      <th>3</th>\n",
       "      <th>4</th>\n",
       "      <th>5</th>\n",
       "      <th>6</th>\n",
       "      <th>7</th>\n",
       "      <th>8</th>\n",
       "      <th>9</th>\n",
       "      <th>...</th>\n",
       "      <th>41</th>\n",
       "      <th>42</th>\n",
       "      <th>43</th>\n",
       "      <th>44</th>\n",
       "      <th>45</th>\n",
       "      <th>46</th>\n",
       "      <th>47</th>\n",
       "      <th>48</th>\n",
       "      <th>49</th>\n",
       "      <th>50</th>\n",
       "    </tr>\n",
       "  </thead>\n",
       "  <tbody>\n",
       "    <tr>\n",
       "      <th>0</th>\n",
       "      <td>ガリバー</td>\n",
       "      <td>0.091114</td>\n",
       "      <td>-0.294387</td>\n",
       "      <td>0.021036</td>\n",
       "      <td>-0.036468</td>\n",
       "      <td>0.101153</td>\n",
       "      <td>0.058209</td>\n",
       "      <td>0.147456</td>\n",
       "      <td>0.059062</td>\n",
       "      <td>0.146042</td>\n",
       "      <td>...</td>\n",
       "      <td>0.239939</td>\n",
       "      <td>-0.006300</td>\n",
       "      <td>0.099647</td>\n",
       "      <td>0.036027</td>\n",
       "      <td>-0.008679</td>\n",
       "      <td>0.039122</td>\n",
       "      <td>-0.049217</td>\n",
       "      <td>0.203507</td>\n",
       "      <td>0.180088</td>\n",
       "      <td>-0.169165</td>\n",
       "    </tr>\n",
       "    <tr>\n",
       "      <th>1</th>\n",
       "      <td>くん</td>\n",
       "      <td>0.060573</td>\n",
       "      <td>-0.231098</td>\n",
       "      <td>0.012265</td>\n",
       "      <td>-0.118655</td>\n",
       "      <td>-0.045415</td>\n",
       "      <td>-0.082472</td>\n",
       "      <td>0.005965</td>\n",
       "      <td>-0.031879</td>\n",
       "      <td>0.066911</td>\n",
       "      <td>...</td>\n",
       "      <td>0.133983</td>\n",
       "      <td>-0.022876</td>\n",
       "      <td>0.006493</td>\n",
       "      <td>0.064899</td>\n",
       "      <td>-0.067395</td>\n",
       "      <td>-0.020905</td>\n",
       "      <td>-0.154779</td>\n",
       "      <td>0.175292</td>\n",
       "      <td>0.191491</td>\n",
       "      <td>-0.281831</td>\n",
       "    </tr>\n",
       "    <tr>\n",
       "      <th>2</th>\n",
       "      <td>は</td>\n",
       "      <td>0.206208</td>\n",
       "      <td>0.238194</td>\n",
       "      <td>0.164277</td>\n",
       "      <td>-0.219658</td>\n",
       "      <td>0.163085</td>\n",
       "      <td>-0.229095</td>\n",
       "      <td>0.174790</td>\n",
       "      <td>0.049674</td>\n",
       "      <td>-0.146848</td>\n",
       "      <td>...</td>\n",
       "      <td>-0.105047</td>\n",
       "      <td>-0.001622</td>\n",
       "      <td>0.188861</td>\n",
       "      <td>-0.127376</td>\n",
       "      <td>0.117224</td>\n",
       "      <td>0.107232</td>\n",
       "      <td>0.254831</td>\n",
       "      <td>0.029983</td>\n",
       "      <td>0.024894</td>\n",
       "      <td>0.234945</td>\n",
       "    </tr>\n",
       "    <tr>\n",
       "      <th>3</th>\n",
       "      <td>で</td>\n",
       "      <td>-0.095309</td>\n",
       "      <td>0.110498</td>\n",
       "      <td>0.080374</td>\n",
       "      <td>-0.083534</td>\n",
       "      <td>0.010353</td>\n",
       "      <td>0.085707</td>\n",
       "      <td>-0.014444</td>\n",
       "      <td>0.092069</td>\n",
       "      <td>-0.066631</td>\n",
       "      <td>...</td>\n",
       "      <td>0.191288</td>\n",
       "      <td>-0.000440</td>\n",
       "      <td>0.043671</td>\n",
       "      <td>-0.194064</td>\n",
       "      <td>-0.043659</td>\n",
       "      <td>-0.054249</td>\n",
       "      <td>0.276505</td>\n",
       "      <td>0.072885</td>\n",
       "      <td>-0.139471</td>\n",
       "      <td>0.050859</td>\n",
       "    </tr>\n",
       "    <tr>\n",
       "      <th>4</th>\n",
       "      <td>放送</td>\n",
       "      <td>0.026639</td>\n",
       "      <td>0.180496</td>\n",
       "      <td>0.039786</td>\n",
       "      <td>-0.046034</td>\n",
       "      <td>0.125449</td>\n",
       "      <td>0.045694</td>\n",
       "      <td>0.132464</td>\n",
       "      <td>-0.216484</td>\n",
       "      <td>0.064253</td>\n",
       "      <td>...</td>\n",
       "      <td>-0.036977</td>\n",
       "      <td>-0.021256</td>\n",
       "      <td>-0.281305</td>\n",
       "      <td>0.142562</td>\n",
       "      <td>-0.270052</td>\n",
       "      <td>-0.148703</td>\n",
       "      <td>0.058203</td>\n",
       "      <td>0.050531</td>\n",
       "      <td>0.025959</td>\n",
       "      <td>0.074091</td>\n",
       "    </tr>\n",
       "  </tbody>\n",
       "</table>\n",
       "<p>5 rows × 51 columns</p>\n",
       "</div>"
      ],
      "text/plain": [
       "     0         1         2         3         4         5         6         7   \\\n",
       "0  ガリバー  0.091114 -0.294387  0.021036 -0.036468  0.101153  0.058209  0.147456   \n",
       "1    くん  0.060573 -0.231098  0.012265 -0.118655 -0.045415 -0.082472  0.005965   \n",
       "2     は  0.206208  0.238194  0.164277 -0.219658  0.163085 -0.229095  0.174790   \n",
       "3     で -0.095309  0.110498  0.080374 -0.083534  0.010353  0.085707 -0.014444   \n",
       "4    放送  0.026639  0.180496  0.039786 -0.046034  0.125449  0.045694  0.132464   \n",
       "\n",
       "         8         9     ...           41        42        43        44  \\\n",
       "0  0.059062  0.146042    ...     0.239939 -0.006300  0.099647  0.036027   \n",
       "1 -0.031879  0.066911    ...     0.133983 -0.022876  0.006493  0.064899   \n",
       "2  0.049674 -0.146848    ...    -0.105047 -0.001622  0.188861 -0.127376   \n",
       "3  0.092069 -0.066631    ...     0.191288 -0.000440  0.043671 -0.194064   \n",
       "4 -0.216484  0.064253    ...    -0.036977 -0.021256 -0.281305  0.142562   \n",
       "\n",
       "         45        46        47        48        49        50  \n",
       "0 -0.008679  0.039122 -0.049217  0.203507  0.180088 -0.169165  \n",
       "1 -0.067395 -0.020905 -0.154779  0.175292  0.191491 -0.281831  \n",
       "2  0.117224  0.107232  0.254831  0.029983  0.024894  0.234945  \n",
       "3 -0.043659 -0.054249  0.276505  0.072885 -0.139471  0.050859  \n",
       "4 -0.270052 -0.148703  0.058203  0.050531  0.025959  0.074091  \n",
       "\n",
       "[5 rows x 51 columns]"
      ]
     },
     "execution_count": 91,
     "metadata": {},
     "output_type": "execute_result"
    }
   ],
   "source": [
    "w.head()"
   ]
  },
  {
   "cell_type": "code",
   "execution_count": 92,
   "metadata": {
    "collapsed": true
   },
   "outputs": [],
   "source": [
    "w = w.groupby([0]).mean()"
   ]
  },
  {
   "cell_type": "code",
   "execution_count": 95,
   "metadata": {
    "scrolled": true
   },
   "outputs": [
    {
     "data": {
      "text/plain": [
       "(28023, 50)"
      ]
     },
     "execution_count": 95,
     "metadata": {},
     "output_type": "execute_result"
    }
   ],
   "source": [
    "w.shape"
   ]
  },
  {
   "cell_type": "code",
   "execution_count": 96,
   "metadata": {},
   "outputs": [
    {
     "data": {
      "text/html": [
       "<div>\n",
       "<style scoped>\n",
       "    .dataframe tbody tr th:only-of-type {\n",
       "        vertical-align: middle;\n",
       "    }\n",
       "\n",
       "    .dataframe tbody tr th {\n",
       "        vertical-align: top;\n",
       "    }\n",
       "\n",
       "    .dataframe thead th {\n",
       "        text-align: right;\n",
       "    }\n",
       "</style>\n",
       "<table border=\"1\" class=\"dataframe\">\n",
       "  <thead>\n",
       "    <tr style=\"text-align: right;\">\n",
       "      <th></th>\n",
       "      <th>1</th>\n",
       "      <th>2</th>\n",
       "      <th>3</th>\n",
       "      <th>4</th>\n",
       "      <th>5</th>\n",
       "      <th>6</th>\n",
       "      <th>7</th>\n",
       "      <th>8</th>\n",
       "      <th>9</th>\n",
       "      <th>10</th>\n",
       "      <th>...</th>\n",
       "      <th>41</th>\n",
       "      <th>42</th>\n",
       "      <th>43</th>\n",
       "      <th>44</th>\n",
       "      <th>45</th>\n",
       "      <th>46</th>\n",
       "      <th>47</th>\n",
       "      <th>48</th>\n",
       "      <th>49</th>\n",
       "      <th>50</th>\n",
       "    </tr>\n",
       "    <tr>\n",
       "      <th>0</th>\n",
       "      <th></th>\n",
       "      <th></th>\n",
       "      <th></th>\n",
       "      <th></th>\n",
       "      <th></th>\n",
       "      <th></th>\n",
       "      <th></th>\n",
       "      <th></th>\n",
       "      <th></th>\n",
       "      <th></th>\n",
       "      <th></th>\n",
       "      <th></th>\n",
       "      <th></th>\n",
       "      <th></th>\n",
       "      <th></th>\n",
       "      <th></th>\n",
       "      <th></th>\n",
       "      <th></th>\n",
       "      <th></th>\n",
       "      <th></th>\n",
       "      <th></th>\n",
       "    </tr>\n",
       "  </thead>\n",
       "  <tbody>\n",
       "    <tr>\n",
       "      <th>Β</th>\n",
       "      <td>-0.039774</td>\n",
       "      <td>-0.182654</td>\n",
       "      <td>-0.073650</td>\n",
       "      <td>-0.154080</td>\n",
       "      <td>-0.299761</td>\n",
       "      <td>0.039800</td>\n",
       "      <td>0.075907</td>\n",
       "      <td>0.151008</td>\n",
       "      <td>-0.040061</td>\n",
       "      <td>-0.092438</td>\n",
       "      <td>...</td>\n",
       "      <td>0.063181</td>\n",
       "      <td>0.152201</td>\n",
       "      <td>-0.012748</td>\n",
       "      <td>-0.189813</td>\n",
       "      <td>0.159146</td>\n",
       "      <td>-0.035278</td>\n",
       "      <td>-0.095846</td>\n",
       "      <td>-0.078241</td>\n",
       "      <td>0.011627</td>\n",
       "      <td>0.039851</td>\n",
       "    </tr>\n",
       "    <tr>\n",
       "      <th>Γ</th>\n",
       "      <td>-0.078112</td>\n",
       "      <td>-0.044997</td>\n",
       "      <td>-0.206049</td>\n",
       "      <td>0.121543</td>\n",
       "      <td>-0.158654</td>\n",
       "      <td>0.089009</td>\n",
       "      <td>-0.259112</td>\n",
       "      <td>0.045027</td>\n",
       "      <td>-0.001551</td>\n",
       "      <td>0.029611</td>\n",
       "      <td>...</td>\n",
       "      <td>0.099573</td>\n",
       "      <td>0.219084</td>\n",
       "      <td>0.041698</td>\n",
       "      <td>-0.191238</td>\n",
       "      <td>0.180090</td>\n",
       "      <td>0.019458</td>\n",
       "      <td>0.096816</td>\n",
       "      <td>0.014848</td>\n",
       "      <td>-0.216477</td>\n",
       "      <td>0.112108</td>\n",
       "    </tr>\n",
       "    <tr>\n",
       "      <th>Δ</th>\n",
       "      <td>-0.084763</td>\n",
       "      <td>0.060476</td>\n",
       "      <td>-0.208180</td>\n",
       "      <td>-0.032915</td>\n",
       "      <td>-0.070210</td>\n",
       "      <td>0.075549</td>\n",
       "      <td>-0.241700</td>\n",
       "      <td>0.069920</td>\n",
       "      <td>0.119192</td>\n",
       "      <td>-0.040702</td>\n",
       "      <td>...</td>\n",
       "      <td>0.037314</td>\n",
       "      <td>0.198016</td>\n",
       "      <td>-0.073684</td>\n",
       "      <td>-0.092430</td>\n",
       "      <td>0.135085</td>\n",
       "      <td>-0.068829</td>\n",
       "      <td>-0.092230</td>\n",
       "      <td>0.004051</td>\n",
       "      <td>-0.205020</td>\n",
       "      <td>0.138573</td>\n",
       "    </tr>\n",
       "    <tr>\n",
       "      <th>Θ</th>\n",
       "      <td>0.020196</td>\n",
       "      <td>-0.070559</td>\n",
       "      <td>-0.016031</td>\n",
       "      <td>-0.095259</td>\n",
       "      <td>-0.210722</td>\n",
       "      <td>0.008944</td>\n",
       "      <td>-0.102367</td>\n",
       "      <td>0.049041</td>\n",
       "      <td>0.136521</td>\n",
       "      <td>0.023940</td>\n",
       "      <td>...</td>\n",
       "      <td>0.191656</td>\n",
       "      <td>0.182939</td>\n",
       "      <td>0.138991</td>\n",
       "      <td>-0.162631</td>\n",
       "      <td>0.235224</td>\n",
       "      <td>0.048330</td>\n",
       "      <td>-0.076787</td>\n",
       "      <td>0.091762</td>\n",
       "      <td>0.008522</td>\n",
       "      <td>0.029727</td>\n",
       "    </tr>\n",
       "    <tr>\n",
       "      <th>Κ</th>\n",
       "      <td>-0.040871</td>\n",
       "      <td>-0.122597</td>\n",
       "      <td>-0.064304</td>\n",
       "      <td>-0.238372</td>\n",
       "      <td>-0.136569</td>\n",
       "      <td>0.085343</td>\n",
       "      <td>0.046668</td>\n",
       "      <td>0.087554</td>\n",
       "      <td>0.072072</td>\n",
       "      <td>-0.035176</td>\n",
       "      <td>...</td>\n",
       "      <td>0.101782</td>\n",
       "      <td>0.278786</td>\n",
       "      <td>0.114090</td>\n",
       "      <td>-0.252151</td>\n",
       "      <td>0.110471</td>\n",
       "      <td>0.204966</td>\n",
       "      <td>-0.032274</td>\n",
       "      <td>0.070054</td>\n",
       "      <td>-0.002045</td>\n",
       "      <td>0.014650</td>\n",
       "    </tr>\n",
       "  </tbody>\n",
       "</table>\n",
       "<p>5 rows × 50 columns</p>\n",
       "</div>"
      ],
      "text/plain": [
       "         1         2         3         4         5         6         7   \\\n",
       "0                                                                         \n",
       "Β -0.039774 -0.182654 -0.073650 -0.154080 -0.299761  0.039800  0.075907   \n",
       "Γ -0.078112 -0.044997 -0.206049  0.121543 -0.158654  0.089009 -0.259112   \n",
       "Δ -0.084763  0.060476 -0.208180 -0.032915 -0.070210  0.075549 -0.241700   \n",
       "Θ  0.020196 -0.070559 -0.016031 -0.095259 -0.210722  0.008944 -0.102367   \n",
       "Κ -0.040871 -0.122597 -0.064304 -0.238372 -0.136569  0.085343  0.046668   \n",
       "\n",
       "         8         9         10    ...           41        42        43  \\\n",
       "0                                  ...                                    \n",
       "Β  0.151008 -0.040061 -0.092438    ...     0.063181  0.152201 -0.012748   \n",
       "Γ  0.045027 -0.001551  0.029611    ...     0.099573  0.219084  0.041698   \n",
       "Δ  0.069920  0.119192 -0.040702    ...     0.037314  0.198016 -0.073684   \n",
       "Θ  0.049041  0.136521  0.023940    ...     0.191656  0.182939  0.138991   \n",
       "Κ  0.087554  0.072072 -0.035176    ...     0.101782  0.278786  0.114090   \n",
       "\n",
       "         44        45        46        47        48        49        50  \n",
       "0                                                                        \n",
       "Β -0.189813  0.159146 -0.035278 -0.095846 -0.078241  0.011627  0.039851  \n",
       "Γ -0.191238  0.180090  0.019458  0.096816  0.014848 -0.216477  0.112108  \n",
       "Δ -0.092430  0.135085 -0.068829 -0.092230  0.004051 -0.205020  0.138573  \n",
       "Θ -0.162631  0.235224  0.048330 -0.076787  0.091762  0.008522  0.029727  \n",
       "Κ -0.252151  0.110471  0.204966 -0.032274  0.070054 -0.002045  0.014650  \n",
       "\n",
       "[5 rows x 50 columns]"
      ]
     },
     "execution_count": 96,
     "metadata": {},
     "output_type": "execute_result"
    }
   ],
   "source": [
    "w.head()"
   ]
  },
  {
   "cell_type": "code",
   "execution_count": 97,
   "metadata": {
    "collapsed": true
   },
   "outputs": [],
   "source": [
    "w.to_pickle('./w2v50.pd')"
   ]
  },
  {
   "cell_type": "code",
   "execution_count": 98,
   "metadata": {
    "collapsed": true
   },
   "outputs": [],
   "source": [
    "w2v = []\n"
   ]
  },
  {
   "cell_type": "code",
   "execution_count": 99,
   "metadata": {
    "collapsed": true
   },
   "outputs": [],
   "source": [
    "w2v.append(pd.read_pickle('w2v50.pd'))\n",
    "w2v.append(pd.read_pickle('w2v200.pd'))"
   ]
  },
  {
   "cell_type": "markdown",
   "metadata": {},
   "source": [
    "### 非自立語の削除"
   ]
  },
  {
   "cell_type": "code",
   "execution_count": 100,
   "metadata": {},
   "outputs": [],
   "source": [
    "for (i,w) in enumerate(w2v):\n",
    "    with open(str(i),\"w\") as fh:\n",
    "        for e in w.index:\n",
    "            fh.write(e+\"\\n\")"
   ]
  },
  {
   "cell_type": "code",
   "execution_count": 101,
   "metadata": {
    "collapsed": true
   },
   "outputs": [],
   "source": [
    "!mecab 0 > 0.mecab\n",
    "!mecab 1 > 1.mecab"
   ]
  },
  {
   "cell_type": "code",
   "execution_count": 102,
   "metadata": {},
   "outputs": [
    {
     "name": "stdout",
     "output_type": "stream",
     "text": [
      "Β\t記号,アルファベット,*,*,*,*,Β,ベータ,ベータ\r\n",
      "EOS\r\n",
      "Γ\t記号,アルファベット,*,*,*,*,Γ,ガンマ,ガンマ\r\n",
      "EOS\r\n",
      "Δ\t記号,アルファベット,*,*,*,*,Δ,デルタ,デルタ\r\n",
      "EOS\r\n",
      "Θ\t記号,アルファベット,*,*,*,*,Θ,シータ,シータ\r\n",
      "EOS\r\n",
      "Κ\t記号,アルファベット,*,*,*,*,Κ,カッパ,カッパ\r\n",
      "EOS\r\n"
     ]
    }
   ],
   "source": [
    "!head 0.mecab"
   ]
  },
  {
   "cell_type": "code",
   "execution_count": 103,
   "metadata": {},
   "outputs": [
    {
     "name": "stdout",
     "output_type": "stream",
     "text": [
      "Β\t記号,アルファベット,*,*,*,*,Β,ベータ,ベータ\r\n",
      "EOS\r\n",
      "Γ\t記号,アルファベット,*,*,*,*,Γ,ガンマ,ガンマ\r\n",
      "EOS\r\n",
      "Δ\t記号,アルファベット,*,*,*,*,Δ,デルタ,デルタ\r\n",
      "EOS\r\n",
      "Θ\t記号,アルファベット,*,*,*,*,Θ,シータ,シータ\r\n",
      "EOS\r\n",
      "Κ\t記号,アルファベット,*,*,*,*,Κ,カッパ,カッパ\r\n",
      "EOS\r\n"
     ]
    }
   ],
   "source": [
    "!head 1.mecab"
   ]
  },
  {
   "cell_type": "code",
   "execution_count": 104,
   "metadata": {
    "collapsed": true
   },
   "outputs": [],
   "source": [
    " !cat 0.mecab |\\\n",
    "    grep -v \"EOS\" |\\\n",
    "    grep -v \"助詞\" |\\\n",
    "    grep -v \"助動詞\" |\\\n",
    "    grep -v \"記号\" |\\\n",
    "    grep -v \"フィラー\" |\\\n",
    "    grep -v \"感動詞\" |\\\n",
    "    grep -v \"接頭詞\" |\\\n",
    "    grep -v \"接続詞\" |\\\n",
    "    grep -v \"連体詞\" |\\\n",
    "    grep -v \"副詞\" |\\\n",
    "    grep -v \"代名詞\" |\\\n",
    "    grep -v \"非自立\" |\\\n",
    "    grep -v \"この\" \\\n",
    "    > 0.filted"
   ]
  },
  {
   "cell_type": "code",
   "execution_count": 105,
   "metadata": {
    "collapsed": true
   },
   "outputs": [],
   "source": [
    " !cat 1.mecab |\\\n",
    "    grep -v \"EOS\" |\\\n",
    "    grep -v \"助詞\" |\\\n",
    "    grep -v \"助動詞\" |\\\n",
    "    grep -v \"記号\" |\\\n",
    "    grep -v \"フィラー\" |\\\n",
    "    grep -v \"感動詞\" |\\\n",
    "    grep -v \"接頭詞\" |\\\n",
    "    grep -v \"接続詞\" |\\\n",
    "    grep -v \"連体詞\" |\\\n",
    "    grep -v \"副詞\" |\\\n",
    "    grep -v \"代名詞\" |\\\n",
    "    grep -v \"非自立\" |\\\n",
    "    grep -v \"この\" \\\n",
    "    > 1.filted"
   ]
  },
  {
   "cell_type": "code",
   "execution_count": 106,
   "metadata": {},
   "outputs": [
    {
     "name": "stdout",
     "output_type": "stream",
     "text": [
      "26931 0.filted\r\n"
     ]
    }
   ],
   "source": [
    "!wc -l 0.filted"
   ]
  },
  {
   "cell_type": "code",
   "execution_count": 107,
   "metadata": {},
   "outputs": [
    {
     "name": "stdout",
     "output_type": "stream",
     "text": [
      "28642 1.filted\r\n"
     ]
    }
   ],
   "source": [
    "!wc -l 1.filted"
   ]
  },
  {
   "cell_type": "code",
   "execution_count": 108,
   "metadata": {
    "collapsed": true
   },
   "outputs": [],
   "source": [
    "w2v_word = [[],[]]\n",
    "with open('0.filted') as fh:\n",
    "    w2v_word[0] = [e.split('\\t')[0] for e in fh]\n",
    "with open('1.filted') as fh:\n",
    "    w2v_word[1] = [e.split('\\t')[0] for e in fh]\n",
    "        "
   ]
  },
  {
   "cell_type": "code",
   "execution_count": 109,
   "metadata": {
    "scrolled": false
   },
   "outputs": [
    {
     "data": {
      "text/plain": [
       "(28023, 50)"
      ]
     },
     "metadata": {},
     "output_type": "display_data"
    },
    {
     "data": {
      "text/plain": [
       "(29716, 200)"
      ]
     },
     "metadata": {},
     "output_type": "display_data"
    }
   ],
   "source": [
    "for w in w2v: display(w.shape)"
   ]
  },
  {
   "cell_type": "code",
   "execution_count": 110,
   "metadata": {
    "collapsed": true
   },
   "outputs": [],
   "source": [
    "w2v[0] = w2v[0][w2v[0].index.isin(w2v_word[0])]"
   ]
  },
  {
   "cell_type": "code",
   "execution_count": 111,
   "metadata": {
    "collapsed": true
   },
   "outputs": [],
   "source": [
    "w2v[1] = w2v[1][w2v[1].index.isin(w2v_word[1])]"
   ]
  },
  {
   "cell_type": "code",
   "execution_count": 112,
   "metadata": {
    "scrolled": false
   },
   "outputs": [
    {
     "data": {
      "text/plain": [
       "(26642, 50)"
      ]
     },
     "metadata": {},
     "output_type": "display_data"
    },
    {
     "data": {
      "text/plain": [
       "(27910, 200)"
      ]
     },
     "metadata": {},
     "output_type": "display_data"
    }
   ],
   "source": [
    "for w in w2v: display(w.shape)"
   ]
  },
  {
   "cell_type": "code",
   "execution_count": 113,
   "metadata": {
    "collapsed": true
   },
   "outputs": [],
   "source": [
    "w2v[0].to_pickle('./w2v50.pd')\n",
    "w2v[1].to_pickle('./w2v200.pd')"
   ]
  },
  {
   "cell_type": "code",
   "execution_count": null,
   "metadata": {
    "collapsed": true
   },
   "outputs": [],
   "source": []
  }
 ],
 "metadata": {
  "kernelspec": {
   "display_name": "Python 3",
   "language": "python",
   "name": "python3"
  },
  "language_info": {
   "codemirror_mode": {
    "name": "ipython",
    "version": 3
   },
   "file_extension": ".py",
   "mimetype": "text/x-python",
   "name": "python",
   "nbconvert_exporter": "python",
   "pygments_lexer": "ipython3",
   "version": "3.6.3"
  }
 },
 "nbformat": 4,
 "nbformat_minor": 2
}
