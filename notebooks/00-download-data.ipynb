{
 "cells": [
  {
   "cell_type": "code",
   "execution_count": 1,
   "metadata": {},
   "outputs": [
    {
     "name": "stdout",
     "output_type": "stream",
     "text": [
      "/home/saho/project/wovle/data/external\n"
     ]
    }
   ],
   "source": [
    "cd ../data/external"
   ]
  },
  {
   "cell_type": "markdown",
   "metadata": {},
   "source": [
    "## 講義音声\n",
    "[日本語講義音声コンテンツコーパス](http://www.slp.cs.tut.ac.jp/CJLC/)"
   ]
  },
  {
   "cell_type": "code",
   "execution_count": 1,
   "metadata": {},
   "outputs": [
    {
     "name": "stdout",
     "output_type": "stream",
     "text": [
      "--2018-02-15 13:25:07--  http://www.slp.cs.tut.ac.jp/CJLC/CJLC-0.1.tar.bz2\n",
      "www.slp.cs.tut.ac.jp (www.slp.cs.tut.ac.jp) をDNSに問いあわせています... 133.15.48.32\n",
      "www.slp.cs.tut.ac.jp (www.slp.cs.tut.ac.jp)|133.15.48.32|:80 に接続しています... 接続しました。\n",
      "HTTP による接続要求を送信しました、応答を待っています... 200 OK\n",
      "長さ: 625443001 (596M) [application/x-bzip2]\n",
      "`../data/raw/CJLC-0.1.tar.bz2' に保存中\n",
      "\n",
      "CJLC-0.1.tar.bz2    100%[===================>] 596.47M  1.41MB/s    in 7m 16s  \n",
      "\n",
      "2018-02-15 13:32:23 (1.37 MB/s) - `../data/raw/CJLC-0.1.tar.bz2' へ保存完了 [625443001/625443001]\n",
      "\n"
     ]
    }
   ],
   "source": [
    "!wget http://www.slp.cs.tut.ac.jp/CJLC/CJLC-0.1.tar.bz2"
   ]
  },
  {
   "cell_type": "code",
   "execution_count": 4,
   "metadata": {},
   "outputs": [
    {
     "name": "stdout",
     "output_type": "stream",
     "text": [
      "CJLC-0.1.tar.bz2: Tar in Bzip2\n",
      "  CJLC-0.1/  (dir)... OK.\n",
      "  CJLC-0.1/manual.pdf  (60276 B)... OK.\n",
      "  CJLC-0.1/data/  (dir)... OK.\n",
      "  CJLC-0.1/data/L11M0010.ppt  (13766656 B)... OK.\n",
      "  CJLC-0.1/data/L11M0010.wav  (130055903 B)... OK.\n",
      "  CJLC-0.1/data/L11M0010.wav2  (130092847 B)... OK.\n",
      "  CJLC-0.1/data/L11M0010.xml  (248040 B)... OK.\n",
      "  CJLC-0.1/data/L11M0011.wav  (105515026 B)... OK.\n",
      "  CJLC-0.1/data/L11M0011.xml  (160641 B)... OK.\n",
      "  CJLC-0.1/data/L11M0013.wav  (144911228 B)... OK.\n",
      "  CJLC-0.1/data/L11M0013.xml  (205027 B)... OK.\n",
      "  CJLC-0.1/data/L11M0030.ppt  (8857088 B)... OK.\n",
      "  CJLC-0.1/data/L11M0030.wav  (126382785 B)... OK.\n",
      "  CJLC-0.1/data/L11M0030.wav2  (126396668 B)... OK.\n",
      "  CJLC-0.1/data/L11M0030.xml  (244431 B)... OK.\n",
      "  CJLC-0.1/data/L11M0040.wav  (133397184 B)... OK.\n",
      "  CJLC-0.1/data/L11M0040.xml  (139561 B)... OK.\n",
      "  CJLC-0.1/data/L11M0062.wav  (93801106 B)... OK.\n",
      "  CJLC-0.1/data/L11M0062.xml  (196757 B)... OK.\n",
      "  CJLC-0.1/data/L11M0071.wav  (83661982 B)... OK.\n",
      "  CJLC-0.1/data/L11M0071.xml  (187666 B)... OK.\n",
      "Successfully extracted to \"CJLC-0.1\".\n"
     ]
    }
   ],
   "source": [
    "!unar CJLC-0.1.tar.bz2"
   ]
  },
  {
   "cell_type": "code",
   "execution_count": 12,
   "metadata": {
    "collapsed": true
   },
   "outputs": [],
   "source": [
    "rm CJLC-0.1.tar.bz2"
   ]
  },
  {
   "cell_type": "code",
   "execution_count": 13,
   "metadata": {
    "collapsed": true
   },
   "outputs": [],
   "source": [
    "mv CJLC-0.1/ CJLC-0.1_v"
   ]
  },
  {
   "cell_type": "code",
   "execution_count": 14,
   "metadata": {
    "collapsed": true
   },
   "outputs": [],
   "source": [
    "mkdir CJLC-0.1"
   ]
  },
  {
   "cell_type": "code",
   "execution_count": 16,
   "metadata": {},
   "outputs": [],
   "source": [
    "%%bash\n",
    "mv CJLC-0.1_v/data/L11M0010.wav CJLC-0.1/1.wav\n",
    "mv CJLC-0.1_v/data/L11M0011.wav CJLC-0.1/2.wav\n",
    "mv CJLC-0.1_v/data/L11M0013.wav CJLC-0.1/3.wav\n",
    "mv CJLC-0.1_v/data/L11M0030.wav CJLC-0.1/4.wav\n",
    "mv CJLC-0.1_v/data/L11M0040.wav CJLC-0.1/5.wav\n",
    "mv CJLC-0.1_v/data/L11M0062.wav CJLC-0.1/6.wav\n",
    "mv CJLC-0.1_v/data/L11M0071.wav CJLC-0.1/7.wav\n",
    "\n",
    "mv CJLC-0.1_v/data/L11M0010.xml CJLC-0.1/1.xml\n",
    "mv CJLC-0.1_v/data/L11M0011.xml CJLC-0.1/2.xml\n",
    "mv CJLC-0.1_v/data/L11M0013.xml CJLC-0.1/3.xml\n",
    "mv CJLC-0.1_v/data/L11M0030.xml CJLC-0.1/4.xml\n",
    "mv CJLC-0.1_v/data/L11M0040.xml CJLC-0.1/5.xml\n",
    "mv CJLC-0.1_v/data/L11M0062.xml CJLC-0.1/6.xml\n",
    "mv CJLC-0.1_v/data/L11M0071.xml CJLC-0.1/7.xml"
   ]
  },
  {
   "cell_type": "code",
   "execution_count": 19,
   "metadata": {},
   "outputs": [],
   "source": [
    "rm -r CJLC-0.1_v/"
   ]
  },
  {
   "cell_type": "code",
   "execution_count": 9,
   "metadata": {
    "scrolled": false
   },
   "outputs": [],
   "source": [
    "%%bash\n",
    "\n",
    "for i in `seq 7`\n",
    "do\n",
    "    python ../../src/data/xml_to_plain.py ../../data/external/CJLC-0.1/$i.xml \\\n",
    "    > ../../data/external/CJLC-0.1/$i.txt\n",
    "done"
   ]
  },
  {
   "cell_type": "code",
   "execution_count": 16,
   "metadata": {},
   "outputs": [
    {
     "name": "stdout",
     "output_type": "stream",
     "text": [
      "大学院の講義でですね科目名は電子計算機応用特論二となってるんですかねで実際の内容としては音声言語の認識と理解音声言語情報処理というような分野に対して講義したいと思います\r\n",
      "で\r\n",
      "講義の内容は九回分を用意しています九週間分ですねで一回百五十分ということなんですが今日はですね一回目というので音声の基礎音声分析\r\n",
      "というような内容を講義します\r\n",
      "で二回目が音声認識の基礎\r\n",
      "とＤＰマッチングというダイナミックプログラミングあるいは動的計画法と呼ばれているマッチング方法ですね時系列の\r\n",
      "マッチング方法これは音声だけでなくって画像とか遺伝子解析とかそういうよな分野でもよく使われている自然言語処理にも使われています\r\n",
      "パターン認識関係では基本的なマッチング手法ですね\r\n",
      "で三回目の講義ではこの連続音声の認識私が今いちとかにとかさんとか言えばみなさん数字を認識できると思いますけどねそれをいちよんごとか連続して喋った場合も認識したいと\r\n",
      "そういうよな場合にこのＤＰマッチングをいかに拡張するか\r\n"
     ]
    }
   ],
   "source": [
    "!head CJLC-0.1/1.txt"
   ]
  },
  {
   "cell_type": "code",
   "execution_count": 17,
   "metadata": {
    "collapsed": true
   },
   "outputs": [],
   "source": [
    "rm CJLC-0.1/*.xml"
   ]
  },
  {
   "cell_type": "code",
   "execution_count": 18,
   "metadata": {},
   "outputs": [
    {
     "name": "stdout",
     "output_type": "stream",
     "text": [
      "1.txt  2.txt  3.txt  4.txt  5.txt  6.txt  7.txt\r\n",
      "\u001b[0m\u001b[00;36m1.wav\u001b[0m  \u001b[00;36m2.wav\u001b[0m  \u001b[00;36m3.wav\u001b[0m  \u001b[00;36m4.wav\u001b[0m  \u001b[00;36m5.wav\u001b[0m  \u001b[00;36m6.wav\u001b[0m  \u001b[00;36m7.wav\u001b[0m\r\n"
     ]
    }
   ],
   "source": [
    "ls CJLC-0.1/"
   ]
  },
  {
   "cell_type": "markdown",
   "metadata": {},
   "source": [
    "## 単語頻度リスト\n",
    "[N-gram コーパス - 日本語ウェブコーパス 2010](http://s-yata.jp/corpus/nwc2010/ngrams/)"
   ]
  },
  {
   "cell_type": "code",
   "execution_count": 9,
   "metadata": {},
   "outputs": [
    {
     "name": "stdout",
     "output_type": "stream",
     "text": [
      "--2018-02-15 13:39:24--  http://dist.s-yata.jp/corpus/nwc2010/ngrams/word/over999/filelist\n",
      "dist.s-yata.jp (dist.s-yata.jp) をDNSに問いあわせています... 54.230.109.244, 54.230.109.220, 54.230.109.65, ...\n",
      "dist.s-yata.jp (dist.s-yata.jp)|54.230.109.244|:80 に接続しています... 接続しました。\n",
      "HTTP による接続要求を送信しました、応答を待っています... 200 OK\n",
      "長さ: 518 [text/plain]\n",
      "`filelist' に保存中\n",
      "\n",
      "filelist            100%[===================>]     518  --.-KB/s    in 0s      \n",
      "\n",
      "2018-02-15 13:39:29 (72.2 MB/s) - `filelist' へ保存完了 [518/518]\n",
      "\n"
     ]
    }
   ],
   "source": [
    "!wget http://dist.s-yata.jp/corpus/nwc2010/ngrams/word/over999/filelist"
   ]
  },
  {
   "cell_type": "code",
   "execution_count": 10,
   "metadata": {},
   "outputs": [
    {
     "name": "stdout",
     "output_type": "stream",
     "text": [
      "http://dist.s-yata.jp/corpus/nwc2010/ngrams/word/over999/1gms/1gm-0000.xz\r\n",
      "http://dist.s-yata.jp/corpus/nwc2010/ngrams/word/over999/2gms/2gm-0000.xz\r\n",
      "http://dist.s-yata.jp/corpus/nwc2010/ngrams/word/over999/3gms/3gm-0000.xz\r\n",
      "http://dist.s-yata.jp/corpus/nwc2010/ngrams/word/over999/4gms/4gm-0000.xz\r\n",
      "http://dist.s-yata.jp/corpus/nwc2010/ngrams/word/over999/5gms/5gm-0000.xz\r\n",
      "http://dist.s-yata.jp/corpus/nwc2010/ngrams/word/over999/6gms/6gm-0000.xz\r\n",
      "http://dist.s-yata.jp/corpus/nwc2010/ngrams/word/over999/7gms/7gm-0000.xz\r\n"
     ]
    }
   ],
   "source": [
    "cat filelist"
   ]
  },
  {
   "cell_type": "code",
   "execution_count": 11,
   "metadata": {},
   "outputs": [
    {
     "name": "stdout",
     "output_type": "stream",
     "text": [
      "--2018-02-15 13:39:44--  http://dist.s-yata.jp/corpus/nwc2010/ngrams/word/over999/1gms/1gm-0000.xz\n",
      "dist.s-yata.jp (dist.s-yata.jp) をDNSに問いあわせています... 54.230.109.37, 54.230.109.32, 54.230.109.57, ...\n",
      "dist.s-yata.jp (dist.s-yata.jp)|54.230.109.37|:80 に接続しています... 接続しました。\n",
      "HTTP による接続要求を送信しました、応答を待っています... 200 OK\n",
      "長さ: 1334924 (1.3M) [binary/octet-stream]\n",
      "`1gm-0000.xz' に保存中\n",
      "\n",
      "1gm-0000.xz         100%[===================>]   1.27M   430KB/s    in 3.0s    \n",
      "\n",
      "2018-02-15 13:39:50 (430 KB/s) - `1gm-0000.xz' へ保存完了 [1334924/1334924]\n",
      "\n"
     ]
    }
   ],
   "source": [
    "!wget http://dist.s-yata.jp/corpus/nwc2010/ngrams/word/over999/1gms/1gm-0000.xz"
   ]
  },
  {
   "cell_type": "code",
   "execution_count": 19,
   "metadata": {},
   "outputs": [
    {
     "name": "stdout",
     "output_type": "stream",
     "text": [
      "./1gm-0000.xz: XZ\n",
      "  1gm-0000... OK.\n",
      "Successfully extracted to \"./1gm-0000\".\n"
     ]
    }
   ],
   "source": [
    "!unar ./1gm-0000.xz"
   ]
  },
  {
   "cell_type": "code",
   "execution_count": 21,
   "metadata": {
    "collapsed": true
   },
   "outputs": [],
   "source": [
    "rm ./1gm-0000.xz"
   ]
  },
  {
   "cell_type": "code",
   "execution_count": 22,
   "metadata": {},
   "outputs": [
    {
     "name": "stdout",
     "output_type": "stream",
     "text": [
      "\"\t11435722\r\n",
      "\"\"\t57986\r\n",
      "\"\"\"\t1378\r\n",
      "\"%\t1360\r\n",
      "\"&\"\t1524\r\n",
      "\"'\t2146\r\n",
      "\"(\t70566\r\n",
      "\")\t23483\r\n",
      "\"*\"\t1965\r\n",
      "\"+\t1074\r\n"
     ]
    }
   ],
   "source": [
    "!head ./1gm-0000"
   ]
  },
  {
   "cell_type": "markdown",
   "metadata": {},
   "source": [
    "## Julius model"
   ]
  },
  {
   "cell_type": "code",
   "execution_count": 23,
   "metadata": {},
   "outputs": [
    {
     "name": "stdout",
     "output_type": "stream",
     "text": [
      "--2018-02-15 14:08:12--  https://osdn.net/projects/julius/downloads/68910/ssr-kit-v4.4.2.1a.zip/\n",
      "osdn.net (osdn.net) をDNSに問いあわせています... 202.221.179.17\n",
      "osdn.net (osdn.net)|202.221.179.17|:443 に接続しています... 接続しました。\n",
      "HTTP による接続要求を送信しました、応答を待っています... 302 Found\n",
      "場所: https://osdn.net/frs/redir.php?m=jaist&f=julius%2F68910%2Fssr-kit-v4.4.2.1a.zip [続く]\n",
      "--2018-02-15 14:08:12--  https://osdn.net/frs/redir.php?m=jaist&f=julius%2F68910%2Fssr-kit-v4.4.2.1a.zip\n",
      "osdn.net:443 への接続を再利用します。\n",
      "HTTP による接続要求を送信しました、応答を待っています... 302 Found\n",
      "場所: http://jaist.dl.osdn.jp/julius/68910/ssr-kit-v4.4.2.1a.zip [続く]\n",
      "--2018-02-15 14:08:12--  http://jaist.dl.osdn.jp/julius/68910/ssr-kit-v4.4.2.1a.zip\n",
      "jaist.dl.osdn.jp (jaist.dl.osdn.jp) をDNSに問いあわせています... 150.65.7.130, 2001:df0:2ed:feed::feed\n",
      "jaist.dl.osdn.jp (jaist.dl.osdn.jp)|150.65.7.130|:80 に接続しています... 接続しました。\n",
      "HTTP による接続要求を送信しました、応答を待っています... 200 OK\n",
      "長さ: 245369672 (234M) [application/zip]\n",
      "`index.html' に保存中\n",
      "\n",
      "index.html          100%[===================>] 234.00M   347KB/s    in 9m 39s  \n",
      "\n",
      "2018-02-15 14:17:53 (414 KB/s) - `index.html' へ保存完了 [245369672/245369672]\n",
      "\n"
     ]
    }
   ],
   "source": [
    "!wget https://osdn.net/projects/julius/downloads/68910/ssr-kit-v4.4.2.1a.zip/"
   ]
  },
  {
   "cell_type": "code",
   "execution_count": 24,
   "metadata": {},
   "outputs": [
    {
     "name": "stdout",
     "output_type": "stream",
     "text": [
      "./index.html: Zip\n",
      "  ssr-kit-v4.4.2.1a/  (dir)... OK.\n",
      "  ssr-kit-v4.4.2.1a/models/  (dir)... OK.\n",
      "  ssr-kit-v4.4.2.1a/models/logicalTri.bin  (276654823 B)... OK.\n",
      "  ssr-kit-v4.4.2.1a/models/binhmm.SID  (54725360 B)... OK.\n",
      "  ssr-kit-v4.4.2.1a/models/config.lmfb  (290 B)... OK.\n",
      "  ssr-kit-v4.4.2.1a/models/norm  (6046 B)... OK.\n",
      "  ssr-kit-v4.4.2.1a/models/prior  (125028 B)... OK.\n",
      "  ssr-kit-v4.4.2.1a/models/W_l1_f4.npy  (10813520 B)... OK.\n",
      "  ssr-kit-v4.4.2.1a/models/W_l2_f4.npy  (16777296 B)... OK.\n",
      "  ssr-kit-v4.4.2.1a/models/W_l3_f4.npy  (16777296 B)... OK.\n",
      "  ssr-kit-v4.4.2.1a/models/W_l4_f4.npy  (16777296 B)... OK.\n",
      "  ssr-kit-v4.4.2.1a/models/W_l5_f4.npy  (16777296 B)... OK.\n",
      "  ssr-kit-v4.4.2.1a/models/W_l6_f4.npy  (16777296 B)... OK.\n",
      "  ssr-kit-v4.4.2.1a/models/W_l7_f4.npy  (16777296 B)... OK.\n",
      "  ssr-kit-v4.4.2.1a/models/W_output_f4.npy  (39927888 B)... OK.\n",
      "  ssr-kit-v4.4.2.1a/models/bias_l1_f4.npy  (8272 B)... OK.\n",
      "  ssr-kit-v4.4.2.1a/models/bias_l2_f4.npy  (8272 B)... OK.\n",
      "  ssr-kit-v4.4.2.1a/models/bias_l3_f4.npy  (8272 B)... OK.\n",
      "  ssr-kit-v4.4.2.1a/models/bias_l4_f4.npy  (8272 B)... OK.\n",
      "  ssr-kit-v4.4.2.1a/models/bias_l5_f4.npy  (8272 B)... OK.\n",
      "  ssr-kit-v4.4.2.1a/models/bias_l6_f4.npy  (8272 B)... OK.\n",
      "  ssr-kit-v4.4.2.1a/models/bias_l7_f4.npy  (8272 B)... OK.\n",
      "  ssr-kit-v4.4.2.1a/models/bias_output_f4.npy  (19576 B)... OK.\n",
      "  ssr-kit-v4.4.2.1a/models/00readme.txt  (1988 B)... OK.\n",
      "  ssr-kit-v4.4.2.1a/models/csj.bingram  (10769377 B)... OK.\n",
      "  ssr-kit-v4.4.2.1a/models/csj.pdp.htkdic  (2196937 B)... OK.\n",
      "  ssr-kit-v4.4.2.1a/run.bat  (57 B)... OK.\n",
      "  ssr-kit-v4.4.2.1a/main.dnnconf  (689 B)... OK.\n",
      "  ssr-kit-v4.4.2.1a/julius.exe  (1114250 B)... OK.\n",
      "  ssr-kit-v4.4.2.1a/main.jconf  (13067 B)... OK.\n",
      "  ssr-kit-v4.4.2.1a/adintool-gui.exe  (4578938 B)... OK.\n",
      "  ssr-kit-v4.4.2.1a/dictool.exe  (8894520 B)... OK.\n",
      "  ssr-kit-v4.4.2.1a/00readme.txt  (965 B)... OK.\n",
      "Successfully extracted to \"./ssr-kit-v4.4.2.1a\".\n"
     ]
    }
   ],
   "source": [
    "!unar ./index.html"
   ]
  },
  {
   "cell_type": "code",
   "execution_count": 25,
   "metadata": {
    "collapsed": true
   },
   "outputs": [],
   "source": [
    "rm ./index.html"
   ]
  },
  {
   "cell_type": "code",
   "execution_count": 26,
   "metadata": {},
   "outputs": [
    {
     "name": "stdout",
     "output_type": "stream",
     "text": [
      "00readme.txt       \u001b[0m\u001b[01;32mdictool.exe\u001b[0m*  main.dnnconf  \u001b[01;34mmodels\u001b[0m/\r\n",
      "\u001b[01;32madintool-gui.exe\u001b[0m*  \u001b[01;32mjulius.exe\u001b[0m*   main.jconf    \u001b[01;32mrun.bat\u001b[0m*\r\n"
     ]
    }
   ],
   "source": [
    "ls ssr-kit-v4.4.2.1a/"
   ]
  },
  {
   "cell_type": "code",
   "execution_count": 27,
   "metadata": {},
   "outputs": [
    {
     "name": "stdout",
     "output_type": "stream",
     "text": [
      "<sil>\t[]\tsp_S\r",
      "\r\n",
      "<sil>\t[]\tsp_S\r",
      "\r\n",
      "<sp>\t[]\tsp_S\r",
      "\r\n",
      "�D+�e��+����\t[�D]\tt_B e_I N_E\r",
      "\r\n",
      "��+�}��+����\t[��]\tm_B a_I r_I u_E\r",
      "\r\n",
      "�O�D�T��+���[�e���S�p�C+����\t[�O�D�T��]\tr_B e:_I t_I e_I N_I g_I o_I p_I a_I i_E\r",
      "\r\n",
      "�O���a+�[���f�B�[�r�[+����\t[�O���a]\tz_B e_I r_I o_I d_I i:_I b_I i:_E\r",
      "\r\n",
      "�P�O�O�O�b�b+�Z���V�[�V�[+����\t[�P�O�O�O�b�b]\ts_B e_I N_I sh_I i:_I sh_I i:_E\r",
      "\r\n",
      "�P�O�O�b�b+�q���N�V�[�V�[+����\t[�P�O�O�b�b]\thy_B a_I k_I u_I sh_I i:_I sh_I i:_E\r",
      "\r\n",
      "�P�O�`+�W���[�G�[+����\t[�P�O�`]\tj_B u:_I e:_E\r",
      "\r\n"
     ]
    }
   ],
   "source": [
    "!head ./ssr-kit-v4.4.2.1a/models/csj.pdp.htkdic"
   ]
  },
  {
   "cell_type": "code",
   "execution_count": 29,
   "metadata": {},
   "outputs": [
    {
     "name": "stdout",
     "output_type": "stream",
     "text": [
      "38598 ./ssr-kit-v4.4.2.1a/models/csj.pdp.htkdic\r\n"
     ]
    }
   ],
   "source": [
    "!wc -l ./ssr-kit-v4.4.2.1a/models/csj.pdp.htkdic"
   ]
  },
  {
   "cell_type": "code",
   "execution_count": 30,
   "metadata": {
    "collapsed": true
   },
   "outputs": [],
   "source": [
    "cp ./ssr-kit-v4.4.2.1a/models/csj.pdp.htkdic ./"
   ]
  },
  {
   "cell_type": "code",
   "execution_count": 35,
   "metadata": {},
   "outputs": [],
   "source": [
    "mv ./ssr-kit-v4.4.2.1a/ ../../lib/"
   ]
  },
  {
   "cell_type": "markdown",
   "metadata": {},
   "source": [
    "## Dictation kit"
   ]
  },
  {
   "cell_type": "code",
   "execution_count": 37,
   "metadata": {},
   "outputs": [
    {
     "name": "stdout",
     "output_type": "stream",
     "text": [
      "--2018-02-15 15:49:53--  https://osdn.net/projects/julius/downloads/66544/dictation-kit-v4.4.zip/\n",
      "osdn.net (osdn.net) をDNSに問いあわせています... 202.221.179.17\n",
      "osdn.net (osdn.net)|202.221.179.17|:443 に接続しています... 接続しました。\n",
      "HTTP による接続要求を送信しました、応答を待っています... 302 Found\n",
      "場所: https://osdn.net/frs/redir.php?m=jaist&f=julius%2F66544%2Fdictation-kit-v4.4.zip [続く]\n",
      "--2018-02-15 15:49:53--  https://osdn.net/frs/redir.php?m=jaist&f=julius%2F66544%2Fdictation-kit-v4.4.zip\n",
      "osdn.net:443 への接続を再利用します。\n",
      "HTTP による接続要求を送信しました、応答を待っています... 302 Found\n",
      "場所: http://jaist.dl.osdn.jp/julius/66544/dictation-kit-v4.4.zip [続く]\n",
      "--2018-02-15 15:49:53--  http://jaist.dl.osdn.jp/julius/66544/dictation-kit-v4.4.zip\n",
      "jaist.dl.osdn.jp (jaist.dl.osdn.jp) をDNSに問いあわせています... 150.65.7.130, 2001:df0:2ed:feed::feed\n",
      "jaist.dl.osdn.jp (jaist.dl.osdn.jp)|150.65.7.130|:80 に接続しています... 接続しました。\n",
      "HTTP による接続要求を送信しました、応答を待っています... 200 OK\n",
      "長さ: 426837341 (407M) [application/zip]\n",
      "`index.html' に保存中\n",
      "\n",
      "index.html           10%[=>                  ]  42.11M   345KB/s    in 3m 5s   \n",
      "\n",
      "2018-02-15 15:52:59 (233 KB/s) - 44152096 バイトで接続が終了しました。 再試行しています。\n",
      "\n",
      "--2018-02-15 15:53:00--  (試行: 2)  http://jaist.dl.osdn.jp/julius/66544/dictation-kit-v4.4.zip\n",
      "jaist.dl.osdn.jp (jaist.dl.osdn.jp)|150.65.7.130|:80 に接続しています... 接続しました。\n",
      "HTTP による接続要求を送信しました、応答を待っています... 206 Partial Content\n",
      "長さ: 426837341 (407M), 382685245 (365M) 残っています [application/zip]\n",
      "`index.html' に保存中\n",
      "\n",
      "index.html          100%[++=================>] 407.06M   598KB/s    in 16m 10s \n",
      "\n",
      "2018-02-15 16:09:09 (385 KB/s) - `index.html' へ保存完了 [426837341/426837341]\n",
      "\n"
     ]
    }
   ],
   "source": [
    "!wget https://osdn.net/projects/julius/downloads/66544/dictation-kit-v4.4.zip/"
   ]
  },
  {
   "cell_type": "code",
   "execution_count": 43,
   "metadata": {
    "scrolled": true
   },
   "outputs": [
    {
     "name": "stdout",
     "output_type": "stream",
     "text": [
      "index.html: Zip\n",
      "  dictation-kit-v4.4/  (dir)... OK.\n",
      "  dictation-kit-v4.4/00readme.txt  (5084 B)... OK.\n",
      "  dictation-kit-v4.4/HOWTO-dnncli.txt  (6006 B)... OK.\n",
      "  dictation-kit-v4.4/HOWTO.txt  (4516 B)... OK.\n",
      "  dictation-kit-v4.4/LICENSE.txt  (7659 B)... OK.\n",
      "  dictation-kit-v4.4/README.md  (2019 B)... OK.\n",
      "  dictation-kit-v4.4/TROUBLE.txt  (3136 B)... OK.\n",
      "  dictation-kit-v4.4/am-dnn.jconf  (377 B)... OK.\n",
      "  dictation-kit-v4.4/am-gmm.jconf  (317 B)... OK.\n",
      "  dictation-kit-v4.4/dnnclient.conf  (633 B)... OK.\n",
      "  dictation-kit-v4.4/julius.dnnconf  (733 B)... OK.\n",
      "  dictation-kit-v4.4/main.jconf  (13031 B)... OK.\n",
      "  dictation-kit-v4.4/run-linux-dnn.sh  (94 B)... OK.\n",
      "  dictation-kit-v4.4/run-linux-dnncli.sh  (357 B)... OK.\n",
      "  dictation-kit-v4.4/run-linux-gmm.sh  (70 B)... OK.\n",
      "  dictation-kit-v4.4/run-osx-dnn.sh  (92 B)... OK.\n",
      "  dictation-kit-v4.4/run-osx-dnncli.sh  (353 B)... OK.\n",
      "  dictation-kit-v4.4/run-osx-gmm.sh  (68 B)... OK.\n",
      "  dictation-kit-v4.4/run-win-dnn.bat  (107 B)... OK.\n",
      "  dictation-kit-v4.4/run-win-dnncli.bat  (368 B)... OK.\n",
      "  dictation-kit-v4.4/run-win-gmm.bat  (83 B)... OK.\n",
      "  dictation-kit-v4.4/src/  (dir)... OK.\n",
      "  dictation-kit-v4.4/src/julius-4.4.2.tar.gz  (8262474 B)... OK.\n",
      "  dictation-kit-v4.4/src/julius-4.4.2.zip  (9068564 B)... OK.\n",
      "  dictation-kit-v4.4/bin/  (dir)... OK.\n",
      "  dictation-kit-v4.4/doc/  (dir)... OK.\n",
      "  dictation-kit-v4.4/doc/00readme-ja.txt  (5828 B)... OK.\n",
      "  dictation-kit-v4.4/doc/00readme.txt  (5533 B)... OK.\n",
      "  dictation-kit-v4.4/doc/LICENSE.txt  (9067 B)... OK.\n",
      "  dictation-kit-v4.4/doc/Release-ja.txt  (29617 B)... OK.\n",
      "  dictation-kit-v4.4/doc/Release.txt  (32572 B)... OK.\n",
      "  dictation-kit-v4.4/doc/Sample.dnnconf  (2061 B)... OK.\n",
      "  dictation-kit-v4.4/doc/Sample.jconf  (15181 B)... OK.\n",
      "  dictation-kit-v4.4/model/  (dir)... OK.\n",
      "  dictation-kit-v4.4/bin/common/  (dir)... OK.\n",
      "  dictation-kit-v4.4/bin/common/dnnclient-gpu.py  (7847 B)... OK.\n",
      "  dictation-kit-v4.4/bin/common/dnnclient.py  (6194 B)... OK.\n",
      "  dictation-kit-v4.4/bin/common/jclient.pl  (1301 B)... OK.\n",
      "  dictation-kit-v4.4/bin/linux/  (dir)... OK.\n",
      "  dictation-kit-v4.4/bin/linux/adinrec  (613466 B)... OK.\n",
      "  dictation-kit-v4.4/bin/linux/adintool  (635762 B)... OK.\n",
      "  dictation-kit-v4.4/bin/linux/jcontrol  (43302 B)... OK.\n",
      "  dictation-kit-v4.4/bin/linux/julius  (677152 B)... OK.\n",
      "  dictation-kit-v4.4/bin/osx/  (dir)... OK.\n",
      "  dictation-kit-v4.4/bin/osx/adinrec  (623380 B)... OK.\n",
      "  dictation-kit-v4.4/bin/osx/adintool  (647468 B)... OK.\n",
      "  dictation-kit-v4.4/bin/osx/jcontrol  (23800 B)... OK.\n",
      "  dictation-kit-v4.4/bin/osx/julius  (690356 B)... OK.\n",
      "  dictation-kit-v4.4/bin/windows/  (dir)... OK.\n",
      "  dictation-kit-v4.4/bin/windows/adinrec.exe  (871265 B)... OK.\n",
      "  dictation-kit-v4.4/bin/windows/adintool-gui.exe  (4578938 B)... OK.\n",
      "  dictation-kit-v4.4/bin/windows/adintool.exe  (894117 B)... OK.\n",
      "  dictation-kit-v4.4/bin/windows/jcontrol.exe  (94396 B)... OK.\n",
      "  dictation-kit-v4.4/bin/windows/julius.exe  (940716 B)... OK.\n",
      "  dictation-kit-v4.4/doc/manuals-ja/  (dir)... OK.\n",
      "  dictation-kit-v4.4/doc/manuals-ja/adinrec.txt  (4937 B)... OK.\n",
      "  dictation-kit-v4.4/doc/manuals-ja/adintool.txt  (9297 B)... OK.\n",
      "  dictation-kit-v4.4/doc/manuals-ja/jcontrol.txt  (7095 B)... OK.\n",
      "  dictation-kit-v4.4/doc/manuals-ja/julius.txt  (45966 B)... OK.\n",
      "  dictation-kit-v4.4/doc/manuals/  (dir)... OK.\n",
      "  dictation-kit-v4.4/doc/manuals/adinrec.txt  (4537 B)... OK.\n",
      "  dictation-kit-v4.4/doc/manuals/adintool-gui.txt  (2224 B)... OK.\n",
      "  dictation-kit-v4.4/doc/manuals/adintool.txt  (9354 B)... OK.\n",
      "  dictation-kit-v4.4/doc/manuals/jcontrol.txt  (7185 B)... OK.\n",
      "  dictation-kit-v4.4/doc/manuals/julius.txt  (63702 B)... OK.\n",
      "  dictation-kit-v4.4/model/lang_m/  (dir)... OK.\n",
      "  dictation-kit-v4.4/model/lang_m/00readme.txt  (1764 B)... OK.\n",
      "  dictation-kit-v4.4/model/lang_m/bccwj.60k.bingram  (95946803 B)... OK.\n",
      "  dictation-kit-v4.4/model/lang_m/bccwj.60k.htkdic  (2691767 B)... OK.\n",
      "  dictation-kit-v4.4/model/lang_m/bccwj.60k.pdp.htkdic  (3423967 B)... OK.\n",
      "  dictation-kit-v4.4/model/lang_m/bccwj.60k.tri.arpa.gz  (85160727 B)... OK.\n",
      "  dictation-kit-v4.4/model/phone_m/  (dir)... OK.\n",
      "  dictation-kit-v4.4/model/phone_m/00readme.txt  (1437 B)... OK.\n",
      "  dictation-kit-v4.4/model/phone_m/jnas-mono-16mix-gid.binhmm  (464512 B)... OK.\n",
      "  dictation-kit-v4.4/model/phone_m/jnas-mono-16mix-gid.hmmdefs  (1539405 B)... OK.\n",
      "  dictation-kit-v4.4/model/phone_m/jnas-tri-3k16-gid.binhmm  (11287607 B)... OK.\n",
      "  dictation-kit-v4.4/model/phone_m/jnas-tri-3k16-gid.hmmdefs  (37586375 B)... OK.\n",
      "  dictation-kit-v4.4/model/phone_m/jnas-tri-rtree.base  (1101112 B)... OK.\n",
      "  dictation-kit-v4.4/model/phone_m/jnas-tri-rtree.tree  (1118 B)... OK.\n",
      "  dictation-kit-v4.4/model/phone_m/logicalTri  (239211 B)... OK.\n",
      "  dictation-kit-v4.4/model/phone_m/logicalTri-3k16-gid.bin  (1213799 B)... OK.\n",
      "  dictation-kit-v4.4/model/dnn/  (dir)... OK.\n",
      "  dictation-kit-v4.4/model/dnn/00readme.txt  (1422 B)... OK.\n",
      "  dictation-kit-v4.4/model/dnn/W_l1_f4.npy  (10813520 B)... OK.\n",
      "  dictation-kit-v4.4/model/dnn/W_l2_f4.npy  (16777296 B)... OK.\n",
      "  dictation-kit-v4.4/model/dnn/W_l3_f4.npy  (16777296 B)... OK.\n",
      "  dictation-kit-v4.4/model/dnn/W_l4_f4.npy  (16777296 B)... OK.\n",
      "  dictation-kit-v4.4/model/dnn/W_l5_f4.npy  (16777296 B)... OK.\n",
      "  dictation-kit-v4.4/model/dnn/W_l6_f4.npy  (16777296 B)... OK.\n",
      "  dictation-kit-v4.4/model/dnn/W_l7_f4.npy  (16777296 B)... OK.\n",
      "  dictation-kit-v4.4/model/dnn/W_output_f4.npy  (39927888 B)... OK.\n",
      "  dictation-kit-v4.4/model/dnn/bias_l1_f4.npy  (8272 B)... OK.\n",
      "  dictation-kit-v4.4/model/dnn/bias_l2_f4.npy  (8272 B)... OK.\n",
      "  dictation-kit-v4.4/model/dnn/bias_l3_f4.npy  (8272 B)... OK.\n",
      "  dictation-kit-v4.4/model/dnn/bias_l4_f4.npy  (8272 B)... OK.\n",
      "  dictation-kit-v4.4/model/dnn/bias_l5_f4.npy  (8272 B)... OK.\n",
      "  dictation-kit-v4.4/model/dnn/bias_l6_f4.npy  (8272 B)... OK.\n",
      "  dictation-kit-v4.4/model/dnn/bias_l7_f4.npy  (8272 B)... OK.\n",
      "  dictation-kit-v4.4/model/dnn/bias_output_f4.npy  (19576 B)... OK.\n",
      "  dictation-kit-v4.4/model/dnn/binhmm.SID  (54725360 B)... OK.\n",
      "  dictation-kit-v4.4/model/dnn/config.lmfb  (290 B)... OK.\n",
      "  dictation-kit-v4.4/model/dnn/logicalTri  (117912965 B)... OK.\n",
      "  dictation-kit-v4.4/model/dnn/logicalTri.bin  (276654823 B)... OK.\n",
      "  dictation-kit-v4.4/model/dnn/norm  (6046 B)... OK.\n",
      "  dictation-kit-v4.4/model/dnn/prior  (125028 B)... OK.\n",
      "Successfully extracted to \"./dictation-kit-v4.4\".\n"
     ]
    }
   ],
   "source": [
    "!unar index.html"
   ]
  },
  {
   "cell_type": "code",
   "execution_count": 48,
   "metadata": {},
   "outputs": [],
   "source": [
    "mv ./dictation-kit-v4.4/bin/linux/julius ../../lib/"
   ]
  },
  {
   "cell_type": "code",
   "execution_count": null,
   "metadata": {
    "collapsed": true
   },
   "outputs": [],
   "source": []
  }
 ],
 "metadata": {
  "kernelspec": {
   "display_name": "Python 3",
   "language": "python",
   "name": "python3"
  },
  "language_info": {
   "codemirror_mode": {
    "name": "ipython",
    "version": 3
   },
   "file_extension": ".py",
   "mimetype": "text/x-python",
   "name": "python",
   "nbconvert_exporter": "python",
   "pygments_lexer": "ipython3",
   "version": "3.6.3"
  }
 },
 "nbformat": 4,
 "nbformat_minor": 2
}
