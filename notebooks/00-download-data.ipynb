{
 "cells": [
  {
   "cell_type": "code",
   "execution_count": 2,
   "metadata": {},
   "outputs": [
    {
     "name": "stdout",
     "output_type": "stream",
     "text": [
      "/Users/showta/project/wovle/data/external\n"
     ]
    }
   ],
   "source": [
    "cd ../data/external"
   ]
  },
  {
   "cell_type": "markdown",
   "metadata": {},
   "source": [
    "## 講義音声\n",
    "[日本語講義音声コンテンツコーパス](http://www.slp.cs.tut.ac.jp/CJLC/)"
   ]
  },
  {
   "cell_type": "code",
   "execution_count": 2,
   "metadata": {},
   "outputs": [
    {
     "name": "stdout",
     "output_type": "stream",
     "text": [
      "--2018-02-24 15:54:10--  http://www.slp.cs.tut.ac.jp/CJLC/CJLC-0.1.tar.bz2\n",
      "www.slp.cs.tut.ac.jp (www.slp.cs.tut.ac.jp) をDNSに問いあわせています... 133.15.48.32\n",
      "www.slp.cs.tut.ac.jp (www.slp.cs.tut.ac.jp)|133.15.48.32|:80 に接続しています... 接続しました。\n",
      "HTTP による接続要求を送信しました、応答を待っています... 200 OK\n",
      "長さ: 625443001 (596M) [application/x-bzip2]\n",
      "`CJLC-0.1.tar.bz2' に保存中\n",
      "\n",
      "CJLC-0.1.tar.bz2    100%[===================>] 596.47M  4.34MB/s 時間 86s        \n",
      "\n",
      "2018-02-24 15:55:36 (6.92 MB/s) - `CJLC-0.1.tar.bz2' へ保存完了 [625443001/625443001]\n",
      "\n"
     ]
    }
   ],
   "source": [
    "!wget http://www.slp.cs.tut.ac.jp/CJLC/CJLC-0.1.tar.bz2"
   ]
  },
  {
   "cell_type": "code",
   "execution_count": 3,
   "metadata": {},
   "outputs": [
    {
     "name": "stdout",
     "output_type": "stream",
     "text": [
      "CJLC-0.1.tar.bz2: Tar in Bzip2\n",
      "  CJLC-0.1/  (dir)... OK.\n",
      "  CJLC-0.1/manual.pdf  (60276 B)... OK.\n",
      "  CJLC-0.1/data/  (dir)... OK.\n",
      "  CJLC-0.1/data/L11M0010.ppt  (13766656 B)... OK.\n",
      "  CJLC-0.1/data/L11M0010.wav  (130055903 B)... OK.\n",
      "  CJLC-0.1/data/L11M0010.wav2  (130092847 B)... OK.\n",
      "  CJLC-0.1/data/L11M0010.xml  (248040 B)... OK.\n",
      "  CJLC-0.1/data/L11M0011.wav  (105515026 B)... OK.\n",
      "  CJLC-0.1/data/L11M0011.xml  (160641 B)... OK.\n",
      "  CJLC-0.1/data/L11M0013.wav  (144911228 B)... OK.\n",
      "  CJLC-0.1/data/L11M0013.xml  (205027 B)... OK.\n",
      "  CJLC-0.1/data/L11M0030.ppt  (8857088 B)... OK.\n",
      "  CJLC-0.1/data/L11M0030.wav  (126382785 B)... OK.\n",
      "  CJLC-0.1/data/L11M0030.wav2  (126396668 B)... OK.\n",
      "  CJLC-0.1/data/L11M0030.xml  (244431 B)... OK.\n",
      "  CJLC-0.1/data/L11M0040.wav  (133397184 B)... OK.\n",
      "  CJLC-0.1/data/L11M0040.xml  (139561 B)... OK.\n",
      "  CJLC-0.1/data/L11M0062.wav  (93801106 B)... OK.\n",
      "  CJLC-0.1/data/L11M0062.xml  (196757 B)... OK.\n",
      "  CJLC-0.1/data/L11M0071.wav  (83661982 B)... OK.\n",
      "  CJLC-0.1/data/L11M0071.xml  (187666 B)... OK.\n",
      "Successfully extracted to \"CJLC-0.1\".\n"
     ]
    }
   ],
   "source": [
    "!unar CJLC-0.1.tar.bz2"
   ]
  },
  {
   "cell_type": "code",
   "execution_count": 4,
   "metadata": {
    "collapsed": true
   },
   "outputs": [],
   "source": [
    "rm CJLC-0.1.tar.bz2"
   ]
  },
  {
   "cell_type": "code",
   "execution_count": 5,
   "metadata": {
    "collapsed": true
   },
   "outputs": [],
   "source": [
    "mv CJLC-0.1/ CJLC-0.1_v"
   ]
  },
  {
   "cell_type": "code",
   "execution_count": 6,
   "metadata": {
    "collapsed": true
   },
   "outputs": [],
   "source": [
    "mkdir CJLC-0.1"
   ]
  },
  {
   "cell_type": "code",
   "execution_count": 7,
   "metadata": {
    "collapsed": true
   },
   "outputs": [],
   "source": [
    "%%bash\n",
    "mv CJLC-0.1_v/data/L11M0010.wav CJLC-0.1/1.wav\n",
    "mv CJLC-0.1_v/data/L11M0011.wav CJLC-0.1/2.wav\n",
    "mv CJLC-0.1_v/data/L11M0013.wav CJLC-0.1/3.wav\n",
    "mv CJLC-0.1_v/data/L11M0030.wav CJLC-0.1/4.wav\n",
    "mv CJLC-0.1_v/data/L11M0040.wav CJLC-0.1/5.wav\n",
    "mv CJLC-0.1_v/data/L11M0062.wav CJLC-0.1/6.wav\n",
    "mv CJLC-0.1_v/data/L11M0071.wav CJLC-0.1/7.wav\n",
    "\n",
    "mv CJLC-0.1_v/data/L11M0010.xml CJLC-0.1/1.xml\n",
    "mv CJLC-0.1_v/data/L11M0011.xml CJLC-0.1/2.xml\n",
    "mv CJLC-0.1_v/data/L11M0013.xml CJLC-0.1/3.xml\n",
    "mv CJLC-0.1_v/data/L11M0030.xml CJLC-0.1/4.xml\n",
    "mv CJLC-0.1_v/data/L11M0040.xml CJLC-0.1/5.xml\n",
    "mv CJLC-0.1_v/data/L11M0062.xml CJLC-0.1/6.xml\n",
    "mv CJLC-0.1_v/data/L11M0071.xml CJLC-0.1/7.xml"
   ]
  },
  {
   "cell_type": "code",
   "execution_count": 8,
   "metadata": {
    "collapsed": true
   },
   "outputs": [],
   "source": [
    "rm -r CJLC-0.1_v/"
   ]
  },
  {
   "cell_type": "code",
   "execution_count": 9,
   "metadata": {
    "collapsed": true,
    "scrolled": false
   },
   "outputs": [],
   "source": [
    "%%bash\n",
    "\n",
    "for i in `seq 7`\n",
    "do\n",
    "    python ../../src/data/xml_to_plain.py ../../data/external/CJLC-0.1/$i.xml \\\n",
    "    > ../../data/external/CJLC-0.1/$i.txt\n",
    "done"
   ]
  },
  {
   "cell_type": "code",
   "execution_count": 10,
   "metadata": {},
   "outputs": [
    {
     "name": "stdout",
     "output_type": "stream",
     "text": [
      "大学院の講義でですね科目名は電子計算機応用特論二となってるんですかねで実際の内容としては音声言語の認識と理解音声言語情報処理というような分野に対して講義したいと思います\r\n",
      "で\r\n",
      "講義の内容は九回分を用意しています九週間分ですねで一回百五十分ということなんですが今日はですね一回目というので音声の基礎音声分析\r\n",
      "というような内容を講義します\r\n",
      "で二回目が音声認識の基礎\r\n",
      "とＤＰマッチングというダイナミックプログラミングあるいは動的計画法と呼ばれているマッチング方法ですね時系列の\r\n",
      "マッチング方法これは音声だけでなくって画像とか遺伝子解析とかそういうよな分野でもよく使われている自然言語処理にも使われています\r\n",
      "パターン認識関係では基本的なマッチング手法ですね\r\n",
      "で三回目の講義ではこの連続音声の認識私が今いちとかにとかさんとか言えばみなさん数字を認識できると思いますけどねそれをいちよんごとか連続して喋った場合も認識したいと\r\n",
      "そういうよな場合にこのＤＰマッチングをいかに拡張するか\r\n"
     ]
    }
   ],
   "source": [
    "!head CJLC-0.1/1.txt"
   ]
  },
  {
   "cell_type": "code",
   "execution_count": 11,
   "metadata": {
    "collapsed": true
   },
   "outputs": [],
   "source": [
    "rm CJLC-0.1/*.xml"
   ]
  },
  {
   "cell_type": "code",
   "execution_count": 12,
   "metadata": {},
   "outputs": [
    {
     "name": "stdout",
     "output_type": "stream",
     "text": [
      "1.txt  2.txt  3.txt  4.txt  5.txt  6.txt  7.txt\r\n",
      "1.wav  2.wav  3.wav  4.wav  5.wav  6.wav  7.wav\r\n"
     ]
    }
   ],
   "source": [
    "ls CJLC-0.1/"
   ]
  },
  {
   "cell_type": "markdown",
   "metadata": {},
   "source": [
    "## 単語頻度リスト\n",
    "[N-gram コーパス - 日本語ウェブコーパス 2010](http://s-yata.jp/corpus/nwc2010/ngrams/)"
   ]
  },
  {
   "cell_type": "code",
   "execution_count": 13,
   "metadata": {},
   "outputs": [
    {
     "name": "stdout",
     "output_type": "stream",
     "text": [
      "--2018-02-24 15:57:12--  http://dist.s-yata.jp/corpus/nwc2010/ngrams/word/over999/filelist\n",
      "dist.s-yata.jp (dist.s-yata.jp) をDNSに問いあわせています... 52.222.205.12, 52.222.205.237, 52.222.205.53, ...\n",
      "dist.s-yata.jp (dist.s-yata.jp)|52.222.205.12|:80 に接続しています... 接続しました。\n",
      "HTTP による接続要求を送信しました、応答を待っています... 200 OK\n",
      "長さ: 518 [text/plain]\n",
      "`filelist' に保存中\n",
      "\n",
      "filelist            100%[===================>]     518  --.-KB/s 時間 0s         \n",
      "\n",
      "2018-02-24 15:57:14 (70.6 MB/s) - `filelist' へ保存完了 [518/518]\n",
      "\n"
     ]
    }
   ],
   "source": [
    "!wget http://dist.s-yata.jp/corpus/nwc2010/ngrams/word/over999/filelist"
   ]
  },
  {
   "cell_type": "code",
   "execution_count": 14,
   "metadata": {},
   "outputs": [
    {
     "name": "stdout",
     "output_type": "stream",
     "text": [
      "http://dist.s-yata.jp/corpus/nwc2010/ngrams/word/over999/1gms/1gm-0000.xz\r\n",
      "http://dist.s-yata.jp/corpus/nwc2010/ngrams/word/over999/2gms/2gm-0000.xz\r\n",
      "http://dist.s-yata.jp/corpus/nwc2010/ngrams/word/over999/3gms/3gm-0000.xz\r\n",
      "http://dist.s-yata.jp/corpus/nwc2010/ngrams/word/over999/4gms/4gm-0000.xz\r\n",
      "http://dist.s-yata.jp/corpus/nwc2010/ngrams/word/over999/5gms/5gm-0000.xz\r\n",
      "http://dist.s-yata.jp/corpus/nwc2010/ngrams/word/over999/6gms/6gm-0000.xz\r\n",
      "http://dist.s-yata.jp/corpus/nwc2010/ngrams/word/over999/7gms/7gm-0000.xz\r\n"
     ]
    }
   ],
   "source": [
    "cat filelist"
   ]
  },
  {
   "cell_type": "code",
   "execution_count": 18,
   "metadata": {
    "scrolled": true
   },
   "outputs": [
    {
     "name": "stdout",
     "output_type": "stream",
     "text": [
      "--2018-02-24 16:02:02--  http://dist.s-yata.jp/corpus/nwc2010/ngrams/word/over999/1gms/1gm-0000.xz\n",
      "dist.s-yata.jp (dist.s-yata.jp) をDNSに問いあわせています... 52.222.205.86, 52.222.205.12, 52.222.205.50, ...\n",
      "dist.s-yata.jp (dist.s-yata.jp)|52.222.205.86|:80 に接続しています... 接続しました。\n",
      "HTTP による接続要求を送信しました、応答を待っています... 200 OK\n",
      "長さ: 1334924 (1.3M) [binary/octet-stream]\n",
      "`1gm-0000.xz' に保存中\n",
      "\n",
      "1gm-0000.xz         100%[===================>]   1.27M  6.51MB/s 時間 0.2s       \n",
      "\n",
      "2018-02-24 16:02:02 (6.51 MB/s) - `1gm-0000.xz' へ保存完了 [1334924/1334924]\n",
      "\n"
     ]
    }
   ],
   "source": [
    "!wget $(sed -n 1p filelist)"
   ]
  },
  {
   "cell_type": "code",
   "execution_count": 19,
   "metadata": {},
   "outputs": [
    {
     "name": "stdout",
     "output_type": "stream",
     "text": [
      "./1gm-0000.xz: XZ\n",
      "  1gm-0000... OK.\n",
      "Successfully extracted to \"./1gm-0000\".\n"
     ]
    }
   ],
   "source": [
    "!unar ./1gm-0000.xz"
   ]
  },
  {
   "cell_type": "code",
   "execution_count": 20,
   "metadata": {
    "collapsed": true
   },
   "outputs": [],
   "source": [
    "rm ./1gm-0000.xz"
   ]
  },
  {
   "cell_type": "code",
   "execution_count": 21,
   "metadata": {},
   "outputs": [
    {
     "name": "stdout",
     "output_type": "stream",
     "text": [
      "\"\t11435722\r\n",
      "\"\"\t57986\r\n",
      "\"\"\"\t1378\r\n",
      "\"%\t1360\r\n",
      "\"&\"\t1524\r\n",
      "\"'\t2146\r\n",
      "\"(\t70566\r\n",
      "\")\t23483\r\n",
      "\"*\"\t1965\r\n",
      "\"+\t1074\r\n"
     ]
    }
   ],
   "source": [
    "!head ./1gm-0000"
   ]
  },
  {
   "cell_type": "markdown",
   "metadata": {},
   "source": [
    "## Dictation kit"
   ]
  },
  {
   "cell_type": "code",
   "execution_count": 22,
   "metadata": {},
   "outputs": [
    {
     "name": "stdout",
     "output_type": "stream",
     "text": [
      "--2018-02-24 16:03:41--  https://osdn.net/projects/julius/downloads/66544/dictation-kit-v4.4.zip/\n",
      "osdn.net (osdn.net) をDNSに問いあわせています... 202.221.179.17\n",
      "osdn.net (osdn.net)|202.221.179.17|:443 に接続しています... 接続しました。\n",
      "HTTP による接続要求を送信しました、応答を待っています... 302 Found\n",
      "場所: https://osdn.net/frs/redir.php?m=iij&f=julius%2F66544%2Fdictation-kit-v4.4.zip [続く]\n",
      "--2018-02-24 16:03:42--  https://osdn.net/frs/redir.php?m=iij&f=julius%2F66544%2Fdictation-kit-v4.4.zip\n",
      "osdn.net:443 への接続を再利用します。\n",
      "HTTP による接続要求を送信しました、応答を待っています... 302 Found\n",
      "場所: http://iij.dl.osdn.jp/julius/66544/dictation-kit-v4.4.zip [続く]\n",
      "--2018-02-24 16:03:42--  http://iij.dl.osdn.jp/julius/66544/dictation-kit-v4.4.zip\n",
      "iij.dl.osdn.jp (iij.dl.osdn.jp) をDNSに問いあわせています... 202.232.140.70\n",
      "iij.dl.osdn.jp (iij.dl.osdn.jp)|202.232.140.70|:80 に接続しています... 接続しました。\n",
      "HTTP による接続要求を送信しました、応答を待っています... 200 OK\n",
      "長さ: 426837341 (407M) [application/zip]\n",
      "`index.html' に保存中\n",
      "\n",
      "index.html          100%[===================>] 407.06M  6.72MB/s 時間 97s        \n",
      "\n",
      "2018-02-24 16:05:22 (4.19 MB/s) - `index.html' へ保存完了 [426837341/426837341]\n",
      "\n"
     ]
    }
   ],
   "source": [
    "!wget https://osdn.net/projects/julius/downloads/66544/dictation-kit-v4.4.zip/"
   ]
  },
  {
   "cell_type": "code",
   "execution_count": 23,
   "metadata": {
    "scrolled": true
   },
   "outputs": [
    {
     "name": "stdout",
     "output_type": "stream",
     "text": [
      "index.html: Zip\n",
      "  dictation-kit-v4.4/  (dir)... OK.\n",
      "  dictation-kit-v4.4/00readme.txt  (5084 B)... OK.\n",
      "  dictation-kit-v4.4/HOWTO-dnncli.txt  (6006 B)... OK.\n",
      "  dictation-kit-v4.4/HOWTO.txt  (4516 B)... OK.\n",
      "  dictation-kit-v4.4/LICENSE.txt  (7659 B)... OK.\n",
      "  dictation-kit-v4.4/README.md  (2019 B)... OK.\n",
      "  dictation-kit-v4.4/TROUBLE.txt  (3136 B)... OK.\n",
      "  dictation-kit-v4.4/am-dnn.jconf  (377 B)... OK.\n",
      "  dictation-kit-v4.4/am-gmm.jconf  (317 B)... OK.\n",
      "  dictation-kit-v4.4/dnnclient.conf  (633 B)... OK.\n",
      "  dictation-kit-v4.4/julius.dnnconf  (733 B)... OK.\n",
      "  dictation-kit-v4.4/main.jconf  (13031 B)... OK.\n",
      "  dictation-kit-v4.4/run-linux-dnn.sh  (94 B)... OK.\n",
      "  dictation-kit-v4.4/run-linux-dnncli.sh  (357 B)... OK.\n",
      "  dictation-kit-v4.4/run-linux-gmm.sh  (70 B)... OK.\n",
      "  dictation-kit-v4.4/run-osx-dnn.sh  (92 B)... OK.\n",
      "  dictation-kit-v4.4/run-osx-dnncli.sh  (353 B)... OK.\n",
      "  dictation-kit-v4.4/run-osx-gmm.sh  (68 B)... OK.\n",
      "  dictation-kit-v4.4/run-win-dnn.bat  (107 B)... OK.\n",
      "  dictation-kit-v4.4/run-win-dnncli.bat  (368 B)... OK.\n",
      "  dictation-kit-v4.4/run-win-gmm.bat  (83 B)... OK.\n",
      "  dictation-kit-v4.4/src/  (dir)... OK.\n",
      "  dictation-kit-v4.4/src/julius-4.4.2.tar.gz  (8262474 B)... OK.\n",
      "  dictation-kit-v4.4/src/julius-4.4.2.zip  (9068564 B)... OK.\n",
      "  dictation-kit-v4.4/bin/  (dir)... OK.\n",
      "  dictation-kit-v4.4/doc/  (dir)... OK.\n",
      "  dictation-kit-v4.4/doc/00readme-ja.txt  (5828 B)... OK.\n",
      "  dictation-kit-v4.4/doc/00readme.txt  (5533 B)... OK.\n",
      "  dictation-kit-v4.4/doc/LICENSE.txt  (9067 B)... OK.\n",
      "  dictation-kit-v4.4/doc/Release-ja.txt  (29617 B)... OK.\n",
      "  dictation-kit-v4.4/doc/Release.txt  (32572 B)... OK.\n",
      "  dictation-kit-v4.4/doc/Sample.dnnconf  (2061 B)... OK.\n",
      "  dictation-kit-v4.4/doc/Sample.jconf  (15181 B)... OK.\n",
      "  dictation-kit-v4.4/model/  (dir)... OK.\n",
      "  dictation-kit-v4.4/bin/common/  (dir)... OK.\n",
      "  dictation-kit-v4.4/bin/common/dnnclient-gpu.py  (7847 B)... OK.\n",
      "  dictation-kit-v4.4/bin/common/dnnclient.py  (6194 B)... OK.\n",
      "  dictation-kit-v4.4/bin/common/jclient.pl  (1301 B)... OK.\n",
      "  dictation-kit-v4.4/bin/linux/  (dir)... OK.\n",
      "  dictation-kit-v4.4/bin/linux/adinrec  (613466 B)... OK.\n",
      "  dictation-kit-v4.4/bin/linux/adintool  (635762 B)... OK.\n",
      "  dictation-kit-v4.4/bin/linux/jcontrol  (43302 B)... OK.\n",
      "  dictation-kit-v4.4/bin/linux/julius  (677152 B)... OK.\n",
      "  dictation-kit-v4.4/bin/osx/  (dir)... OK.\n",
      "  dictation-kit-v4.4/bin/osx/adinrec  (623380 B)... OK.\n",
      "  dictation-kit-v4.4/bin/osx/adintool  (647468 B)... OK.\n",
      "  dictation-kit-v4.4/bin/osx/jcontrol  (23800 B)... OK.\n",
      "  dictation-kit-v4.4/bin/osx/julius  (690356 B)... OK.\n",
      "  dictation-kit-v4.4/bin/windows/  (dir)... OK.\n",
      "  dictation-kit-v4.4/bin/windows/adinrec.exe  (871265 B)... OK.\n",
      "  dictation-kit-v4.4/bin/windows/adintool-gui.exe  (4578938 B)... OK.\n",
      "  dictation-kit-v4.4/bin/windows/adintool.exe  (894117 B)... OK.\n",
      "  dictation-kit-v4.4/bin/windows/jcontrol.exe  (94396 B)... OK.\n",
      "  dictation-kit-v4.4/bin/windows/julius.exe  (940716 B)... OK.\n",
      "  dictation-kit-v4.4/doc/manuals-ja/  (dir)... OK.\n",
      "  dictation-kit-v4.4/doc/manuals-ja/adinrec.txt  (4937 B)... OK.\n",
      "  dictation-kit-v4.4/doc/manuals-ja/adintool.txt  (9297 B)... OK.\n",
      "  dictation-kit-v4.4/doc/manuals-ja/jcontrol.txt  (7095 B)... OK.\n",
      "  dictation-kit-v4.4/doc/manuals-ja/julius.txt  (45966 B)... OK.\n",
      "  dictation-kit-v4.4/doc/manuals/  (dir)... OK.\n",
      "  dictation-kit-v4.4/doc/manuals/adinrec.txt  (4537 B)... OK.\n",
      "  dictation-kit-v4.4/doc/manuals/adintool-gui.txt  (2224 B)... OK.\n",
      "  dictation-kit-v4.4/doc/manuals/adintool.txt  (9354 B)... OK.\n",
      "  dictation-kit-v4.4/doc/manuals/jcontrol.txt  (7185 B)... OK.\n",
      "  dictation-kit-v4.4/doc/manuals/julius.txt  (63702 B)... OK.\n",
      "  dictation-kit-v4.4/model/lang_m/  (dir)... OK.\n",
      "  dictation-kit-v4.4/model/lang_m/00readme.txt  (1764 B)... OK.\n",
      "  dictation-kit-v4.4/model/lang_m/bccwj.60k.bingram  (95946803 B)... OK.\n",
      "  dictation-kit-v4.4/model/lang_m/bccwj.60k.htkdic  (2691767 B)... OK.\n",
      "  dictation-kit-v4.4/model/lang_m/bccwj.60k.pdp.htkdic  (3423967 B)... OK.\n",
      "  dictation-kit-v4.4/model/lang_m/bccwj.60k.tri.arpa.gz  (85160727 B)... OK.\n",
      "  dictation-kit-v4.4/model/phone_m/  (dir)... OK.\n",
      "  dictation-kit-v4.4/model/phone_m/00readme.txt  (1437 B)... OK.\n",
      "  dictation-kit-v4.4/model/phone_m/jnas-mono-16mix-gid.binhmm  (464512 B)... OK.\n",
      "  dictation-kit-v4.4/model/phone_m/jnas-mono-16mix-gid.hmmdefs  (1539405 B)... OK.\n",
      "  dictation-kit-v4.4/model/phone_m/jnas-tri-3k16-gid.binhmm  (11287607 B)... OK.\n",
      "  dictation-kit-v4.4/model/phone_m/jnas-tri-3k16-gid.hmmdefs  (37586375 B)... OK.\n",
      "  dictation-kit-v4.4/model/phone_m/jnas-tri-rtree.base  (1101112 B)... OK.\n",
      "  dictation-kit-v4.4/model/phone_m/jnas-tri-rtree.tree  (1118 B)... OK.\n",
      "  dictation-kit-v4.4/model/phone_m/logicalTri  (239211 B)... OK.\n",
      "  dictation-kit-v4.4/model/phone_m/logicalTri-3k16-gid.bin  (1213799 B)... OK.\n",
      "  dictation-kit-v4.4/model/dnn/  (dir)... OK.\n",
      "  dictation-kit-v4.4/model/dnn/00readme.txt  (1422 B)... OK.\n",
      "  dictation-kit-v4.4/model/dnn/W_l1_f4.npy  (10813520 B)... OK.\n",
      "  dictation-kit-v4.4/model/dnn/W_l2_f4.npy  (16777296 B)... OK.\n",
      "  dictation-kit-v4.4/model/dnn/W_l3_f4.npy  (16777296 B)... OK.\n",
      "  dictation-kit-v4.4/model/dnn/W_l4_f4.npy  (16777296 B)... OK.\n",
      "  dictation-kit-v4.4/model/dnn/W_l5_f4.npy  (16777296 B)... OK.\n",
      "  dictation-kit-v4.4/model/dnn/W_l6_f4.npy  (16777296 B)... OK.\n",
      "  dictation-kit-v4.4/model/dnn/W_l7_f4.npy  (16777296 B)... OK.\n",
      "  dictation-kit-v4.4/model/dnn/W_output_f4.npy  (39927888 B)... OK.\n",
      "  dictation-kit-v4.4/model/dnn/bias_l1_f4.npy  (8272 B)... OK.\n",
      "  dictation-kit-v4.4/model/dnn/bias_l2_f4.npy  (8272 B)... OK.\n",
      "  dictation-kit-v4.4/model/dnn/bias_l3_f4.npy  (8272 B)... OK.\n",
      "  dictation-kit-v4.4/model/dnn/bias_l4_f4.npy  (8272 B)... OK.\n",
      "  dictation-kit-v4.4/model/dnn/bias_l5_f4.npy  (8272 B)... OK.\n",
      "  dictation-kit-v4.4/model/dnn/bias_l6_f4.npy  (8272 B)... OK.\n",
      "  dictation-kit-v4.4/model/dnn/bias_l7_f4.npy  (8272 B)... OK.\n",
      "  dictation-kit-v4.4/model/dnn/bias_output_f4.npy  (19576 B)... OK.\n",
      "  dictation-kit-v4.4/model/dnn/binhmm.SID  (54725360 B)... OK.\n",
      "  dictation-kit-v4.4/model/dnn/config.lmfb  (290 B)... OK.\n",
      "  dictation-kit-v4.4/model/dnn/logicalTri  (117912965 B)... OK.\n",
      "  dictation-kit-v4.4/model/dnn/logicalTri.bin  (276654823 B)... OK.\n",
      "  dictation-kit-v4.4/model/dnn/norm  (6046 B)... OK.\n",
      "  dictation-kit-v4.4/model/dnn/prior  (125028 B)... OK.\n",
      "Successfully extracted to \"./dictation-kit-v4.4\".\n"
     ]
    }
   ],
   "source": [
    "!unar index.html"
   ]
  },
  {
   "cell_type": "code",
   "execution_count": 29,
   "metadata": {
    "collapsed": true
   },
   "outputs": [],
   "source": [
    "mv ./dictation-kit-v4.4 ../../lib/dictation-kit"
   ]
  },
  {
   "cell_type": "markdown",
   "metadata": {
    "collapsed": true
   },
   "source": [
    "## Word2Vec\n",
    "\n",
    "- [word2vecの学習済み日本語モデル](http://aial.shiroyagi.co.jp/2017/02/japanese-word2vec-model-builder/)\n",
    "    - [download link](http://public.shiroyagi.s3.amazonaws.com/latest-ja-word2vec-gensim-model.zip)\n",
    "- [日本語 Wikipedia エンティティベクトル](http://www.cl.ecei.tohoku.ac.jp/~m-suzuki/jawiki_vector/)\n",
    "    - [download link](http://www.cl.ecei.tohoku.ac.jp/~m-suzuki/jawiki_vector/data/20170201.tar.bz2)"
   ]
  },
  {
   "cell_type": "code",
   "execution_count": 8,
   "metadata": {},
   "outputs": [
    {
     "name": "stdout",
     "output_type": "stream",
     "text": [
      "--2018-02-24 18:58:43--  http://public.shiroyagi.s3.amazonaws.com/latest-ja-word2vec-gensim-model.zip\n",
      "public.shiroyagi.s3.amazonaws.com (public.shiroyagi.s3.amazonaws.com) をDNSに問いあわせています... 52.219.0.17\n",
      "public.shiroyagi.s3.amazonaws.com (public.shiroyagi.s3.amazonaws.com)|52.219.0.17|:80 に接続しています... 接続しました。\n",
      "HTTP による接続要求を送信しました、応答を待っています... 200 OK\n",
      "長さ: 132936751 (127M) [application/zip]\n",
      "`latest-ja-word2vec-gensim-model.zip' に保存中\n",
      "\n",
      "latest-ja-word2vec- 100%[===================>] 126.78M  8.29MB/s 時間 15s        \n",
      "\n",
      "2018-02-24 18:59:02 (8.60 MB/s) - `latest-ja-word2vec-gensim-model.zip' へ保存完了 [132936751/132936751]\n",
      "\n"
     ]
    }
   ],
   "source": [
    "!wget http://public.shiroyagi.s3.amazonaws.com/latest-ja-word2vec-gensim-model.zip"
   ]
  },
  {
   "cell_type": "code",
   "execution_count": 9,
   "metadata": {},
   "outputs": [
    {
     "name": "stdout",
     "output_type": "stream",
     "text": [
      "./latest-ja-word2vec-gensim-model.zip: Zip\n",
      "  word2vec.gensim.model  (23527420 B)... OK.\n",
      "  word2vec.gensim.model.syn1neg.npy  (67095280 B)... OK.\n",
      "  word2vec.gensim.model.wv.syn0.npy  (67095280 B)... OK.\n",
      "Successfully extracted to \"latest-ja-word2vec-gensim-model\".\n"
     ]
    }
   ],
   "source": [
    "!unar ./latest-ja-word2vec-gensim-model.zip"
   ]
  },
  {
   "cell_type": "code",
   "execution_count": 10,
   "metadata": {
    "collapsed": true
   },
   "outputs": [],
   "source": [
    "mv ./latest-ja-word2vec-gensim-model/ ./w2v50"
   ]
  },
  {
   "cell_type": "code",
   "execution_count": 33,
   "metadata": {},
   "outputs": [
    {
     "name": "stdout",
     "output_type": "stream",
     "text": [
      "--2018-02-24 16:10:14--  http://www.cl.ecei.tohoku.ac.jp/~m-suzuki/jawiki_vector/data/20170201.tar.bz2\n",
      "www.cl.ecei.tohoku.ac.jp (www.cl.ecei.tohoku.ac.jp) をDNSに問いあわせています... 130.34.192.83\n",
      "www.cl.ecei.tohoku.ac.jp (www.cl.ecei.tohoku.ac.jp)|130.34.192.83|:80 に接続しています... 接続しました。\n",
      "HTTP による接続要求を送信しました、応答を待っています... 200 OK\n",
      "長さ: 1373795477 (1.3G) [application/x-bzip2]\n",
      "`20170201.tar.bz2' に保存中\n",
      "\n",
      "20170201.tar.bz2    100%[===================>]   1.28G  4.31MB/s 時間 2m 35s     \n",
      "\n",
      "2018-02-24 16:12:50 (8.44 MB/s) - `20170201.tar.bz2' へ保存完了 [1373795477/1373795477]\n",
      "\n"
     ]
    }
   ],
   "source": [
    "!wget http://www.cl.ecei.tohoku.ac.jp/~m-suzuki/jawiki_vector/data/20170201.tar.bz2"
   ]
  },
  {
   "cell_type": "code",
   "execution_count": 34,
   "metadata": {},
   "outputs": [
    {
     "name": "stdout",
     "output_type": "stream",
     "text": [
      "./20170201.tar.bz2: Tar in Bzip2\n",
      "  entity_vector/  (dir)... OK.\n",
      "  entity_vector/entity_vector.model.txt  (1951880197 B)... OK.\n",
      "  entity_vector/entity_vector.model.bin  (830354941 B)... OK.\n",
      "Successfully extracted to \"entity_vector\".\n"
     ]
    }
   ],
   "source": [
    "!unar ./20170201.tar.bz2"
   ]
  },
  {
   "cell_type": "code",
   "execution_count": 35,
   "metadata": {
    "collapsed": true
   },
   "outputs": [],
   "source": [
    "rm ./entity_vector/entity_vector.model.bin"
   ]
  },
  {
   "cell_type": "code",
   "execution_count": 36,
   "metadata": {
    "collapsed": true
   },
   "outputs": [],
   "source": [
    "rm ./20170201.tar.bz2"
   ]
  },
  {
   "cell_type": "code",
   "execution_count": 11,
   "metadata": {
    "collapsed": true
   },
   "outputs": [],
   "source": [
    "rm ./latest-ja-word2vec-gensim-model.zip"
   ]
  },
  {
   "cell_type": "code",
   "execution_count": 38,
   "metadata": {
    "collapsed": true
   },
   "outputs": [],
   "source": [
    "mv ./entity_vector/entity_vector.model.txt ./"
   ]
  },
  {
   "cell_type": "code",
   "execution_count": 39,
   "metadata": {
    "collapsed": true
   },
   "outputs": [],
   "source": [
    "rm -r ./entity_vector/"
   ]
  },
  {
   "cell_type": "code",
   "execution_count": 40,
   "metadata": {
    "collapsed": true
   },
   "outputs": [],
   "source": [
    "mv entity_vector.model.txt w2v200.txt"
   ]
  },
  {
   "cell_type": "code",
   "execution_count": 4,
   "metadata": {
    "collapsed": true
   },
   "outputs": [],
   "source": [
    "rm filelist"
   ]
  },
  {
   "cell_type": "code",
   "execution_count": 5,
   "metadata": {
    "collapsed": true
   },
   "outputs": [],
   "source": [
    "rm index.html"
   ]
  },
  {
   "cell_type": "code",
   "execution_count": 6,
   "metadata": {},
   "outputs": [
    {
     "name": "stdout",
     "output_type": "stream",
     "text": [
      "1gm-0000    \u001b[34mCJLC-0.1\u001b[m\u001b[m/   w2v200.txt  w2v50.tsv\r\n"
     ]
    }
   ],
   "source": [
    "ls"
   ]
  },
  {
   "cell_type": "code",
   "execution_count": 7,
   "metadata": {
    "collapsed": true
   },
   "outputs": [],
   "source": [
    "mv ./w2v200.txt ./w2v200.tsv"
   ]
  },
  {
   "cell_type": "code",
   "execution_count": null,
   "metadata": {
    "collapsed": true
   },
   "outputs": [],
   "source": []
  }
 ],
 "metadata": {
  "kernelspec": {
   "display_name": "Python 3",
   "language": "python",
   "name": "python3"
  },
  "language_info": {
   "codemirror_mode": {
    "name": "ipython",
    "version": 3
   },
   "file_extension": ".py",
   "mimetype": "text/x-python",
   "name": "python",
   "nbconvert_exporter": "python",
   "pygments_lexer": "ipython3",
   "version": "3.6.3"
  }
 },
 "nbformat": 4,
 "nbformat_minor": 2
}
