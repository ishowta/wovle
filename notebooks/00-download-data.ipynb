{
 "cells": [
  {
   "cell_type": "code",
   "execution_count": 2,
   "metadata": {},
   "outputs": [
    {
     "name": "stdout",
     "output_type": "stream",
     "text": [
      "[Errno 2] No such file or directory: '../data/external'\n",
      "/Users/showta/project/wovle/data/external\n"
     ]
    }
   ],
   "source": [
    "cd ../data/external"
   ]
  },
  {
   "cell_type": "markdown",
   "metadata": {},
   "source": [
    "## 講義音声\n",
    "[日本語講義音声コンテンツコーパス](http://www.slp.cs.tut.ac.jp/CJLC/)"
   ]
  },
  {
   "cell_type": "code",
   "execution_count": 2,
   "metadata": {},
   "outputs": [
    {
     "name": "stdout",
     "output_type": "stream",
     "text": [
      "--2018-02-24 15:54:10--  http://www.slp.cs.tut.ac.jp/CJLC/CJLC-0.1.tar.bz2\n",
      "www.slp.cs.tut.ac.jp (www.slp.cs.tut.ac.jp) をDNSに問いあわせています... 133.15.48.32\n",
      "www.slp.cs.tut.ac.jp (www.slp.cs.tut.ac.jp)|133.15.48.32|:80 に接続しています... 接続しました。\n",
      "HTTP による接続要求を送信しました、応答を待っています... 200 OK\n",
      "長さ: 625443001 (596M) [application/x-bzip2]\n",
      "`CJLC-0.1.tar.bz2' に保存中\n",
      "\n",
      "CJLC-0.1.tar.bz2    100%[===================>] 596.47M  4.34MB/s 時間 86s        \n",
      "\n",
      "2018-02-24 15:55:36 (6.92 MB/s) - `CJLC-0.1.tar.bz2' へ保存完了 [625443001/625443001]\n",
      "\n"
     ]
    }
   ],
   "source": [
    "!wget http://www.slp.cs.tut.ac.jp/CJLC/CJLC-0.1.tar.bz2"
   ]
  },
  {
   "cell_type": "code",
   "execution_count": 3,
   "metadata": {},
   "outputs": [
    {
     "name": "stdout",
     "output_type": "stream",
     "text": [
      "CJLC-0.1.tar.bz2: Tar in Bzip2\n",
      "  CJLC-0.1/  (dir)... OK.\n",
      "  CJLC-0.1/manual.pdf  (60276 B)... OK.\n",
      "  CJLC-0.1/data/  (dir)... OK.\n",
      "  CJLC-0.1/data/L11M0010.ppt  (13766656 B)... OK.\n",
      "  CJLC-0.1/data/L11M0010.wav  (130055903 B)... OK.\n",
      "  CJLC-0.1/data/L11M0010.wav2  (130092847 B)... OK.\n",
      "  CJLC-0.1/data/L11M0010.xml  (248040 B)... OK.\n",
      "  CJLC-0.1/data/L11M0011.wav  (105515026 B)... OK.\n",
      "  CJLC-0.1/data/L11M0011.xml  (160641 B)... OK.\n",
      "  CJLC-0.1/data/L11M0013.wav  (144911228 B)... OK.\n",
      "  CJLC-0.1/data/L11M0013.xml  (205027 B)... OK.\n",
      "  CJLC-0.1/data/L11M0030.ppt  (8857088 B)... OK.\n",
      "  CJLC-0.1/data/L11M0030.wav  (126382785 B)... OK.\n",
      "  CJLC-0.1/data/L11M0030.wav2  (126396668 B)... OK.\n",
      "  CJLC-0.1/data/L11M0030.xml  (244431 B)... OK.\n",
      "  CJLC-0.1/data/L11M0040.wav  (133397184 B)... OK.\n",
      "  CJLC-0.1/data/L11M0040.xml  (139561 B)... OK.\n",
      "  CJLC-0.1/data/L11M0062.wav  (93801106 B)... OK.\n",
      "  CJLC-0.1/data/L11M0062.xml  (196757 B)... OK.\n",
      "  CJLC-0.1/data/L11M0071.wav  (83661982 B)... OK.\n",
      "  CJLC-0.1/data/L11M0071.xml  (187666 B)... OK.\n",
      "Successfully extracted to \"CJLC-0.1\".\n"
     ]
    }
   ],
   "source": [
    "!unar CJLC-0.1.tar.bz2"
   ]
  },
  {
   "cell_type": "code",
   "execution_count": 4,
   "metadata": {
    "collapsed": true
   },
   "outputs": [],
   "source": [
    "rm CJLC-0.1.tar.bz2"
   ]
  },
  {
   "cell_type": "code",
   "execution_count": 5,
   "metadata": {
    "collapsed": true
   },
   "outputs": [],
   "source": [
    "mv CJLC-0.1/ CJLC-0.1_v"
   ]
  },
  {
   "cell_type": "code",
   "execution_count": 6,
   "metadata": {
    "collapsed": true
   },
   "outputs": [],
   "source": [
    "mkdir CJLC-0.1"
   ]
  },
  {
   "cell_type": "code",
   "execution_count": 7,
   "metadata": {
    "collapsed": true
   },
   "outputs": [],
   "source": [
    "%%bash\n",
    "mv CJLC-0.1_v/data/L11M0010.wav CJLC-0.1/1.wav\n",
    "mv CJLC-0.1_v/data/L11M0011.wav CJLC-0.1/2.wav\n",
    "mv CJLC-0.1_v/data/L11M0013.wav CJLC-0.1/3.wav\n",
    "mv CJLC-0.1_v/data/L11M0030.wav CJLC-0.1/4.wav\n",
    "mv CJLC-0.1_v/data/L11M0040.wav CJLC-0.1/5.wav\n",
    "mv CJLC-0.1_v/data/L11M0062.wav CJLC-0.1/6.wav\n",
    "mv CJLC-0.1_v/data/L11M0071.wav CJLC-0.1/7.wav\n",
    "\n",
    "mv CJLC-0.1_v/data/L11M0010.xml CJLC-0.1/1.xml\n",
    "mv CJLC-0.1_v/data/L11M0011.xml CJLC-0.1/2.xml\n",
    "mv CJLC-0.1_v/data/L11M0013.xml CJLC-0.1/3.xml\n",
    "mv CJLC-0.1_v/data/L11M0030.xml CJLC-0.1/4.xml\n",
    "mv CJLC-0.1_v/data/L11M0040.xml CJLC-0.1/5.xml\n",
    "mv CJLC-0.1_v/data/L11M0062.xml CJLC-0.1/6.xml\n",
    "mv CJLC-0.1_v/data/L11M0071.xml CJLC-0.1/7.xml"
   ]
  },
  {
   "cell_type": "code",
   "execution_count": 8,
   "metadata": {
    "collapsed": true
   },
   "outputs": [],
   "source": [
    "rm -r CJLC-0.1_v/"
   ]
  },
  {
   "cell_type": "code",
   "execution_count": 9,
   "metadata": {
    "collapsed": true,
    "scrolled": false
   },
   "outputs": [],
   "source": [
    "%%bash\n",
    "\n",
    "for i in `seq 7`\n",
    "do\n",
    "    python ../../src/data/xml_to_plain.py ../../data/external/CJLC-0.1/$i.xml \\\n",
    "    > ../../data/external/CJLC-0.1/$i.txt\n",
    "done"
   ]
  },
  {
   "cell_type": "code",
   "execution_count": 10,
   "metadata": {},
   "outputs": [
    {
     "name": "stdout",
     "output_type": "stream",
     "text": [
      "大学院の講義でですね科目名は電子計算機応用特論二となってるんですかねで実際の内容としては音声言語の認識と理解音声言語情報処理というような分野に対して講義したいと思います\r\n",
      "で\r\n",
      "講義の内容は九回分を用意しています九週間分ですねで一回百五十分ということなんですが今日はですね一回目というので音声の基礎音声分析\r\n",
      "というような内容を講義します\r\n",
      "で二回目が音声認識の基礎\r\n",
      "とＤＰマッチングというダイナミックプログラミングあるいは動的計画法と呼ばれているマッチング方法ですね時系列の\r\n",
      "マッチング方法これは音声だけでなくって画像とか遺伝子解析とかそういうよな分野でもよく使われている自然言語処理にも使われています\r\n",
      "パターン認識関係では基本的なマッチング手法ですね\r\n",
      "で三回目の講義ではこの連続音声の認識私が今いちとかにとかさんとか言えばみなさん数字を認識できると思いますけどねそれをいちよんごとか連続して喋った場合も認識したいと\r\n",
      "そういうよな場合にこのＤＰマッチングをいかに拡張するか\r\n"
     ]
    }
   ],
   "source": [
    "!head CJLC-0.1/1.txt"
   ]
  },
  {
   "cell_type": "code",
   "execution_count": 11,
   "metadata": {
    "collapsed": true
   },
   "outputs": [],
   "source": [
    "rm CJLC-0.1/*.xml"
   ]
  },
  {
   "cell_type": "code",
   "execution_count": 12,
   "metadata": {},
   "outputs": [
    {
     "name": "stdout",
     "output_type": "stream",
     "text": [
      "1.txt  2.txt  3.txt  4.txt  5.txt  6.txt  7.txt\r\n",
      "1.wav  2.wav  3.wav  4.wav  5.wav  6.wav  7.wav\r\n"
     ]
    }
   ],
   "source": [
    "ls CJLC-0.1/"
   ]
  },
  {
   "cell_type": "markdown",
   "metadata": {},
   "source": [
    "## 単語頻度リスト\n",
    "[N-gram コーパス - 日本語ウェブコーパス 2010](http://s-yata.jp/corpus/nwc2010/ngrams/)"
   ]
  },
  {
   "cell_type": "code",
   "execution_count": 13,
   "metadata": {},
   "outputs": [
    {
     "name": "stdout",
     "output_type": "stream",
     "text": [
      "--2018-02-24 15:57:12--  http://dist.s-yata.jp/corpus/nwc2010/ngrams/word/over999/filelist\n",
      "dist.s-yata.jp (dist.s-yata.jp) をDNSに問いあわせています... 52.222.205.12, 52.222.205.237, 52.222.205.53, ...\n",
      "dist.s-yata.jp (dist.s-yata.jp)|52.222.205.12|:80 に接続しています... 接続しました。\n",
      "HTTP による接続要求を送信しました、応答を待っています... 200 OK\n",
      "長さ: 518 [text/plain]\n",
      "`filelist' に保存中\n",
      "\n",
      "filelist            100%[===================>]     518  --.-KB/s 時間 0s         \n",
      "\n",
      "2018-02-24 15:57:14 (70.6 MB/s) - `filelist' へ保存完了 [518/518]\n",
      "\n"
     ]
    }
   ],
   "source": [
    "!wget http://dist.s-yata.jp/corpus/nwc2010/ngrams/word/over999/filelist"
   ]
  },
  {
   "cell_type": "code",
   "execution_count": 14,
   "metadata": {},
   "outputs": [
    {
     "name": "stdout",
     "output_type": "stream",
     "text": [
      "http://dist.s-yata.jp/corpus/nwc2010/ngrams/word/over999/1gms/1gm-0000.xz\r\n",
      "http://dist.s-yata.jp/corpus/nwc2010/ngrams/word/over999/2gms/2gm-0000.xz\r\n",
      "http://dist.s-yata.jp/corpus/nwc2010/ngrams/word/over999/3gms/3gm-0000.xz\r\n",
      "http://dist.s-yata.jp/corpus/nwc2010/ngrams/word/over999/4gms/4gm-0000.xz\r\n",
      "http://dist.s-yata.jp/corpus/nwc2010/ngrams/word/over999/5gms/5gm-0000.xz\r\n",
      "http://dist.s-yata.jp/corpus/nwc2010/ngrams/word/over999/6gms/6gm-0000.xz\r\n",
      "http://dist.s-yata.jp/corpus/nwc2010/ngrams/word/over999/7gms/7gm-0000.xz\r\n"
     ]
    }
   ],
   "source": [
    "cat filelist"
   ]
  },
  {
   "cell_type": "code",
   "execution_count": 18,
   "metadata": {
    "scrolled": true
   },
   "outputs": [
    {
     "name": "stdout",
     "output_type": "stream",
     "text": [
      "--2018-02-24 16:02:02--  http://dist.s-yata.jp/corpus/nwc2010/ngrams/word/over999/1gms/1gm-0000.xz\n",
      "dist.s-yata.jp (dist.s-yata.jp) をDNSに問いあわせています... 52.222.205.86, 52.222.205.12, 52.222.205.50, ...\n",
      "dist.s-yata.jp (dist.s-yata.jp)|52.222.205.86|:80 に接続しています... 接続しました。\n",
      "HTTP による接続要求を送信しました、応答を待っています... 200 OK\n",
      "長さ: 1334924 (1.3M) [binary/octet-stream]\n",
      "`1gm-0000.xz' に保存中\n",
      "\n",
      "1gm-0000.xz         100%[===================>]   1.27M  6.51MB/s 時間 0.2s       \n",
      "\n",
      "2018-02-24 16:02:02 (6.51 MB/s) - `1gm-0000.xz' へ保存完了 [1334924/1334924]\n",
      "\n"
     ]
    }
   ],
   "source": [
    "!wget $(sed -n 1p filelist)"
   ]
  },
  {
   "cell_type": "code",
   "execution_count": 19,
   "metadata": {},
   "outputs": [
    {
     "name": "stdout",
     "output_type": "stream",
     "text": [
      "./1gm-0000.xz: XZ\n",
      "  1gm-0000... OK.\n",
      "Successfully extracted to \"./1gm-0000\".\n"
     ]
    }
   ],
   "source": [
    "!unar ./1gm-0000.xz"
   ]
  },
  {
   "cell_type": "code",
   "execution_count": 20,
   "metadata": {
    "collapsed": true
   },
   "outputs": [],
   "source": [
    "rm ./1gm-0000.xz"
   ]
  },
  {
   "cell_type": "code",
   "execution_count": 21,
   "metadata": {},
   "outputs": [
    {
     "name": "stdout",
     "output_type": "stream",
     "text": [
      "\"\t11435722\r\n",
      "\"\"\t57986\r\n",
      "\"\"\"\t1378\r\n",
      "\"%\t1360\r\n",
      "\"&\"\t1524\r\n",
      "\"'\t2146\r\n",
      "\"(\t70566\r\n",
      "\")\t23483\r\n",
      "\"*\"\t1965\r\n",
      "\"+\t1074\r\n"
     ]
    }
   ],
   "source": [
    "!head ./1gm-0000"
   ]
  },
  {
   "cell_type": "markdown",
   "metadata": {},
   "source": [
    "## Dictation kit"
   ]
  },
  {
   "cell_type": "code",
   "execution_count": 22,
   "metadata": {},
   "outputs": [
    {
     "name": "stdout",
     "output_type": "stream",
     "text": [
      "--2018-02-24 16:03:41--  https://osdn.net/projects/julius/downloads/66544/dictation-kit-v4.4.zip/\n",
      "osdn.net (osdn.net) をDNSに問いあわせています... 202.221.179.17\n",
      "osdn.net (osdn.net)|202.221.179.17|:443 に接続しています... 接続しました。\n",
      "HTTP による接続要求を送信しました、応答を待っています... 302 Found\n",
      "場所: https://osdn.net/frs/redir.php?m=iij&f=julius%2F66544%2Fdictation-kit-v4.4.zip [続く]\n",
      "--2018-02-24 16:03:42--  https://osdn.net/frs/redir.php?m=iij&f=julius%2F66544%2Fdictation-kit-v4.4.zip\n",
      "osdn.net:443 への接続を再利用します。\n",
      "HTTP による接続要求を送信しました、応答を待っています... 302 Found\n",
      "場所: http://iij.dl.osdn.jp/julius/66544/dictation-kit-v4.4.zip [続く]\n",
      "--2018-02-24 16:03:42--  http://iij.dl.osdn.jp/julius/66544/dictation-kit-v4.4.zip\n",
      "iij.dl.osdn.jp (iij.dl.osdn.jp) をDNSに問いあわせています... 202.232.140.70\n",
      "iij.dl.osdn.jp (iij.dl.osdn.jp)|202.232.140.70|:80 に接続しています... 接続しました。\n",
      "HTTP による接続要求を送信しました、応答を待っています... 200 OK\n",
      "長さ: 426837341 (407M) [application/zip]\n",
      "`index.html' に保存中\n",
      "\n",
      "index.html          100%[===================>] 407.06M  6.72MB/s 時間 97s        \n",
      "\n",
      "2018-02-24 16:05:22 (4.19 MB/s) - `index.html' へ保存完了 [426837341/426837341]\n",
      "\n"
     ]
    }
   ],
   "source": [
    "!wget https://osdn.net/projects/julius/downloads/66544/dictation-kit-v4.4.zip/"
   ]
  },
  {
   "cell_type": "code",
   "execution_count": 23,
   "metadata": {
    "scrolled": true
   },
   "outputs": [
    {
     "name": "stdout",
     "output_type": "stream",
     "text": [
      "index.html: Zip\n",
      "  dictation-kit-v4.4/  (dir)... OK.\n",
      "  dictation-kit-v4.4/00readme.txt  (5084 B)... OK.\n",
      "  dictation-kit-v4.4/HOWTO-dnncli.txt  (6006 B)... OK.\n",
      "  dictation-kit-v4.4/HOWTO.txt  (4516 B)... OK.\n",
      "  dictation-kit-v4.4/LICENSE.txt  (7659 B)... OK.\n",
      "  dictation-kit-v4.4/README.md  (2019 B)... OK.\n",
      "  dictation-kit-v4.4/TROUBLE.txt  (3136 B)... OK.\n",
      "  dictation-kit-v4.4/am-dnn.jconf  (377 B)... OK.\n",
      "  dictation-kit-v4.4/am-gmm.jconf  (317 B)... OK.\n",
      "  dictation-kit-v4.4/dnnclient.conf  (633 B)... OK.\n",
      "  dictation-kit-v4.4/julius.dnnconf  (733 B)... OK.\n",
      "  dictation-kit-v4.4/main.jconf  (13031 B)... OK.\n",
      "  dictation-kit-v4.4/run-linux-dnn.sh  (94 B)... OK.\n",
      "  dictation-kit-v4.4/run-linux-dnncli.sh  (357 B)... OK.\n",
      "  dictation-kit-v4.4/run-linux-gmm.sh  (70 B)... OK.\n",
      "  dictation-kit-v4.4/run-osx-dnn.sh  (92 B)... OK.\n",
      "  dictation-kit-v4.4/run-osx-dnncli.sh  (353 B)... OK.\n",
      "  dictation-kit-v4.4/run-osx-gmm.sh  (68 B)... OK.\n",
      "  dictation-kit-v4.4/run-win-dnn.bat  (107 B)... OK.\n",
      "  dictation-kit-v4.4/run-win-dnncli.bat  (368 B)... OK.\n",
      "  dictation-kit-v4.4/run-win-gmm.bat  (83 B)... OK.\n",
      "  dictation-kit-v4.4/src/  (dir)... OK.\n",
      "  dictation-kit-v4.4/src/julius-4.4.2.tar.gz  (8262474 B)... OK.\n",
      "  dictation-kit-v4.4/src/julius-4.4.2.zip  (9068564 B)... OK.\n",
      "  dictation-kit-v4.4/bin/  (dir)... OK.\n",
      "  dictation-kit-v4.4/doc/  (dir)... OK.\n",
      "  dictation-kit-v4.4/doc/00readme-ja.txt  (5828 B)... OK.\n",
      "  dictation-kit-v4.4/doc/00readme.txt  (5533 B)... OK.\n",
      "  dictation-kit-v4.4/doc/LICENSE.txt  (9067 B)... OK.\n",
      "  dictation-kit-v4.4/doc/Release-ja.txt  (29617 B)... OK.\n",
      "  dictation-kit-v4.4/doc/Release.txt  (32572 B)... OK.\n",
      "  dictation-kit-v4.4/doc/Sample.dnnconf  (2061 B)... OK.\n",
      "  dictation-kit-v4.4/doc/Sample.jconf  (15181 B)... OK.\n",
      "  dictation-kit-v4.4/model/  (dir)... OK.\n",
      "  dictation-kit-v4.4/bin/common/  (dir)... OK.\n",
      "  dictation-kit-v4.4/bin/common/dnnclient-gpu.py  (7847 B)... OK.\n",
      "  dictation-kit-v4.4/bin/common/dnnclient.py  (6194 B)... OK.\n",
      "  dictation-kit-v4.4/bin/common/jclient.pl  (1301 B)... OK.\n",
      "  dictation-kit-v4.4/bin/linux/  (dir)... OK.\n",
      "  dictation-kit-v4.4/bin/linux/adinrec  (613466 B)... OK.\n",
      "  dictation-kit-v4.4/bin/linux/adintool  (635762 B)... OK.\n",
      "  dictation-kit-v4.4/bin/linux/jcontrol  (43302 B)... OK.\n",
      "  dictation-kit-v4.4/bin/linux/julius  (677152 B)... OK.\n",
      "  dictation-kit-v4.4/bin/osx/  (dir)... OK.\n",
      "  dictation-kit-v4.4/bin/osx/adinrec  (623380 B)... OK.\n",
      "  dictation-kit-v4.4/bin/osx/adintool  (647468 B)... OK.\n",
      "  dictation-kit-v4.4/bin/osx/jcontrol  (23800 B)... OK.\n",
      "  dictation-kit-v4.4/bin/osx/julius  (690356 B)... OK.\n",
      "  dictation-kit-v4.4/bin/windows/  (dir)... OK.\n",
      "  dictation-kit-v4.4/bin/windows/adinrec.exe  (871265 B)... OK.\n",
      "  dictation-kit-v4.4/bin/windows/adintool-gui.exe  (4578938 B)... OK.\n",
      "  dictation-kit-v4.4/bin/windows/adintool.exe  (894117 B)... OK.\n",
      "  dictation-kit-v4.4/bin/windows/jcontrol.exe  (94396 B)... OK.\n",
      "  dictation-kit-v4.4/bin/windows/julius.exe  (940716 B)... OK.\n",
      "  dictation-kit-v4.4/doc/manuals-ja/  (dir)... OK.\n",
      "  dictation-kit-v4.4/doc/manuals-ja/adinrec.txt  (4937 B)... OK.\n",
      "  dictation-kit-v4.4/doc/manuals-ja/adintool.txt  (9297 B)... OK.\n",
      "  dictation-kit-v4.4/doc/manuals-ja/jcontrol.txt  (7095 B)... OK.\n",
      "  dictation-kit-v4.4/doc/manuals-ja/julius.txt  (45966 B)... OK.\n",
      "  dictation-kit-v4.4/doc/manuals/  (dir)... OK.\n",
      "  dictation-kit-v4.4/doc/manuals/adinrec.txt  (4537 B)... OK.\n",
      "  dictation-kit-v4.4/doc/manuals/adintool-gui.txt  (2224 B)... OK.\n",
      "  dictation-kit-v4.4/doc/manuals/adintool.txt  (9354 B)... OK.\n",
      "  dictation-kit-v4.4/doc/manuals/jcontrol.txt  (7185 B)... OK.\n",
      "  dictation-kit-v4.4/doc/manuals/julius.txt  (63702 B)... OK.\n",
      "  dictation-kit-v4.4/model/lang_m/  (dir)... OK.\n",
      "  dictation-kit-v4.4/model/lang_m/00readme.txt  (1764 B)... OK.\n",
      "  dictation-kit-v4.4/model/lang_m/bccwj.60k.bingram  (95946803 B)... OK.\n",
      "  dictation-kit-v4.4/model/lang_m/bccwj.60k.htkdic  (2691767 B)... OK.\n",
      "  dictation-kit-v4.4/model/lang_m/bccwj.60k.pdp.htkdic  (3423967 B)... OK.\n",
      "  dictation-kit-v4.4/model/lang_m/bccwj.60k.tri.arpa.gz  (85160727 B)... OK.\n",
      "  dictation-kit-v4.4/model/phone_m/  (dir)... OK.\n",
      "  dictation-kit-v4.4/model/phone_m/00readme.txt  (1437 B)... OK.\n",
      "  dictation-kit-v4.4/model/phone_m/jnas-mono-16mix-gid.binhmm  (464512 B)... OK.\n",
      "  dictation-kit-v4.4/model/phone_m/jnas-mono-16mix-gid.hmmdefs  (1539405 B)... OK.\n",
      "  dictation-kit-v4.4/model/phone_m/jnas-tri-3k16-gid.binhmm  (11287607 B)... OK.\n",
      "  dictation-kit-v4.4/model/phone_m/jnas-tri-3k16-gid.hmmdefs  (37586375 B)... OK.\n",
      "  dictation-kit-v4.4/model/phone_m/jnas-tri-rtree.base  (1101112 B)... OK.\n",
      "  dictation-kit-v4.4/model/phone_m/jnas-tri-rtree.tree  (1118 B)... OK.\n",
      "  dictation-kit-v4.4/model/phone_m/logicalTri  (239211 B)... OK.\n",
      "  dictation-kit-v4.4/model/phone_m/logicalTri-3k16-gid.bin  (1213799 B)... OK.\n",
      "  dictation-kit-v4.4/model/dnn/  (dir)... OK.\n",
      "  dictation-kit-v4.4/model/dnn/00readme.txt  (1422 B)... OK.\n",
      "  dictation-kit-v4.4/model/dnn/W_l1_f4.npy  (10813520 B)... OK.\n",
      "  dictation-kit-v4.4/model/dnn/W_l2_f4.npy  (16777296 B)... OK.\n",
      "  dictation-kit-v4.4/model/dnn/W_l3_f4.npy  (16777296 B)... OK.\n",
      "  dictation-kit-v4.4/model/dnn/W_l4_f4.npy  (16777296 B)... OK.\n",
      "  dictation-kit-v4.4/model/dnn/W_l5_f4.npy  (16777296 B)... OK.\n",
      "  dictation-kit-v4.4/model/dnn/W_l6_f4.npy  (16777296 B)... OK.\n",
      "  dictation-kit-v4.4/model/dnn/W_l7_f4.npy  (16777296 B)... OK.\n",
      "  dictation-kit-v4.4/model/dnn/W_output_f4.npy  (39927888 B)... OK.\n",
      "  dictation-kit-v4.4/model/dnn/bias_l1_f4.npy  (8272 B)... OK.\n",
      "  dictation-kit-v4.4/model/dnn/bias_l2_f4.npy  (8272 B)... OK.\n",
      "  dictation-kit-v4.4/model/dnn/bias_l3_f4.npy  (8272 B)... OK.\n",
      "  dictation-kit-v4.4/model/dnn/bias_l4_f4.npy  (8272 B)... OK.\n",
      "  dictation-kit-v4.4/model/dnn/bias_l5_f4.npy  (8272 B)... OK.\n",
      "  dictation-kit-v4.4/model/dnn/bias_l6_f4.npy  (8272 B)... OK.\n",
      "  dictation-kit-v4.4/model/dnn/bias_l7_f4.npy  (8272 B)... OK.\n",
      "  dictation-kit-v4.4/model/dnn/bias_output_f4.npy  (19576 B)... OK.\n",
      "  dictation-kit-v4.4/model/dnn/binhmm.SID  (54725360 B)... OK.\n",
      "  dictation-kit-v4.4/model/dnn/config.lmfb  (290 B)... OK.\n",
      "  dictation-kit-v4.4/model/dnn/logicalTri  (117912965 B)... OK.\n",
      "  dictation-kit-v4.4/model/dnn/logicalTri.bin  (276654823 B)... OK.\n",
      "  dictation-kit-v4.4/model/dnn/norm  (6046 B)... OK.\n",
      "  dictation-kit-v4.4/model/dnn/prior  (125028 B)... OK.\n",
      "Successfully extracted to \"./dictation-kit-v4.4\".\n"
     ]
    }
   ],
   "source": [
    "!unar index.html"
   ]
  },
  {
   "cell_type": "code",
   "execution_count": 29,
   "metadata": {
    "collapsed": true
   },
   "outputs": [],
   "source": [
    "mv ./dictation-kit-v4.4 ../../lib/dictation-kit"
   ]
  },
  {
   "cell_type": "markdown",
   "metadata": {
    "collapsed": true
   },
   "source": [
    "## Word2Vec\n",
    "\n",
    "- [word2vecの学習済み日本語モデル](http://aial.shiroyagi.co.jp/2017/02/japanese-word2vec-model-builder/)\n",
    "    - [download link](http://public.shiroyagi.s3.amazonaws.com/latest-ja-word2vec-gensim-model.zip)\n",
    "- [日本語 Wikipedia エンティティベクトル](http://www.cl.ecei.tohoku.ac.jp/~m-suzuki/jawiki_vector/)\n",
    "    - [download link](http://www.cl.ecei.tohoku.ac.jp/~m-suzuki/jawiki_vector/data/20170201.tar.bz2)"
   ]
  },
  {
   "cell_type": "code",
   "execution_count": 8,
   "metadata": {},
   "outputs": [
    {
     "name": "stdout",
     "output_type": "stream",
     "text": [
      "--2018-02-24 18:58:43--  http://public.shiroyagi.s3.amazonaws.com/latest-ja-word2vec-gensim-model.zip\n",
      "public.shiroyagi.s3.amazonaws.com (public.shiroyagi.s3.amazonaws.com) をDNSに問いあわせています... 52.219.0.17\n",
      "public.shiroyagi.s3.amazonaws.com (public.shiroyagi.s3.amazonaws.com)|52.219.0.17|:80 に接続しています... 接続しました。\n",
      "HTTP による接続要求を送信しました、応答を待っています... 200 OK\n",
      "長さ: 132936751 (127M) [application/zip]\n",
      "`latest-ja-word2vec-gensim-model.zip' に保存中\n",
      "\n",
      "latest-ja-word2vec- 100%[===================>] 126.78M  8.29MB/s 時間 15s        \n",
      "\n",
      "2018-02-24 18:59:02 (8.60 MB/s) - `latest-ja-word2vec-gensim-model.zip' へ保存完了 [132936751/132936751]\n",
      "\n"
     ]
    }
   ],
   "source": [
    "!wget http://public.shiroyagi.s3.amazonaws.com/latest-ja-word2vec-gensim-model.zip"
   ]
  },
  {
   "cell_type": "code",
   "execution_count": 9,
   "metadata": {},
   "outputs": [
    {
     "name": "stdout",
     "output_type": "stream",
     "text": [
      "./latest-ja-word2vec-gensim-model.zip: Zip\n",
      "  word2vec.gensim.model  (23527420 B)... OK.\n",
      "  word2vec.gensim.model.syn1neg.npy  (67095280 B)... OK.\n",
      "  word2vec.gensim.model.wv.syn0.npy  (67095280 B)... OK.\n",
      "Successfully extracted to \"latest-ja-word2vec-gensim-model\".\n"
     ]
    }
   ],
   "source": [
    "!unar ./latest-ja-word2vec-gensim-model.zip"
   ]
  },
  {
   "cell_type": "code",
   "execution_count": 10,
   "metadata": {
    "collapsed": true
   },
   "outputs": [],
   "source": [
    "mv ./latest-ja-word2vec-gensim-model/ ./w2v50"
   ]
  },
  {
   "cell_type": "code",
   "execution_count": 33,
   "metadata": {},
   "outputs": [
    {
     "name": "stdout",
     "output_type": "stream",
     "text": [
      "--2018-02-24 16:10:14--  http://www.cl.ecei.tohoku.ac.jp/~m-suzuki/jawiki_vector/data/20170201.tar.bz2\n",
      "www.cl.ecei.tohoku.ac.jp (www.cl.ecei.tohoku.ac.jp) をDNSに問いあわせています... 130.34.192.83\n",
      "www.cl.ecei.tohoku.ac.jp (www.cl.ecei.tohoku.ac.jp)|130.34.192.83|:80 に接続しています... 接続しました。\n",
      "HTTP による接続要求を送信しました、応答を待っています... 200 OK\n",
      "長さ: 1373795477 (1.3G) [application/x-bzip2]\n",
      "`20170201.tar.bz2' に保存中\n",
      "\n",
      "20170201.tar.bz2    100%[===================>]   1.28G  4.31MB/s 時間 2m 35s     \n",
      "\n",
      "2018-02-24 16:12:50 (8.44 MB/s) - `20170201.tar.bz2' へ保存完了 [1373795477/1373795477]\n",
      "\n"
     ]
    }
   ],
   "source": [
    "!wget http://www.cl.ecei.tohoku.ac.jp/~m-suzuki/jawiki_vector/data/20170201.tar.bz2"
   ]
  },
  {
   "cell_type": "code",
   "execution_count": 34,
   "metadata": {},
   "outputs": [
    {
     "name": "stdout",
     "output_type": "stream",
     "text": [
      "./20170201.tar.bz2: Tar in Bzip2\n",
      "  entity_vector/  (dir)... OK.\n",
      "  entity_vector/entity_vector.model.txt  (1951880197 B)... OK.\n",
      "  entity_vector/entity_vector.model.bin  (830354941 B)... OK.\n",
      "Successfully extracted to \"entity_vector\".\n"
     ]
    }
   ],
   "source": [
    "!unar ./20170201.tar.bz2"
   ]
  },
  {
   "cell_type": "code",
   "execution_count": 35,
   "metadata": {
    "collapsed": true
   },
   "outputs": [],
   "source": [
    "rm ./entity_vector/entity_vector.model.bin"
   ]
  },
  {
   "cell_type": "code",
   "execution_count": 36,
   "metadata": {
    "collapsed": true
   },
   "outputs": [],
   "source": [
    "rm ./20170201.tar.bz2"
   ]
  },
  {
   "cell_type": "code",
   "execution_count": 11,
   "metadata": {
    "collapsed": true
   },
   "outputs": [],
   "source": [
    "rm ./latest-ja-word2vec-gensim-model.zip"
   ]
  },
  {
   "cell_type": "code",
   "execution_count": 38,
   "metadata": {
    "collapsed": true
   },
   "outputs": [],
   "source": [
    "mv ./entity_vector/entity_vector.model.txt ./"
   ]
  },
  {
   "cell_type": "code",
   "execution_count": 39,
   "metadata": {
    "collapsed": true
   },
   "outputs": [],
   "source": [
    "rm -r ./entity_vector/"
   ]
  },
  {
   "cell_type": "code",
   "execution_count": 40,
   "metadata": {
    "collapsed": true
   },
   "outputs": [],
   "source": [
    "mv entity_vector.model.txt w2v200.txt"
   ]
  },
  {
   "cell_type": "code",
   "execution_count": 4,
   "metadata": {
    "collapsed": true
   },
   "outputs": [],
   "source": [
    "rm filelist"
   ]
  },
  {
   "cell_type": "code",
   "execution_count": 5,
   "metadata": {
    "collapsed": true
   },
   "outputs": [],
   "source": [
    "rm index.html"
   ]
  },
  {
   "cell_type": "code",
   "execution_count": 6,
   "metadata": {},
   "outputs": [
    {
     "name": "stdout",
     "output_type": "stream",
     "text": [
      "1gm-0000    \u001b[34mCJLC-0.1\u001b[m\u001b[m/   w2v200.txt  w2v50.tsv\r\n"
     ]
    }
   ],
   "source": [
    "ls"
   ]
  },
  {
   "cell_type": "code",
   "execution_count": 7,
   "metadata": {
    "collapsed": true
   },
   "outputs": [],
   "source": [
    "mv ./w2v200.txt ./w2v200.tsv"
   ]
  },
  {
   "cell_type": "markdown",
   "metadata": {
    "collapsed": true
   },
   "source": [
    "### kakasi\n",
    "\n",
    "https://qiita.com/mountcedar/items/f140837393a1697a8433"
   ]
  },
  {
   "cell_type": "code",
   "execution_count": 4,
   "metadata": {},
   "outputs": [
    {
     "name": "stdout",
     "output_type": "stream",
     "text": [
      "--2018-02-25 15:17:05--  http://kakasi.namazu.org/stable/kakasi-2.3.6.tar.xz\n",
      "kakasi.namazu.org (kakasi.namazu.org) をDNSに問いあわせています... 202.221.179.42\n",
      "kakasi.namazu.org (kakasi.namazu.org)|202.221.179.42|:80 に接続しています... 接続しました。\n",
      "HTTP による接続要求を送信しました、応答を待っています... 200 OK\n",
      "長さ: 991840 (969K) [application/x-tar]\n",
      "`kakasi-2.3.6.tar.xz' に保存中\n",
      "\n",
      "kakasi-2.3.6.tar.xz 100%[===================>] 968.59K  --.-KB/s 時間 0.1s       \n",
      "\n",
      "2018-02-25 15:17:06 (8.24 MB/s) - `kakasi-2.3.6.tar.xz' へ保存完了 [991840/991840]\n",
      "\n"
     ]
    }
   ],
   "source": [
    "!wget http://kakasi.namazu.org/stable/kakasi-2.3.6.tar.xz"
   ]
  },
  {
   "cell_type": "code",
   "execution_count": 5,
   "metadata": {},
   "outputs": [
    {
     "name": "stdout",
     "output_type": "stream",
     "text": [
      "./kakasi-2.3.6.tar.xz: Tar in XZ\n",
      "  kakasi-2.3.6/  (dir)... OK.\n",
      "  kakasi-2.3.6/install-sh  (13998 B)... OK.\n",
      "  kakasi-2.3.6/src/  (dir)... OK.\n",
      "  kakasi-2.3.6/src/rdic-conv.c  (2233 B)... OK.\n",
      "  kakasi-2.3.6/src/78_83.c  (2088 B)... OK.\n",
      "  kakasi-2.3.6/src/dict.c  (10772 B)... OK.\n",
      "  kakasi-2.3.6/src/atoc-conv.c  (4582 B)... OK.\n",
      "  kakasi-2.3.6/src/itaiji.c  (2286 B)... OK.\n",
      "  kakasi-2.3.6/src/mkkanwa.c  (3616 B)... OK.\n",
      "  kakasi-2.3.6/src/conv-util.c  (1449 B)... OK.\n",
      "  kakasi-2.3.6/src/hh2.c  (33879 B)... OK.\n",
      "  kakasi-2.3.6/src/jj2.c  (6177 B)... OK.\n",
      "  kakasi-2.3.6/src/conv-util.h  (1255 B)... OK.\n",
      "  kakasi-2.3.6/src/kakasi.h  (7174 B)... OK.\n",
      "  kakasi-2.3.6/src/level.c  (2887 B)... OK.\n",
      "  kakasi-2.3.6/src/ee2.c  (4134 B)... OK.\n",
      "  kakasi-2.3.6/src/Makefile.in  (17720 B)... OK.\n",
      "  kakasi-2.3.6/src/g2.c  (3142 B)... OK.\n",
      "  kakasi-2.3.6/src/kanjiio.c  (24059 B)... OK.\n",
      "  kakasi-2.3.6/src/j2.c  (2505 B)... OK.\n",
      "  kakasi-2.3.6/src/getopt.h  (4591 B)... OK.\n",
      "  kakasi-2.3.6/src/getopt.c  (30115 B)... OK.\n",
      "  kakasi-2.3.6/src/k2.c  (24002 B)... OK.\n",
      "  kakasi-2.3.6/src/kk2.c  (33417 B)... OK.\n",
      "  kakasi-2.3.6/src/Makefile.am  (681 B)... OK.\n",
      "  kakasi-2.3.6/src/getopt1.c  (4554 B)... OK.\n",
      "  kakasi-2.3.6/src/level.h  (39936 B)... OK.\n",
      "  kakasi-2.3.6/src/kakasi.c  (21662 B)... OK.\n",
      "  kakasi-2.3.6/src/wx2-conv.c  (5226 B)... OK.\n",
      "  kakasi-2.3.6/src/a2.c  (2508 B)... OK.\n",
      "  kakasi-2.3.6/magic-kakasi  (113 B)... OK.\n",
      "  kakasi-2.3.6/ONEWS  (5632 B)... OK.\n",
      "  kakasi-2.3.6/man/  (dir)... OK.\n",
      "  kakasi-2.3.6/man/kakasi.1.ja  (12551 B)... OK.\n",
      "  kakasi-2.3.6/man/kakasi.cat  (10305 B)... OK.\n",
      "  kakasi-2.3.6/man/kakasi.cat.ja  (14627 B)... OK.\n",
      "  kakasi-2.3.6/man/Makefile.in  (14221 B)... OK.\n",
      "  kakasi-2.3.6/man/Makefile.am  (197 B)... OK.\n",
      "  kakasi-2.3.6/man/kakasi.1  (9378 B)... OK.\n",
      "  kakasi-2.3.6/man/kakasi-config.1  (1953 B)... OK.\n",
      "  kakasi-2.3.6/configure  (450088 B)... OK.\n",
      "  kakasi-2.3.6/doc/  (dir)... OK.\n",
      "  kakasi-2.3.6/doc/README.wakati  (6215 B)... OK.\n",
      "  kakasi-2.3.6/doc/JISYO  (3497 B)... OK.\n",
      "  kakasi-2.3.6/doc/README.level  (5290 B)... OK.\n",
      "  kakasi-2.3.6/doc/README.BeOS  (961 B)... OK.\n",
      "  kakasi-2.3.6/doc/CVS/  (dir)... OK.\n",
      "  kakasi-2.3.6/doc/CVS/Entries  (327 B)... OK.\n",
      "  kakasi-2.3.6/doc/CVS/Root  (36 B)... OK.\n",
      "  kakasi-2.3.6/doc/CVS/Repository  (11 B)... OK.\n",
      "  kakasi-2.3.6/doc/README.lib  (2423 B)... OK.\n",
      "  kakasi-2.3.6/doc/README.OS2  (5753 B)... OK.\n",
      "  kakasi-2.3.6/doc/ChangeLog.lib  (1340 B)... OK.\n",
      "  kakasi-2.3.6/itaijidict  (2820 B)... OK.\n",
      "  kakasi-2.3.6/ChangeLog  (23024 B)... OK.\n",
      "  kakasi-2.3.6/kakasidict  (2237449 B)... OK.\n",
      "  kakasi-2.3.6/README  (1727 B)... OK.\n",
      "  kakasi-2.3.6/configure.in  (2823 B)... OK.\n",
      "  kakasi-2.3.6/config.h.in  (2131 B)... OK.\n",
      "  kakasi-2.3.6/kakasi.spec.in  (2789 B)... OK.\n",
      "  kakasi-2.3.6/AUTHORS  (356 B)... OK.\n",
      "  kakasi-2.3.6/kakasi-config.in  (1058 B)... OK.\n",
      "  kakasi-2.3.6/README-ja  (1505 B)... OK.\n",
      "  kakasi-2.3.6/kakasi.spec  (2785 B)... OK.\n",
      "  kakasi-2.3.6/missing  (10346 B)... OK.\n",
      "  kakasi-2.3.6/INSTALL-ja  (9618 B)... OK.\n",
      "  kakasi-2.3.6/tests/  (dir)... OK.\n",
      "  kakasi-2.3.6/tests/kakasi-5  (726 B)... OK.\n",
      "  kakasi-2.3.6/tests/data/  (dir)... OK.\n",
      "  kakasi-2.3.6/tests/data/hira-first-in.txt  (22 B)... OK.\n",
      "  kakasi-2.3.6/tests/data/hira-first-out.txt  (23 B)... OK.\n",
      "  kakasi-2.3.6/tests/data/Makefile.in  (10360 B)... OK.\n",
      "  kakasi-2.3.6/tests/data/Makefile.am  (94 B)... OK.\n",
      "  kakasi-2.3.6/tests/kakasi-4  (1380 B)... OK.\n",
      "  kakasi-2.3.6/tests/kakasi-7  (493 B)... OK.\n",
      "  kakasi-2.3.6/tests/kakasi-9  (519 B)... OK.\n",
      "  kakasi-2.3.6/tests/kakasi-3  (1124 B)... OK.\n",
      "  kakasi-2.3.6/tests/kakasi-1  (1094 B)... OK.\n",
      "  kakasi-2.3.6/tests/Makefile.in  (20696 B)... OK.\n",
      "  kakasi-2.3.6/tests/env.sh  (134 B)... OK.\n",
      "  kakasi-2.3.6/tests/kakasi-6  (789 B)... OK.\n",
      "  kakasi-2.3.6/tests/Makefile.am  (337 B)... OK.\n",
      "  kakasi-2.3.6/tests/kakasi-2  (1021 B)... OK.\n",
      "  kakasi-2.3.6/tests/kakasi-8  (655 B)... OK.\n",
      "  kakasi-2.3.6/Makefile.in  (28840 B)... OK.\n",
      "  kakasi-2.3.6/config.rpath  (14987 B)... OK.\n",
      "  kakasi-2.3.6/lib/  (dir)... OK.\n",
      "  kakasi-2.3.6/lib/libkk2.c  (33417 B)... OK.\n",
      "  kakasi-2.3.6/lib/libhh2.c  (33879 B)... OK.\n",
      "  kakasi-2.3.6/lib/libg2.c  (3142 B)... OK.\n",
      "  kakasi-2.3.6/lib/kakasi.def  (196 B)... OK.\n",
      "  kakasi-2.3.6/lib/libkanjiio.c  (24059 B)... OK.\n",
      "  kakasi-2.3.6/lib/liblevel.c  (2887 B)... OK.\n",
      "  kakasi-2.3.6/lib/makefile.msc.in  (2467 B)... OK.\n",
      "  kakasi-2.3.6/lib/libk2.c  (24002 B)... OK.\n",
      "  kakasi-2.3.6/lib/lib78_83.c  (2088 B)... OK.\n",
      "  kakasi-2.3.6/lib/libkakasi.h  (1468 B)... OK.\n",
      "  kakasi-2.3.6/lib/Makefile.in  (18992 B)... OK.\n",
      "  kakasi-2.3.6/lib/libjj2.c  (6177 B)... OK.\n",
      "  kakasi-2.3.6/lib/libdict.c  (10772 B)... OK.\n",
      "  kakasi-2.3.6/lib/libitaiji.c  (2286 B)... OK.\n",
      "  kakasi-2.3.6/lib/Makefile.am  (1510 B)... OK.\n",
      "  kakasi-2.3.6/lib/libkakasi.c  (21662 B)... OK.\n",
      "  kakasi-2.3.6/lib/libee2.c  (4134 B)... OK.\n",
      "  kakasi-2.3.6/lib/liba2.c  (2508 B)... OK.\n",
      "  kakasi-2.3.6/lib/libj2.c  (2505 B)... OK.\n",
      "  kakasi-2.3.6/NEWS  (3724 B)... OK.\n",
      "  kakasi-2.3.6/ltmain.sh  (283670 B)... OK.\n",
      "  kakasi-2.3.6/config.guess  (44826 B)... OK.\n",
      "  kakasi-2.3.6/aclocal.m4  (398325 B)... OK.\n",
      "  kakasi-2.3.6/COPYING  (18092 B)... OK.\n",
      "  kakasi-2.3.6/Makefile.am  (811 B)... OK.\n",
      "  kakasi-2.3.6/INSTALL  (15744 B)... OK.\n",
      "  kakasi-2.3.6/maintMakefile  (1632 B)... OK.\n",
      "  kakasi-2.3.6/config.sub  (35543 B)... OK.\n",
      "  kakasi-2.3.6/TODO  (491 B)... OK.\n",
      "  kakasi-2.3.6/THANKS  (783 B)... OK.\n",
      "Successfully extracted to \"kakasi-2.3.6\".\n"
     ]
    }
   ],
   "source": [
    "!unar ./kakasi-2.3.6.tar.xz"
   ]
  },
  {
   "cell_type": "code",
   "execution_count": 6,
   "metadata": {
    "collapsed": true
   },
   "outputs": [],
   "source": [
    "rm kakasi-2.3.6.tar.xz"
   ]
  },
  {
   "cell_type": "code",
   "execution_count": 7,
   "metadata": {},
   "outputs": [
    {
     "name": "stdout",
     "output_type": "stream",
     "text": [
      "/Users/showta/project/wovle/data/external/kakasi-2.3.6\n"
     ]
    }
   ],
   "source": [
    "cd ./kakasi-2.3.6/"
   ]
  },
  {
   "cell_type": "code",
   "execution_count": 9,
   "metadata": {
    "scrolled": true
   },
   "outputs": [
    {
     "name": "stdout",
     "output_type": "stream",
     "text": [
      "checking for a BSD-compatible install... /usr/bin/install -c\n",
      "checking whether build environment is sane... yes\n",
      "checking for powerpc-apple-bsd-strip... no\n",
      "checking for strip... strip\n",
      "checking for a thread-safe mkdir -p... ./install-sh -c -d\n",
      "checking for gawk... no\n",
      "checking for mawk... no\n",
      "checking for nawk... no\n",
      "checking for awk... awk\n",
      "checking whether make sets $(MAKE)... yes\n",
      "checking whether to enable maintainer-specific portions of Makefiles... no\n",
      "checking for powerpc-apple-bsd-gcc... no\n",
      "checking for gcc... gcc\n",
      "checking whether the C compiler works... yes\n",
      "checking for C compiler default output file name... a.out\n",
      "checking for suffix of executables... \n",
      "checking whether we are cross compiling... no\n",
      "checking for suffix of object files... o\n",
      "checking whether we are using the GNU C compiler... yes\n",
      "checking whether gcc accepts -g... yes\n",
      "checking for gcc option to accept ISO C89... none needed\n",
      "checking for style of include used by make... GNU\n",
      "checking dependency style of gcc... none\n",
      "checking how to run the C preprocessor... gcc -E\n",
      "checking whether make sets $(MAKE)... (cached) yes\n",
      "checking build system type... x86_64-apple-darwin16.7.0\n",
      "checking host system type... powerpc-apple-bsd\n",
      "checking how to print strings... printf\n",
      "checking for a sed that does not truncate output... /usr/bin/sed\n",
      "checking for grep that handles long lines and -e... /usr/bin/grep\n",
      "checking for egrep... /usr/bin/grep -E\n",
      "checking for fgrep... /usr/bin/grep -F\n",
      "checking for ld used by gcc... /Applications/Xcode.app/Contents/Developer/Toolchains/XcodeDefault.xctoolchain/usr/bin/ld\n",
      "checking if the linker (/Applications/Xcode.app/Contents/Developer/Toolchains/XcodeDefault.xctoolchain/usr/bin/ld) is GNU ld... no\n",
      "checking for BSD- or MS-compatible name lister (nm)... no\n",
      "checking for powerpc-apple-bsd-dumpbin... no\n",
      "checking for powerpc-apple-bsd-link... no\n",
      "checking for dumpbin... no\n",
      "checking for link... link -dump\n",
      "checking the name lister (nm) interface... BSD nm\n",
      "checking whether ln -s works... yes\n",
      "checking the maximum length of command line arguments... 196608\n",
      "checking whether the shell understands some XSI constructs... yes\n",
      "checking whether the shell understands \"+=\"... yes\n",
      "checking how to convert x86_64-apple-darwin16.7.0 file names to powerpc-apple-bsd format... func_convert_file_noop\n",
      "checking how to convert x86_64-apple-darwin16.7.0 file names to toolchain format... func_convert_file_noop\n",
      "checking for /Applications/Xcode.app/Contents/Developer/Toolchains/XcodeDefault.xctoolchain/usr/bin/ld option to reload object files... -r\n",
      "checking for powerpc-apple-bsd-objdump... no\n",
      "checking for objdump... objdump\n",
      "checking how to recognize dependent libraries... unknown\n",
      "checking for powerpc-apple-bsd-dlltool... no\n",
      "checking for dlltool... no\n",
      "checking how to associate runtime and link libraries... printf %s\\n\n",
      "checking for powerpc-apple-bsd-ar... no\n",
      "checking for ar... ar\n",
      "checking for archiver @FILE support... no\n",
      "checking for powerpc-apple-bsd-strip... strip\n",
      "checking for powerpc-apple-bsd-ranlib... no\n",
      "checking for ranlib... ranlib\n",
      "checking command to parse nm output from gcc object... ok\n",
      "checking for sysroot... no\n",
      "checking for powerpc-apple-bsd-mt... no\n",
      "checking for mt... no\n",
      "checking if : is a manifest tool... no\n",
      "checking for ANSI C header files... yes\n",
      "checking for sys/types.h... yes\n",
      "checking for sys/stat.h... yes\n",
      "checking for stdlib.h... yes\n",
      "checking for string.h... yes\n",
      "checking for memory.h... yes\n",
      "checking for strings.h... yes\n",
      "checking for inttypes.h... yes\n",
      "checking for stdint.h... yes\n",
      "checking for unistd.h... yes\n",
      "checking for dlfcn.h... yes\n",
      "checking for objdir... .libs\n",
      "checking if gcc supports -fno-rtti -fno-exceptions... yes\n",
      "checking for gcc option to produce PIC... -fPIC -DPIC\n",
      "checking if gcc PIC flag -fPIC -DPIC works... yes\n",
      "checking if gcc static flag -static works... no\n",
      "checking if gcc supports -c -o file.o... yes\n",
      "checking if gcc supports -c -o file.o... (cached) yes\n",
      "checking whether the gcc linker (/Applications/Xcode.app/Contents/Developer/Toolchains/XcodeDefault.xctoolchain/usr/bin/ld) supports shared libraries... no\n",
      "checking dynamic linker characteristics... no\n",
      "checking how to hardcode library paths into programs... unsupported\n",
      "checking whether stripping libraries is possible... no\n",
      "checking if libtool supports shared libraries... no\n",
      "checking whether to build shared libraries... no\n",
      "checking whether to build static libraries... yes\n",
      "checking for main in -le... no\n",
      "checking for ANSI C header files... (cached) yes\n",
      "checking malloc.h usability... no\n",
      "checking malloc.h presence... no\n",
      "checking for malloc.h... no\n",
      "checking for string.h... (cached) yes\n",
      "checking for strings.h... (cached) yes\n",
      "checking for memmove... yes\n",
      "checking for wakatigaki... yes\n",
      "checking for eachyomi... yes\n",
      "checking for utf8 conversion... yes\n",
      "checking for ld used by GCC... /Applications/Xcode.app/Contents/Developer/Toolchains/XcodeDefault.xctoolchain/usr/bin/ld\n",
      "checking if the linker (/Applications/Xcode.app/Contents/Developer/Toolchains/XcodeDefault.xctoolchain/usr/bin/ld) is GNU ld... no\n",
      "checking for shared library run path origin... done\n",
      "checking for iconv... yes\n",
      "checking for working iconv... yes\n",
      "checking how to link with libiconv... -liconv\n",
      "checking for iconv declaration... \n",
      "         extern size_t iconv (iconv_t cd, char * *inbuf, size_t *inbytesleft, char * *outbuf, size_t *outbytesleft);\n",
      "configure: creating ./config.status\n",
      "config.status: creating src/Makefile\n",
      "config.status: creating lib/Makefile\n",
      "config.status: creating lib/makefile.msc\n",
      "config.status: creating man/Makefile\n",
      "config.status: creating tests/Makefile\n",
      "config.status: creating tests/data/Makefile\n",
      "config.status: creating Makefile\n",
      "config.status: creating kakasi-config\n",
      "config.status: creating kakasi.spec\n",
      "config.status: creating config.h\n",
      "config.status: executing depfiles commands\n",
      "config.status: executing libtool commands\n",
      "config.status: executing default commands\n"
     ]
    }
   ],
   "source": [
    "!./configure -host=powerpc-apple-bsd"
   ]
  },
  {
   "cell_type": "code",
   "execution_count": 10,
   "metadata": {
    "scrolled": true
   },
   "outputs": [
    {
     "name": "stdout",
     "output_type": "stream",
     "text": [
      "/Applications/Xcode.app/Contents/Developer/usr/bin/make  all-recursive\n",
      "Making all in src\n",
      "gcc -DHAVE_CONFIG_H -DKANWADICT=\\\"/usr/local/share/kakasi/kanwadict\\\" -DITAIJIDICT=\\\"/usr/local/share/kakasi/itaijidict\\\" -I. -I.. -I..    -g -O2 -Wall -Wunused -Wuninitialized -Wmissing-declarations -Wmissing-prototypes -pedantic -Wno-unused-result -c kakasi.c\n",
      "gcc -DHAVE_CONFIG_H -DKANWADICT=\\\"/usr/local/share/kakasi/kanwadict\\\" -DITAIJIDICT=\\\"/usr/local/share/kakasi/itaijidict\\\" -I. -I.. -I..    -g -O2 -Wall -Wunused -Wuninitialized -Wmissing-declarations -Wmissing-prototypes -pedantic -Wno-unused-result -c a2.c\n",
      "gcc -DHAVE_CONFIG_H -DKANWADICT=\\\"/usr/local/share/kakasi/kanwadict\\\" -DITAIJIDICT=\\\"/usr/local/share/kakasi/itaijidict\\\" -I. -I.. -I..    -g -O2 -Wall -Wunused -Wuninitialized -Wmissing-declarations -Wmissing-prototypes -pedantic -Wno-unused-result -c g2.c\n",
      "gcc -DHAVE_CONFIG_H -DKANWADICT=\\\"/usr/local/share/kakasi/kanwadict\\\" -DITAIJIDICT=\\\"/usr/local/share/kakasi/itaijidict\\\" -I. -I.. -I..    -g -O2 -Wall -Wunused -Wuninitialized -Wmissing-declarations -Wmissing-prototypes -pedantic -Wno-unused-result -c j2.c\n",
      "gcc -DHAVE_CONFIG_H -DKANWADICT=\\\"/usr/local/share/kakasi/kanwadict\\\" -DITAIJIDICT=\\\"/usr/local/share/kakasi/itaijidict\\\" -I. -I.. -I..    -g -O2 -Wall -Wunused -Wuninitialized -Wmissing-declarations -Wmissing-prototypes -pedantic -Wno-unused-result -c k2.c\n",
      "gcc -DHAVE_CONFIG_H -DKANWADICT=\\\"/usr/local/share/kakasi/kanwadict\\\" -DITAIJIDICT=\\\"/usr/local/share/kakasi/itaijidict\\\" -I. -I.. -I..    -g -O2 -Wall -Wunused -Wuninitialized -Wmissing-declarations -Wmissing-prototypes -pedantic -Wno-unused-result -c ee2.c\n",
      "gcc -DHAVE_CONFIG_H -DKANWADICT=\\\"/usr/local/share/kakasi/kanwadict\\\" -DITAIJIDICT=\\\"/usr/local/share/kakasi/itaijidict\\\" -I. -I.. -I..    -g -O2 -Wall -Wunused -Wuninitialized -Wmissing-declarations -Wmissing-prototypes -pedantic -Wno-unused-result -c hh2.c\n",
      "\u001b[1mhh2.c:851:1: \u001b[0m\u001b[0;1;35mwarning: \u001b[0m\u001b[1mcontrol may reach end of non-void function [-Wreturn-type]\u001b[0m\n",
      "}\n",
      "\u001b[0;1;32m^\n",
      "\u001b[0m1 warning generated.\n",
      "gcc -DHAVE_CONFIG_H -DKANWADICT=\\\"/usr/local/share/kakasi/kanwadict\\\" -DITAIJIDICT=\\\"/usr/local/share/kakasi/itaijidict\\\" -I. -I.. -I..    -g -O2 -Wall -Wunused -Wuninitialized -Wmissing-declarations -Wmissing-prototypes -pedantic -Wno-unused-result -c jj2.c\n",
      "gcc -DHAVE_CONFIG_H -DKANWADICT=\\\"/usr/local/share/kakasi/kanwadict\\\" -DITAIJIDICT=\\\"/usr/local/share/kakasi/itaijidict\\\" -I. -I.. -I..    -g -O2 -Wall -Wunused -Wuninitialized -Wmissing-declarations -Wmissing-prototypes -pedantic -Wno-unused-result -c kk2.c\n",
      "gcc -DHAVE_CONFIG_H -DKANWADICT=\\\"/usr/local/share/kakasi/kanwadict\\\" -DITAIJIDICT=\\\"/usr/local/share/kakasi/itaijidict\\\" -I. -I.. -I..    -g -O2 -Wall -Wunused -Wuninitialized -Wmissing-declarations -Wmissing-prototypes -pedantic -Wno-unused-result -c dict.c\n",
      "gcc -DHAVE_CONFIG_H -DKANWADICT=\\\"/usr/local/share/kakasi/kanwadict\\\" -DITAIJIDICT=\\\"/usr/local/share/kakasi/itaijidict\\\" -I. -I.. -I..    -g -O2 -Wall -Wunused -Wuninitialized -Wmissing-declarations -Wmissing-prototypes -pedantic -Wno-unused-result -c itaiji.c\n",
      "gcc -DHAVE_CONFIG_H -DKANWADICT=\\\"/usr/local/share/kakasi/kanwadict\\\" -DITAIJIDICT=\\\"/usr/local/share/kakasi/itaijidict\\\" -I. -I.. -I..    -g -O2 -Wall -Wunused -Wuninitialized -Wmissing-declarations -Wmissing-prototypes -pedantic -Wno-unused-result -c kanjiio.c\n",
      "\u001b[1mkanjiio.c:1071:29: \u001b[0m\u001b[0;1;35mwarning: \u001b[0m\u001b[1mcomparison of unsigned expression < 0 is always\n",
      "      false [-Wtautological-compare]\u001b[0m\n",
      "    if (tolen >= 6 || tolen < 0)\n",
      "\u001b[0;1;32m                      ~~~~~ ^ ~\n",
      "\u001b[0m\u001b[1mkanjiio.c:1079:1: \u001b[0m\u001b[0;1;35mwarning: \u001b[0m\u001b[1mno previous prototype for function 'close_iconv'\n",
      "      [-Wmissing-prototypes]\u001b[0m\n",
      "close_iconv()\n",
      "\u001b[0;1;32m^\n",
      "\u001b[0m2 warnings generated.\n",
      "gcc -DHAVE_CONFIG_H -DKANWADICT=\\\"/usr/local/share/kakasi/kanwadict\\\" -DITAIJIDICT=\\\"/usr/local/share/kakasi/itaijidict\\\" -I. -I.. -I..    -g -O2 -Wall -Wunused -Wuninitialized -Wmissing-declarations -Wmissing-prototypes -pedantic -Wno-unused-result -c 78_83.c\n",
      "gcc -DHAVE_CONFIG_H -DKANWADICT=\\\"/usr/local/share/kakasi/kanwadict\\\" -DITAIJIDICT=\\\"/usr/local/share/kakasi/itaijidict\\\" -I. -I.. -I..    -g -O2 -Wall -Wunused -Wuninitialized -Wmissing-declarations -Wmissing-prototypes -pedantic -Wno-unused-result -c level.c\n",
      "/bin/sh ../libtool --tag=CC   --mode=link gcc  -g -O2 -Wall -Wunused -Wuninitialized -Wmissing-declarations -Wmissing-prototypes -pedantic -Wno-unused-result   -o kakasi kakasi.o a2.o g2.o j2.o k2.o ee2.o hh2.o jj2.o kk2.o dict.o itaiji.o kanjiio.o 78_83.o level.o  -liconv \n",
      "libtool: link: gcc -g -O2 -Wall -Wunused -Wuninitialized -Wmissing-declarations -Wmissing-prototypes -pedantic -Wno-unused-result -o kakasi kakasi.o a2.o g2.o j2.o k2.o ee2.o hh2.o jj2.o kk2.o dict.o itaiji.o kanjiio.o 78_83.o level.o  -liconv\n",
      "gcc -DHAVE_CONFIG_H -DKANWADICT=\\\"/usr/local/share/kakasi/kanwadict\\\" -DITAIJIDICT=\\\"/usr/local/share/kakasi/itaijidict\\\" -I. -I.. -I..    -g -O2 -Wall -Wunused -Wuninitialized -Wmissing-declarations -Wmissing-prototypes -pedantic -Wno-unused-result -c mkkanwa.c\n",
      "gcc -DHAVE_CONFIG_H -DKANWADICT=\\\"/usr/local/share/kakasi/kanwadict\\\" -DITAIJIDICT=\\\"/usr/local/share/kakasi/itaijidict\\\" -I. -I.. -I..    -g -O2 -Wall -Wunused -Wuninitialized -Wmissing-declarations -Wmissing-prototypes -pedantic -Wno-unused-result -c getopt.c\n",
      "\u001b[1mgetopt.c:706:6: \u001b[0m\u001b[0;1;35mwarning: \u001b[0m\u001b[1madd explicit braces to avoid dangling else\n",
      "      [-Wdangling-else]\u001b[0m\n",
      "                   else\n",
      "\u001b[0;1;32m                   ^\n",
      "\u001b[0m\u001b[1mgetopt.c:969:1: \u001b[0m\u001b[0;1;35mwarning: \u001b[0m\u001b[1mno previous prototype for function 'getopt'\n",
      "      [-Wmissing-prototypes]\u001b[0m\n",
      "getopt (argc, argv, optstring)\n",
      "\u001b[0;1;32m^\n",
      "\u001b[0m2 warnings generated.\n",
      "gcc -DHAVE_CONFIG_H -DKANWADICT=\\\"/usr/local/share/kakasi/kanwadict\\\" -DITAIJIDICT=\\\"/usr/local/share/kakasi/itaijidict\\\" -I. -I.. -I..    -g -O2 -Wall -Wunused -Wuninitialized -Wmissing-declarations -Wmissing-prototypes -pedantic -Wno-unused-result -c getopt1.c\n",
      "/bin/sh ../libtool --tag=CC   --mode=link gcc  -g -O2 -Wall -Wunused -Wuninitialized -Wmissing-declarations -Wmissing-prototypes -pedantic -Wno-unused-result   -o mkkanwa mkkanwa.o dict.o itaiji.o getopt.o getopt1.o  -liconv \n",
      "libtool: link: gcc -g -O2 -Wall -Wunused -Wuninitialized -Wmissing-declarations -Wmissing-prototypes -pedantic -Wno-unused-result -o mkkanwa mkkanwa.o dict.o itaiji.o getopt.o getopt1.o  -liconv\n",
      "gcc -DHAVE_CONFIG_H -DKANWADICT=\\\"/usr/local/share/kakasi/kanwadict\\\" -DITAIJIDICT=\\\"/usr/local/share/kakasi/itaijidict\\\" -I. -I.. -I..    -g -O2 -Wall -Wunused -Wuninitialized -Wmissing-declarations -Wmissing-prototypes -pedantic -Wno-unused-result -c atoc-conv.c\n",
      "\u001b[1matoc-conv.c:118:12: \u001b[0m\u001b[0;1;35mwarning: \u001b[0m\u001b[1mpassing 'const char *' to parameter of type\n",
      "      'unsigned char *' discards qualifiers\n",
      "      [-Wincompatible-pointer-types-discards-qualifiers]\u001b[0m\n",
      "        sjis2ujis((const char *)sjis, ujis);\n",
      "\u001b[0;1;32m                  ^~~~~~~~~~~~~~~~~~\n",
      "\u001b[0m1 warning generated.\n",
      "gcc -DHAVE_CONFIG_H -DKANWADICT=\\\"/usr/local/share/kakasi/kanwadict\\\" -DITAIJIDICT=\\\"/usr/local/share/kakasi/itaijidict\\\" -I. -I.. -I..    -g -O2 -Wall -Wunused -Wuninitialized -Wmissing-declarations -Wmissing-prototypes -pedantic -Wno-unused-result -c conv-util.c\n",
      "/bin/sh ../libtool --tag=CC   --mode=link gcc  -g -O2 -Wall -Wunused -Wuninitialized -Wmissing-declarations -Wmissing-prototypes -pedantic -Wno-unused-result   -o atoc_conv atoc-conv.o conv-util.o  -liconv \n",
      "libtool: link: gcc -g -O2 -Wall -Wunused -Wuninitialized -Wmissing-declarations -Wmissing-prototypes -pedantic -Wno-unused-result -o atoc_conv atoc-conv.o conv-util.o  -liconv\n",
      "gcc -DHAVE_CONFIG_H -DKANWADICT=\\\"/usr/local/share/kakasi/kanwadict\\\" -DITAIJIDICT=\\\"/usr/local/share/kakasi/itaijidict\\\" -I. -I.. -I..    -g -O2 -Wall -Wunused -Wuninitialized -Wmissing-declarations -Wmissing-prototypes -pedantic -Wno-unused-result -c rdic-conv.c\n",
      "/bin/sh ../libtool --tag=CC   --mode=link gcc  -g -O2 -Wall -Wunused -Wuninitialized -Wmissing-declarations -Wmissing-prototypes -pedantic -Wno-unused-result   -o rdic_conv rdic-conv.o conv-util.o  -liconv \n",
      "libtool: link: gcc -g -O2 -Wall -Wunused -Wuninitialized -Wmissing-declarations -Wmissing-prototypes -pedantic -Wno-unused-result -o rdic_conv rdic-conv.o conv-util.o  -liconv\n"
     ]
    },
    {
     "name": "stdout",
     "output_type": "stream",
     "text": [
      "gcc -DHAVE_CONFIG_H -DKANWADICT=\\\"/usr/local/share/kakasi/kanwadict\\\" -DITAIJIDICT=\\\"/usr/local/share/kakasi/itaijidict\\\" -I. -I.. -I..    -g -O2 -Wall -Wunused -Wuninitialized -Wmissing-declarations -Wmissing-prototypes -pedantic -Wno-unused-result -c wx2-conv.c\n",
      "\u001b[1mwx2-conv.c:155:11: \u001b[0m\u001b[0;1;35mwarning: \u001b[0m\u001b[1mpassing 'unsigned char [1024]' to parameter of type\n",
      "      'char *' converts between pointers to integer types with different sign\n",
      "      [-Wpointer-sign]\u001b[0m\n",
      "        getkanji(f2, tmp);\n",
      "\u001b[0;1;32m                 ^~\n",
      "\u001b[0m\u001b[1mwx2-conv.c:155:15: \u001b[0m\u001b[0;1;35mwarning: \u001b[0m\u001b[1mpassing 'unsigned char [1024]' to parameter of type\n",
      "      'char *' converts between pointers to integer types with different sign\n",
      "      [-Wpointer-sign]\u001b[0m\n",
      "        getkanji(f2, tmp);\n",
      "\u001b[0;1;32m                     ^~~\n",
      "\u001b[0m2 warnings generated.\n",
      "/bin/sh ../libtool --tag=CC   --mode=link gcc  -g -O2 -Wall -Wunused -Wuninitialized -Wmissing-declarations -Wmissing-prototypes -pedantic -Wno-unused-result   -o wx2_conv wx2-conv.o conv-util.o  -liconv \n",
      "libtool: link: gcc -g -O2 -Wall -Wunused -Wuninitialized -Wmissing-declarations -Wmissing-prototypes -pedantic -Wno-unused-result -o wx2_conv wx2-conv.o conv-util.o  -liconv\n",
      "Making all in lib\n",
      "/bin/sh ../libtool --tag=CC   --mode=compile gcc -DLIBRARY -DHAVE_CONFIG_H -DKANWADICT=\\\"/usr/local/share/kakasi/kanwadict\\\" -DITAIJIDICT=\\\"/usr/local/share/kakasi/itaijidict\\\" -I. -I.. -I.. -I../src    -g -O2 -Wall -Wunused -Wuninitialized -Wmissing-declarations -Wmissing-prototypes -pedantic -Wno-unused-result -c -o libdict.lo libdict.c\n",
      "libtool: compile:  gcc -DLIBRARY -DHAVE_CONFIG_H -DKANWADICT=\\\"/usr/local/share/kakasi/kanwadict\\\" -DITAIJIDICT=\\\"/usr/local/share/kakasi/itaijidict\\\" -I. -I.. -I.. -I../src -g -O2 -Wall -Wunused -Wuninitialized -Wmissing-declarations -Wmissing-prototypes -pedantic -Wno-unused-result -c libdict.c -o libdict.o\n",
      "/bin/sh ../libtool --tag=CC   --mode=compile gcc -DLIBRARY -DHAVE_CONFIG_H -DKANWADICT=\\\"/usr/local/share/kakasi/kanwadict\\\" -DITAIJIDICT=\\\"/usr/local/share/kakasi/itaijidict\\\" -I. -I.. -I.. -I../src    -g -O2 -Wall -Wunused -Wuninitialized -Wmissing-declarations -Wmissing-prototypes -pedantic -Wno-unused-result -c -o libkakasi.lo libkakasi.c\n",
      "libtool: compile:  gcc -DLIBRARY -DHAVE_CONFIG_H -DKANWADICT=\\\"/usr/local/share/kakasi/kanwadict\\\" -DITAIJIDICT=\\\"/usr/local/share/kakasi/itaijidict\\\" -I. -I.. -I.. -I../src -g -O2 -Wall -Wunused -Wuninitialized -Wmissing-declarations -Wmissing-prototypes -pedantic -Wno-unused-result -c libkakasi.c -o libkakasi.o\n",
      "/bin/sh ../libtool --tag=CC   --mode=compile gcc -DLIBRARY -DHAVE_CONFIG_H -DKANWADICT=\\\"/usr/local/share/kakasi/kanwadict\\\" -DITAIJIDICT=\\\"/usr/local/share/kakasi/itaijidict\\\" -I. -I.. -I.. -I../src    -g -O2 -Wall -Wunused -Wuninitialized -Wmissing-declarations -Wmissing-prototypes -pedantic -Wno-unused-result -c -o libkanjiio.lo libkanjiio.c\n",
      "libtool: compile:  gcc -DLIBRARY -DHAVE_CONFIG_H -DKANWADICT=\\\"/usr/local/share/kakasi/kanwadict\\\" -DITAIJIDICT=\\\"/usr/local/share/kakasi/itaijidict\\\" -I. -I.. -I.. -I../src -g -O2 -Wall -Wunused -Wuninitialized -Wmissing-declarations -Wmissing-prototypes -pedantic -Wno-unused-result -c libkanjiio.c -o libkanjiio.o\n",
      "\u001b[1mlibkanjiio.c:1071:29: \u001b[0m\u001b[0;1;35mwarning: \u001b[0m\u001b[1mcomparison of unsigned expression < 0 is always\n",
      "      false [-Wtautological-compare]\u001b[0m\n",
      "    if (tolen >= 6 || tolen < 0)\n",
      "\u001b[0;1;32m                      ~~~~~ ^ ~\n",
      "\u001b[0m\u001b[1mlibkanjiio.c:1079:1: \u001b[0m\u001b[0;1;35mwarning: \u001b[0m\u001b[1mno previous prototype for function 'close_iconv'\n",
      "      [-Wmissing-prototypes]\u001b[0m\n",
      "close_iconv()\n",
      "\u001b[0;1;32m^\n",
      "\u001b[0m2 warnings generated.\n",
      "/bin/sh ../libtool --tag=CC   --mode=compile gcc -DLIBRARY -DHAVE_CONFIG_H -DKANWADICT=\\\"/usr/local/share/kakasi/kanwadict\\\" -DITAIJIDICT=\\\"/usr/local/share/kakasi/itaijidict\\\" -I. -I.. -I.. -I../src    -g -O2 -Wall -Wunused -Wuninitialized -Wmissing-declarations -Wmissing-prototypes -pedantic -Wno-unused-result -c -o liba2.lo liba2.c\n",
      "libtool: compile:  gcc -DLIBRARY -DHAVE_CONFIG_H -DKANWADICT=\\\"/usr/local/share/kakasi/kanwadict\\\" -DITAIJIDICT=\\\"/usr/local/share/kakasi/itaijidict\\\" -I. -I.. -I.. -I../src -g -O2 -Wall -Wunused -Wuninitialized -Wmissing-declarations -Wmissing-prototypes -pedantic -Wno-unused-result -c liba2.c -o liba2.o\n",
      "/bin/sh ../libtool --tag=CC   --mode=compile gcc -DLIBRARY -DHAVE_CONFIG_H -DKANWADICT=\\\"/usr/local/share/kakasi/kanwadict\\\" -DITAIJIDICT=\\\"/usr/local/share/kakasi/itaijidict\\\" -I. -I.. -I.. -I../src    -g -O2 -Wall -Wunused -Wuninitialized -Wmissing-declarations -Wmissing-prototypes -pedantic -Wno-unused-result -c -o libg2.lo libg2.c\n",
      "libtool: compile:  gcc -DLIBRARY -DHAVE_CONFIG_H -DKANWADICT=\\\"/usr/local/share/kakasi/kanwadict\\\" -DITAIJIDICT=\\\"/usr/local/share/kakasi/itaijidict\\\" -I. -I.. -I.. -I../src -g -O2 -Wall -Wunused -Wuninitialized -Wmissing-declarations -Wmissing-prototypes -pedantic -Wno-unused-result -c libg2.c -o libg2.o\n",
      "/bin/sh ../libtool --tag=CC   --mode=compile gcc -DLIBRARY -DHAVE_CONFIG_H -DKANWADICT=\\\"/usr/local/share/kakasi/kanwadict\\\" -DITAIJIDICT=\\\"/usr/local/share/kakasi/itaijidict\\\" -I. -I.. -I.. -I../src    -g -O2 -Wall -Wunused -Wuninitialized -Wmissing-declarations -Wmissing-prototypes -pedantic -Wno-unused-result -c -o libj2.lo libj2.c\n",
      "libtool: compile:  gcc -DLIBRARY -DHAVE_CONFIG_H -DKANWADICT=\\\"/usr/local/share/kakasi/kanwadict\\\" -DITAIJIDICT=\\\"/usr/local/share/kakasi/itaijidict\\\" -I. -I.. -I.. -I../src -g -O2 -Wall -Wunused -Wuninitialized -Wmissing-declarations -Wmissing-prototypes -pedantic -Wno-unused-result -c libj2.c -o libj2.o\n",
      "/bin/sh ../libtool --tag=CC   --mode=compile gcc -DLIBRARY -DHAVE_CONFIG_H -DKANWADICT=\\\"/usr/local/share/kakasi/kanwadict\\\" -DITAIJIDICT=\\\"/usr/local/share/kakasi/itaijidict\\\" -I. -I.. -I.. -I../src    -g -O2 -Wall -Wunused -Wuninitialized -Wmissing-declarations -Wmissing-prototypes -pedantic -Wno-unused-result -c -o libk2.lo libk2.c\n",
      "libtool: compile:  gcc -DLIBRARY -DHAVE_CONFIG_H -DKANWADICT=\\\"/usr/local/share/kakasi/kanwadict\\\" -DITAIJIDICT=\\\"/usr/local/share/kakasi/itaijidict\\\" -I. -I.. -I.. -I../src -g -O2 -Wall -Wunused -Wuninitialized -Wmissing-declarations -Wmissing-prototypes -pedantic -Wno-unused-result -c libk2.c -o libk2.o\n",
      "/bin/sh ../libtool --tag=CC   --mode=compile gcc -DLIBRARY -DHAVE_CONFIG_H -DKANWADICT=\\\"/usr/local/share/kakasi/kanwadict\\\" -DITAIJIDICT=\\\"/usr/local/share/kakasi/itaijidict\\\" -I. -I.. -I.. -I../src    -g -O2 -Wall -Wunused -Wuninitialized -Wmissing-declarations -Wmissing-prototypes -pedantic -Wno-unused-result -c -o libee2.lo libee2.c\n",
      "libtool: compile:  gcc -DLIBRARY -DHAVE_CONFIG_H -DKANWADICT=\\\"/usr/local/share/kakasi/kanwadict\\\" -DITAIJIDICT=\\\"/usr/local/share/kakasi/itaijidict\\\" -I. -I.. -I.. -I../src -g -O2 -Wall -Wunused -Wuninitialized -Wmissing-declarations -Wmissing-prototypes -pedantic -Wno-unused-result -c libee2.c -o libee2.o\n",
      "/bin/sh ../libtool --tag=CC   --mode=compile gcc -DLIBRARY -DHAVE_CONFIG_H -DKANWADICT=\\\"/usr/local/share/kakasi/kanwadict\\\" -DITAIJIDICT=\\\"/usr/local/share/kakasi/itaijidict\\\" -I. -I.. -I.. -I../src    -g -O2 -Wall -Wunused -Wuninitialized -Wmissing-declarations -Wmissing-prototypes -pedantic -Wno-unused-result -c -o libhh2.lo libhh2.c\n",
      "libtool: compile:  gcc -DLIBRARY -DHAVE_CONFIG_H -DKANWADICT=\\\"/usr/local/share/kakasi/kanwadict\\\" -DITAIJIDICT=\\\"/usr/local/share/kakasi/itaijidict\\\" -I. -I.. -I.. -I../src -g -O2 -Wall -Wunused -Wuninitialized -Wmissing-declarations -Wmissing-prototypes -pedantic -Wno-unused-result -c libhh2.c -o libhh2.o\n",
      "\u001b[1mlibhh2.c:851:1: \u001b[0m\u001b[0;1;35mwarning: \u001b[0m\u001b[1mcontrol may reach end of non-void function\n",
      "      [-Wreturn-type]\u001b[0m\n",
      "}\n",
      "\u001b[0;1;32m^\n",
      "\u001b[0m1 warning generated.\n",
      "/bin/sh ../libtool --tag=CC   --mode=compile gcc -DLIBRARY -DHAVE_CONFIG_H -DKANWADICT=\\\"/usr/local/share/kakasi/kanwadict\\\" -DITAIJIDICT=\\\"/usr/local/share/kakasi/itaijidict\\\" -I. -I.. -I.. -I../src    -g -O2 -Wall -Wunused -Wuninitialized -Wmissing-declarations -Wmissing-prototypes -pedantic -Wno-unused-result -c -o libjj2.lo libjj2.c\n",
      "libtool: compile:  gcc -DLIBRARY -DHAVE_CONFIG_H -DKANWADICT=\\\"/usr/local/share/kakasi/kanwadict\\\" -DITAIJIDICT=\\\"/usr/local/share/kakasi/itaijidict\\\" -I. -I.. -I.. -I../src -g -O2 -Wall -Wunused -Wuninitialized -Wmissing-declarations -Wmissing-prototypes -pedantic -Wno-unused-result -c libjj2.c -o libjj2.o\n"
     ]
    },
    {
     "name": "stdout",
     "output_type": "stream",
     "text": [
      "/bin/sh ../libtool --tag=CC   --mode=compile gcc -DLIBRARY -DHAVE_CONFIG_H -DKANWADICT=\\\"/usr/local/share/kakasi/kanwadict\\\" -DITAIJIDICT=\\\"/usr/local/share/kakasi/itaijidict\\\" -I. -I.. -I.. -I../src    -g -O2 -Wall -Wunused -Wuninitialized -Wmissing-declarations -Wmissing-prototypes -pedantic -Wno-unused-result -c -o libkk2.lo libkk2.c\n",
      "libtool: compile:  gcc -DLIBRARY -DHAVE_CONFIG_H -DKANWADICT=\\\"/usr/local/share/kakasi/kanwadict\\\" -DITAIJIDICT=\\\"/usr/local/share/kakasi/itaijidict\\\" -I. -I.. -I.. -I../src -g -O2 -Wall -Wunused -Wuninitialized -Wmissing-declarations -Wmissing-prototypes -pedantic -Wno-unused-result -c libkk2.c -o libkk2.o\n",
      "/bin/sh ../libtool --tag=CC   --mode=compile gcc -DLIBRARY -DHAVE_CONFIG_H -DKANWADICT=\\\"/usr/local/share/kakasi/kanwadict\\\" -DITAIJIDICT=\\\"/usr/local/share/kakasi/itaijidict\\\" -I. -I.. -I.. -I../src    -g -O2 -Wall -Wunused -Wuninitialized -Wmissing-declarations -Wmissing-prototypes -pedantic -Wno-unused-result -c -o libitaiji.lo libitaiji.c\n",
      "libtool: compile:  gcc -DLIBRARY -DHAVE_CONFIG_H -DKANWADICT=\\\"/usr/local/share/kakasi/kanwadict\\\" -DITAIJIDICT=\\\"/usr/local/share/kakasi/itaijidict\\\" -I. -I.. -I.. -I../src -g -O2 -Wall -Wunused -Wuninitialized -Wmissing-declarations -Wmissing-prototypes -pedantic -Wno-unused-result -c libitaiji.c -o libitaiji.o\n",
      "/bin/sh ../libtool --tag=CC   --mode=compile gcc -DLIBRARY -DHAVE_CONFIG_H -DKANWADICT=\\\"/usr/local/share/kakasi/kanwadict\\\" -DITAIJIDICT=\\\"/usr/local/share/kakasi/itaijidict\\\" -I. -I.. -I.. -I../src    -g -O2 -Wall -Wunused -Wuninitialized -Wmissing-declarations -Wmissing-prototypes -pedantic -Wno-unused-result -c -o lib78_83.lo lib78_83.c\n",
      "libtool: compile:  gcc -DLIBRARY -DHAVE_CONFIG_H -DKANWADICT=\\\"/usr/local/share/kakasi/kanwadict\\\" -DITAIJIDICT=\\\"/usr/local/share/kakasi/itaijidict\\\" -I. -I.. -I.. -I../src -g -O2 -Wall -Wunused -Wuninitialized -Wmissing-declarations -Wmissing-prototypes -pedantic -Wno-unused-result -c lib78_83.c -o lib78_83.o\n",
      "/bin/sh ../libtool --tag=CC   --mode=compile gcc -DLIBRARY -DHAVE_CONFIG_H -DKANWADICT=\\\"/usr/local/share/kakasi/kanwadict\\\" -DITAIJIDICT=\\\"/usr/local/share/kakasi/itaijidict\\\" -I. -I.. -I.. -I../src    -g -O2 -Wall -Wunused -Wuninitialized -Wmissing-declarations -Wmissing-prototypes -pedantic -Wno-unused-result -c -o liblevel.lo liblevel.c\n",
      "libtool: compile:  gcc -DLIBRARY -DHAVE_CONFIG_H -DKANWADICT=\\\"/usr/local/share/kakasi/kanwadict\\\" -DITAIJIDICT=\\\"/usr/local/share/kakasi/itaijidict\\\" -I. -I.. -I.. -I../src -g -O2 -Wall -Wunused -Wuninitialized -Wmissing-declarations -Wmissing-prototypes -pedantic -Wno-unused-result -c liblevel.c -o liblevel.o\n",
      "/bin/sh ../libtool --tag=CC   --mode=link gcc  -g -O2 -Wall -Wunused -Wuninitialized -Wmissing-declarations -Wmissing-prototypes -pedantic -Wno-unused-result -version-info 3:0:1  -export-dynamic  -o libkakasi.la -rpath /usr/local/lib libdict.lo libkakasi.lo libkanjiio.lo liba2.lo libg2.lo libj2.lo libk2.lo libee2.lo libhh2.lo libjj2.lo libkk2.lo libitaiji.lo lib78_83.lo liblevel.lo  -liconv \n",
      "libtool: link: ar cru .libs/libkakasi.a  libdict.o libkakasi.o libkanjiio.o liba2.o libg2.o libj2.o libk2.o libee2.o libhh2.o libjj2.o libkk2.o libitaiji.o lib78_83.o liblevel.o\n",
      "libtool: link: ranlib .libs/libkakasi.a\n",
      "libtool: link: ( cd \".libs\" && rm -f \"libkakasi.la\" && ln -s \"../libkakasi.la\" \"libkakasi.la\" )\n",
      "Making all in man\n",
      "make[2]: Nothing to be done for `all'.\n",
      "Making all in tests\n",
      "Making all in data\n",
      "make[3]: Nothing to be done for `all'.\n",
      "make[3]: Nothing to be done for `all-am'.\n",
      "if test -f kakasidict; then \\\n",
      "\t    ITAIJIDICT=\"itaijidict\" src/mkkanwa kanwadict kakasidict; \\\n",
      "\tfi\n"
     ]
    }
   ],
   "source": [
    "!make"
   ]
  },
  {
   "cell_type": "markdown",
   "metadata": {},
   "source": [
    "#### sudo make install する"
   ]
  }
 ],
 "metadata": {
  "kernelspec": {
   "display_name": "Python 3",
   "language": "python",
   "name": "python3"
  },
  "language_info": {
   "codemirror_mode": {
    "name": "ipython",
    "version": 3
   },
   "file_extension": ".py",
   "mimetype": "text/x-python",
   "name": "python",
   "nbconvert_exporter": "python",
   "pygments_lexer": "ipython3",
   "version": "3.6.3"
  }
 },
 "nbformat": 4,
 "nbformat_minor": 2
}
