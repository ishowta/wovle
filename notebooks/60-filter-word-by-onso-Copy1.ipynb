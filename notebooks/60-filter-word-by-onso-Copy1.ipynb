{
 "cells": [
  {
   "cell_type": "markdown",
   "metadata": {},
   "source": [
    "#### 音素情報を用いて候補単語についてフィルタリングする\n",
    "\n",
    "- 短い音素の単語\n",
    "- 似ている音素がある単語"
   ]
  },
  {
   "cell_type": "code",
   "execution_count": 1,
   "metadata": {},
   "outputs": [
    {
     "name": "stdout",
     "output_type": "stream",
     "text": [
      "/home/saho/project/wovle/data/external\n"
     ]
    }
   ],
   "source": [
    "cd ../data/external/"
   ]
  },
  {
   "cell_type": "code",
   "execution_count": 86,
   "metadata": {},
   "outputs": [
    {
     "name": "stdout",
     "output_type": "stream",
     "text": [
      "322238 ./hybrid.htkdic\r\n"
     ]
    }
   ],
   "source": [
    "!wc -l ./hybrid.htkdic"
   ]
  },
  {
   "cell_type": "code",
   "execution_count": 87,
   "metadata": {},
   "outputs": [
    {
     "name": "stdout",
     "output_type": "stream",
     "text": [
      "<s>\t[]\tsp_S\r\n",
      "</s>\t[。]\tsp_S\r\n",
      "、+補助記号\t[、]\tsp_S\r\n",
      "×+名詞\t[×]\tb_B a_I ts_I u_E\r\n",
      "Δ+記号\t[Δ]\td_B e_I r_I u_I t_I a_E\r\n",
      "Θ+記号\t[Θ]\tsh_B i:_I t_I a_E\r\n",
      "Σ+記号\t[Σ]\tsh_B i_I g_I u_I m_I a_E\r\n",
      "Φ+記号\t[Φ]\tf_B a_I i_E\r\n",
      "Ψ+記号\t[Ψ]\tp_B u_I s_I a_I i_E\r\n",
      "Ω+名詞\t[Ω]\to:_B m_I u_E\r\n"
     ]
    }
   ],
   "source": [
    "!head ./hybrid.htkdic"
   ]
  },
  {
   "cell_type": "code",
   "execution_count": 88,
   "metadata": {},
   "outputs": [],
   "source": [
    "dic = pd.read_csv('./hybrid.htkdic', sep='\\t', header=None, names=[0,1,2,3,4], low_memory=False)"
   ]
  },
  {
   "cell_type": "code",
   "execution_count": 89,
   "metadata": {},
   "outputs": [
    {
     "data": {
      "text/html": [
       "<div>\n",
       "<style scoped>\n",
       "    .dataframe tbody tr th:only-of-type {\n",
       "        vertical-align: middle;\n",
       "    }\n",
       "\n",
       "    .dataframe tbody tr th {\n",
       "        vertical-align: top;\n",
       "    }\n",
       "\n",
       "    .dataframe thead th {\n",
       "        text-align: right;\n",
       "    }\n",
       "</style>\n",
       "<table border=\"1\" class=\"dataframe\">\n",
       "  <thead>\n",
       "    <tr style=\"text-align: right;\">\n",
       "      <th></th>\n",
       "      <th>0</th>\n",
       "      <th>1</th>\n",
       "      <th>2</th>\n",
       "      <th>3</th>\n",
       "      <th>4</th>\n",
       "    </tr>\n",
       "  </thead>\n",
       "  <tbody>\n",
       "    <tr>\n",
       "      <th>0</th>\n",
       "      <td>&lt;s&gt;</td>\n",
       "      <td>[]</td>\n",
       "      <td>sp_S</td>\n",
       "      <td>NaN</td>\n",
       "      <td>NaN</td>\n",
       "    </tr>\n",
       "    <tr>\n",
       "      <th>1</th>\n",
       "      <td>&lt;/s&gt;</td>\n",
       "      <td>[。]</td>\n",
       "      <td>sp_S</td>\n",
       "      <td>NaN</td>\n",
       "      <td>NaN</td>\n",
       "    </tr>\n",
       "    <tr>\n",
       "      <th>2</th>\n",
       "      <td>、+補助記号</td>\n",
       "      <td>[、]</td>\n",
       "      <td>sp_S</td>\n",
       "      <td>NaN</td>\n",
       "      <td>NaN</td>\n",
       "    </tr>\n",
       "    <tr>\n",
       "      <th>3</th>\n",
       "      <td>×+名詞</td>\n",
       "      <td>[×]</td>\n",
       "      <td>b_B a_I ts_I u_E</td>\n",
       "      <td>NaN</td>\n",
       "      <td>NaN</td>\n",
       "    </tr>\n",
       "    <tr>\n",
       "      <th>4</th>\n",
       "      <td>Δ+記号</td>\n",
       "      <td>[Δ]</td>\n",
       "      <td>d_B e_I r_I u_I t_I a_E</td>\n",
       "      <td>NaN</td>\n",
       "      <td>NaN</td>\n",
       "    </tr>\n",
       "  </tbody>\n",
       "</table>\n",
       "</div>"
      ],
      "text/plain": [
       "        0    1                        2    3    4\n",
       "0     <s>   []                     sp_S  NaN  NaN\n",
       "1    </s>  [。]                     sp_S  NaN  NaN\n",
       "2  、+補助記号  [、]                     sp_S  NaN  NaN\n",
       "3    ×+名詞  [×]         b_B a_I ts_I u_E  NaN  NaN\n",
       "4    Δ+記号  [Δ]  d_B e_I r_I u_I t_I a_E  NaN  NaN"
      ]
     },
     "execution_count": 89,
     "metadata": {},
     "output_type": "execute_result"
    }
   ],
   "source": [
    "dic.head()"
   ]
  },
  {
   "cell_type": "code",
   "execution_count": 90,
   "metadata": {},
   "outputs": [
    {
     "data": {
      "text/html": [
       "<div>\n",
       "<style scoped>\n",
       "    .dataframe tbody tr th:only-of-type {\n",
       "        vertical-align: middle;\n",
       "    }\n",
       "\n",
       "    .dataframe tbody tr th {\n",
       "        vertical-align: top;\n",
       "    }\n",
       "\n",
       "    .dataframe thead th {\n",
       "        text-align: right;\n",
       "    }\n",
       "</style>\n",
       "<table border=\"1\" class=\"dataframe\">\n",
       "  <thead>\n",
       "    <tr style=\"text-align: right;\">\n",
       "      <th></th>\n",
       "      <th>0</th>\n",
       "      <th>1</th>\n",
       "      <th>2</th>\n",
       "      <th>3</th>\n",
       "      <th>4</th>\n",
       "    </tr>\n",
       "  </thead>\n",
       "  <tbody>\n",
       "    <tr>\n",
       "      <th>37</th>\n",
       "      <td>Ⅰ+名詞</td>\n",
       "      <td>@-0.0115</td>\n",
       "      <td>イチ</td>\n",
       "      <td>[Ⅰ]</td>\n",
       "      <td>i_B ch_I i_E</td>\n",
       "    </tr>\n",
       "    <tr>\n",
       "      <th>38</th>\n",
       "      <td>Ⅰ+名詞</td>\n",
       "      <td>@-1.5846</td>\n",
       "      <td>イッ</td>\n",
       "      <td>[Ⅰ]</td>\n",
       "      <td>i_B q_E</td>\n",
       "    </tr>\n",
       "    <tr>\n",
       "      <th>39</th>\n",
       "      <td>Ⅱ+名詞</td>\n",
       "      <td>@-0.0047</td>\n",
       "      <td>ニ</td>\n",
       "      <td>[Ⅱ]</td>\n",
       "      <td>n_B i_E</td>\n",
       "    </tr>\n",
       "    <tr>\n",
       "      <th>40</th>\n",
       "      <td>Ⅱ+名詞</td>\n",
       "      <td>@-1.9718</td>\n",
       "      <td>ツー</td>\n",
       "      <td>[Ⅱ]</td>\n",
       "      <td>ts_B u:_E</td>\n",
       "    </tr>\n",
       "    <tr>\n",
       "      <th>41</th>\n",
       "      <td>Ⅲ+名詞</td>\n",
       "      <td>@-0.0127</td>\n",
       "      <td>サン</td>\n",
       "      <td>[Ⅲ]</td>\n",
       "      <td>s_B a_I N_E</td>\n",
       "    </tr>\n",
       "  </tbody>\n",
       "</table>\n",
       "</div>"
      ],
      "text/plain": [
       "       0         1   2    3             4\n",
       "37  Ⅰ+名詞  @-0.0115  イチ  [Ⅰ]  i_B ch_I i_E\n",
       "38  Ⅰ+名詞  @-1.5846  イッ  [Ⅰ]       i_B q_E\n",
       "39  Ⅱ+名詞  @-0.0047   ニ  [Ⅱ]       n_B i_E\n",
       "40  Ⅱ+名詞  @-1.9718  ツー  [Ⅱ]     ts_B u:_E\n",
       "41  Ⅲ+名詞  @-0.0127  サン  [Ⅲ]   s_B a_I N_E"
      ]
     },
     "execution_count": 90,
     "metadata": {},
     "output_type": "execute_result"
    }
   ],
   "source": [
    "dic[dic[4].str.len() > 0].head()"
   ]
  },
  {
   "cell_type": "code",
   "execution_count": 91,
   "metadata": {},
   "outputs": [],
   "source": [
    "buf = pd.DataFrame()\n",
    "buf2 = pd.DataFrame()"
   ]
  },
  {
   "cell_type": "code",
   "execution_count": 92,
   "metadata": {
    "collapsed": true
   },
   "outputs": [],
   "source": [
    "buf['単語'] = dic[~(dic[4].str.len() > 0)][0]"
   ]
  },
  {
   "cell_type": "code",
   "execution_count": 93,
   "metadata": {},
   "outputs": [],
   "source": [
    "buf['音素'] = dic[~(dic[4].str.len() > 0)][2]"
   ]
  },
  {
   "cell_type": "code",
   "execution_count": 94,
   "metadata": {},
   "outputs": [],
   "source": [
    "buf2['単語'] = dic[dic[4].str.len() > 0][0]"
   ]
  },
  {
   "cell_type": "code",
   "execution_count": 95,
   "metadata": {},
   "outputs": [],
   "source": [
    "buf2['音素'] = dic[dic[4].str.len() > 0][4]"
   ]
  },
  {
   "cell_type": "code",
   "execution_count": 118,
   "metadata": {},
   "outputs": [],
   "source": [
    "onso = buf.append(buf2)"
   ]
  },
  {
   "cell_type": "code",
   "execution_count": 119,
   "metadata": {
    "scrolled": true
   },
   "outputs": [],
   "source": [
    "onso = onso.reset_index(drop=True)"
   ]
  },
  {
   "cell_type": "code",
   "execution_count": 120,
   "metadata": {},
   "outputs": [
    {
     "data": {
      "text/html": [
       "<div>\n",
       "<style scoped>\n",
       "    .dataframe tbody tr th:only-of-type {\n",
       "        vertical-align: middle;\n",
       "    }\n",
       "\n",
       "    .dataframe tbody tr th {\n",
       "        vertical-align: top;\n",
       "    }\n",
       "\n",
       "    .dataframe thead th {\n",
       "        text-align: right;\n",
       "    }\n",
       "</style>\n",
       "<table border=\"1\" class=\"dataframe\">\n",
       "  <thead>\n",
       "    <tr style=\"text-align: right;\">\n",
       "      <th></th>\n",
       "      <th>単語</th>\n",
       "      <th>音素</th>\n",
       "    </tr>\n",
       "  </thead>\n",
       "  <tbody>\n",
       "    <tr>\n",
       "      <th>0</th>\n",
       "      <td>&lt;s&gt;</td>\n",
       "      <td>sp_S</td>\n",
       "    </tr>\n",
       "    <tr>\n",
       "      <th>1</th>\n",
       "      <td>&lt;/s&gt;</td>\n",
       "      <td>sp_S</td>\n",
       "    </tr>\n",
       "    <tr>\n",
       "      <th>2</th>\n",
       "      <td>、+補助記号</td>\n",
       "      <td>sp_S</td>\n",
       "    </tr>\n",
       "    <tr>\n",
       "      <th>3</th>\n",
       "      <td>×+名詞</td>\n",
       "      <td>b_B a_I ts_I u_E</td>\n",
       "    </tr>\n",
       "    <tr>\n",
       "      <th>4</th>\n",
       "      <td>Δ+記号</td>\n",
       "      <td>d_B e_I r_I u_I t_I a_E</td>\n",
       "    </tr>\n",
       "  </tbody>\n",
       "</table>\n",
       "</div>"
      ],
      "text/plain": [
       "       単語                       音素\n",
       "0     <s>                     sp_S\n",
       "1    </s>                     sp_S\n",
       "2  、+補助記号                     sp_S\n",
       "3    ×+名詞         b_B a_I ts_I u_E\n",
       "4    Δ+記号  d_B e_I r_I u_I t_I a_E"
      ]
     },
     "execution_count": 120,
     "metadata": {},
     "output_type": "execute_result"
    }
   ],
   "source": [
    "onso.head()"
   ]
  },
  {
   "cell_type": "code",
   "execution_count": 121,
   "metadata": {},
   "outputs": [
    {
     "data": {
      "text/plain": [
       "(322238, 2)"
      ]
     },
     "execution_count": 121,
     "metadata": {},
     "output_type": "execute_result"
    }
   ],
   "source": [
    "onso.shape"
   ]
  },
  {
   "cell_type": "code",
   "execution_count": 122,
   "metadata": {},
   "outputs": [],
   "source": [
    "onso['音素'] = onso['音素'].apply(lambda x: [xx.replace('_B','').replace('_I','').replace('_E','').replace('_S','') for xx in x.split(' ')])"
   ]
  },
  {
   "cell_type": "code",
   "execution_count": 123,
   "metadata": {},
   "outputs": [],
   "source": [
    "onso['isMistaking'] = False"
   ]
  },
  {
   "cell_type": "code",
   "execution_count": 124,
   "metadata": {},
   "outputs": [
    {
     "data": {
      "text/html": [
       "<div>\n",
       "<style scoped>\n",
       "    .dataframe tbody tr th:only-of-type {\n",
       "        vertical-align: middle;\n",
       "    }\n",
       "\n",
       "    .dataframe tbody tr th {\n",
       "        vertical-align: top;\n",
       "    }\n",
       "\n",
       "    .dataframe thead th {\n",
       "        text-align: right;\n",
       "    }\n",
       "</style>\n",
       "<table border=\"1\" class=\"dataframe\">\n",
       "  <thead>\n",
       "    <tr style=\"text-align: right;\">\n",
       "      <th></th>\n",
       "      <th>単語</th>\n",
       "      <th>音素</th>\n",
       "      <th>isMistaking</th>\n",
       "    </tr>\n",
       "  </thead>\n",
       "  <tbody>\n",
       "    <tr>\n",
       "      <th>0</th>\n",
       "      <td>&lt;s&gt;</td>\n",
       "      <td>[sp]</td>\n",
       "      <td>False</td>\n",
       "    </tr>\n",
       "    <tr>\n",
       "      <th>1</th>\n",
       "      <td>&lt;/s&gt;</td>\n",
       "      <td>[sp]</td>\n",
       "      <td>False</td>\n",
       "    </tr>\n",
       "    <tr>\n",
       "      <th>2</th>\n",
       "      <td>、+補助記号</td>\n",
       "      <td>[sp]</td>\n",
       "      <td>False</td>\n",
       "    </tr>\n",
       "    <tr>\n",
       "      <th>3</th>\n",
       "      <td>×+名詞</td>\n",
       "      <td>[b, a, ts, u]</td>\n",
       "      <td>False</td>\n",
       "    </tr>\n",
       "    <tr>\n",
       "      <th>4</th>\n",
       "      <td>Δ+記号</td>\n",
       "      <td>[d, e, r, u, t, a]</td>\n",
       "      <td>False</td>\n",
       "    </tr>\n",
       "  </tbody>\n",
       "</table>\n",
       "</div>"
      ],
      "text/plain": [
       "       単語                  音素  isMistaking\n",
       "0     <s>                [sp]        False\n",
       "1    </s>                [sp]        False\n",
       "2  、+補助記号                [sp]        False\n",
       "3    ×+名詞       [b, a, ts, u]        False\n",
       "4    Δ+記号  [d, e, r, u, t, a]        False"
      ]
     },
     "execution_count": 124,
     "metadata": {},
     "output_type": "execute_result"
    }
   ],
   "source": [
    "onso.head()"
   ]
  },
  {
   "cell_type": "markdown",
   "metadata": {},
   "source": [
    "### 3音素以下の単語にチェック"
   ]
  },
  {
   "cell_type": "code",
   "execution_count": 125,
   "metadata": {
    "collapsed": true
   },
   "outputs": [],
   "source": [
    "onso[('isMistaking')] = onso[('音素')].apply(lambda v: len(v) <= 3)"
   ]
  },
  {
   "cell_type": "code",
   "execution_count": 126,
   "metadata": {},
   "outputs": [
    {
     "data": {
      "text/plain": [
       "8943"
      ]
     },
     "execution_count": 126,
     "metadata": {},
     "output_type": "execute_result"
    }
   ],
   "source": [
    "sum(onso['isMistaking'] == True)"
   ]
  },
  {
   "cell_type": "markdown",
   "metadata": {},
   "source": [
    "#### 音素列挙"
   ]
  },
  {
   "cell_type": "code",
   "execution_count": 127,
   "metadata": {},
   "outputs": [
    {
     "data": {
      "text/html": [
       "<div>\n",
       "<style scoped>\n",
       "    .dataframe tbody tr th:only-of-type {\n",
       "        vertical-align: middle;\n",
       "    }\n",
       "\n",
       "    .dataframe tbody tr th {\n",
       "        vertical-align: top;\n",
       "    }\n",
       "\n",
       "    .dataframe thead th {\n",
       "        text-align: right;\n",
       "    }\n",
       "</style>\n",
       "<table border=\"1\" class=\"dataframe\">\n",
       "  <thead>\n",
       "    <tr style=\"text-align: right;\">\n",
       "      <th></th>\n",
       "      <th>単語</th>\n",
       "      <th>音素</th>\n",
       "      <th>isMistaking</th>\n",
       "    </tr>\n",
       "  </thead>\n",
       "  <tbody>\n",
       "    <tr>\n",
       "      <th>0</th>\n",
       "      <td>&lt;s&gt;</td>\n",
       "      <td>[sp]</td>\n",
       "      <td>True</td>\n",
       "    </tr>\n",
       "    <tr>\n",
       "      <th>1</th>\n",
       "      <td>&lt;/s&gt;</td>\n",
       "      <td>[sp]</td>\n",
       "      <td>True</td>\n",
       "    </tr>\n",
       "    <tr>\n",
       "      <th>2</th>\n",
       "      <td>、+補助記号</td>\n",
       "      <td>[sp]</td>\n",
       "      <td>True</td>\n",
       "    </tr>\n",
       "    <tr>\n",
       "      <th>3</th>\n",
       "      <td>×+名詞</td>\n",
       "      <td>[b, a, ts, u]</td>\n",
       "      <td>False</td>\n",
       "    </tr>\n",
       "    <tr>\n",
       "      <th>4</th>\n",
       "      <td>Δ+記号</td>\n",
       "      <td>[d, e, r, u, t, a]</td>\n",
       "      <td>False</td>\n",
       "    </tr>\n",
       "  </tbody>\n",
       "</table>\n",
       "</div>"
      ],
      "text/plain": [
       "       単語                  音素  isMistaking\n",
       "0     <s>                [sp]         True\n",
       "1    </s>                [sp]         True\n",
       "2  、+補助記号                [sp]         True\n",
       "3    ×+名詞       [b, a, ts, u]        False\n",
       "4    Δ+記号  [d, e, r, u, t, a]        False"
      ]
     },
     "execution_count": 127,
     "metadata": {},
     "output_type": "execute_result"
    }
   ],
   "source": [
    "onso.head()"
   ]
  },
  {
   "cell_type": "code",
   "execution_count": 128,
   "metadata": {},
   "outputs": [],
   "source": [
    "onso_list = set()\n",
    "for v in onso['音素'].values:\n",
    "    for w in v:\n",
    "        onso_list.add(w)"
   ]
  },
  {
   "cell_type": "code",
   "execution_count": 129,
   "metadata": {},
   "outputs": [
    {
     "data": {
      "text/plain": [
       "{'N',\n",
       " 'a',\n",
       " 'a:',\n",
       " 'b',\n",
       " 'by',\n",
       " 'ch',\n",
       " 'd',\n",
       " 'e',\n",
       " 'e:',\n",
       " 'f',\n",
       " 'g',\n",
       " 'gy',\n",
       " 'h',\n",
       " 'hy',\n",
       " 'i',\n",
       " 'i:',\n",
       " 'j',\n",
       " 'k',\n",
       " 'ky',\n",
       " 'm',\n",
       " 'my',\n",
       " 'n',\n",
       " 'ny',\n",
       " 'o',\n",
       " 'o:',\n",
       " 'p',\n",
       " 'py',\n",
       " 'q',\n",
       " 'r',\n",
       " 'ry',\n",
       " 's',\n",
       " 'sh',\n",
       " 'sp',\n",
       " 't',\n",
       " 'ts',\n",
       " 'u',\n",
       " 'u:',\n",
       " 'w',\n",
       " 'y',\n",
       " 'z'}"
      ]
     },
     "execution_count": 129,
     "metadata": {},
     "output_type": "execute_result"
    }
   ],
   "source": [
    "onso_list"
   ]
  },
  {
   "cell_type": "markdown",
   "metadata": {},
   "source": [
    "### 似ている音素で一致している組み合わせがあればチェック (なんか意味無さそうなので却下)\n",
    "\n",
    "- \\* と \\*:\n",
    "- s と sh\n",
    "- p と py"
   ]
  },
  {
   "cell_type": "code",
   "execution_count": 131,
   "metadata": {},
   "outputs": [],
   "source": [
    "def isSame(a, b):\n",
    "    if a == b:\n",
    "        True\n",
    "    elif a+':' == b or a == b+':':\n",
    "        True\n",
    "    elif a == 's' and b == 'sh':\n",
    "        True\n",
    "    elif a == 'sh' and b == 's':\n",
    "        True\n",
    "    elif a == 'p' and b == 'py':\n",
    "        True\n",
    "    elif a == 'py' and b == 'p':\n",
    "        True\n",
    "    else:\n",
    "        False"
   ]
  },
  {
   "cell_type": "markdown",
   "metadata": {},
   "source": [
    "### フラッグ付きで保存"
   ]
  },
  {
   "cell_type": "code",
   "execution_count": 139,
   "metadata": {},
   "outputs": [
    {
     "data": {
      "text/html": [
       "<div>\n",
       "<style scoped>\n",
       "    .dataframe tbody tr th:only-of-type {\n",
       "        vertical-align: middle;\n",
       "    }\n",
       "\n",
       "    .dataframe tbody tr th {\n",
       "        vertical-align: top;\n",
       "    }\n",
       "\n",
       "    .dataframe thead th {\n",
       "        text-align: right;\n",
       "    }\n",
       "</style>\n",
       "<table border=\"1\" class=\"dataframe\">\n",
       "  <thead>\n",
       "    <tr style=\"text-align: right;\">\n",
       "      <th></th>\n",
       "      <th>単語</th>\n",
       "      <th>音素</th>\n",
       "      <th>isMistaking</th>\n",
       "    </tr>\n",
       "  </thead>\n",
       "  <tbody>\n",
       "    <tr>\n",
       "      <th>0</th>\n",
       "      <td>&lt;s&gt;</td>\n",
       "      <td>[sp]</td>\n",
       "      <td>True</td>\n",
       "    </tr>\n",
       "    <tr>\n",
       "      <th>1</th>\n",
       "      <td>&lt;/s&gt;</td>\n",
       "      <td>[sp]</td>\n",
       "      <td>True</td>\n",
       "    </tr>\n",
       "    <tr>\n",
       "      <th>2</th>\n",
       "      <td>、+補助記号</td>\n",
       "      <td>[sp]</td>\n",
       "      <td>True</td>\n",
       "    </tr>\n",
       "    <tr>\n",
       "      <th>3</th>\n",
       "      <td>×+名詞</td>\n",
       "      <td>[b, a, ts, u]</td>\n",
       "      <td>False</td>\n",
       "    </tr>\n",
       "    <tr>\n",
       "      <th>4</th>\n",
       "      <td>Δ+記号</td>\n",
       "      <td>[d, e, r, u, t, a]</td>\n",
       "      <td>False</td>\n",
       "    </tr>\n",
       "  </tbody>\n",
       "</table>\n",
       "</div>"
      ],
      "text/plain": [
       "       単語                  音素  isMistaking\n",
       "0     <s>                [sp]         True\n",
       "1    </s>                [sp]         True\n",
       "2  、+補助記号                [sp]         True\n",
       "3    ×+名詞       [b, a, ts, u]        False\n",
       "4    Δ+記号  [d, e, r, u, t, a]        False"
      ]
     },
     "execution_count": 139,
     "metadata": {},
     "output_type": "execute_result"
    }
   ],
   "source": [
    "onso.head()"
   ]
  },
  {
   "cell_type": "code",
   "execution_count": null,
   "metadata": {
    "collapsed": true
   },
   "outputs": [],
   "source": [
    "onso_dic = onso[['単語','isMistaking']]"
   ]
  },
  {
   "cell_type": "code",
   "execution_count": 138,
   "metadata": {
    "scrolled": true
   },
   "outputs": [
    {
     "data": {
      "text/html": [
       "<div>\n",
       "<style scoped>\n",
       "    .dataframe tbody tr th:only-of-type {\n",
       "        vertical-align: middle;\n",
       "    }\n",
       "\n",
       "    .dataframe tbody tr th {\n",
       "        vertical-align: top;\n",
       "    }\n",
       "\n",
       "    .dataframe thead th {\n",
       "        text-align: right;\n",
       "    }\n",
       "</style>\n",
       "<table border=\"1\" class=\"dataframe\">\n",
       "  <thead>\n",
       "    <tr style=\"text-align: right;\">\n",
       "      <th></th>\n",
       "      <th>isMistaking</th>\n",
       "    </tr>\n",
       "    <tr>\n",
       "      <th>単語</th>\n",
       "      <th></th>\n",
       "    </tr>\n",
       "  </thead>\n",
       "  <tbody>\n",
       "    <tr>\n",
       "      <th>$0</th>\n",
       "      <td>0.0</td>\n",
       "    </tr>\n",
       "    <tr>\n",
       "      <th>$1</th>\n",
       "      <td>0.0</td>\n",
       "    </tr>\n",
       "    <tr>\n",
       "      <th>$10</th>\n",
       "      <td>0.0</td>\n",
       "    </tr>\n",
       "    <tr>\n",
       "      <th>$100</th>\n",
       "      <td>0.0</td>\n",
       "    </tr>\n",
       "    <tr>\n",
       "      <th>$1000</th>\n",
       "      <td>0.0</td>\n",
       "    </tr>\n",
       "    <tr>\n",
       "      <th>$12</th>\n",
       "      <td>0.0</td>\n",
       "    </tr>\n",
       "    <tr>\n",
       "      <th>$15</th>\n",
       "      <td>0.0</td>\n",
       "    </tr>\n",
       "    <tr>\n",
       "      <th>$150</th>\n",
       "      <td>0.0</td>\n",
       "    </tr>\n",
       "    <tr>\n",
       "      <th>$2</th>\n",
       "      <td>0.0</td>\n",
       "    </tr>\n",
       "    <tr>\n",
       "      <th>$20</th>\n",
       "      <td>0.0</td>\n",
       "    </tr>\n",
       "    <tr>\n",
       "      <th>$200</th>\n",
       "      <td>0.0</td>\n",
       "    </tr>\n",
       "    <tr>\n",
       "      <th>$25</th>\n",
       "      <td>0.0</td>\n",
       "    </tr>\n",
       "    <tr>\n",
       "      <th>$250</th>\n",
       "      <td>0.0</td>\n",
       "    </tr>\n",
       "    <tr>\n",
       "      <th>$3</th>\n",
       "      <td>0.0</td>\n",
       "    </tr>\n",
       "    <tr>\n",
       "      <th>$30</th>\n",
       "      <td>0.0</td>\n",
       "    </tr>\n",
       "    <tr>\n",
       "      <th>$4</th>\n",
       "      <td>0.0</td>\n",
       "    </tr>\n",
       "    <tr>\n",
       "      <th>$5</th>\n",
       "      <td>0.0</td>\n",
       "    </tr>\n",
       "    <tr>\n",
       "      <th>$50</th>\n",
       "      <td>0.0</td>\n",
       "    </tr>\n",
       "    <tr>\n",
       "      <th>$500</th>\n",
       "      <td>0.0</td>\n",
       "    </tr>\n",
       "    <tr>\n",
       "      <th>$6</th>\n",
       "      <td>0.0</td>\n",
       "    </tr>\n",
       "    <tr>\n",
       "      <th>$7</th>\n",
       "      <td>0.0</td>\n",
       "    </tr>\n",
       "    <tr>\n",
       "      <th>%</th>\n",
       "      <td>0.0</td>\n",
       "    </tr>\n",
       "    <tr>\n",
       "      <th>((</th>\n",
       "      <td>0.0</td>\n",
       "    </tr>\n",
       "    <tr>\n",
       "      <th>()</th>\n",
       "      <td>0.0</td>\n",
       "    </tr>\n",
       "    <tr>\n",
       "      <th>(?)</th>\n",
       "      <td>0.0</td>\n",
       "    </tr>\n",
       "    <tr>\n",
       "      <th>(A)</th>\n",
       "      <td>0.0</td>\n",
       "    </tr>\n",
       "    <tr>\n",
       "      <th>(a)</th>\n",
       "      <td>0.0</td>\n",
       "    </tr>\n",
       "    <tr>\n",
       "      <th>(e)</th>\n",
       "      <td>0.0</td>\n",
       "    </tr>\n",
       "    <tr>\n",
       "      <th>(o)</th>\n",
       "      <td>0.0</td>\n",
       "    </tr>\n",
       "    <tr>\n",
       "      <th>(ω)</th>\n",
       "      <td>0.0</td>\n",
       "    </tr>\n",
       "    <tr>\n",
       "      <th>...</th>\n",
       "      <td>...</td>\n",
       "    </tr>\n",
       "    <tr>\n",
       "      <th>ｇｉｆ+名詞</th>\n",
       "      <td>0.0</td>\n",
       "    </tr>\n",
       "    <tr>\n",
       "      <th>ｇｒｅｐ+名詞</th>\n",
       "      <td>0.0</td>\n",
       "    </tr>\n",
       "    <tr>\n",
       "      <th>ｈ</th>\n",
       "      <td>1.0</td>\n",
       "    </tr>\n",
       "    <tr>\n",
       "      <th>ｈｔｍｌ+名詞</th>\n",
       "      <td>0.0</td>\n",
       "    </tr>\n",
       "    <tr>\n",
       "      <th>ｉｎｔ+名詞</th>\n",
       "      <td>0.0</td>\n",
       "    </tr>\n",
       "    <tr>\n",
       "      <th>ｋ</th>\n",
       "      <td>1.0</td>\n",
       "    </tr>\n",
       "    <tr>\n",
       "      <th>ｌ</th>\n",
       "      <td>1.0</td>\n",
       "    </tr>\n",
       "    <tr>\n",
       "      <th>ｍ</th>\n",
       "      <td>1.0</td>\n",
       "    </tr>\n",
       "    <tr>\n",
       "      <th>ｍｉｘｉ+名詞</th>\n",
       "      <td>0.0</td>\n",
       "    </tr>\n",
       "    <tr>\n",
       "      <th>ｍｍ</th>\n",
       "      <td>0.0</td>\n",
       "    </tr>\n",
       "    <tr>\n",
       "      <th>ｍｐ+名詞</th>\n",
       "      <td>0.0</td>\n",
       "    </tr>\n",
       "    <tr>\n",
       "      <th>ｎ</th>\n",
       "      <td>1.0</td>\n",
       "    </tr>\n",
       "    <tr>\n",
       "      <th>ｐ</th>\n",
       "      <td>1.0</td>\n",
       "    </tr>\n",
       "    <tr>\n",
       "      <th>ｐＨ+名詞</th>\n",
       "      <td>0.0</td>\n",
       "    </tr>\n",
       "    <tr>\n",
       "      <th>ｐｐｍ+名詞</th>\n",
       "      <td>0.0</td>\n",
       "    </tr>\n",
       "    <tr>\n",
       "      <th>ｒ</th>\n",
       "      <td>1.0</td>\n",
       "    </tr>\n",
       "    <tr>\n",
       "      <th>ｓ</th>\n",
       "      <td>1.0</td>\n",
       "    </tr>\n",
       "    <tr>\n",
       "      <th>ｔ</th>\n",
       "      <td>1.0</td>\n",
       "    </tr>\n",
       "    <tr>\n",
       "      <th>ｔｅｌ+名詞</th>\n",
       "      <td>0.0</td>\n",
       "    </tr>\n",
       "    <tr>\n",
       "      <th>ｔｘｔ+名詞</th>\n",
       "      <td>0.0</td>\n",
       "    </tr>\n",
       "    <tr>\n",
       "      <th>ｖ</th>\n",
       "      <td>1.0</td>\n",
       "    </tr>\n",
       "    <tr>\n",
       "      <th>ｖｏ+名詞</th>\n",
       "      <td>0.0</td>\n",
       "    </tr>\n",
       "    <tr>\n",
       "      <th>ｖｏｄａｆｏｎｅ+名詞</th>\n",
       "      <td>0.0</td>\n",
       "    </tr>\n",
       "    <tr>\n",
       "      <th>ｗ</th>\n",
       "      <td>0.0</td>\n",
       "    </tr>\n",
       "    <tr>\n",
       "      <th>ｗｉｋｉ+名詞</th>\n",
       "      <td>0.0</td>\n",
       "    </tr>\n",
       "    <tr>\n",
       "      <th>ｗｗｗ+名詞</th>\n",
       "      <td>0.0</td>\n",
       "    </tr>\n",
       "    <tr>\n",
       "      <th>ｘ</th>\n",
       "      <td>0.0</td>\n",
       "    </tr>\n",
       "    <tr>\n",
       "      <th>ｸﾗﾌﾞ</th>\n",
       "      <td>0.0</td>\n",
       "    </tr>\n",
       "    <tr>\n",
       "      <th>ｼﾞﾑ</th>\n",
       "      <td>0.0</td>\n",
       "    </tr>\n",
       "    <tr>\n",
       "      <th>￥</th>\n",
       "      <td>1.0</td>\n",
       "    </tr>\n",
       "  </tbody>\n",
       "</table>\n",
       "<p>317001 rows × 1 columns</p>\n",
       "</div>"
      ],
      "text/plain": [
       "             isMistaking\n",
       "単語                      \n",
       "$0                   0.0\n",
       "$1                   0.0\n",
       "$10                  0.0\n",
       "$100                 0.0\n",
       "$1000                0.0\n",
       "$12                  0.0\n",
       "$15                  0.0\n",
       "$150                 0.0\n",
       "$2                   0.0\n",
       "$20                  0.0\n",
       "$200                 0.0\n",
       "$25                  0.0\n",
       "$250                 0.0\n",
       "$3                   0.0\n",
       "$30                  0.0\n",
       "$4                   0.0\n",
       "$5                   0.0\n",
       "$50                  0.0\n",
       "$500                 0.0\n",
       "$6                   0.0\n",
       "$7                   0.0\n",
       "%                    0.0\n",
       "((                   0.0\n",
       "()                   0.0\n",
       "(?)                  0.0\n",
       "(A)                  0.0\n",
       "(a)                  0.0\n",
       "(e)                  0.0\n",
       "(o)                  0.0\n",
       "(ω)                  0.0\n",
       "...                  ...\n",
       "ｇｉｆ+名詞               0.0\n",
       "ｇｒｅｐ+名詞              0.0\n",
       "ｈ                    1.0\n",
       "ｈｔｍｌ+名詞              0.0\n",
       "ｉｎｔ+名詞               0.0\n",
       "ｋ                    1.0\n",
       "ｌ                    1.0\n",
       "ｍ                    1.0\n",
       "ｍｉｘｉ+名詞              0.0\n",
       "ｍｍ                   0.0\n",
       "ｍｐ+名詞                0.0\n",
       "ｎ                    1.0\n",
       "ｐ                    1.0\n",
       "ｐＨ+名詞                0.0\n",
       "ｐｐｍ+名詞               0.0\n",
       "ｒ                    1.0\n",
       "ｓ                    1.0\n",
       "ｔ                    1.0\n",
       "ｔｅｌ+名詞               0.0\n",
       "ｔｘｔ+名詞               0.0\n",
       "ｖ                    1.0\n",
       "ｖｏ+名詞                0.0\n",
       "ｖｏｄａｆｏｎｅ+名詞          0.0\n",
       "ｗ                    0.0\n",
       "ｗｉｋｉ+名詞              0.0\n",
       "ｗｗｗ+名詞               0.0\n",
       "ｘ                    0.0\n",
       "ｸﾗﾌﾞ                 0.0\n",
       "ｼﾞﾑ                  0.0\n",
       "￥                    1.0\n",
       "\n",
       "[317001 rows x 1 columns]"
      ]
     },
     "execution_count": 138,
     "metadata": {},
     "output_type": "execute_result"
    }
   ],
   "source": [
    "onso.groupby(['単語']).mean()"
   ]
  },
  {
   "cell_type": "code",
   "execution_count": null,
   "metadata": {
    "collapsed": true
   },
   "outputs": [],
   "source": []
  }
 ],
 "metadata": {
  "kernelspec": {
   "display_name": "Python 3",
   "language": "python",
   "name": "python3"
  },
  "language_info": {
   "codemirror_mode": {
    "name": "ipython",
    "version": 3
   },
   "file_extension": ".py",
   "mimetype": "text/x-python",
   "name": "python",
   "nbconvert_exporter": "python",
   "pygments_lexer": "ipython3",
   "version": "3.6.3"
  }
 },
 "nbformat": 4,
 "nbformat_minor": 2
}
